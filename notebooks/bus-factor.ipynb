{
 "cells": [
  {
   "attachments": {},
   "cell_type": "markdown",
   "metadata": {},
   "source": [
    "## Bus Factor: How high is the risk to a project should the most active people leave?\n",
    "\n",
    "Bus factor quantifies the amount of contributors a project can afford to lose before it stalls by hypothetically having these people get run over a bus. Typically, it is the smallest number of people that make up 50% of contributions. \n",
    "\n",
    "In this notebook, we analyze bus factor according to a user-inputted percent of contributions with the option to filter out outliers and to parameterize by a time window and step size. We explore contributors including but not limited to individuals **1) making commits, 2) closing issues, and 3) having their PRs merged or merging PRs**.\n",
    "\n",
    "**Note:** In the notebook, we use the Ansible repository as an example but our analyses can be replicated with any GitHub repository."
   ]
  },
  {
   "attachments": {},
   "cell_type": "markdown",
   "metadata": {},
   "source": [
    "### Table of Contents\n",
    "- [1. Connect to Augur database](#connect-to-augur-database)\n",
    "- [2. Query data](#query-data)\n",
    "- [3. Calculate bus factpr](#calculate-bus-factor)\n",
    "- [4. Bus factor by number of commits](#bus-factor-by-number-of-commits)\n",
    "- [5. Bus factor by number of issues closed](#bus-factor-by-number-of-issues-closed)\n",
    "- [5. Bus factor by number of PRs](#bus-factor-by-number-of-prs)"
   ]
  },
  {
   "cell_type": "code",
   "execution_count": null,
   "metadata": {},
   "outputs": [],
   "source": [
    "!pip install -q sqlalchemy"
   ]
  },
  {
   "cell_type": "code",
   "execution_count": 56,
   "metadata": {},
   "outputs": [],
   "source": [
    "# import the required libraries and packages\n",
    "import sqlalchemy as salc\n",
    "import json\n",
    "import os\n",
    "\n",
    "import psycopg2\n",
    "import pandas as pd \n",
    "import numpy as np\n",
    "from scipy import stats\n",
    "\n",
    "import datetime as dt\n",
    "from dateutil.relativedelta import relativedelta\n",
    "\n",
    "import warnings\n",
    "warnings.filterwarnings('ignore')"
   ]
  },
  {
   "attachments": {},
   "cell_type": "markdown",
   "metadata": {},
   "source": [
    "## Connect to Augur database"
   ]
  },
  {
   "cell_type": "code",
   "execution_count": 2,
   "metadata": {},
   "outputs": [],
   "source": [
    "database_connection_string = 'postgresql+psycopg2://{}:{}@{}:{}/{}'.format(config['user'], config['password'], config['host'], config['port'], config['database'])\n",
    "\n",
    "dbschema='augur_data'\n",
    "engine = salc.create_engine(\n",
    "    database_connection_string,\n",
    "    connect_args={'options': '-csearch_path={}'.format(dbschema)})"
   ]
  },
  {
   "attachments": {},
   "cell_type": "markdown",
   "metadata": {},
   "source": [
    "## Query data\n",
    "Let's first define some functions that will help us organize the data in a data frame and count the number of contributions each individual has made.  "
   ]
  },
  {
   "cell_type": "code",
   "execution_count": 22,
   "metadata": {},
   "outputs": [],
   "source": [
    "def get_df(repo_query):\n",
    "    '''\n",
    "    :param repo_query: A string representing a SQL statement\n",
    "    returns a DataFrame where the columns are contrb_id, their commit, and the commit date \n",
    "    '''\n",
    "    conn = pd.read_sql_query(repo_query, con=engine.connect())\n",
    "    conn = conn.reset_index()\n",
    "    if 'date' in conn.columns:\n",
    "        conn['date'] = pd.to_datetime(conn['date'])\n",
    "    conn.drop('index', axis=1, inplace=True)\n",
    "    return conn"
   ]
  },
  {
   "cell_type": "code",
   "execution_count": 4,
   "metadata": {},
   "outputs": [],
   "source": [
    "def preprocess_df(df, activity):\n",
    "    '''\n",
    "    :param df: DataFrame\n",
    "    :param activity: A string indicating the type of contribution\n",
    "    returns a DataFrame where the columns are the cntrb_ids and number of commits they've made\n",
    "    '''\n",
    "    # count the number of contributions per contributor\n",
    "    df = (df.groupby('cntrb_id')[activity].count()).to_frame()\n",
    "    df.sort_values(by=activity, ascending=False, inplace=True)\n",
    "    df = df.reset_index()\n",
    "    return df"
   ]
  },
  {
   "attachments": {},
   "cell_type": "markdown",
   "metadata": {},
   "source": [
    "## Calculate bus factor\n",
    "\n",
    "While the bus factor is typically defined using 50% as threshold for the percent of contributors a project can lose before it stalls, we're interested in a range of thresholds. In the following function `calc_bus_factor`, we've added a parameter `threshold` to do so.\n",
    "\n",
    "Additionally, we're interested in filtering out outliers i.e individuals who make contributions significantly below or above average. We've added a parameter `remove_outliers` to give us the option to do so. In our implementation, we define outliers as any contributors with commits that are 2 standard deviations or more away from the mean number of commits."
   ]
  },
  {
   "cell_type": "code",
   "execution_count": 145,
   "metadata": {},
   "outputs": [],
   "source": [
    "def calc_bus_factor(df, activity, threshold, remove_outliers):\n",
    "    '''\n",
    "    :param df: DataFrame \n",
    "    :param threshold: A double indicating the cut off threshold for bus factor\n",
    "    :param remove_outliers: A boolean indicating whether to remove outliers or not\n",
    "    returns the bus factor\n",
    "    '''\n",
    "    if remove_outliers:\n",
    "        length_df = len(df)\n",
    "        df = df[(np.abs(stats.zscore(df[activity])) < 2)]\n",
    "        num_outliers = length_df - len(df)\n",
    "    else: \n",
    "        num_outliers = 0\n",
    "    \n",
    "    # calculate total number of commits\n",
    "    t_commits = df[activity].sum()\n",
    "\n",
    "    # caluclate threshold % of commits\n",
    "    cntrb_ids = []\n",
    "    cum_per = 0\n",
    "    df = df.assign(cntrbs = lambda x: (x[activity]/t_commits))\n",
    "    df = df.reset_index()\n",
    "    \n",
    "    for i in range(len(df)):\n",
    "        cum_per += df.loc[i, 'cntrbs']\n",
    "        cntrb_ids.append(df.loc[i, 'cntrb_id'])\n",
    "        if cum_per  >= threshold:\n",
    "            break;\n",
    "    \n",
    "    bus_factor=len(cntrb_ids)\n",
    "    return bus_factor, cntrb_ids, num_outliers"
   ]
  },
  {
   "attachments": {},
   "cell_type": "markdown",
   "metadata": {},
   "source": [
    "The bus factor can fluctuate over the lifetime of the project. Thus, we're interested in the analyzing the bus factor in a specific window of time and seeing how it evolves over different periods of time. "
   ]
  },
  {
   "cell_type": "code",
   "execution_count": 171,
   "metadata": {},
   "outputs": [],
   "source": [
    "def bus_factor_by_windows(df, activity, start_date, end_date, window_width, step_size, threshold, remove_outliers):\n",
    "    ''' \n",
    "    :param df: DataFrame \n",
    "    :param start_date: A string representing start date of the interval\n",
    "    :param end_date: A string representing the end data of the interval\n",
    "    :param window_width: An integer representing the window in months for which the bus factor is calculated. \n",
    "    :param step_size:  An integer representing the sliding window in months\n",
    "    :param threshold: A double indicating the cut off threshold for bus factor\n",
    "    :param remove_outliers: A boolean indicating whether to remove outliers or not\n",
    "    returns a DataFrame where the columns are the period to, period from, contributor id, and bus factor for that time interval\n",
    "    '''\n",
    "    # if the start date and end date are null, set them to the first and last commit date\n",
    "    if start_date == None:\n",
    "        start_date = min(df['date'])\n",
    "    \n",
    "    if end_date == None:\n",
    "        end_date = max(df['date'])\n",
    "\n",
    "    # intialize variables\n",
    "    start_date = dt.datetime.strptime(start_date, \"%Y-%m-%d\")\n",
    "    end_date = dt.datetime.strptime(end_date, \"%Y-%m-%d\")\n",
    "    window_width=relativedelta(months=window_width)\n",
    "    step_size=relativedelta(months=step_size)\n",
    "\n",
    "    bfs=[]\n",
    "    cntrb_ids = []\n",
    "    period_from = []\n",
    "    period_to = [] \n",
    "\n",
    "    # calculate bus factor for each window\n",
    "    while start_date + window_width < end_date:\n",
    "        period_from.append(start_date.strftime('%Y-%m-%d'))\n",
    "        period_to.append((start_date + window_width).strftime('%Y-%m-%d'))\n",
    "\n",
    "        # index df such that its rows are between the state date and start date + window \n",
    "        mask = (df['date'] >= start_date) & (df['date'] <= start_date+window_width)\n",
    "        cntrbs = preprocess_df(df.loc[mask], activity)\n",
    "\n",
    "        # calcuate bus factor\n",
    "        bus_factor, cntrb_id, _ = calc_bus_factor(cntrbs, activity, threshold, remove_outliers)\n",
    "        \n",
    "        if (bus_factor == 0) or (not cntrb_id):\n",
    "            bfs.append(bus_factor)\n",
    "            cntrb_ids.append('outlier removed')\n",
    "        else:\n",
    "            bfs.append(bus_factor)\n",
    "            cntrb_ids.append(cntrb_id[0])\n",
    "\n",
    "        # shift the window by the step size\n",
    "        start_date += step_size\n",
    "\n",
    "    # create a dataframe with period to, period from, bus factor, and cntrb_ids as columns\n",
    "    df = pd.DataFrame(list(zip(period_from, period_to, cntrb_ids, bfs)), columns = ['period_from', 'period_to', 'cntrb_ids', 'bus_factor'])\n",
    "    return df"
   ]
  },
  {
   "attachments": {},
   "cell_type": "markdown",
   "metadata": {},
   "source": [
    "Now that we have all of our functions defined, let's see them in practice!"
   ]
  },
  {
   "attachments": {},
   "cell_type": "markdown",
   "metadata": {},
   "source": [
    "## Bus factor by number of commits"
   ]
  },
  {
   "cell_type": "code",
   "execution_count": 10,
   "metadata": {},
   "outputs": [],
   "source": [
    "repo_name = 'Ansible'\n",
    "repo_statement = str([28336])\n",
    "repo_statement = repo_statement[1:-1]\n",
    "\n",
    "repo_query = salc.sql.text(f\"\"\"\n",
    "                SELECT\n",
    "                    ca.cntrb_id, \n",
    "                    c.cmt_commit_hash AS commit,\n",
    "                    c.cmt_author_date AS date\n",
    "                FROM\n",
    "                    contributors_aliases ca\n",
    "                JOIN commits c \n",
    "                ON c.cmt_committer_email = ca.alias_email\n",
    "                WHERE\n",
    "                    c.repo_id in({repo_statement})\n",
    "               \"\"\")"
   ]
  },
  {
   "cell_type": "code",
   "execution_count": 11,
   "metadata": {},
   "outputs": [
    {
     "data": {
      "text/html": [
       "<div>\n",
       "<style scoped>\n",
       "    .dataframe tbody tr th:only-of-type {\n",
       "        vertical-align: middle;\n",
       "    }\n",
       "\n",
       "    .dataframe tbody tr th {\n",
       "        vertical-align: top;\n",
       "    }\n",
       "\n",
       "    .dataframe thead th {\n",
       "        text-align: right;\n",
       "    }\n",
       "</style>\n",
       "<table border=\"1\" class=\"dataframe\">\n",
       "  <thead>\n",
       "    <tr style=\"text-align: right;\">\n",
       "      <th></th>\n",
       "      <th>cntrb_id</th>\n",
       "      <th>commit</th>\n",
       "      <th>date</th>\n",
       "    </tr>\n",
       "  </thead>\n",
       "  <tbody>\n",
       "    <tr>\n",
       "      <th>0</th>\n",
       "      <td>01012f1b-7f00-0000-0000-000000000000</td>\n",
       "      <td>00003cbb7b8ac1ab4f729662190f028f9cd7fd62</td>\n",
       "      <td>2019-02-23</td>\n",
       "    </tr>\n",
       "    <tr>\n",
       "      <th>1</th>\n",
       "      <td>01012f1b-7f00-0000-0000-000000000000</td>\n",
       "      <td>00003cbb7b8ac1ab4f729662190f028f9cd7fd62</td>\n",
       "      <td>2019-02-23</td>\n",
       "    </tr>\n",
       "    <tr>\n",
       "      <th>2</th>\n",
       "      <td>01001c87-8900-0000-0000-000000000000</td>\n",
       "      <td>00031e454e02272d50051df4841e5f9487d27bf7</td>\n",
       "      <td>2017-01-06</td>\n",
       "    </tr>\n",
       "    <tr>\n",
       "      <th>3</th>\n",
       "      <td>01000d6a-1100-0000-0000-000000000000</td>\n",
       "      <td>00067c8d54e40fa564a1a8923857905a3dd99d77</td>\n",
       "      <td>2019-05-29</td>\n",
       "    </tr>\n",
       "    <tr>\n",
       "      <th>4</th>\n",
       "      <td>01012f1b-7f00-0000-0000-000000000000</td>\n",
       "      <td>00068e9fcc298b0b18858360d2b8b08708b4993b</td>\n",
       "      <td>2018-03-23</td>\n",
       "    </tr>\n",
       "  </tbody>\n",
       "</table>\n",
       "</div>"
      ],
      "text/plain": [
       "                               cntrb_id  \\\n",
       "0  01012f1b-7f00-0000-0000-000000000000   \n",
       "1  01012f1b-7f00-0000-0000-000000000000   \n",
       "2  01001c87-8900-0000-0000-000000000000   \n",
       "3  01000d6a-1100-0000-0000-000000000000   \n",
       "4  01012f1b-7f00-0000-0000-000000000000   \n",
       "\n",
       "                                     commit       date  \n",
       "0  00003cbb7b8ac1ab4f729662190f028f9cd7fd62 2019-02-23  \n",
       "1  00003cbb7b8ac1ab4f729662190f028f9cd7fd62 2019-02-23  \n",
       "2  00031e454e02272d50051df4841e5f9487d27bf7 2017-01-06  \n",
       "3  00067c8d54e40fa564a1a8923857905a3dd99d77 2019-05-29  \n",
       "4  00068e9fcc298b0b18858360d2b8b08708b4993b 2018-03-23  "
      ]
     },
     "metadata": {},
     "output_type": "display_data"
    }
   ],
   "source": [
    "# organize commits data in a DataFrame\n",
    "conn_commits = get_df(repo_query)\n",
    "display(conn_commits.head())"
   ]
  },
  {
   "cell_type": "code",
   "execution_count": 70,
   "metadata": {},
   "outputs": [
    {
     "data": {
      "text/html": [
       "<div>\n",
       "<style scoped>\n",
       "    .dataframe tbody tr th:only-of-type {\n",
       "        vertical-align: middle;\n",
       "    }\n",
       "\n",
       "    .dataframe tbody tr th {\n",
       "        vertical-align: top;\n",
       "    }\n",
       "\n",
       "    .dataframe thead th {\n",
       "        text-align: right;\n",
       "    }\n",
       "</style>\n",
       "<table border=\"1\" class=\"dataframe\">\n",
       "  <thead>\n",
       "    <tr style=\"text-align: right;\">\n",
       "      <th></th>\n",
       "      <th>cntrb_id</th>\n",
       "      <th>commit</th>\n",
       "    </tr>\n",
       "  </thead>\n",
       "  <tbody>\n",
       "    <tr>\n",
       "      <th>0</th>\n",
       "      <td>01012f1b-7f00-0000-0000-000000000000</td>\n",
       "      <td>58857</td>\n",
       "    </tr>\n",
       "    <tr>\n",
       "      <th>1</th>\n",
       "      <td>01000c4d-d800-0000-0000-000000000000</td>\n",
       "      <td>19832</td>\n",
       "    </tr>\n",
       "    <tr>\n",
       "      <th>2</th>\n",
       "      <td>01000099-ac00-0000-0000-000000000000</td>\n",
       "      <td>15935</td>\n",
       "    </tr>\n",
       "    <tr>\n",
       "      <th>3</th>\n",
       "      <td>01022886-a200-0000-0000-000000000000</td>\n",
       "      <td>11416</td>\n",
       "    </tr>\n",
       "    <tr>\n",
       "      <th>4</th>\n",
       "      <td>01000331-5a00-0000-0000-000000000000</td>\n",
       "      <td>9954</td>\n",
       "    </tr>\n",
       "  </tbody>\n",
       "</table>\n",
       "</div>"
      ],
      "text/plain": [
       "                               cntrb_id  commit\n",
       "0  01012f1b-7f00-0000-0000-000000000000   58857\n",
       "1  01000c4d-d800-0000-0000-000000000000   19832\n",
       "2  01000099-ac00-0000-0000-000000000000   15935\n",
       "3  01022886-a200-0000-0000-000000000000   11416\n",
       "4  01000331-5a00-0000-0000-000000000000    9954"
      ]
     },
     "metadata": {},
     "output_type": "display_data"
    }
   ],
   "source": [
    "# count the number of commits per contributor and order the rows from most to least number of commits\n",
    "commits = preprocess_df(conn_commits, 'commit')\n",
    "display(commits.head())"
   ]
  },
  {
   "attachments": {},
   "cell_type": "markdown",
   "metadata": {},
   "source": [
    "Based on the number of commits per contributor, we can see that the first most active contributor has made a significant amount of commits - more than 2x the second. Let's calculate the bus factor threshold of 50% without removing outliers and with removing outliers and compare our results."
   ]
  },
  {
   "cell_type": "code",
   "execution_count": 152,
   "metadata": {},
   "outputs": [
    {
     "name": "stdout",
     "output_type": "stream",
     "text": [
      "The bus factor in terms of number of commits for Ansible is 3.\n",
      " \n",
      "Filtering out 8 contributors that have been identified as outliers...\n",
      "The bus factor in terms of number of commits for Ansible with outliers removed is 12.\n"
     ]
    }
   ],
   "source": [
    "bf_commits, cntrb_ids, _ = calc_bus_factor(commits, activity='commit', threshold=0.50, remove_outliers=False)\n",
    "print(f'The bus factor in terms of number of commits for {repo_name} is {bf_commits}.')\n",
    "print(' ')\n",
    "bf_no_outliers, cntrb_ids, num_outliers = calc_bus_factor(commits, activity='commit', threshold=0.50, remove_outliers=True)\n",
    "print(f'Filtering out {num_outliers} contributors that have been identified as outliers...')\n",
    "print(f'The bus factor in terms of number of commits for {repo_name} with outliers removed is {bf_no_outliers}.')"
   ]
  },
  {
   "attachments": {},
   "cell_type": "markdown",
   "metadata": {},
   "source": [
    "Clearly, the first three most active contributors are extreme outliers since in total, we identified 8 outlieres, yet they make up the roughly 50% of the contributions to the repo."
   ]
  },
  {
   "attachments": {},
   "cell_type": "markdown",
   "metadata": {},
   "source": [
    "Now let's analyze how the bus factor has evolved over a period of the project by taking window sizes of 6 months from Jan. 24, 2017 to May 24, 2017 and sliding by a step size of 4 months."
   ]
  },
  {
   "cell_type": "code",
   "execution_count": 172,
   "metadata": {},
   "outputs": [
    {
     "data": {
      "text/html": [
       "<div>\n",
       "<style scoped>\n",
       "    .dataframe tbody tr th:only-of-type {\n",
       "        vertical-align: middle;\n",
       "    }\n",
       "\n",
       "    .dataframe tbody tr th {\n",
       "        vertical-align: top;\n",
       "    }\n",
       "\n",
       "    .dataframe thead th {\n",
       "        text-align: right;\n",
       "    }\n",
       "</style>\n",
       "<table border=\"1\" class=\"dataframe\">\n",
       "  <thead>\n",
       "    <tr style=\"text-align: right;\">\n",
       "      <th></th>\n",
       "      <th>period_from</th>\n",
       "      <th>period_to</th>\n",
       "      <th>cntrb_ids</th>\n",
       "      <th>bus_factor</th>\n",
       "    </tr>\n",
       "  </thead>\n",
       "  <tbody>\n",
       "    <tr>\n",
       "      <th>0</th>\n",
       "      <td>2017-01-24</td>\n",
       "      <td>2017-07-24</td>\n",
       "      <td>0         01012f1b-7f00-0000-0000-000000000000...</td>\n",
       "      <td>1</td>\n",
       "    </tr>\n",
       "    <tr>\n",
       "      <th>1</th>\n",
       "      <td>2017-05-24</td>\n",
       "      <td>2017-11-24</td>\n",
       "      <td>0         01012f1b-7f00-0000-0000-000000000000...</td>\n",
       "      <td>1</td>\n",
       "    </tr>\n",
       "  </tbody>\n",
       "</table>\n",
       "</div>"
      ],
      "text/plain": [
       "  period_from   period_to                                          cntrb_ids  \\\n",
       "0  2017-01-24  2017-07-24  0         01012f1b-7f00-0000-0000-000000000000...   \n",
       "1  2017-05-24  2017-11-24  0         01012f1b-7f00-0000-0000-000000000000...   \n",
       "\n",
       "   bus_factor  \n",
       "0           1  \n",
       "1           1  "
      ]
     },
     "execution_count": 172,
     "metadata": {},
     "output_type": "execute_result"
    }
   ],
   "source": [
    "bf_by_windows = bus_factor_by_windows(conn_commits, activity='commit',start_date='2017-01-24', end_date= '2018-01-24', window_width=6, step_size=4, threshold=0.5, remove_outliers=False)\n",
    "bf_by_windows"
   ]
  },
  {
   "attachments": {},
   "cell_type": "markdown",
   "metadata": {},
   "source": [
    "Now that we've analyzed the bus factor for one type of contribution to a project, let's explore others. Not only are contributors individuals who have directly committed to the project but also those who have contributed by solving issues."
   ]
  },
  {
   "attachments": {},
   "cell_type": "markdown",
   "metadata": {},
   "source": [
    "## Bus factor by number of issues closed"
   ]
  },
  {
   "cell_type": "code",
   "execution_count": 126,
   "metadata": {},
   "outputs": [],
   "source": [
    "issue_events_query = salc.sql.text(f\"\"\"\n",
    "                SELECT\n",
    "                    ie.cntrb_id,\n",
    "                    ie.issue_id AS issue,\n",
    "                    ie.created_at AS date, \n",
    "                    ie.action AS action\n",
    "                FROM\n",
    "                    issue_events ie\n",
    "                WHERE\n",
    "                    ie.repo_id in({repo_statement}) AND\n",
    "                    ie.action = 'closed'\n",
    "               \"\"\")\n",
    "\n",
    "conn_issues = get_df(issue_events_query)\n",
    "display(conn_issues.head())\n"
   ]
  },
  {
   "cell_type": "code",
   "execution_count": 149,
   "metadata": {},
   "outputs": [
    {
     "data": {
      "text/html": [
       "<div>\n",
       "<style scoped>\n",
       "    .dataframe tbody tr th:only-of-type {\n",
       "        vertical-align: middle;\n",
       "    }\n",
       "\n",
       "    .dataframe tbody tr th {\n",
       "        vertical-align: top;\n",
       "    }\n",
       "\n",
       "    .dataframe thead th {\n",
       "        text-align: right;\n",
       "    }\n",
       "</style>\n",
       "<table border=\"1\" class=\"dataframe\">\n",
       "  <thead>\n",
       "    <tr style=\"text-align: right;\">\n",
       "      <th></th>\n",
       "      <th>cntrb_id</th>\n",
       "      <th>issue</th>\n",
       "    </tr>\n",
       "  </thead>\n",
       "  <tbody>\n",
       "    <tr>\n",
       "      <th>0</th>\n",
       "      <td>0100647b-c300-0000-0000-000000000000</td>\n",
       "      <td>495</td>\n",
       "    </tr>\n",
       "    <tr>\n",
       "      <th>1</th>\n",
       "      <td>01000099-ac00-0000-0000-000000000000</td>\n",
       "      <td>272</td>\n",
       "    </tr>\n",
       "    <tr>\n",
       "      <th>2</th>\n",
       "      <td>01000cc2-4b00-0000-0000-000000000000</td>\n",
       "      <td>233</td>\n",
       "    </tr>\n",
       "    <tr>\n",
       "      <th>3</th>\n",
       "      <td>0100128c-1e00-0000-0000-000000000000</td>\n",
       "      <td>194</td>\n",
       "    </tr>\n",
       "    <tr>\n",
       "      <th>4</th>\n",
       "      <td>0101cdd9-cf00-0000-0000-000000000000</td>\n",
       "      <td>143</td>\n",
       "    </tr>\n",
       "  </tbody>\n",
       "</table>\n",
       "</div>"
      ],
      "text/plain": [
       "                               cntrb_id  issue\n",
       "0  0100647b-c300-0000-0000-000000000000    495\n",
       "1  01000099-ac00-0000-0000-000000000000    272\n",
       "2  01000cc2-4b00-0000-0000-000000000000    233\n",
       "3  0100128c-1e00-0000-0000-000000000000    194\n",
       "4  0101cdd9-cf00-0000-0000-000000000000    143"
      ]
     },
     "metadata": {},
     "output_type": "display_data"
    }
   ],
   "source": [
    "issues_closed = preprocess_df(conn_issues, 'issue')\n",
    "display(issues_closed.head())"
   ]
  },
  {
   "cell_type": "code",
   "execution_count": 151,
   "metadata": {},
   "outputs": [
    {
     "name": "stdout",
     "output_type": "stream",
     "text": [
      "The bus factor in terms of number of issues closed for Ansible is 4.\n",
      " \n",
      "Filtering out 6 contributors that have been identified as outliers...\n",
      "The bus factor in terms of number of issues closed for Ansible with outliers removed is 3.\n"
     ]
    }
   ],
   "source": [
    "bf_issues, cntrb_ids, _ = calc_bus_factor(issues_closed, activity='issue', threshold=0.50, remove_outliers=False)\n",
    "print(f'The bus factor in terms of number of issues closed for {repo_name} is {bf_issues}.')\n",
    "print(' ')\n",
    "bf_no_outliers_issues, cntrb_ids, num_outliers = calc_bus_factor(issues_closed, activity='issue', threshold=0.50, remove_outliers=True)\n",
    "print(f'Filtering out {num_outliers} contributors that have been identified as outliers...')\n",
    "print(f'The bus factor in terms of number of issues closed for {repo_name} with outliers removed is {bf_no_outliers_issues}.')\n"
   ]
  },
  {
   "attachments": {},
   "cell_type": "markdown",
   "metadata": {},
   "source": [
    "We can further extend our notion of bus factor by number of PRs. Here we calculate bus factor seperately for contributors who've had their PR's merged and reviewers who have merged PRs."
   ]
  },
  {
   "attachments": {},
   "cell_type": "markdown",
   "metadata": {},
   "source": [
    "## Bus factor by number of PRs"
   ]
  },
  {
   "cell_type": "code",
   "execution_count": 81,
   "metadata": {},
   "outputs": [
    {
     "data": {
      "text/html": [
       "<div>\n",
       "<style scoped>\n",
       "    .dataframe tbody tr th:only-of-type {\n",
       "        vertical-align: middle;\n",
       "    }\n",
       "\n",
       "    .dataframe tbody tr th {\n",
       "        vertical-align: top;\n",
       "    }\n",
       "\n",
       "    .dataframe thead th {\n",
       "        text-align: right;\n",
       "    }\n",
       "</style>\n",
       "<table border=\"1\" class=\"dataframe\">\n",
       "  <thead>\n",
       "    <tr style=\"text-align: right;\">\n",
       "      <th></th>\n",
       "      <th>pr</th>\n",
       "      <th>pr_created_at</th>\n",
       "      <th>pr_merged_at</th>\n",
       "      <th>cntrb_id</th>\n",
       "      <th>reviewer</th>\n",
       "    </tr>\n",
       "  </thead>\n",
       "  <tbody>\n",
       "    <tr>\n",
       "      <th>0</th>\n",
       "      <td>116604254</td>\n",
       "      <td>2023-06-05 17:30:39</td>\n",
       "      <td>2023-06-07 14:30:25</td>\n",
       "      <td>01021389-0f00-0000-0000-000000000000</td>\n",
       "      <td>01000067-2300-0000-0000-000000000000</td>\n",
       "    </tr>\n",
       "    <tr>\n",
       "      <th>1</th>\n",
       "      <td>36457647</td>\n",
       "      <td>2022-12-08 15:59:14</td>\n",
       "      <td>2023-01-09 16:42:07</td>\n",
       "      <td>01001700-7c00-0000-0000-000000000000</td>\n",
       "      <td>01008121-3500-0000-0000-000000000000</td>\n",
       "    </tr>\n",
       "    <tr>\n",
       "      <th>2</th>\n",
       "      <td>36457647</td>\n",
       "      <td>2022-12-08 15:59:14</td>\n",
       "      <td>2023-01-09 16:42:07</td>\n",
       "      <td>01012aa8-bd00-0000-0000-000000000000</td>\n",
       "      <td>01008121-3500-0000-0000-000000000000</td>\n",
       "    </tr>\n",
       "    <tr>\n",
       "      <th>3</th>\n",
       "      <td>36457647</td>\n",
       "      <td>2022-12-08 15:59:14</td>\n",
       "      <td>2023-01-09 16:42:07</td>\n",
       "      <td>01012aa8-bd00-0000-0000-000000000000</td>\n",
       "      <td>01008121-3500-0000-0000-000000000000</td>\n",
       "    </tr>\n",
       "    <tr>\n",
       "      <th>4</th>\n",
       "      <td>36457647</td>\n",
       "      <td>2022-12-08 15:59:14</td>\n",
       "      <td>2023-01-09 16:42:07</td>\n",
       "      <td>01012aa8-bd00-0000-0000-000000000000</td>\n",
       "      <td>01008121-3500-0000-0000-000000000000</td>\n",
       "    </tr>\n",
       "    <tr>\n",
       "      <th>...</th>\n",
       "      <td>...</td>\n",
       "      <td>...</td>\n",
       "      <td>...</td>\n",
       "      <td>...</td>\n",
       "      <td>...</td>\n",
       "    </tr>\n",
       "    <tr>\n",
       "      <th>3746</th>\n",
       "      <td>68493795</td>\n",
       "      <td>2023-03-27 11:23:09</td>\n",
       "      <td>2023-04-06 19:27:59</td>\n",
       "      <td>0100647b-c300-0000-0000-000000000000</td>\n",
       "      <td>0101cdd9-cf00-0000-0000-000000000000</td>\n",
       "    </tr>\n",
       "    <tr>\n",
       "      <th>3747</th>\n",
       "      <td>68493795</td>\n",
       "      <td>2023-03-27 11:23:09</td>\n",
       "      <td>2023-04-06 19:27:59</td>\n",
       "      <td>0100647b-c300-0000-0000-000000000000</td>\n",
       "      <td>0101cdd9-cf00-0000-0000-000000000000</td>\n",
       "    </tr>\n",
       "    <tr>\n",
       "      <th>3748</th>\n",
       "      <td>68493795</td>\n",
       "      <td>2023-03-27 11:23:09</td>\n",
       "      <td>2023-04-06 19:27:59</td>\n",
       "      <td>0100647b-c300-0000-0000-000000000000</td>\n",
       "      <td>0101cdd9-cf00-0000-0000-000000000000</td>\n",
       "    </tr>\n",
       "    <tr>\n",
       "      <th>3749</th>\n",
       "      <td>68493795</td>\n",
       "      <td>2023-03-27 11:23:09</td>\n",
       "      <td>2023-04-06 19:27:59</td>\n",
       "      <td>0100647b-c300-0000-0000-000000000000</td>\n",
       "      <td>0101cdd9-cf00-0000-0000-000000000000</td>\n",
       "    </tr>\n",
       "    <tr>\n",
       "      <th>3750</th>\n",
       "      <td>68493795</td>\n",
       "      <td>2023-03-27 11:23:09</td>\n",
       "      <td>2023-04-06 19:27:59</td>\n",
       "      <td>0100647b-c300-0000-0000-000000000000</td>\n",
       "      <td>0101cdd9-cf00-0000-0000-000000000000</td>\n",
       "    </tr>\n",
       "  </tbody>\n",
       "</table>\n",
       "<p>3751 rows × 5 columns</p>\n",
       "</div>"
      ],
      "text/plain": [
       "             pr       pr_created_at        pr_merged_at  \\\n",
       "0     116604254 2023-06-05 17:30:39 2023-06-07 14:30:25   \n",
       "1      36457647 2022-12-08 15:59:14 2023-01-09 16:42:07   \n",
       "2      36457647 2022-12-08 15:59:14 2023-01-09 16:42:07   \n",
       "3      36457647 2022-12-08 15:59:14 2023-01-09 16:42:07   \n",
       "4      36457647 2022-12-08 15:59:14 2023-01-09 16:42:07   \n",
       "...         ...                 ...                 ...   \n",
       "3746   68493795 2023-03-27 11:23:09 2023-04-06 19:27:59   \n",
       "3747   68493795 2023-03-27 11:23:09 2023-04-06 19:27:59   \n",
       "3748   68493795 2023-03-27 11:23:09 2023-04-06 19:27:59   \n",
       "3749   68493795 2023-03-27 11:23:09 2023-04-06 19:27:59   \n",
       "3750   68493795 2023-03-27 11:23:09 2023-04-06 19:27:59   \n",
       "\n",
       "                                  cntrb_id  \\\n",
       "0     01021389-0f00-0000-0000-000000000000   \n",
       "1     01001700-7c00-0000-0000-000000000000   \n",
       "2     01012aa8-bd00-0000-0000-000000000000   \n",
       "3     01012aa8-bd00-0000-0000-000000000000   \n",
       "4     01012aa8-bd00-0000-0000-000000000000   \n",
       "...                                    ...   \n",
       "3746  0100647b-c300-0000-0000-000000000000   \n",
       "3747  0100647b-c300-0000-0000-000000000000   \n",
       "3748  0100647b-c300-0000-0000-000000000000   \n",
       "3749  0100647b-c300-0000-0000-000000000000   \n",
       "3750  0100647b-c300-0000-0000-000000000000   \n",
       "\n",
       "                                  reviewer  \n",
       "0     01000067-2300-0000-0000-000000000000  \n",
       "1     01008121-3500-0000-0000-000000000000  \n",
       "2     01008121-3500-0000-0000-000000000000  \n",
       "3     01008121-3500-0000-0000-000000000000  \n",
       "4     01008121-3500-0000-0000-000000000000  \n",
       "...                                    ...  \n",
       "3746  0101cdd9-cf00-0000-0000-000000000000  \n",
       "3747  0101cdd9-cf00-0000-0000-000000000000  \n",
       "3748  0101cdd9-cf00-0000-0000-000000000000  \n",
       "3749  0101cdd9-cf00-0000-0000-000000000000  \n",
       "3750  0101cdd9-cf00-0000-0000-000000000000  \n",
       "\n",
       "[3751 rows x 5 columns]"
      ]
     },
     "metadata": {},
     "output_type": "display_data"
    }
   ],
   "source": [
    "pr_query = salc.sql.text(f\"\"\"\n",
    "                 SELECT \n",
    "                    pr.pull_request_id as pr, \n",
    "                    pr.pr_created_at,\n",
    "                    pr.pr_merged_at,\n",
    "                    pre.cntrb_id, \n",
    "                    prr.cntrb_id as reviewer\n",
    "                FROM\n",
    "                    repo r,\n",
    "                    pull_requests pr, \n",
    "                    pull_request_events pre, \n",
    "                    pull_request_reviewers prr\n",
    "                WHERE\n",
    "                    r.repo_id in({repo_statement}) AND\n",
    "                    pr.repo_id = r.repo_id AND\n",
    "                    pr.pull_request_id = pre.pull_request_id AND\n",
    "                    pr.pull_request_id = prr.pull_request_id AND \n",
    "                    pre.cntrb_id != prr.cntrb_id AND\n",
    "                    pr_merged_at IS NOT NULL\n",
    "        \"\"\")\n",
    "\n",
    "conn_pr = get_df(pr_query)\n",
    "display(conn_pr)"
   ]
  },
  {
   "cell_type": "code",
   "execution_count": 133,
   "metadata": {},
   "outputs": [
    {
     "data": {
      "text/html": [
       "<div>\n",
       "<style scoped>\n",
       "    .dataframe tbody tr th:only-of-type {\n",
       "        vertical-align: middle;\n",
       "    }\n",
       "\n",
       "    .dataframe tbody tr th {\n",
       "        vertical-align: top;\n",
       "    }\n",
       "\n",
       "    .dataframe thead th {\n",
       "        text-align: right;\n",
       "    }\n",
       "</style>\n",
       "<table border=\"1\" class=\"dataframe\">\n",
       "  <thead>\n",
       "    <tr style=\"text-align: right;\">\n",
       "      <th></th>\n",
       "      <th>cntrb_id</th>\n",
       "      <th>pr</th>\n",
       "    </tr>\n",
       "  </thead>\n",
       "  <tbody>\n",
       "    <tr>\n",
       "      <th>0</th>\n",
       "      <td>0100647b-c300-0000-0000-000000000000</td>\n",
       "      <td>1744</td>\n",
       "    </tr>\n",
       "    <tr>\n",
       "      <th>1</th>\n",
       "      <td>010008d3-ef00-0000-0000-000000000000</td>\n",
       "      <td>244</td>\n",
       "    </tr>\n",
       "    <tr>\n",
       "      <th>2</th>\n",
       "      <td>01000099-ac00-0000-0000-000000000000</td>\n",
       "      <td>216</td>\n",
       "    </tr>\n",
       "    <tr>\n",
       "      <th>3</th>\n",
       "      <td>01000c4d-d800-0000-0000-000000000000</td>\n",
       "      <td>212</td>\n",
       "    </tr>\n",
       "    <tr>\n",
       "      <th>4</th>\n",
       "      <td>01001700-7c00-0000-0000-000000000000</td>\n",
       "      <td>181</td>\n",
       "    </tr>\n",
       "  </tbody>\n",
       "</table>\n",
       "</div>"
      ],
      "text/plain": [
       "                               cntrb_id    pr\n",
       "0  0100647b-c300-0000-0000-000000000000  1744\n",
       "1  010008d3-ef00-0000-0000-000000000000   244\n",
       "2  01000099-ac00-0000-0000-000000000000   216\n",
       "3  01000c4d-d800-0000-0000-000000000000   212\n",
       "4  01001700-7c00-0000-0000-000000000000   181"
      ]
     },
     "metadata": {},
     "output_type": "display_data"
    }
   ],
   "source": [
    "prs_cntrb = conn_pr[['pr', 'pr_merged_at', 'cntrb_id']]\n",
    "prs_cntrb = preprocess_df(prs_cntrb, activity='pr')\n",
    "display(prs_cntrb.head())"
   ]
  },
  {
   "attachments": {},
   "cell_type": "markdown",
   "metadata": {},
   "source": [
    "Based on the number of merged PRs by contributor, there clearly seems to be 1 outlier. Let's confirm our hypothesis by calculating the bus factor."
   ]
  },
  {
   "cell_type": "code",
   "execution_count": 153,
   "metadata": {},
   "outputs": [
    {
     "name": "stdout",
     "output_type": "stream",
     "text": [
      "The bus factor in terms of contributors who had their PRs merged for Ansible is 2.\n",
      " \n",
      "Filtering out 1 contributors that have been identified as outliers...\n",
      "The bus factor in terms of contributors who had their PRs merged for Ansible with outliers removed is 5.\n"
     ]
    }
   ],
   "source": [
    "bf_prs_cntrbs, cntrb_ids, _ = calc_bus_factor(prs_cntrb, activity='pr', threshold=0.50, remove_outliers=False)\n",
    "print(f'The bus factor in terms of contributors who had their PRs merged for {repo_name} is {bf_prs_cntrbs}.')\n",
    "print(' ')\n",
    "bf_no_outliers_prs_cntrbs, cntrb_ids, num_outliers = calc_bus_factor(prs_cntrb, activity='pr', threshold=0.50, remove_outliers=True)\n",
    "print(f'Filtering out {num_outliers} contributors that have been identified as outliers...')\n",
    "print(f'The bus factor in terms of contributors who had their PRs merged for {repo_name} with outliers removed is {bf_no_outliers_prs_cntrbs}.')"
   ]
  },
  {
   "attachments": {},
   "cell_type": "markdown",
   "metadata": {},
   "source": [
    "Great, we've validated our hypothesis. Now let's repeat the process for reviewers who've merged PRs."
   ]
  },
  {
   "cell_type": "code",
   "execution_count": 134,
   "metadata": {},
   "outputs": [
    {
     "data": {
      "text/html": [
       "<div>\n",
       "<style scoped>\n",
       "    .dataframe tbody tr th:only-of-type {\n",
       "        vertical-align: middle;\n",
       "    }\n",
       "\n",
       "    .dataframe tbody tr th {\n",
       "        vertical-align: top;\n",
       "    }\n",
       "\n",
       "    .dataframe thead th {\n",
       "        text-align: right;\n",
       "    }\n",
       "</style>\n",
       "<table border=\"1\" class=\"dataframe\">\n",
       "  <thead>\n",
       "    <tr style=\"text-align: right;\">\n",
       "      <th></th>\n",
       "      <th>cntrb_id</th>\n",
       "      <th>pr</th>\n",
       "    </tr>\n",
       "  </thead>\n",
       "  <tbody>\n",
       "    <tr>\n",
       "      <th>0</th>\n",
       "      <td>01000099-ac00-0000-0000-000000000000</td>\n",
       "      <td>746</td>\n",
       "    </tr>\n",
       "    <tr>\n",
       "      <th>1</th>\n",
       "      <td>01006763-cc00-0000-0000-000000000000</td>\n",
       "      <td>647</td>\n",
       "    </tr>\n",
       "    <tr>\n",
       "      <th>2</th>\n",
       "      <td>01000cc2-4b00-0000-0000-000000000000</td>\n",
       "      <td>360</td>\n",
       "    </tr>\n",
       "    <tr>\n",
       "      <th>3</th>\n",
       "      <td>0101cdd9-cf00-0000-0000-000000000000</td>\n",
       "      <td>290</td>\n",
       "    </tr>\n",
       "    <tr>\n",
       "      <th>4</th>\n",
       "      <td>01012aa8-bd00-0000-0000-000000000000</td>\n",
       "      <td>284</td>\n",
       "    </tr>\n",
       "  </tbody>\n",
       "</table>\n",
       "</div>"
      ],
      "text/plain": [
       "                               cntrb_id   pr\n",
       "0  01000099-ac00-0000-0000-000000000000  746\n",
       "1  01006763-cc00-0000-0000-000000000000  647\n",
       "2  01000cc2-4b00-0000-0000-000000000000  360\n",
       "3  0101cdd9-cf00-0000-0000-000000000000  290\n",
       "4  01012aa8-bd00-0000-0000-000000000000  284"
      ]
     },
     "metadata": {},
     "output_type": "display_data"
    }
   ],
   "source": [
    "prs_reviewers = conn_pr[['pr', 'pr_merged_at', 'reviewer']]\n",
    "prs_reviewers = prs_reviewers.rename(columns={'reviewer': 'cntrb_id'})\n",
    "prs_reviewers = preprocess_df(prs_reviewers, activity='pr')\n",
    "display(prs_reviewers.head())"
   ]
  },
  {
   "cell_type": "code",
   "execution_count": 155,
   "metadata": {},
   "outputs": [
    {
     "name": "stdout",
     "output_type": "stream",
     "text": [
      "The bus factor in terms of reviewers who have merged PRs for Ansible is 4.\n",
      " \n",
      "Filtering out 2 contributors that have been identified as outliers...\n",
      "The bus factor in terms of reviewers who have merged PRs for Ansible with outliers removed is 5.\n"
     ]
    }
   ],
   "source": [
    "bf_prs_reviwers, cntrb_ids, _ = calc_bus_factor(prs_reviewers, activity='pr', threshold=0.50, remove_outliers=False)\n",
    "print(f'The bus factor in terms of reviewers who have merged PRs for {repo_name} is {bf_prs_reviwers}.')\n",
    "print(' ')\n",
    "bf_no_outliers_prs_reviewers, cntrb_ids, num_outliers = calc_bus_factor(prs_reviewers, activity='pr', threshold=0.50, remove_outliers=True)\n",
    "print(f'Filtering out {num_outliers} contributors that have been identified as outliers...')\n",
    "print(f'The bus factor in terms of reviewers who have merged PRs for {repo_name} with outliers removed is {bf_no_outliers_prs_reviewers}.')"
   ]
  }
 ],
 "metadata": {
  "kernelspec": {
   "display_name": "ml23",
   "language": "python",
   "name": "python3"
  },
  "language_info": {
   "codemirror_mode": {
    "name": "ipython",
    "version": 3
   },
   "file_extension": ".py",
   "mimetype": "text/x-python",
   "name": "python",
   "nbconvert_exporter": "python",
   "pygments_lexer": "ipython3",
   "version": "3.10.11"
  },
  "orig_nbformat": 4
 },
 "nbformat": 4,
 "nbformat_minor": 2
}
