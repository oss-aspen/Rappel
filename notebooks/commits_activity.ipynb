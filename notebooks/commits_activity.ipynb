{
 "cells": [
  {
   "cell_type": "markdown",
   "id": "66bd400f-ae53-4448-b5bc-62a1eeec8ba9",
   "metadata": {
    "tags": []
   },
   "source": [
    "# Github Activity Metrics-Commits\n",
    "\n",
    "**Activity by Repo**"
   ]
  },
  {
   "cell_type": "markdown",
   "id": "62b5b265-3e1c-4d33-9260-dd8eef919810",
   "metadata": {
    "tags": []
   },
   "source": [
    "This notebook will aim to query the Augur DB to access the neccessary information to be able to get the following commit metrics dirived from the GitHub Community Metrics working document https://docs.google.com/document/d/1Yocr6fk0J8EsVZnJwoIl3kRQaI94tI-XHe7VSMFT0yM/edit?usp=sharing"
   ]
  },
  {
   "cell_type": "markdown",
   "id": "d4a7cbd4-3cdf-461c-9321-2f51c8ab4a0d",
   "metadata": {},
   "source": [
    "Any necessary computations from the data to get the metric value will be done as the queries are determined"
   ]
  },
  {
   "cell_type": "code",
   "execution_count": 21,
   "id": "767e9f30-22ba-472f-a56c-9b213faea1c5",
   "metadata": {},
   "outputs": [],
   "source": [
    "import psycopg2\n",
    "import pandas as pd \n",
    "import sqlalchemy as salc\n",
    "import json\n",
    "import os\n",
    "import matplotlib.pyplot as plt\n",
    "import datetime\n",
    "plt.rcParams['figure.figsize'] = (15, 5)\n",
    "\n",
    "with open(\"../config_temp.json\") as config_file:\n",
    "    config = json.load(config_file)"
   ]
  },
  {
   "cell_type": "code",
   "execution_count": 2,
   "id": "1c30ec3d-1045-486d-abd9-5dedf26d8b6e",
   "metadata": {},
   "outputs": [],
   "source": [
    "database_connection_string = 'postgresql+psycopg2://{}:{}@{}:{}/{}'.format(config['user'], config['password'], config['host'], config['port'], config['database'])\n",
    "\n",
    "dbschema='augur_data'\n",
    "engine = salc.create_engine(\n",
    "    database_connection_string,\n",
    "    connect_args={'options': '-csearch_path={}'.format(dbschema)})"
   ]
  },
  {
   "cell_type": "code",
   "execution_count": 3,
   "id": "5dd40e32-a845-4123-a967-6df993aaa781",
   "metadata": {},
   "outputs": [
    {
     "name": "stdout",
     "output_type": "stream",
     "text": [
      "[25440, 25448]\n"
     ]
    }
   ],
   "source": [
    "#add your repo name(s) here of the repo(s) you want to query if known (and in the database)\n",
    "repo_name_set = ['augur', 'grimoirelab']\n",
    "repo_set = []\n",
    "\n",
    "for repo_name in repo_name_set:\n",
    "    repo_query = salc.sql.text(f\"\"\"\n",
    "                 SET SCHEMA 'augur_data';\n",
    "                 SELECT \n",
    "                    b.repo_id\n",
    "                FROM\n",
    "                    repo_groups a,\n",
    "                    repo b\n",
    "                WHERE\n",
    "                    a.repo_group_id = b.repo_group_id AND\n",
    "                    b.repo_name = \\'{repo_name}\\'\n",
    "        \"\"\")\n",
    "\n",
    "    t = engine.execute(repo_query)\n",
    "    repo_id =t.mappings().all()[0].get('repo_id')\n",
    "    repo_set.append(repo_id)\n",
    "print(repo_set)"
   ]
  },
  {
   "cell_type": "code",
   "execution_count": 4,
   "id": "3a20a121-513e-4340-8c3b-936725497d1d",
   "metadata": {},
   "outputs": [],
   "source": [
    "#Take this out of quotes if you want to manually assign a repo_id number(s)\n",
    "#repo_set = [25440]"
   ]
  },
  {
   "cell_type": "markdown",
   "id": "c8570bf0-a268-4279-bf75-b3e9c5256d9d",
   "metadata": {},
   "source": [
    "## Gather and Process Data\n",
    "\n",
    "### Query\n",
    "\n",
    "It should be noted that each entry on this table is for files, not commits. So there can be multiple files/rows for each commits  "
   ]
  },
  {
   "cell_type": "code",
   "execution_count": 5,
   "id": "80cfba3e-c9b5-42c4-a21f-ed57ab54fb57",
   "metadata": {
    "tags": []
   },
   "outputs": [
    {
     "data": {
      "text/html": [
       "<div>\n",
       "<style scoped>\n",
       "    .dataframe tbody tr th:only-of-type {\n",
       "        vertical-align: middle;\n",
       "    }\n",
       "\n",
       "    .dataframe tbody tr th {\n",
       "        vertical-align: top;\n",
       "    }\n",
       "\n",
       "    .dataframe thead th {\n",
       "        text-align: right;\n",
       "    }\n",
       "</style>\n",
       "<table border=\"1\" class=\"dataframe\">\n",
       "  <thead>\n",
       "    <tr style=\"text-align: right;\">\n",
       "      <th></th>\n",
       "      <th>repo_name</th>\n",
       "      <th>commits</th>\n",
       "      <th>file</th>\n",
       "      <th>lines_added</th>\n",
       "      <th>lines_removed</th>\n",
       "      <th>date</th>\n",
       "    </tr>\n",
       "  </thead>\n",
       "  <tbody>\n",
       "    <tr>\n",
       "      <th>0</th>\n",
       "      <td>augur</td>\n",
       "      <td>79ee6429a570b2982fab12a20dea670a858e1141</td>\n",
       "      <td>34605744</td>\n",
       "      <td>2</td>\n",
       "      <td>2</td>\n",
       "      <td>2021-03-24</td>\n",
       "    </tr>\n",
       "    <tr>\n",
       "      <th>1</th>\n",
       "      <td>augur</td>\n",
       "      <td>79ee6429a570b2982fab12a20dea670a858e1141</td>\n",
       "      <td>34605745</td>\n",
       "      <td>1</td>\n",
       "      <td>1</td>\n",
       "      <td>2021-03-24</td>\n",
       "    </tr>\n",
       "    <tr>\n",
       "      <th>2</th>\n",
       "      <td>augur</td>\n",
       "      <td>574901f5cd8372006cc64ff2b9f14f5470bba4e4</td>\n",
       "      <td>34605767</td>\n",
       "      <td>6</td>\n",
       "      <td>6</td>\n",
       "      <td>2021-03-19</td>\n",
       "    </tr>\n",
       "    <tr>\n",
       "      <th>3</th>\n",
       "      <td>augur</td>\n",
       "      <td>7877b0c7937c6242e18ed712d5fb14323d13115f</td>\n",
       "      <td>34605778</td>\n",
       "      <td>2</td>\n",
       "      <td>2</td>\n",
       "      <td>2021-03-24</td>\n",
       "    </tr>\n",
       "    <tr>\n",
       "      <th>4</th>\n",
       "      <td>augur</td>\n",
       "      <td>7877b0c7937c6242e18ed712d5fb14323d13115f</td>\n",
       "      <td>34605779</td>\n",
       "      <td>1</td>\n",
       "      <td>1</td>\n",
       "      <td>2021-03-24</td>\n",
       "    </tr>\n",
       "    <tr>\n",
       "      <th>...</th>\n",
       "      <td>...</td>\n",
       "      <td>...</td>\n",
       "      <td>...</td>\n",
       "      <td>...</td>\n",
       "      <td>...</td>\n",
       "      <td>...</td>\n",
       "    </tr>\n",
       "    <tr>\n",
       "      <th>27673</th>\n",
       "      <td>grimoirelab</td>\n",
       "      <td>fe7ab96bdf7d0187737285af6dc3c08f5c422f14</td>\n",
       "      <td>34556304</td>\n",
       "      <td>6</td>\n",
       "      <td>2</td>\n",
       "      <td>2018-01-19</td>\n",
       "    </tr>\n",
       "    <tr>\n",
       "      <th>27674</th>\n",
       "      <td>grimoirelab</td>\n",
       "      <td>ff18ee3474f147c6c3b99997ac79b612fd7a2adc</td>\n",
       "      <td>34556713</td>\n",
       "      <td>2</td>\n",
       "      <td>2</td>\n",
       "      <td>2018-06-04</td>\n",
       "    </tr>\n",
       "    <tr>\n",
       "      <th>27675</th>\n",
       "      <td>grimoirelab</td>\n",
       "      <td>ff22f21630e80b67707db0551ca1787de843e403</td>\n",
       "      <td>34556365</td>\n",
       "      <td>1</td>\n",
       "      <td>1</td>\n",
       "      <td>2018-09-10</td>\n",
       "    </tr>\n",
       "    <tr>\n",
       "      <th>27676</th>\n",
       "      <td>grimoirelab</td>\n",
       "      <td>ff7bd07014362d6b1b54a7c4de6e70e8412ee1d0</td>\n",
       "      <td>34557194</td>\n",
       "      <td>15</td>\n",
       "      <td>0</td>\n",
       "      <td>2019-04-01</td>\n",
       "    </tr>\n",
       "    <tr>\n",
       "      <th>27677</th>\n",
       "      <td>grimoirelab</td>\n",
       "      <td>ff93d710067dcef632a9403e98c9f9d8b691ef67</td>\n",
       "      <td>34556732</td>\n",
       "      <td>1</td>\n",
       "      <td>1</td>\n",
       "      <td>2019-01-28</td>\n",
       "    </tr>\n",
       "  </tbody>\n",
       "</table>\n",
       "<p>27678 rows × 6 columns</p>\n",
       "</div>"
      ],
      "text/plain": [
       "         repo_name                                   commits      file  \\\n",
       "0            augur  79ee6429a570b2982fab12a20dea670a858e1141  34605744   \n",
       "1            augur  79ee6429a570b2982fab12a20dea670a858e1141  34605745   \n",
       "2            augur  574901f5cd8372006cc64ff2b9f14f5470bba4e4  34605767   \n",
       "3            augur  7877b0c7937c6242e18ed712d5fb14323d13115f  34605778   \n",
       "4            augur  7877b0c7937c6242e18ed712d5fb14323d13115f  34605779   \n",
       "...            ...                                       ...       ...   \n",
       "27673  grimoirelab  fe7ab96bdf7d0187737285af6dc3c08f5c422f14  34556304   \n",
       "27674  grimoirelab  ff18ee3474f147c6c3b99997ac79b612fd7a2adc  34556713   \n",
       "27675  grimoirelab  ff22f21630e80b67707db0551ca1787de843e403  34556365   \n",
       "27676  grimoirelab  ff7bd07014362d6b1b54a7c4de6e70e8412ee1d0  34557194   \n",
       "27677  grimoirelab  ff93d710067dcef632a9403e98c9f9d8b691ef67  34556732   \n",
       "\n",
       "       lines_added  lines_removed        date  \n",
       "0                2              2  2021-03-24  \n",
       "1                1              1  2021-03-24  \n",
       "2                6              6  2021-03-19  \n",
       "3                2              2  2021-03-24  \n",
       "4                1              1  2021-03-24  \n",
       "...            ...            ...         ...  \n",
       "27673            6              2  2018-01-19  \n",
       "27674            2              2  2018-06-04  \n",
       "27675            1              1  2018-09-10  \n",
       "27676           15              0  2019-04-01  \n",
       "27677            1              1  2019-01-28  \n",
       "\n",
       "[27678 rows x 6 columns]"
      ]
     },
     "execution_count": 5,
     "metadata": {},
     "output_type": "execute_result"
    }
   ],
   "source": [
    "df_commits = pd.DataFrame()\n",
    "\n",
    "for repo_id in repo_set: \n",
    "\n",
    "    pr_query = salc.sql.text(f\"\"\"\n",
    "                SELECT\n",
    "                    r.repo_name,\n",
    "                    c.cmt_commit_hash AS commits,\n",
    "                    c.cmt_id AS file, \n",
    "\t\t\t\t\tc.cmt_added AS lines_added,\n",
    "\t\t\t\t\tc.cmt_removed AS lines_removed,\n",
    "                    c.cmt_author_date AS date\n",
    "                FROM\n",
    "                \trepo r,\n",
    "                    commits c\n",
    "                WHERE\n",
    "                \tr.repo_id = c.repo_id AND\n",
    "                    c.repo_id = \\'{repo_id}\\'\n",
    "        \"\"\")\n",
    "    df_current_repo = pd.read_sql(pr_query, con=engine)\n",
    "    df_commits = pd.concat([df_commits, df_current_repo])\n",
    "\n",
    "df_commits = df_commits.reset_index()\n",
    "df_commits.drop(\"index\", axis=1, inplace=True)\n",
    "        \n",
    "df_commits"
   ]
  },
  {
   "cell_type": "markdown",
   "id": "363b759c-1117-4f81-b1c3-37b54e1778e1",
   "metadata": {},
   "source": [
    "### Data Cleaning"
   ]
  },
  {
   "cell_type": "code",
   "execution_count": 6,
   "id": "867f1b7a-95aa-41d6-850b-42b951498231",
   "metadata": {},
   "outputs": [],
   "source": [
    "df_commits['date_time'] = pd.to_datetime(df_commits['date'], format= '%Y-%m-%d')"
   ]
  },
  {
   "cell_type": "code",
   "execution_count": 7,
   "id": "695eb4ac-2507-4d8f-9654-af0975ae4d80",
   "metadata": {
    "tags": []
   },
   "outputs": [],
   "source": [
    "#IF YOU ONLY WANT TO LOOK AT A ONE OF THE REPOS QUERIED \n",
    "repo_focus = 'augur'\n",
    "df_repo_focus = df_commits[df_commits['repo_name'] == repo_focus]\n",
    "df_repo_focus = df_repo_focus.sort_values(by= \"date_time\")\n",
    "df_repo_focus = df_repo_focus.reset_index(drop=True)"
   ]
  },
  {
   "cell_type": "code",
   "execution_count": 8,
   "id": "2c919a72-5dcc-4a2e-8d38-073c1e059aa6",
   "metadata": {},
   "outputs": [
    {
     "data": {
      "text/html": [
       "<div>\n",
       "<style scoped>\n",
       "    .dataframe tbody tr th:only-of-type {\n",
       "        vertical-align: middle;\n",
       "    }\n",
       "\n",
       "    .dataframe tbody tr th {\n",
       "        vertical-align: top;\n",
       "    }\n",
       "\n",
       "    .dataframe thead th {\n",
       "        text-align: right;\n",
       "    }\n",
       "</style>\n",
       "<table border=\"1\" class=\"dataframe\">\n",
       "  <thead>\n",
       "    <tr style=\"text-align: right;\">\n",
       "      <th></th>\n",
       "      <th>repo_name</th>\n",
       "      <th>commits</th>\n",
       "      <th>file</th>\n",
       "      <th>lines_added</th>\n",
       "      <th>lines_removed</th>\n",
       "      <th>date</th>\n",
       "      <th>date_time</th>\n",
       "    </tr>\n",
       "  </thead>\n",
       "  <tbody>\n",
       "    <tr>\n",
       "      <th>0</th>\n",
       "      <td>augur</td>\n",
       "      <td>c1c780958deb790fd40520873fdf8eee8e9988d9</td>\n",
       "      <td>34595109</td>\n",
       "      <td>17</td>\n",
       "      <td>1</td>\n",
       "      <td>2017-01-05</td>\n",
       "      <td>2017-01-05</td>\n",
       "    </tr>\n",
       "    <tr>\n",
       "      <th>1</th>\n",
       "      <td>augur</td>\n",
       "      <td>c1c780958deb790fd40520873fdf8eee8e9988d9</td>\n",
       "      <td>34595110</td>\n",
       "      <td>1</td>\n",
       "      <td>1</td>\n",
       "      <td>2017-01-05</td>\n",
       "      <td>2017-01-05</td>\n",
       "    </tr>\n",
       "    <tr>\n",
       "      <th>2</th>\n",
       "      <td>augur</td>\n",
       "      <td>9c742edec6169dbd8423c96c07c4725499ebaa6e</td>\n",
       "      <td>34586512</td>\n",
       "      <td>42</td>\n",
       "      <td>1</td>\n",
       "      <td>2017-01-10</td>\n",
       "      <td>2017-01-10</td>\n",
       "    </tr>\n",
       "    <tr>\n",
       "      <th>3</th>\n",
       "      <td>augur</td>\n",
       "      <td>4d67b9758af01f1789edab9564c5f876c3665e38</td>\n",
       "      <td>34586047</td>\n",
       "      <td>1</td>\n",
       "      <td>6</td>\n",
       "      <td>2017-01-10</td>\n",
       "      <td>2017-01-10</td>\n",
       "    </tr>\n",
       "    <tr>\n",
       "      <th>4</th>\n",
       "      <td>augur</td>\n",
       "      <td>9c742edec6169dbd8423c96c07c4725499ebaa6e</td>\n",
       "      <td>34586503</td>\n",
       "      <td>4</td>\n",
       "      <td>1</td>\n",
       "      <td>2017-01-10</td>\n",
       "      <td>2017-01-10</td>\n",
       "    </tr>\n",
       "    <tr>\n",
       "      <th>...</th>\n",
       "      <td>...</td>\n",
       "      <td>...</td>\n",
       "      <td>...</td>\n",
       "      <td>...</td>\n",
       "      <td>...</td>\n",
       "      <td>...</td>\n",
       "      <td>...</td>\n",
       "    </tr>\n",
       "    <tr>\n",
       "      <th>25842</th>\n",
       "      <td>augur</td>\n",
       "      <td>cb0bce873c5ff578a8b3c818f36ce7efe94a5e0e</td>\n",
       "      <td>34684610</td>\n",
       "      <td>5</td>\n",
       "      <td>0</td>\n",
       "      <td>2021-07-25</td>\n",
       "      <td>2021-07-25</td>\n",
       "    </tr>\n",
       "    <tr>\n",
       "      <th>25843</th>\n",
       "      <td>augur</td>\n",
       "      <td>70f60c931f3dd764579c83032dad10f24456690f</td>\n",
       "      <td>34684604</td>\n",
       "      <td>1</td>\n",
       "      <td>1</td>\n",
       "      <td>2021-07-26</td>\n",
       "      <td>2021-07-26</td>\n",
       "    </tr>\n",
       "    <tr>\n",
       "      <th>25844</th>\n",
       "      <td>augur</td>\n",
       "      <td>fa7e9767664c46865ec09b7479b89431fa0fe207</td>\n",
       "      <td>34684818</td>\n",
       "      <td>0</td>\n",
       "      <td>0</td>\n",
       "      <td>2021-08-01</td>\n",
       "      <td>2021-08-01</td>\n",
       "    </tr>\n",
       "    <tr>\n",
       "      <th>25845</th>\n",
       "      <td>augur</td>\n",
       "      <td>3a253df3838f2103ce6ed0de0a87e1bea4904820</td>\n",
       "      <td>34684343</td>\n",
       "      <td>0</td>\n",
       "      <td>0</td>\n",
       "      <td>2021-08-01</td>\n",
       "      <td>2021-08-01</td>\n",
       "    </tr>\n",
       "    <tr>\n",
       "      <th>25846</th>\n",
       "      <td>augur</td>\n",
       "      <td>93032e8fd3263097c0bcb9fdbbbb7402f50e4beb</td>\n",
       "      <td>34684425</td>\n",
       "      <td>0</td>\n",
       "      <td>0</td>\n",
       "      <td>2021-08-01</td>\n",
       "      <td>2021-08-01</td>\n",
       "    </tr>\n",
       "  </tbody>\n",
       "</table>\n",
       "<p>25847 rows × 7 columns</p>\n",
       "</div>"
      ],
      "text/plain": [
       "      repo_name                                   commits      file  \\\n",
       "0         augur  c1c780958deb790fd40520873fdf8eee8e9988d9  34595109   \n",
       "1         augur  c1c780958deb790fd40520873fdf8eee8e9988d9  34595110   \n",
       "2         augur  9c742edec6169dbd8423c96c07c4725499ebaa6e  34586512   \n",
       "3         augur  4d67b9758af01f1789edab9564c5f876c3665e38  34586047   \n",
       "4         augur  9c742edec6169dbd8423c96c07c4725499ebaa6e  34586503   \n",
       "...         ...                                       ...       ...   \n",
       "25842     augur  cb0bce873c5ff578a8b3c818f36ce7efe94a5e0e  34684610   \n",
       "25843     augur  70f60c931f3dd764579c83032dad10f24456690f  34684604   \n",
       "25844     augur  fa7e9767664c46865ec09b7479b89431fa0fe207  34684818   \n",
       "25845     augur  3a253df3838f2103ce6ed0de0a87e1bea4904820  34684343   \n",
       "25846     augur  93032e8fd3263097c0bcb9fdbbbb7402f50e4beb  34684425   \n",
       "\n",
       "       lines_added  lines_removed        date  date_time  \n",
       "0               17              1  2017-01-05 2017-01-05  \n",
       "1                1              1  2017-01-05 2017-01-05  \n",
       "2               42              1  2017-01-10 2017-01-10  \n",
       "3                1              6  2017-01-10 2017-01-10  \n",
       "4                4              1  2017-01-10 2017-01-10  \n",
       "...            ...            ...         ...        ...  \n",
       "25842            5              0  2021-07-25 2021-07-25  \n",
       "25843            1              1  2021-07-26 2021-07-26  \n",
       "25844            0              0  2021-08-01 2021-08-01  \n",
       "25845            0              0  2021-08-01 2021-08-01  \n",
       "25846            0              0  2021-08-01 2021-08-01  \n",
       "\n",
       "[25847 rows x 7 columns]"
      ]
     },
     "execution_count": 8,
     "metadata": {},
     "output_type": "execute_result"
    }
   ],
   "source": [
    "df_repo_focus"
   ]
  },
  {
   "cell_type": "markdown",
   "id": "0fb68ff6-ef3f-4259-90fd-0940f25993b0",
   "metadata": {},
   "source": [
    "## Number of commits "
   ]
  },
  {
   "cell_type": "code",
   "execution_count": 9,
   "id": "b22a0581-bc40-43f0-b1ee-af8f433cf812",
   "metadata": {},
   "outputs": [],
   "source": [
    "# We will fetch all the unique commit IDs and drop the redundant ones\n",
    "df_commits_unique = df_repo_focus.drop(columns = ['file'])\n",
    "agg_fun = {'repo_name': 'first',  'commits': 'first', 'lines_added': 'sum', 'lines_removed': 'sum', \n",
    "                         'date': 'first', 'date_time': 'first'}\n",
    "df_commits_unique = df_commits_unique.groupby(df_commits_unique['commits']).aggregate(agg_fun)\n",
    "df_commits_unique = df_commits_unique.reset_index(drop=True)"
   ]
  },
  {
   "cell_type": "markdown",
   "id": "60811925-5515-413d-aea4-e671efa19324",
   "metadata": {
    "tags": []
   },
   "source": [
    "### By Day "
   ]
  },
  {
   "cell_type": "code",
   "execution_count": 30,
   "id": "75d5651d-a375-4a15-98bd-11b8c8442d39",
   "metadata": {},
   "outputs": [],
   "source": [
    "two_years = datetime.datetime.now() - datetime.timedelta(days=2*365)\n",
    "repo_daily_commits = df_commits_unique[df_commits_unique['date_time'] > two_years]\n",
    "\n",
    "repo_daily_commits = repo_daily_commits['date_time'].groupby(repo_daily_commits.date_time.dt.to_period(\"D\")).agg('count')"
   ]
  },
  {
   "cell_type": "code",
   "execution_count": 31,
   "id": "e2958baa-4bd4-4120-81b2-5002676e963a",
   "metadata": {},
   "outputs": [
    {
     "data": {
      "image/png": "[encoded data removed]",
      "text/plain": [
       "<Figure size 1080x360 with 1 Axes>"
      ]
     },
     "metadata": {
      "needs_background": "light"
     },
     "output_type": "display_data"
    }
   ],
   "source": [
    "repo_daily_commits.plot.bar()\n",
    "\n",
    "plt.xlabel(\"Days\")\n",
    "plt.ylabel(\"# Commits\")\n",
    "locs, labels = plt.xticks()\n",
    "N = 90\n",
    "plt.xticks(locs[::N], repo_daily_commits.index[::N].strftime('%b %Y'))\n",
    "plt.xticks(rotation=45)\n",
    "plt.title(\"# Daily Commits for \"+repo_focus.capitalize() +\" repo\")\n",
    "plt.show()"
   ]
  },
  {
   "cell_type": "markdown",
   "id": "200824f3-2f0e-45e6-ac7f-525bd4403a8a",
   "metadata": {},
   "source": [
    "### By Week"
   ]
  },
  {
   "cell_type": "code",
   "execution_count": 13,
   "id": "8ea36871-65c4-4a8a-90eb-dea0fa643cc7",
   "metadata": {
    "tags": []
   },
   "outputs": [],
   "source": [
    "repo_week_commits = df_commits_unique['date_time'].groupby(df_commits_unique.date_time.dt.to_period(\"W\")).agg('count')"
   ]
  },
  {
   "cell_type": "code",
   "execution_count": 14,
   "id": "053da65e-1337-4a41-baa6-aeae4203fd07",
   "metadata": {
    "tags": []
   },
   "outputs": [
    {
     "data": {
      "image/png": "[encoded data removed]",
      "text/plain": [
       "<Figure size 1080x360 with 1 Axes>"
      ]
     },
     "metadata": {
      "needs_background": "light"
     },
     "output_type": "display_data"
    }
   ],
   "source": [
    "repo_week_commits.plot.bar()\n",
    "\n",
    "plt.xlabel(\"Year\")\n",
    "plt.ylabel(\"# Commits\")\n",
    "locs, labels = plt.xticks()\n",
    "N = 13\n",
    "plt.xticks(locs[::N], repo_week_commits.index[::N].strftime('%b %Y'))\n",
    "plt.xticks(rotation=45)\n",
    "plt.title(\"# Weekly Commits for \" + repo_focus.capitalize() + \" repo\")\n",
    "plt.show()"
   ]
  },
  {
   "cell_type": "markdown",
   "id": "6e75f91f-d6b2-46ad-9341-f090c62f0369",
   "metadata": {},
   "source": [
    "### By Month"
   ]
  },
  {
   "cell_type": "code",
   "execution_count": 15,
   "id": "2dce91bf-3b31-48ab-b8bf-3e85198f1dd0",
   "metadata": {
    "tags": []
   },
   "outputs": [],
   "source": [
    "repo_monthy_commits = df_commits_unique['date_time'].groupby(df_commits_unique.date_time.dt.to_period(\"M\")).agg('count')"
   ]
  },
  {
   "cell_type": "code",
   "execution_count": 35,
   "id": "90488bb3-dec8-4510-bd6e-b8f1ecbf5f8e",
   "metadata": {},
   "outputs": [
    {
     "data": {
      "image/png": "[encoded data removed]",
      "text/plain": [
       "<Figure size 1080x360 with 1 Axes>"
      ]
     },
     "metadata": {
      "needs_background": "light"
     },
     "output_type": "display_data"
    }
   ],
   "source": [
    "repo_monthy_commits.plot.bar()\n",
    "plt.xlabel(\"Month\")\n",
    "locs, labels = plt.xticks()\n",
    "N = 2\n",
    "plt.xticks(locs[::N], repo_monthy_commits.index[::N].strftime('%b %Y'))\n",
    "plt.ylabel(\"# Commits\")\n",
    "plt.title(\"# Monthy Commits for \" + repo_focus.capitalize() + \" repo\")\n",
    "plt.show()"
   ]
  },
  {
   "cell_type": "markdown",
   "id": "9d62a250-d6a3-451d-bb9d-50cbddb86218",
   "metadata": {},
   "source": [
    "## Number of lines per commit"
   ]
  },
  {
   "cell_type": "code",
   "execution_count": 17,
   "id": "860e06ad-0fde-4d80-bc3d-5ad28cda2b1e",
   "metadata": {
    "tags": []
   },
   "outputs": [
    {
     "data": {
      "image/png": "[encoded data removed]",
      "text/plain": [
       "<Figure size 1080x360 with 1 Axes>"
      ]
     },
     "metadata": {
      "needs_background": "light"
     },
     "output_type": "display_data"
    }
   ],
   "source": [
    "df_lines_repo = df_commits_unique[[\"commits\", \"lines_added\"]]\n",
    "df_lines_repo.plot()\n",
    "\n",
    "plt.xlabel(\"Commit ID\")\n",
    "plt.ylabel(\"# Lines\")\n",
    "plt.title(\"# Lines per Commit for \"+ repo_focus.capitalize() + \" repo\")\n",
    "plt.xticks(rotation=90)\n",
    "plt.show()"
   ]
  },
  {
   "cell_type": "code",
   "execution_count": 18,
   "id": "ab9654f6-10b4-4852-912c-188fb6cdeca0",
   "metadata": {
    "tags": []
   },
   "outputs": [
    {
     "data": {
      "text/html": [
       "<div>\n",
       "<style scoped>\n",
       "    .dataframe tbody tr th:only-of-type {\n",
       "        vertical-align: middle;\n",
       "    }\n",
       "\n",
       "    .dataframe tbody tr th {\n",
       "        vertical-align: top;\n",
       "    }\n",
       "\n",
       "    .dataframe thead th {\n",
       "        text-align: right;\n",
       "    }\n",
       "</style>\n",
       "<table border=\"1\" class=\"dataframe\">\n",
       "  <thead>\n",
       "    <tr style=\"text-align: right;\">\n",
       "      <th></th>\n",
       "      <th>lines_added</th>\n",
       "      <th>lines_removed</th>\n",
       "    </tr>\n",
       "  </thead>\n",
       "  <tbody>\n",
       "    <tr>\n",
       "      <th>count</th>\n",
       "      <td>5431.000000</td>\n",
       "      <td>5431.000000</td>\n",
       "    </tr>\n",
       "    <tr>\n",
       "      <th>mean</th>\n",
       "      <td>581.224636</td>\n",
       "      <td>590.132020</td>\n",
       "    </tr>\n",
       "    <tr>\n",
       "      <th>std</th>\n",
       "      <td>6150.904575</td>\n",
       "      <td>7409.079865</td>\n",
       "    </tr>\n",
       "    <tr>\n",
       "      <th>min</th>\n",
       "      <td>0.000000</td>\n",
       "      <td>0.000000</td>\n",
       "    </tr>\n",
       "    <tr>\n",
       "      <th>25%</th>\n",
       "      <td>0.000000</td>\n",
       "      <td>0.000000</td>\n",
       "    </tr>\n",
       "    <tr>\n",
       "      <th>50%</th>\n",
       "      <td>3.000000</td>\n",
       "      <td>1.000000</td>\n",
       "    </tr>\n",
       "    <tr>\n",
       "      <th>75%</th>\n",
       "      <td>33.000000</td>\n",
       "      <td>14.000000</td>\n",
       "    </tr>\n",
       "    <tr>\n",
       "      <th>max</th>\n",
       "      <td>252656.000000</td>\n",
       "      <td>321009.000000</td>\n",
       "    </tr>\n",
       "  </tbody>\n",
       "</table>\n",
       "</div>"
      ],
      "text/plain": [
       "         lines_added  lines_removed\n",
       "count    5431.000000    5431.000000\n",
       "mean      581.224636     590.132020\n",
       "std      6150.904575    7409.079865\n",
       "min         0.000000       0.000000\n",
       "25%         0.000000       0.000000\n",
       "50%         3.000000       1.000000\n",
       "75%        33.000000      14.000000\n",
       "max    252656.000000  321009.000000"
      ]
     },
     "execution_count": 18,
     "metadata": {},
     "output_type": "execute_result"
    }
   ],
   "source": [
    "df_commits_unique.describe()"
   ]
  },
  {
   "cell_type": "markdown",
   "id": "570e4de4-885c-4bbe-b8b2-edcc02928781",
   "metadata": {},
   "source": [
    "## Number of lines per file"
   ]
  },
  {
   "cell_type": "code",
   "execution_count": 19,
   "id": "08eed6eb-b867-4ea7-83fe-a573bdc4bbb0",
   "metadata": {},
   "outputs": [
    {
     "data": {
      "image/png": "[encoded data removed]",
      "text/plain": [
       "<Figure size 1080x360 with 1 Axes>"
      ]
     },
     "metadata": {
      "needs_background": "light"
     },
     "output_type": "display_data"
    }
   ],
   "source": [
    "df_repo_focus[[ \"lines_added\"]].plot()\n",
    "\n",
    "plt.xlabel(\"file\")\n",
    "plt.ylabel(\"lines_added\")\n",
    "plt.title(\"# lines per file for \"+ repo_focus.capitalize() + \" repo\")\n",
    "plt.xticks(rotation=90)\n",
    "plt.show()"
   ]
  }
 ],
 "metadata": {
  "kernelspec": {
   "display_name": "Python 3",
   "language": "python",
   "name": "python3"
  },
  "language_info": {
   "codemirror_mode": {
    "name": "ipython",
    "version": 3
   },
   "file_extension": ".py",
   "mimetype": "text/x-python",
   "name": "python",
   "nbconvert_exporter": "python",
   "pygments_lexer": "ipython3",
   "version": "3.8.6"
  }
 },
 "nbformat": 4,
 "nbformat_minor": 5
}
