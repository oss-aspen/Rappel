{
 "cells": [
  {
   "cell_type": "markdown",
   "id": "b617ee3c-e28d-4c04-aa88-e071a97fa055",
   "metadata": {
    "tags": []
   },
   "source": [
    "# Github Activity Metrics-Issues\n",
    "\n",
    "**Activity by Repo**"
   ]
  },
  {
   "cell_type": "markdown",
   "id": "04f86b3f-540b-4e3a-a943-fe98c4e8f9c8",
   "metadata": {
    "tags": []
   },
   "source": [
    "This notebook will aim to query the Augur DB to access the neccessary information to be able to get the following issue metrics dirived from the GitHub Community Metrics working document https://docs.google.com/document/d/1Yocr6fk0J8EsVZnJwoIl3kRQaI94tI-XHe7VSMFT0yM/edit?usp=sharing"
   ]
  },
  {
   "cell_type": "markdown",
   "id": "17a80575-b6c0-4d2b-9f27-f2e7e0a81712",
   "metadata": {
    "tags": []
   },
   "source": [
    "Any necessary computations from the data to get the metric value will be done as the queries are determined\n",
    "\n",
    "***Note: There is updates that are needed on the Augur side so this data is not 100% accurate***"
   ]
  },
  {
   "cell_type": "code",
   "execution_count": 1,
   "id": "113c7ed2-3d1c-4c33-8104-951e98159a95",
   "metadata": {},
   "outputs": [],
   "source": [
    "import psycopg2\n",
    "import pandas as pd \n",
    "import sqlalchemy as salc\n",
    "import json\n",
    "import os\n",
    "import matplotlib.pyplot as plt\n",
    "import datetime\n",
    "plt.rcParams['figure.figsize'] = (15, 5)\n",
    "\n",
    "with open(\"../config_temp.json\") as config_file:\n",
    "    config = json.load(config_file)"
   ]
  },
  {
   "cell_type": "code",
   "execution_count": 2,
   "id": "d6f9183c-fedb-4209-a06a-bca34cfe3c52",
   "metadata": {},
   "outputs": [],
   "source": [
    "database_connection_string = 'postgresql+psycopg2://{}:{}@{}:{}/{}'.format(config['user'], config['password'], config['host'], config['port'], config['database'])\n",
    "\n",
    "dbschema='augur_data'\n",
    "engine = salc.create_engine(\n",
    "    database_connection_string,\n",
    "    connect_args={'options': '-csearch_path={}'.format(dbschema)})"
   ]
  },
  {
   "cell_type": "code",
   "execution_count": 3,
   "id": "80246d4b-e7fd-46d9-a913-238c05211973",
   "metadata": {},
   "outputs": [
    {
     "name": "stdout",
     "output_type": "stream",
     "text": [
      "[25440, 25448]\n"
     ]
    }
   ],
   "source": [
    "#add your repo name(s) here of the repo(s) you want to query if known (and in the database)\n",
    "repo_name_set = ['augur', 'grimoirelab']\n",
    "repo_set = []\n",
    "\n",
    "for repo_name in repo_name_set:\n",
    "    repo_query = salc.sql.text(f\"\"\"\n",
    "                 SET SCHEMA 'augur_data';\n",
    "                 SELECT \n",
    "                    b.repo_id\n",
    "                FROM\n",
    "                    repo_groups a,\n",
    "                    repo b\n",
    "                WHERE\n",
    "                    a.repo_group_id = b.repo_group_id AND\n",
    "                    b.repo_name = \\'{repo_name}\\'\n",
    "        \"\"\")\n",
    "\n",
    "    t = engine.execute(repo_query)\n",
    "    repo_id =t.mappings().all()[0].get('repo_id')\n",
    "    repo_set.append(repo_id)\n",
    "print(repo_set)"
   ]
  },
  {
   "cell_type": "code",
   "execution_count": 4,
   "id": "834d2616-9f68-4cda-a814-fc9673220ab3",
   "metadata": {},
   "outputs": [],
   "source": [
    "#Take this out of quotes if you want to manually assign a repo_id number(s)\n",
    "#repo_set = [25440]"
   ]
  },
  {
   "cell_type": "markdown",
   "id": "4da56793-faa7-412f-bc3f-02f59064e5bb",
   "metadata": {},
   "source": [
    "## Gather and Process Data\n",
    "\n",
    "### Query"
   ]
  },
  {
   "cell_type": "code",
   "execution_count": 5,
   "id": "ef43bdba-5ec6-4cd8-b4d5-7c6dfb585bea",
   "metadata": {},
   "outputs": [
    {
     "data": {
      "text/html": [
       "<div>\n",
       "<style scoped>\n",
       "    .dataframe tbody tr th:only-of-type {\n",
       "        vertical-align: middle;\n",
       "    }\n",
       "\n",
       "    .dataframe tbody tr th {\n",
       "        vertical-align: top;\n",
       "    }\n",
       "\n",
       "    .dataframe thead th {\n",
       "        text-align: right;\n",
       "    }\n",
       "</style>\n",
       "<table border=\"1\" class=\"dataframe\">\n",
       "  <thead>\n",
       "    <tr style=\"text-align: right;\">\n",
       "      <th></th>\n",
       "      <th>repo_name</th>\n",
       "      <th>issue</th>\n",
       "      <th>issue_number</th>\n",
       "      <th>gh_issue</th>\n",
       "      <th>created</th>\n",
       "      <th>closed</th>\n",
       "      <th>pull_request_id</th>\n",
       "    </tr>\n",
       "  </thead>\n",
       "  <tbody>\n",
       "    <tr>\n",
       "      <th>0</th>\n",
       "      <td>augur</td>\n",
       "      <td>340115</td>\n",
       "      <td>28</td>\n",
       "      <td>213149529</td>\n",
       "      <td>2017-03-09 20:06:18</td>\n",
       "      <td>2017-04-07 21:18:01</td>\n",
       "      <td>NaN</td>\n",
       "    </tr>\n",
       "    <tr>\n",
       "      <th>1</th>\n",
       "      <td>augur</td>\n",
       "      <td>343231</td>\n",
       "      <td>886</td>\n",
       "      <td>682259157</td>\n",
       "      <td>2020-08-20 00:09:30</td>\n",
       "      <td>2020-08-20 00:16:50</td>\n",
       "      <td>343231.0</td>\n",
       "    </tr>\n",
       "    <tr>\n",
       "      <th>2</th>\n",
       "      <td>augur</td>\n",
       "      <td>343216</td>\n",
       "      <td>880</td>\n",
       "      <td>679627659</td>\n",
       "      <td>2020-08-15 19:11:45</td>\n",
       "      <td>2020-08-17 14:30:04</td>\n",
       "      <td>343226.0</td>\n",
       "    </tr>\n",
       "    <tr>\n",
       "      <th>3</th>\n",
       "      <td>augur</td>\n",
       "      <td>343467</td>\n",
       "      <td>967</td>\n",
       "      <td>724668885</td>\n",
       "      <td>2020-10-19 14:21:08</td>\n",
       "      <td>2020-10-19 14:21:34</td>\n",
       "      <td>967.0</td>\n",
       "    </tr>\n",
       "    <tr>\n",
       "      <th>4</th>\n",
       "      <td>augur</td>\n",
       "      <td>342738</td>\n",
       "      <td>740</td>\n",
       "      <td>628534692</td>\n",
       "      <td>2020-06-01 15:34:33</td>\n",
       "      <td>2020-08-20 10:48:14</td>\n",
       "      <td>NaN</td>\n",
       "    </tr>\n",
       "    <tr>\n",
       "      <th>...</th>\n",
       "      <td>...</td>\n",
       "      <td>...</td>\n",
       "      <td>...</td>\n",
       "      <td>...</td>\n",
       "      <td>...</td>\n",
       "      <td>...</td>\n",
       "      <td>...</td>\n",
       "    </tr>\n",
       "    <tr>\n",
       "      <th>1891</th>\n",
       "      <td>grimoirelab</td>\n",
       "      <td>735295</td>\n",
       "      <td>436</td>\n",
       "      <td>924259145</td>\n",
       "      <td>2021-06-17 19:24:54</td>\n",
       "      <td>NaT</td>\n",
       "      <td>NaN</td>\n",
       "    </tr>\n",
       "    <tr>\n",
       "      <th>1892</th>\n",
       "      <td>grimoirelab</td>\n",
       "      <td>340606</td>\n",
       "      <td>284</td>\n",
       "      <td>559853733</td>\n",
       "      <td>2020-02-04 17:00:31</td>\n",
       "      <td>NaT</td>\n",
       "      <td>NaN</td>\n",
       "    </tr>\n",
       "    <tr>\n",
       "      <th>1893</th>\n",
       "      <td>grimoirelab</td>\n",
       "      <td>735292</td>\n",
       "      <td>439</td>\n",
       "      <td>944334429</td>\n",
       "      <td>2021-07-14 11:37:24</td>\n",
       "      <td>2021-07-21 10:30:35</td>\n",
       "      <td>NaN</td>\n",
       "    </tr>\n",
       "    <tr>\n",
       "      <th>1894</th>\n",
       "      <td>grimoirelab</td>\n",
       "      <td>734649</td>\n",
       "      <td>429</td>\n",
       "      <td>889819068</td>\n",
       "      <td>2021-05-12 08:28:28</td>\n",
       "      <td>NaT</td>\n",
       "      <td>NaN</td>\n",
       "    </tr>\n",
       "    <tr>\n",
       "      <th>1895</th>\n",
       "      <td>grimoirelab</td>\n",
       "      <td>734631</td>\n",
       "      <td>428</td>\n",
       "      <td>875296742</td>\n",
       "      <td>2021-05-04 09:52:41</td>\n",
       "      <td>NaT</td>\n",
       "      <td>NaN</td>\n",
       "    </tr>\n",
       "  </tbody>\n",
       "</table>\n",
       "<p>1896 rows × 7 columns</p>\n",
       "</div>"
      ],
      "text/plain": [
       "        repo_name   issue  issue_number   gh_issue             created  \\\n",
       "0           augur  340115            28  213149529 2017-03-09 20:06:18   \n",
       "1           augur  343231           886  682259157 2020-08-20 00:09:30   \n",
       "2           augur  343216           880  679627659 2020-08-15 19:11:45   \n",
       "3           augur  343467           967  724668885 2020-10-19 14:21:08   \n",
       "4           augur  342738           740  628534692 2020-06-01 15:34:33   \n",
       "...           ...     ...           ...        ...                 ...   \n",
       "1891  grimoirelab  735295           436  924259145 2021-06-17 19:24:54   \n",
       "1892  grimoirelab  340606           284  559853733 2020-02-04 17:00:31   \n",
       "1893  grimoirelab  735292           439  944334429 2021-07-14 11:37:24   \n",
       "1894  grimoirelab  734649           429  889819068 2021-05-12 08:28:28   \n",
       "1895  grimoirelab  734631           428  875296742 2021-05-04 09:52:41   \n",
       "\n",
       "                  closed  pull_request_id  \n",
       "0    2017-04-07 21:18:01              NaN  \n",
       "1    2020-08-20 00:16:50         343231.0  \n",
       "2    2020-08-17 14:30:04         343226.0  \n",
       "3    2020-10-19 14:21:34            967.0  \n",
       "4    2020-08-20 10:48:14              NaN  \n",
       "...                  ...              ...  \n",
       "1891                 NaT              NaN  \n",
       "1892                 NaT              NaN  \n",
       "1893 2021-07-21 10:30:35              NaN  \n",
       "1894                 NaT              NaN  \n",
       "1895                 NaT              NaN  \n",
       "\n",
       "[1896 rows x 7 columns]"
      ]
     },
     "execution_count": 5,
     "metadata": {},
     "output_type": "execute_result"
    }
   ],
   "source": [
    "df_issues = pd.DataFrame()\n",
    "\n",
    "for repo_id in repo_set: \n",
    "\n",
    "    pr_query = salc.sql.text(f\"\"\"\n",
    "                SELECT\n",
    "                    r.repo_name,\n",
    "\t\t\t\t\ti.issue_id AS issue, \n",
    "\t\t\t\t\ti.gh_issue_number AS issue_number,\n",
    "\t\t\t\t\ti.gh_issue_id AS gh_issue,\n",
    "\t\t\t\t\ti.created_at AS created, \n",
    "\t\t\t\t\ti.closed_at AS closed,\n",
    "                    i.pull_request_id\n",
    "                FROM\n",
    "                \trepo r,\n",
    "                    issues i\n",
    "                WHERE\n",
    "                \tr.repo_id = i.repo_id AND\n",
    "                    i.repo_id = \\'{repo_id}\\'\n",
    "        \"\"\")\n",
    "    df_current_repo = pd.read_sql(pr_query, con=engine)\n",
    "    df_issues = pd.concat([df_issues, df_current_repo])\n",
    "\n",
    "df_issues = df_issues.reset_index()\n",
    "df_issues.drop(\"index\", axis=1, inplace=True)\n",
    "        \n",
    "df_issues"
   ]
  },
  {
   "cell_type": "code",
   "execution_count": 6,
   "id": "8cc6bc17-8d45-4026-89b1-100dc6d37ec3",
   "metadata": {},
   "outputs": [],
   "source": [
    "df_issues = df_issues[df_issues['pull_request_id'].isnull()]\n",
    "df_issues = df_issues.drop(columns = 'pull_request_id' )"
   ]
  },
  {
   "cell_type": "code",
   "execution_count": 7,
   "id": "341524dd-104b-4e6f-8de7-7a28fa5fc2c0",
   "metadata": {},
   "outputs": [],
   "source": [
    "#IF YOU ONLY WANT TO LOOK AT A ONE OF THE REPOS QUERIED \n",
    "repo_focus = 'augur'\n",
    "df_issues_focus = df_issues[df_issues['repo_name'] == repo_focus]\n",
    "df_issues_focus = df_issues_focus.sort_values(by= \"created\")\n",
    "df_issues_focus = df_issues_focus.reset_index(drop=True)"
   ]
  },
  {
   "cell_type": "markdown",
   "id": "b19d4ef2-d16a-4240-a1be-fb20c51dd1ce",
   "metadata": {},
   "source": [
    "## Numer of issues Created \n",
    "\n",
    "### By Day"
   ]
  },
  {
   "cell_type": "code",
   "execution_count": 8,
   "id": "6b8d3776-61d8-4ac0-9bc7-694508ca0bfb",
   "metadata": {},
   "outputs": [],
   "source": [
    "two_years = datetime.datetime.now() - datetime.timedelta(days=2*365)\n",
    "df_issues_daily = df_issues_focus[df_issues_focus['created'] > two_years]\n",
    "\n",
    "df_issues_daily = df_issues_daily['created'].groupby(df_issues_daily.created.dt.to_period(\"D\")).agg('count')"
   ]
  },
  {
   "cell_type": "code",
   "execution_count": 9,
   "id": "20d6c3c2-cc9d-49b1-b178-464a6e2d9ca1",
   "metadata": {},
   "outputs": [
    {
     "data": {
      "text/plain": [
       "created\n",
       "2019-09-12    1\n",
       "2019-09-13    1\n",
       "2019-09-20    1\n",
       "2019-09-21    1\n",
       "2019-09-23    2\n",
       "             ..\n",
       "2021-08-11    2\n",
       "2021-08-13    2\n",
       "2021-08-16    3\n",
       "2021-08-19    1\n",
       "2021-08-30    1\n",
       "Freq: D, Name: created, Length: 123, dtype: int64"
      ]
     },
     "execution_count": 9,
     "metadata": {},
     "output_type": "execute_result"
    }
   ],
   "source": [
    "df_issues_daily"
   ]
  },
  {
   "cell_type": "code",
   "execution_count": 10,
   "id": "793658b0-25a4-4af0-9cd9-e274a19d5600",
   "metadata": {},
   "outputs": [
    {
     "data": {
      "image/png": "[encoded data removed]",
      "text/plain": [
       "<Figure size 1080x360 with 1 Axes>"
      ]
     },
     "metadata": {
      "needs_background": "light"
     },
     "output_type": "display_data"
    }
   ],
   "source": [
    "df_issues_daily.plot.bar()\n",
    "\n",
    "plt.xlabel(\"Days\")\n",
    "locs, labels = plt.xticks()\n",
    "N = 90\n",
    "plt.xticks(locs[::N], df_issues_daily.index[::N].strftime('%b %Y'))\n",
    "plt.xticks(rotation=45)\n",
    "plt.ylabel(\"# Issues\")\n",
    "plt.title(\"# Daily issues Created for \"+repo_focus.capitalize() +\" Repo\")\n",
    "plt.show()"
   ]
  },
  {
   "cell_type": "markdown",
   "id": "c2440595-b62b-46f2-ab48-bf3ddbd31348",
   "metadata": {},
   "source": [
    "### By Week"
   ]
  },
  {
   "cell_type": "code",
   "execution_count": 11,
   "id": "02a1f274-f4c8-401b-8be5-1bf429c83a53",
   "metadata": {},
   "outputs": [],
   "source": [
    "df_issues_weekly = df_issues_focus['created'].groupby(df_issues_focus.created.dt.to_period(\"W\")).agg('count')"
   ]
  },
  {
   "cell_type": "code",
   "execution_count": 12,
   "id": "c9f1eb25-898e-4ebe-81f8-c295ae6389bc",
   "metadata": {},
   "outputs": [
    {
     "data": {
      "image/png": "[encoded data removed]",
      "text/plain": [
       "<Figure size 1080x360 with 1 Axes>"
      ]
     },
     "metadata": {
      "needs_background": "light"
     },
     "output_type": "display_data"
    }
   ],
   "source": [
    "df_issues_weekly.plot.bar()\n",
    "\n",
    "plt.xlabel(\"Week\")\n",
    "plt.ylabel(\"# Issues\")\n",
    "locs, labels = plt.xticks()\n",
    "N = 13\n",
    "plt.xticks(locs[::N], df_issues_weekly.index[::N].strftime('%b %Y'))\n",
    "plt.xticks(rotation=45)\n",
    "plt.title(\"# Weekly issues Created for \"+repo_focus.capitalize() +\" repo\")\n",
    "plt.show()"
   ]
  },
  {
   "cell_type": "markdown",
   "id": "09d93fe5-af39-4164-b8e2-81c9d1086ade",
   "metadata": {},
   "source": [
    "### By Month"
   ]
  },
  {
   "cell_type": "code",
   "execution_count": 13,
   "id": "b6b93cd1-6436-4427-ba76-7d1c8b489987",
   "metadata": {},
   "outputs": [],
   "source": [
    "df_issues_monthly = df_issues_focus['created'].groupby(df_issues_focus.created.dt.to_period(\"M\")).agg('count')"
   ]
  },
  {
   "cell_type": "code",
   "execution_count": 14,
   "id": "67e700c4-e00a-46fa-86fd-e9e01992a820",
   "metadata": {},
   "outputs": [
    {
     "data": {
      "image/png": "[encoded data removed]",
      "text/plain": [
       "<Figure size 1080x360 with 1 Axes>"
      ]
     },
     "metadata": {
      "needs_background": "light"
     },
     "output_type": "display_data"
    }
   ],
   "source": [
    "df_issues_monthly.plot.bar()\n",
    "\n",
    "plt.xlabel(\"Month\")\n",
    "plt.ylabel(\"# Issues\")\n",
    "plt.title(\"# Monthly issues Created for \"+repo_focus.capitalize() +\" repo\")\n",
    "plt.show()"
   ]
  },
  {
   "cell_type": "markdown",
   "id": "f08e4453-852b-4cde-ab06-3ad55b62e1d0",
   "metadata": {},
   "source": [
    "## Numer of issues closed"
   ]
  },
  {
   "cell_type": "markdown",
   "id": "005dbd82-eb2c-4588-8f5b-46adfb53c92e",
   "metadata": {},
   "source": [
    "### By Day"
   ]
  },
  {
   "cell_type": "code",
   "execution_count": 15,
   "id": "49f989a1-3cb9-4db7-b9cb-2f2513c98db5",
   "metadata": {
    "tags": []
   },
   "outputs": [],
   "source": [
    "df_issues_closed_daily = df_issues_focus[df_issues_focus['closed'] > two_years]\n",
    "df_issues_closed_daily = df_issues_closed_daily['closed'].groupby(df_issues_closed_daily.closed.dt.to_period(\"D\")).agg('count')"
   ]
  },
  {
   "cell_type": "code",
   "execution_count": 16,
   "id": "f857ebb4-52dd-425d-98e8-955e9ecd9699",
   "metadata": {},
   "outputs": [
    {
     "data": {
      "image/png": "[encoded data removed]",
      "text/plain": [
       "<Figure size 1080x360 with 1 Axes>"
      ]
     },
     "metadata": {
      "needs_background": "light"
     },
     "output_type": "display_data"
    }
   ],
   "source": [
    "df_issues_closed_daily.plot.bar()\n",
    "\n",
    "plt.xlabel(\"Days\")\n",
    "locs, labels = plt.xticks()\n",
    "N = 90\n",
    "plt.xticks(locs[::N], df_issues_closed_daily.index[::N].strftime('%b %Y'))\n",
    "plt.xticks(rotation=45)\n",
    "plt.ylabel(\"# Issues\")\n",
    "plt.title(\"# Daily issues Closed for \"+repo_focus.capitalize() +\" repo\")\n",
    "plt.show()"
   ]
  },
  {
   "cell_type": "markdown",
   "id": "dfe78ed9-55db-441f-9397-0f582be25462",
   "metadata": {},
   "source": [
    "### By Week"
   ]
  },
  {
   "cell_type": "code",
   "execution_count": 17,
   "id": "af0b875c-3b08-40be-925a-0bf0da825e07",
   "metadata": {},
   "outputs": [],
   "source": [
    "df_issues_closed_weekly = df_issues_focus['closed'].groupby(df_issues_focus.closed.dt.to_period(\"W\")).agg('count')"
   ]
  },
  {
   "cell_type": "code",
   "execution_count": 18,
   "id": "edc4485d-7587-4160-a856-3332510a577f",
   "metadata": {},
   "outputs": [
    {
     "data": {
      "image/png": "[encoded data removed]",
      "text/plain": [
       "<Figure size 1080x360 with 1 Axes>"
      ]
     },
     "metadata": {
      "needs_background": "light"
     },
     "output_type": "display_data"
    }
   ],
   "source": [
    "df_issues_closed_weekly.plot.bar()\n",
    "\n",
    "plt.xlabel(\"Week\")\n",
    "locs, labels = plt.xticks()\n",
    "N = 13\n",
    "plt.xticks(locs[::N], df_issues_closed_weekly.index[::N].strftime('%b %Y'))\n",
    "plt.xticks(rotation=45)\n",
    "plt.ylabel(\"# Issues\")\n",
    "plt.title(\"# Weekly issues Closed for \"+ repo_focus.capitalize() +\" repo\")\n",
    "plt.show()"
   ]
  },
  {
   "cell_type": "markdown",
   "id": "673a29ac-42b4-4e3f-8653-9de1aa9b014b",
   "metadata": {},
   "source": [
    "### By Month"
   ]
  },
  {
   "cell_type": "code",
   "execution_count": 19,
   "id": "c1001b9a-37fc-43d7-9314-ed5598fddc10",
   "metadata": {},
   "outputs": [],
   "source": [
    "df_issues_closed_monthly = df_issues_focus['closed'].groupby(df_issues_focus.closed.dt.to_period(\"M\")).agg('count')"
   ]
  },
  {
   "cell_type": "code",
   "execution_count": 20,
   "id": "b42f9d48-1657-4ce4-a2a5-2899dac63ab0",
   "metadata": {},
   "outputs": [
    {
     "data": {
      "image/png": "[encoded data removed]",
      "text/plain": [
       "<Figure size 1080x360 with 1 Axes>"
      ]
     },
     "metadata": {
      "needs_background": "light"
     },
     "output_type": "display_data"
    }
   ],
   "source": [
    "df_issues_closed_monthly.plot.bar()\n",
    "\n",
    "plt.xlabel(\"Month\")\n",
    "plt.ylabel(\"# Issues\")\n",
    "plt.title(\"# Monthly issues Closed for \"+repo_focus.capitalize() +\" repo\")\n",
    "plt.show()"
   ]
  },
  {
   "cell_type": "markdown",
   "id": "1048e603-3af9-4332-b968-ce64da5c2fda",
   "metadata": {},
   "source": [
    "## Numer of Issues Open over time"
   ]
  },
  {
   "cell_type": "code",
   "execution_count": 21,
   "id": "a54b1a76-2769-41fd-9749-776a8a7700ee",
   "metadata": {},
   "outputs": [],
   "source": [
    "df_created = pd.DataFrame(df_issues_focus[\"created\"])\n",
    "df_created[\"issue\"] = df_created[\"created\"]\n",
    "df_created['open'] = 1\n",
    "df_created = df_created.drop(columns=\"created\")"
   ]
  },
  {
   "cell_type": "code",
   "execution_count": 22,
   "id": "59d64eff-819e-4e23-a85e-2fd507bad39a",
   "metadata": {},
   "outputs": [],
   "source": [
    "df_closed = pd.DataFrame(df_issues_focus[\"closed\"]).dropna()\n",
    "df_closed[\"issue\"] = df_closed[\"closed\"]\n",
    "df_closed['open'] = -1\n",
    "df_closed = df_closed.drop(columns= \"closed\")"
   ]
  },
  {
   "cell_type": "code",
   "execution_count": 23,
   "id": "b399f7ef-4848-4f1c-b8bf-67e1c08313e8",
   "metadata": {},
   "outputs": [],
   "source": [
    "df_open = pd.concat([df_created, df_closed])\n",
    "df_open = df_open.sort_values(\"issue\")\n",
    "df_open = df_open.reset_index(drop=True)\n",
    "df_open[\"total\"] = df_open[\"open\"].cumsum()\n",
    "df_open['issue'] = df_open['issue'].dt.floor(\"D\")\n"
   ]
  },
  {
   "cell_type": "code",
   "execution_count": 24,
   "id": "100c8026-dd1a-4084-bfd6-436e47001a04",
   "metadata": {},
   "outputs": [],
   "source": [
    "df_open = pd.concat([df_created, df_closed])\n",
    "df_open = df_open.sort_values(\"issue\")\n",
    "df_open = df_open.reset_index(drop=True)\n",
    "df_open[\"total\"] = df_open[\"open\"].cumsum()\n",
    "#df_open['issue'] = df_open['issue'].apply(lambda x: x.replace(hour = 0, minute=0, second=0))\n",
    "df_open = df_open.drop_duplicates(subset='issue', keep='last')\n",
    "df_open = df_open.drop(columns= 'open')"
   ]
  },
  {
   "cell_type": "markdown",
   "id": "ef0a4047-b85e-401a-86f7-55ffebe552f3",
   "metadata": {},
   "source": [
    "### Plot"
   ]
  },
  {
   "cell_type": "code",
   "execution_count": 25,
   "id": "b7ef4b48-3165-4ceb-8af3-c23f0551cb08",
   "metadata": {
    "tags": []
   },
   "outputs": [
    {
     "data": {
      "image/png": "[encoded data removed]",
      "text/plain": [
       "<Figure size 1080x360 with 1 Axes>"
      ]
     },
     "metadata": {
      "needs_background": "light"
     },
     "output_type": "display_data"
    }
   ],
   "source": [
    "df_open.plot(\"issue\", \"total\")\n",
    "\n",
    "plt.xticks(rotation=45)\n",
    "plt.xlabel(\"date\")\n",
    "plt.ylabel(\"# of issues open\")\n",
    "plt.title(\"# of issues open for \"+repo_focus.capitalize())\n",
    "plt.show()"
   ]
  }
 ],
 "metadata": {
  "kernelspec": {
   "display_name": "Python 3",
   "language": "python",
   "name": "python3"
  },
  "language_info": {
   "codemirror_mode": {
    "name": "ipython",
    "version": 3
   },
   "file_extension": ".py",
   "mimetype": "text/x-python",
   "name": "python",
   "nbconvert_exporter": "python",
   "pygments_lexer": "ipython3",
   "version": "3.8.6"
  }
 },
 "nbformat": 4,
 "nbformat_minor": 5
}
