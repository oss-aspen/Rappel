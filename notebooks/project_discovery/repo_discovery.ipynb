{
 "cells": [
  {
   "cell_type": "markdown",
   "metadata": {},
   "source": [
    "# Repository Discovery\n",
    "\n",
    "It is difficult, without specialized knowledge or dedicated inspection, to determine how repos on Github are related to one another.\n",
    "\n",
    "Which projects (repos) are trying to solve the same problem? Which are in the same ecosystem? Which pre-date which others?\n",
    "\n",
    "We've begun to study this problem using the abstract model of networks. Our approach is summarized by the neuroscience Hebbian mneumonic approximation: \"fire together, wire together.\"\n",
    "Said with greater context, groups of projects that share features (contributors, in this first exploration) are more likely than others to do similar things.\n",
    "\n",
    "We expect projects in the container orchestration space to, pairwise, share more contributors together than with projects outside of that context, on average.\n",
    "\n",
    "## This notebook's contribution\n",
    "\n",
    "In this notebook, we attempt to solve a challenging problem:\n",
    "\n",
    "**Given the contributors in a known kernel of projects within the same domain, identify relevant, previously censored, repos that those contributors have also taken part in.**\n",
    "\n",
    "Similarly,\n",
    "\n",
    "**Given a list of newly discovered potential ecosystem member repositories, identify those that are the most preeminent, filtering out those that are natural 'noise,' irrelevant to the studied ecosystem.**"
   ]
  },
  {
   "cell_type": "markdown",
   "metadata": {},
   "source": [
    "# Setup\n",
    "\n",
    "Import Python packages, load database access credentials, define connection to DB."
   ]
  },
  {
   "cell_type": "code",
   "execution_count": 121,
   "metadata": {},
   "outputs": [],
   "source": [
    "#IMPORTS\n",
    "import pandas as pd\n",
    "import sqlalchemy as salc\n",
    "import plotly.express as px\n",
    "import json\n",
    "import numpy as np\n",
    "from IPython.display import Image"
   ]
  },
  {
   "cell_type": "code",
   "execution_count": 122,
   "metadata": {},
   "outputs": [],
   "source": [
    "#DATABASE ACCESS\n",
    "\n",
    "with open(\"wasm_creds.json\") as config_file:\n",
    "    config = json.load(config_file)\n",
    "\n",
    "database_connection_string = f\"postgresql+psycopg2://{config['user']}:{config['password']}@{config['host']}:{config['port']}/{config['database']}\"\n",
    "\n",
    "engine = salc.create_engine(\n",
    "    database_connection_string,\n",
    "    connect_args={'options': f\"-csearch_path={'augur_data'}\"})"
   ]
  },
  {
   "cell_type": "code",
   "execution_count": 123,
   "metadata": {},
   "outputs": [],
   "source": [
    "# SWITCHES\n",
    "\n",
    "LOCAL_DATA = True "
   ]
  },
  {
   "cell_type": "markdown",
   "metadata": {},
   "source": [
    "# Known contributors\n",
    "\n",
    "At the outset, we identified a kernel of projects that we are highly confident exist within our ecosystem of interest.\n",
    "\n",
    "From this kernel of projects, we identified all of the contributors and ranked them based on how they interacted with one another.\n",
    "\n",
    "Those who interact with many others in a valuable way are more highly ranked than those who never interact whatsover, and soforth.\n",
    "\n",
    "The data below is the artifact from that analysis, where each row is: {contributor_id, contributor_importance_ranking}\n",
    "\n",
    "---\n",
    "\n",
    "For reference, this work is at the following absolute path in this repository:\n",
    "\n",
    "`Rappel/notebooks/8knot/collab_network/wasm/collabs.ipynb`"
   ]
  },
  {
   "cell_type": "code",
   "execution_count": 124,
   "metadata": {},
   "outputs": [
    {
     "data": {
      "text/html": [
       "<div>\n",
       "<style scoped>\n",
       "    .dataframe tbody tr th:only-of-type {\n",
       "        vertical-align: middle;\n",
       "    }\n",
       "\n",
       "    .dataframe tbody tr th {\n",
       "        vertical-align: top;\n",
       "    }\n",
       "\n",
       "    .dataframe thead th {\n",
       "        text-align: right;\n",
       "    }\n",
       "</style>\n",
       "<table border=\"1\" class=\"dataframe\">\n",
       "  <thead>\n",
       "    <tr style=\"text-align: right;\">\n",
       "      <th></th>\n",
       "      <th>cntrb_id</th>\n",
       "      <th>normalized_pagerank_score</th>\n",
       "    </tr>\n",
       "  </thead>\n",
       "  <tbody>\n",
       "    <tr>\n",
       "      <th>0</th>\n",
       "      <td>010002df-6100-0000-0000-000000000000</td>\n",
       "      <td>20.000000</td>\n",
       "    </tr>\n",
       "    <tr>\n",
       "      <th>1</th>\n",
       "      <td>010000fd-e400-0000-0000-000000000000</td>\n",
       "      <td>19.052353</td>\n",
       "    </tr>\n",
       "    <tr>\n",
       "      <th>2</th>\n",
       "      <td>01002a5e-b400-0000-0000-000000000000</td>\n",
       "      <td>17.138503</td>\n",
       "    </tr>\n",
       "    <tr>\n",
       "      <th>3</th>\n",
       "      <td>0100034c-5400-0000-0000-000000000000</td>\n",
       "      <td>16.901099</td>\n",
       "    </tr>\n",
       "    <tr>\n",
       "      <th>4</th>\n",
       "      <td>01003291-1b00-0000-0000-000000000000</td>\n",
       "      <td>16.831682</td>\n",
       "    </tr>\n",
       "  </tbody>\n",
       "</table>\n",
       "</div>"
      ],
      "text/plain": [
       "                               cntrb_id  normalized_pagerank_score\n",
       "0  010002df-6100-0000-0000-000000000000                  20.000000\n",
       "1  010000fd-e400-0000-0000-000000000000                  19.052353\n",
       "2  01002a5e-b400-0000-0000-000000000000                  17.138503\n",
       "3  0100034c-5400-0000-0000-000000000000                  16.901099\n",
       "4  01003291-1b00-0000-0000-000000000000                  16.831682"
      ]
     },
     "execution_count": 124,
     "metadata": {},
     "output_type": "execute_result"
    }
   ],
   "source": [
    "df_known_contribs = pd.read_csv('contrib_pagerank_scores.csv')\n",
    "df_known_contribs = df_known_contribs.rename(columns={\"contrib_id\": \"cntrb_id\"})\n",
    "df_known_contribs.head()"
   ]
  },
  {
   "cell_type": "markdown",
   "metadata": {},
   "source": [
    "# Contribution event stream\n",
    "\n",
    "Github provides an API endpoint from which one can query every event that occurs. For instance, if a contributor creates an issue on some repo, that event will be logged in the stream. A downside of this API is that it only serves the most recent two months of data. \n",
    "\n",
    "We want to use this stream to identify the set of repositories that our Known Contributors are also working in that weren't in the initial ecosystem kernel.\n",
    "\n",
    "The database that we use collects this event stream so we can query it from there rather than from Github. This is much faster than relying on the public Github API, and we will continue to collect the data that the API makes available, so over time the analysis that we can do will become richer and more complete. In the Augur database, the table with this information is the 'contributor_repo' table."
   ]
  },
  {
   "cell_type": "code",
   "execution_count": 125,
   "metadata": {},
   "outputs": [],
   "source": [
    "event_stream_query = salc.sql.text(\n",
    "    f\"\"\"\n",
    "        SET SCHEMA 'augur_data';\n",
    "        SELECT \n",
    "            c.cntrb_id,\n",
    "            c.event_id,\n",
    "            c.created_at,\n",
    "            c.cntrb_repo_id as repo_id,\n",
    "            c.repo_git,\n",
    "            c.repo_name,\n",
    "            c.gh_repo_id,\n",
    "            c.cntrb_category as event_type\n",
    "        FROM\n",
    "        contributor_repo c\n",
    "    \"\"\")\n",
    "\n",
    "\n",
    "if not LOCAL_DATA:\n",
    "    with engine.connect() as conn:\n",
    "        df_event_stream = pd.read_sql_query(event_stream_query, conn)\n",
    "        \n",
    "    with open(\"df_event_stream.parquet\", \"wb+\") as f:\n",
    "        df_event_stream.cntrb_id = df_event_stream.cntrb_id.astype(str)\n",
    "        df_event_stream.to_parquet(f)\n",
    "else:\n",
    "    with open(\"df_event_stream.parquet\", \"rb+\") as f:\n",
    "        df_event_stream = pd.read_parquet(f)"
   ]
  },
  {
   "cell_type": "markdown",
   "metadata": {},
   "source": [
    "## Event stream data\n",
    "\n",
    "Below we see a summary of the data we have:\n",
    "\n",
    "- 4.2 million events,"
   ]
  },
  {
   "cell_type": "code",
   "execution_count": 126,
   "metadata": {},
   "outputs": [
    {
     "data": {
      "text/html": [
       "<div>\n",
       "<style scoped>\n",
       "    .dataframe tbody tr th:only-of-type {\n",
       "        vertical-align: middle;\n",
       "    }\n",
       "\n",
       "    .dataframe tbody tr th {\n",
       "        vertical-align: top;\n",
       "    }\n",
       "\n",
       "    .dataframe thead th {\n",
       "        text-align: right;\n",
       "    }\n",
       "</style>\n",
       "<table border=\"1\" class=\"dataframe\">\n",
       "  <thead>\n",
       "    <tr style=\"text-align: right;\">\n",
       "      <th></th>\n",
       "      <th>event_id</th>\n",
       "      <th>repo_id</th>\n",
       "      <th>gh_repo_id</th>\n",
       "    </tr>\n",
       "  </thead>\n",
       "  <tbody>\n",
       "    <tr>\n",
       "      <th>count</th>\n",
       "      <td>4.243500e+06</td>\n",
       "      <td>4.243500e+06</td>\n",
       "      <td>4.243500e+06</td>\n",
       "    </tr>\n",
       "    <tr>\n",
       "      <th>mean</th>\n",
       "      <td>3.099347e+10</td>\n",
       "      <td>2.605484e+07</td>\n",
       "      <td>3.426358e+08</td>\n",
       "    </tr>\n",
       "    <tr>\n",
       "      <th>std</th>\n",
       "      <td>8.819875e+08</td>\n",
       "      <td>2.807511e+07</td>\n",
       "      <td>2.368784e+08</td>\n",
       "    </tr>\n",
       "    <tr>\n",
       "      <th>min</th>\n",
       "      <td>2.888731e+10</td>\n",
       "      <td>1.000000e+00</td>\n",
       "      <td>1.000000e+00</td>\n",
       "    </tr>\n",
       "    <tr>\n",
       "      <th>25%</th>\n",
       "      <td>3.043546e+10</td>\n",
       "      <td>1.064824e+06</td>\n",
       "      <td>1.134863e+08</td>\n",
       "    </tr>\n",
       "    <tr>\n",
       "      <th>50%</th>\n",
       "      <td>3.108294e+10</td>\n",
       "      <td>8.449530e+06</td>\n",
       "      <td>3.329603e+08</td>\n",
       "    </tr>\n",
       "    <tr>\n",
       "      <th>75%</th>\n",
       "      <td>3.175927e+10</td>\n",
       "      <td>5.043982e+07</td>\n",
       "      <td>5.851464e+08</td>\n",
       "    </tr>\n",
       "    <tr>\n",
       "      <th>max</th>\n",
       "      <td>3.225873e+10</td>\n",
       "      <td>1.018265e+08</td>\n",
       "      <td>6.995313e+08</td>\n",
       "    </tr>\n",
       "  </tbody>\n",
       "</table>\n",
       "</div>"
      ],
      "text/plain": [
       "           event_id       repo_id    gh_repo_id\n",
       "count  4.243500e+06  4.243500e+06  4.243500e+06\n",
       "mean   3.099347e+10  2.605484e+07  3.426358e+08\n",
       "std    8.819875e+08  2.807511e+07  2.368784e+08\n",
       "min    2.888731e+10  1.000000e+00  1.000000e+00\n",
       "25%    3.043546e+10  1.064824e+06  1.134863e+08\n",
       "50%    3.108294e+10  8.449530e+06  3.329603e+08\n",
       "75%    3.175927e+10  5.043982e+07  5.851464e+08\n",
       "max    3.225873e+10  1.018265e+08  6.995313e+08"
      ]
     },
     "execution_count": 126,
     "metadata": {},
     "output_type": "execute_result"
    }
   ],
   "source": [
    "df_event_stream.describe()"
   ]
  },
  {
   "cell_type": "markdown",
   "metadata": {},
   "source": [
    "### Head of dataframe"
   ]
  },
  {
   "cell_type": "code",
   "execution_count": 127,
   "metadata": {},
   "outputs": [
    {
     "data": {
      "text/html": [
       "<div>\n",
       "<style scoped>\n",
       "    .dataframe tbody tr th:only-of-type {\n",
       "        vertical-align: middle;\n",
       "    }\n",
       "\n",
       "    .dataframe tbody tr th {\n",
       "        vertical-align: top;\n",
       "    }\n",
       "\n",
       "    .dataframe thead th {\n",
       "        text-align: right;\n",
       "    }\n",
       "</style>\n",
       "<table border=\"1\" class=\"dataframe\">\n",
       "  <thead>\n",
       "    <tr style=\"text-align: right;\">\n",
       "      <th></th>\n",
       "      <th>cntrb_id</th>\n",
       "      <th>event_id</th>\n",
       "      <th>created_at</th>\n",
       "      <th>repo_id</th>\n",
       "      <th>repo_git</th>\n",
       "      <th>repo_name</th>\n",
       "      <th>gh_repo_id</th>\n",
       "      <th>event_type</th>\n",
       "    </tr>\n",
       "  </thead>\n",
       "  <tbody>\n",
       "    <tr>\n",
       "      <th>0</th>\n",
       "      <td>0100f4d9-0a00-0000-0000-000000000000</td>\n",
       "      <td>29206154815</td>\n",
       "      <td>2023-05-21 12:46:42</td>\n",
       "      <td>1331068</td>\n",
       "      <td>https://api.github.com/repos/mydeveloperday/sp...</td>\n",
       "      <td>mydeveloperday/spectral-sarif</td>\n",
       "      <td>643239814</td>\n",
       "      <td>PushEvent</td>\n",
       "    </tr>\n",
       "    <tr>\n",
       "      <th>1</th>\n",
       "      <td>01010bc1-fd00-0000-0000-000000000000</td>\n",
       "      <td>29266421350</td>\n",
       "      <td>2023-05-23 20:50:08</td>\n",
       "      <td>828122</td>\n",
       "      <td>https://api.github.com/repos/HazardyKnusperkek...</td>\n",
       "      <td>HazardyKnusperkeks/units</td>\n",
       "      <td>351321247</td>\n",
       "      <td>PushEvent</td>\n",
       "    </tr>\n",
       "    <tr>\n",
       "      <th>2</th>\n",
       "      <td>0100e8ca-1300-0000-0000-000000000000</td>\n",
       "      <td>32035370577</td>\n",
       "      <td>2023-09-22 14:59:22</td>\n",
       "      <td>50867574</td>\n",
       "      <td>https://api.github.com/repos/prometheus-operat...</td>\n",
       "      <td>prometheus-operator/prometheus-operator</td>\n",
       "      <td>68964263</td>\n",
       "      <td>ForkEvent</td>\n",
       "    </tr>\n",
       "    <tr>\n",
       "      <th>3</th>\n",
       "      <td>01010bc1-fd00-0000-0000-000000000000</td>\n",
       "      <td>29264457425</td>\n",
       "      <td>2023-05-23 19:13:06</td>\n",
       "      <td>828123</td>\n",
       "      <td>https://api.github.com/repos/llvm/llvm-project</td>\n",
       "      <td>llvm/llvm-project</td>\n",
       "      <td>75821432</td>\n",
       "      <td>IssueCommentEvent</td>\n",
       "    </tr>\n",
       "    <tr>\n",
       "      <th>4</th>\n",
       "      <td>0101b71a-0d00-0000-0000-000000000000</td>\n",
       "      <td>31189643965</td>\n",
       "      <td>2023-08-17 15:49:35</td>\n",
       "      <td>36340270</td>\n",
       "      <td>https://api.github.com/repos/Homebrew/homebrew...</td>\n",
       "      <td>Homebrew/homebrew-core</td>\n",
       "      <td>52855516</td>\n",
       "      <td>IssueCommentEvent</td>\n",
       "    </tr>\n",
       "  </tbody>\n",
       "</table>\n",
       "</div>"
      ],
      "text/plain": [
       "                               cntrb_id     event_id          created_at  \\\n",
       "0  0100f4d9-0a00-0000-0000-000000000000  29206154815 2023-05-21 12:46:42   \n",
       "1  01010bc1-fd00-0000-0000-000000000000  29266421350 2023-05-23 20:50:08   \n",
       "2  0100e8ca-1300-0000-0000-000000000000  32035370577 2023-09-22 14:59:22   \n",
       "3  01010bc1-fd00-0000-0000-000000000000  29264457425 2023-05-23 19:13:06   \n",
       "4  0101b71a-0d00-0000-0000-000000000000  31189643965 2023-08-17 15:49:35   \n",
       "\n",
       "    repo_id                                           repo_git  \\\n",
       "0   1331068  https://api.github.com/repos/mydeveloperday/sp...   \n",
       "1    828122  https://api.github.com/repos/HazardyKnusperkek...   \n",
       "2  50867574  https://api.github.com/repos/prometheus-operat...   \n",
       "3    828123     https://api.github.com/repos/llvm/llvm-project   \n",
       "4  36340270  https://api.github.com/repos/Homebrew/homebrew...   \n",
       "\n",
       "                                 repo_name  gh_repo_id         event_type  \n",
       "0            mydeveloperday/spectral-sarif   643239814          PushEvent  \n",
       "1                 HazardyKnusperkeks/units   351321247          PushEvent  \n",
       "2  prometheus-operator/prometheus-operator    68964263          ForkEvent  \n",
       "3                        llvm/llvm-project    75821432  IssueCommentEvent  \n",
       "4                   Homebrew/homebrew-core    52855516  IssueCommentEvent  "
      ]
     },
     "execution_count": 127,
     "metadata": {},
     "output_type": "execute_result"
    }
   ],
   "source": [
    "df_event_stream.head()"
   ]
  },
  {
   "cell_type": "markdown",
   "metadata": {},
   "source": [
    "### Most common types of events"
   ]
  },
  {
   "cell_type": "code",
   "execution_count": 128,
   "metadata": {},
   "outputs": [
    {
     "data": {
      "text/plain": [
       "PushEvent                        1504163\n",
       "IssueCommentEvent                 614512\n",
       "PullRequestEvent                  428910\n",
       "PullRequestReviewEvent            363215\n",
       "CreateEvent                       328443\n",
       "PullRequestReviewCommentEvent     277490\n",
       "WatchEvent                        240648\n",
       "DeleteEvent                       206104\n",
       "IssuesEvent                       177787\n",
       "ForkEvent                          43458\n",
       "CommitCommentEvent                 22144\n",
       "ReleaseEvent                       21659\n",
       "GollumEvent                         7224\n",
       "MemberEvent                         4389\n",
       "PublicEvent                         3354\n",
       "Name: event_type, dtype: int64"
      ]
     },
     "execution_count": 128,
     "metadata": {},
     "output_type": "execute_result"
    }
   ],
   "source": [
    "event_counts = df_event_stream.event_type.value_counts()\n",
    "event_counts"
   ]
  },
  {
   "cell_type": "code",
   "execution_count": 129,
   "metadata": {},
   "outputs": [
    {
     "data": {
      "application/vnd.plotly.v1+json": {
       "config": {
        "plotlyServerURL": "https://plot.ly"
       },
       "data": [
        {
         "alignmentgroup": "True",
         "hovertemplate": "index=%{x}<br>value=%{y}<extra></extra>",
         "legendgroup": "PushEvent",
         "marker": {
          "color": "#636efa",
          "pattern": {
           "shape": ""
          }
         },
         "name": "PushEvent",
         "offsetgroup": "PushEvent",
         "orientation": "v",
         "showlegend": true,
         "textposition": "auto",
         "type": "bar",
         "x": [
          "PushEvent"
         ],
         "xaxis": "x",
         "y": [
          1504163
         ],
         "yaxis": "y"
        },
        {
         "alignmentgroup": "True",
         "hovertemplate": "index=%{x}<br>value=%{y}<extra></extra>",
         "legendgroup": "IssueCommentEvent",
         "marker": {
          "color": "#EF553B",
          "pattern": {
           "shape": ""
          }
         },
         "name": "IssueCommentEvent",
         "offsetgroup": "IssueCommentEvent",
         "orientation": "v",
         "showlegend": true,
         "textposition": "auto",
         "type": "bar",
         "x": [
          "IssueCommentEvent"
         ],
         "xaxis": "x",
         "y": [
          614512
         ],
         "yaxis": "y"
        },
        {
         "alignmentgroup": "True",
         "hovertemplate": "index=%{x}<br>value=%{y}<extra></extra>",
         "legendgroup": "PullRequestEvent",
         "marker": {
          "color": "#00cc96",
          "pattern": {
           "shape": ""
          }
         },
         "name": "PullRequestEvent",
         "offsetgroup": "PullRequestEvent",
         "orientation": "v",
         "showlegend": true,
         "textposition": "auto",
         "type": "bar",
         "x": [
          "PullRequestEvent"
         ],
         "xaxis": "x",
         "y": [
          428910
         ],
         "yaxis": "y"
        },
        {
         "alignmentgroup": "True",
         "hovertemplate": "index=%{x}<br>value=%{y}<extra></extra>",
         "legendgroup": "PullRequestReviewEvent",
         "marker": {
          "color": "#ab63fa",
          "pattern": {
           "shape": ""
          }
         },
         "name": "PullRequestReviewEvent",
         "offsetgroup": "PullRequestReviewEvent",
         "orientation": "v",
         "showlegend": true,
         "textposition": "auto",
         "type": "bar",
         "x": [
          "PullRequestReviewEvent"
         ],
         "xaxis": "x",
         "y": [
          363215
         ],
         "yaxis": "y"
        },
        {
         "alignmentgroup": "True",
         "hovertemplate": "index=%{x}<br>value=%{y}<extra></extra>",
         "legendgroup": "CreateEvent",
         "marker": {
          "color": "#FFA15A",
          "pattern": {
           "shape": ""
          }
         },
         "name": "CreateEvent",
         "offsetgroup": "CreateEvent",
         "orientation": "v",
         "showlegend": true,
         "textposition": "auto",
         "type": "bar",
         "x": [
          "CreateEvent"
         ],
         "xaxis": "x",
         "y": [
          328443
         ],
         "yaxis": "y"
        },
        {
         "alignmentgroup": "True",
         "hovertemplate": "index=%{x}<br>value=%{y}<extra></extra>",
         "legendgroup": "PullRequestReviewCommentEvent",
         "marker": {
          "color": "#19d3f3",
          "pattern": {
           "shape": ""
          }
         },
         "name": "PullRequestReviewCommentEvent",
         "offsetgroup": "PullRequestReviewCommentEvent",
         "orientation": "v",
         "showlegend": true,
         "textposition": "auto",
         "type": "bar",
         "x": [
          "PullRequestReviewCommentEvent"
         ],
         "xaxis": "x",
         "y": [
          277490
         ],
         "yaxis": "y"
        },
        {
         "alignmentgroup": "True",
         "hovertemplate": "index=%{x}<br>value=%{y}<extra></extra>",
         "legendgroup": "WatchEvent",
         "marker": {
          "color": "#FF6692",
          "pattern": {
           "shape": ""
          }
         },
         "name": "WatchEvent",
         "offsetgroup": "WatchEvent",
         "orientation": "v",
         "showlegend": true,
         "textposition": "auto",
         "type": "bar",
         "x": [
          "WatchEvent"
         ],
         "xaxis": "x",
         "y": [
          240648
         ],
         "yaxis": "y"
        },
        {
         "alignmentgroup": "True",
         "hovertemplate": "index=%{x}<br>value=%{y}<extra></extra>",
         "legendgroup": "DeleteEvent",
         "marker": {
          "color": "#B6E880",
          "pattern": {
           "shape": ""
          }
         },
         "name": "DeleteEvent",
         "offsetgroup": "DeleteEvent",
         "orientation": "v",
         "showlegend": true,
         "textposition": "auto",
         "type": "bar",
         "x": [
          "DeleteEvent"
         ],
         "xaxis": "x",
         "y": [
          206104
         ],
         "yaxis": "y"
        },
        {
         "alignmentgroup": "True",
         "hovertemplate": "index=%{x}<br>value=%{y}<extra></extra>",
         "legendgroup": "IssuesEvent",
         "marker": {
          "color": "#FF97FF",
          "pattern": {
           "shape": ""
          }
         },
         "name": "IssuesEvent",
         "offsetgroup": "IssuesEvent",
         "orientation": "v",
         "showlegend": true,
         "textposition": "auto",
         "type": "bar",
         "x": [
          "IssuesEvent"
         ],
         "xaxis": "x",
         "y": [
          177787
         ],
         "yaxis": "y"
        },
        {
         "alignmentgroup": "True",
         "hovertemplate": "index=%{x}<br>value=%{y}<extra></extra>",
         "legendgroup": "ForkEvent",
         "marker": {
          "color": "#FECB52",
          "pattern": {
           "shape": ""
          }
         },
         "name": "ForkEvent",
         "offsetgroup": "ForkEvent",
         "orientation": "v",
         "showlegend": true,
         "textposition": "auto",
         "type": "bar",
         "x": [
          "ForkEvent"
         ],
         "xaxis": "x",
         "y": [
          43458
         ],
         "yaxis": "y"
        },
        {
         "alignmentgroup": "True",
         "hovertemplate": "index=%{x}<br>value=%{y}<extra></extra>",
         "legendgroup": "CommitCommentEvent",
         "marker": {
          "color": "#636efa",
          "pattern": {
           "shape": ""
          }
         },
         "name": "CommitCommentEvent",
         "offsetgroup": "CommitCommentEvent",
         "orientation": "v",
         "showlegend": true,
         "textposition": "auto",
         "type": "bar",
         "x": [
          "CommitCommentEvent"
         ],
         "xaxis": "x",
         "y": [
          22144
         ],
         "yaxis": "y"
        },
        {
         "alignmentgroup": "True",
         "hovertemplate": "index=%{x}<br>value=%{y}<extra></extra>",
         "legendgroup": "ReleaseEvent",
         "marker": {
          "color": "#EF553B",
          "pattern": {
           "shape": ""
          }
         },
         "name": "ReleaseEvent",
         "offsetgroup": "ReleaseEvent",
         "orientation": "v",
         "showlegend": true,
         "textposition": "auto",
         "type": "bar",
         "x": [
          "ReleaseEvent"
         ],
         "xaxis": "x",
         "y": [
          21659
         ],
         "yaxis": "y"
        },
        {
         "alignmentgroup": "True",
         "hovertemplate": "index=%{x}<br>value=%{y}<extra></extra>",
         "legendgroup": "GollumEvent",
         "marker": {
          "color": "#00cc96",
          "pattern": {
           "shape": ""
          }
         },
         "name": "GollumEvent",
         "offsetgroup": "GollumEvent",
         "orientation": "v",
         "showlegend": true,
         "textposition": "auto",
         "type": "bar",
         "x": [
          "GollumEvent"
         ],
         "xaxis": "x",
         "y": [
          7224
         ],
         "yaxis": "y"
        },
        {
         "alignmentgroup": "True",
         "hovertemplate": "index=%{x}<br>value=%{y}<extra></extra>",
         "legendgroup": "MemberEvent",
         "marker": {
          "color": "#ab63fa",
          "pattern": {
           "shape": ""
          }
         },
         "name": "MemberEvent",
         "offsetgroup": "MemberEvent",
         "orientation": "v",
         "showlegend": true,
         "textposition": "auto",
         "type": "bar",
         "x": [
          "MemberEvent"
         ],
         "xaxis": "x",
         "y": [
          4389
         ],
         "yaxis": "y"
        },
        {
         "alignmentgroup": "True",
         "hovertemplate": "index=%{x}<br>value=%{y}<extra></extra>",
         "legendgroup": "PublicEvent",
         "marker": {
          "color": "#FFA15A",
          "pattern": {
           "shape": ""
          }
         },
         "name": "PublicEvent",
         "offsetgroup": "PublicEvent",
         "orientation": "v",
         "showlegend": true,
         "textposition": "auto",
         "type": "bar",
         "x": [
          "PublicEvent"
         ],
         "xaxis": "x",
         "y": [
          3354
         ],
         "yaxis": "y"
        }
       ],
       "layout": {
        "barmode": "relative",
        "legend": {
         "title": {
          "text": "index"
         },
         "tracegroupgap": 0
        },
        "margin": {
         "t": 60
        },
        "template": {
         "data": {
          "bar": [
           {
            "error_x": {
             "color": "#2a3f5f"
            },
            "error_y": {
             "color": "#2a3f5f"
            },
            "marker": {
             "line": {
              "color": "#E5ECF6",
              "width": 0.5
             },
             "pattern": {
              "fillmode": "overlay",
              "size": 10,
              "solidity": 0.2
             }
            },
            "type": "bar"
           }
          ],
          "barpolar": [
           {
            "marker": {
             "line": {
              "color": "#E5ECF6",
              "width": 0.5
             },
             "pattern": {
              "fillmode": "overlay",
              "size": 10,
              "solidity": 0.2
             }
            },
            "type": "barpolar"
           }
          ],
          "carpet": [
           {
            "aaxis": {
             "endlinecolor": "#2a3f5f",
             "gridcolor": "white",
             "linecolor": "white",
             "minorgridcolor": "white",
             "startlinecolor": "#2a3f5f"
            },
            "baxis": {
             "endlinecolor": "#2a3f5f",
             "gridcolor": "white",
             "linecolor": "white",
             "minorgridcolor": "white",
             "startlinecolor": "#2a3f5f"
            },
            "type": "carpet"
           }
          ],
          "choropleth": [
           {
            "colorbar": {
             "outlinewidth": 0,
             "ticks": ""
            },
            "type": "choropleth"
           }
          ],
          "contour": [
           {
            "colorbar": {
             "outlinewidth": 0,
             "ticks": ""
            },
            "colorscale": [
             [
              0,
              "#0d0887"
             ],
             [
              0.1111111111111111,
              "#46039f"
             ],
             [
              0.2222222222222222,
              "#7201a8"
             ],
             [
              0.3333333333333333,
              "#9c179e"
             ],
             [
              0.4444444444444444,
              "#bd3786"
             ],
             [
              0.5555555555555556,
              "#d8576b"
             ],
             [
              0.6666666666666666,
              "#ed7953"
             ],
             [
              0.7777777777777778,
              "#fb9f3a"
             ],
             [
              0.8888888888888888,
              "#fdca26"
             ],
             [
              1,
              "#f0f921"
             ]
            ],
            "type": "contour"
           }
          ],
          "contourcarpet": [
           {
            "colorbar": {
             "outlinewidth": 0,
             "ticks": ""
            },
            "type": "contourcarpet"
           }
          ],
          "heatmap": [
           {
            "colorbar": {
             "outlinewidth": 0,
             "ticks": ""
            },
            "colorscale": [
             [
              0,
              "#0d0887"
             ],
             [
              0.1111111111111111,
              "#46039f"
             ],
             [
              0.2222222222222222,
              "#7201a8"
             ],
             [
              0.3333333333333333,
              "#9c179e"
             ],
             [
              0.4444444444444444,
              "#bd3786"
             ],
             [
              0.5555555555555556,
              "#d8576b"
             ],
             [
              0.6666666666666666,
              "#ed7953"
             ],
             [
              0.7777777777777778,
              "#fb9f3a"
             ],
             [
              0.8888888888888888,
              "#fdca26"
             ],
             [
              1,
              "#f0f921"
             ]
            ],
            "type": "heatmap"
           }
          ],
          "heatmapgl": [
           {
            "colorbar": {
             "outlinewidth": 0,
             "ticks": ""
            },
            "colorscale": [
             [
              0,
              "#0d0887"
             ],
             [
              0.1111111111111111,
              "#46039f"
             ],
             [
              0.2222222222222222,
              "#7201a8"
             ],
             [
              0.3333333333333333,
              "#9c179e"
             ],
             [
              0.4444444444444444,
              "#bd3786"
             ],
             [
              0.5555555555555556,
              "#d8576b"
             ],
             [
              0.6666666666666666,
              "#ed7953"
             ],
             [
              0.7777777777777778,
              "#fb9f3a"
             ],
             [
              0.8888888888888888,
              "#fdca26"
             ],
             [
              1,
              "#f0f921"
             ]
            ],
            "type": "heatmapgl"
           }
          ],
          "histogram": [
           {
            "marker": {
             "pattern": {
              "fillmode": "overlay",
              "size": 10,
              "solidity": 0.2
             }
            },
            "type": "histogram"
           }
          ],
          "histogram2d": [
           {
            "colorbar": {
             "outlinewidth": 0,
             "ticks": ""
            },
            "colorscale": [
             [
              0,
              "#0d0887"
             ],
             [
              0.1111111111111111,
              "#46039f"
             ],
             [
              0.2222222222222222,
              "#7201a8"
             ],
             [
              0.3333333333333333,
              "#9c179e"
             ],
             [
              0.4444444444444444,
              "#bd3786"
             ],
             [
              0.5555555555555556,
              "#d8576b"
             ],
             [
              0.6666666666666666,
              "#ed7953"
             ],
             [
              0.7777777777777778,
              "#fb9f3a"
             ],
             [
              0.8888888888888888,
              "#fdca26"
             ],
             [
              1,
              "#f0f921"
             ]
            ],
            "type": "histogram2d"
           }
          ],
          "histogram2dcontour": [
           {
            "colorbar": {
             "outlinewidth": 0,
             "ticks": ""
            },
            "colorscale": [
             [
              0,
              "#0d0887"
             ],
             [
              0.1111111111111111,
              "#46039f"
             ],
             [
              0.2222222222222222,
              "#7201a8"
             ],
             [
              0.3333333333333333,
              "#9c179e"
             ],
             [
              0.4444444444444444,
              "#bd3786"
             ],
             [
              0.5555555555555556,
              "#d8576b"
             ],
             [
              0.6666666666666666,
              "#ed7953"
             ],
             [
              0.7777777777777778,
              "#fb9f3a"
             ],
             [
              0.8888888888888888,
              "#fdca26"
             ],
             [
              1,
              "#f0f921"
             ]
            ],
            "type": "histogram2dcontour"
           }
          ],
          "mesh3d": [
           {
            "colorbar": {
             "outlinewidth": 0,
             "ticks": ""
            },
            "type": "mesh3d"
           }
          ],
          "parcoords": [
           {
            "line": {
             "colorbar": {
              "outlinewidth": 0,
              "ticks": ""
             }
            },
            "type": "parcoords"
           }
          ],
          "pie": [
           {
            "automargin": true,
            "type": "pie"
           }
          ],
          "scatter": [
           {
            "fillpattern": {
             "fillmode": "overlay",
             "size": 10,
             "solidity": 0.2
            },
            "type": "scatter"
           }
          ],
          "scatter3d": [
           {
            "line": {
             "colorbar": {
              "outlinewidth": 0,
              "ticks": ""
             }
            },
            "marker": {
             "colorbar": {
              "outlinewidth": 0,
              "ticks": ""
             }
            },
            "type": "scatter3d"
           }
          ],
          "scattercarpet": [
           {
            "marker": {
             "colorbar": {
              "outlinewidth": 0,
              "ticks": ""
             }
            },
            "type": "scattercarpet"
           }
          ],
          "scattergeo": [
           {
            "marker": {
             "colorbar": {
              "outlinewidth": 0,
              "ticks": ""
             }
            },
            "type": "scattergeo"
           }
          ],
          "scattergl": [
           {
            "marker": {
             "colorbar": {
              "outlinewidth": 0,
              "ticks": ""
             }
            },
            "type": "scattergl"
           }
          ],
          "scattermapbox": [
           {
            "marker": {
             "colorbar": {
              "outlinewidth": 0,
              "ticks": ""
             }
            },
            "type": "scattermapbox"
           }
          ],
          "scatterpolar": [
           {
            "marker": {
             "colorbar": {
              "outlinewidth": 0,
              "ticks": ""
             }
            },
            "type": "scatterpolar"
           }
          ],
          "scatterpolargl": [
           {
            "marker": {
             "colorbar": {
              "outlinewidth": 0,
              "ticks": ""
             }
            },
            "type": "scatterpolargl"
           }
          ],
          "scatterternary": [
           {
            "marker": {
             "colorbar": {
              "outlinewidth": 0,
              "ticks": ""
             }
            },
            "type": "scatterternary"
           }
          ],
          "surface": [
           {
            "colorbar": {
             "outlinewidth": 0,
             "ticks": ""
            },
            "colorscale": [
             [
              0,
              "#0d0887"
             ],
             [
              0.1111111111111111,
              "#46039f"
             ],
             [
              0.2222222222222222,
              "#7201a8"
             ],
             [
              0.3333333333333333,
              "#9c179e"
             ],
             [
              0.4444444444444444,
              "#bd3786"
             ],
             [
              0.5555555555555556,
              "#d8576b"
             ],
             [
              0.6666666666666666,
              "#ed7953"
             ],
             [
              0.7777777777777778,
              "#fb9f3a"
             ],
             [
              0.8888888888888888,
              "#fdca26"
             ],
             [
              1,
              "#f0f921"
             ]
            ],
            "type": "surface"
           }
          ],
          "table": [
           {
            "cells": {
             "fill": {
              "color": "#EBF0F8"
             },
             "line": {
              "color": "white"
             }
            },
            "header": {
             "fill": {
              "color": "#C8D4E3"
             },
             "line": {
              "color": "white"
             }
            },
            "type": "table"
           }
          ]
         },
         "layout": {
          "annotationdefaults": {
           "arrowcolor": "#2a3f5f",
           "arrowhead": 0,
           "arrowwidth": 1
          },
          "autotypenumbers": "strict",
          "coloraxis": {
           "colorbar": {
            "outlinewidth": 0,
            "ticks": ""
           }
          },
          "colorscale": {
           "diverging": [
            [
             0,
             "#8e0152"
            ],
            [
             0.1,
             "#c51b7d"
            ],
            [
             0.2,
             "#de77ae"
            ],
            [
             0.3,
             "#f1b6da"
            ],
            [
             0.4,
             "#fde0ef"
            ],
            [
             0.5,
             "#f7f7f7"
            ],
            [
             0.6,
             "#e6f5d0"
            ],
            [
             0.7,
             "#b8e186"
            ],
            [
             0.8,
             "#7fbc41"
            ],
            [
             0.9,
             "#4d9221"
            ],
            [
             1,
             "#276419"
            ]
           ],
           "sequential": [
            [
             0,
             "#0d0887"
            ],
            [
             0.1111111111111111,
             "#46039f"
            ],
            [
             0.2222222222222222,
             "#7201a8"
            ],
            [
             0.3333333333333333,
             "#9c179e"
            ],
            [
             0.4444444444444444,
             "#bd3786"
            ],
            [
             0.5555555555555556,
             "#d8576b"
            ],
            [
             0.6666666666666666,
             "#ed7953"
            ],
            [
             0.7777777777777778,
             "#fb9f3a"
            ],
            [
             0.8888888888888888,
             "#fdca26"
            ],
            [
             1,
             "#f0f921"
            ]
           ],
           "sequentialminus": [
            [
             0,
             "#0d0887"
            ],
            [
             0.1111111111111111,
             "#46039f"
            ],
            [
             0.2222222222222222,
             "#7201a8"
            ],
            [
             0.3333333333333333,
             "#9c179e"
            ],
            [
             0.4444444444444444,
             "#bd3786"
            ],
            [
             0.5555555555555556,
             "#d8576b"
            ],
            [
             0.6666666666666666,
             "#ed7953"
            ],
            [
             0.7777777777777778,
             "#fb9f3a"
            ],
            [
             0.8888888888888888,
             "#fdca26"
            ],
            [
             1,
             "#f0f921"
            ]
           ]
          },
          "colorway": [
           "#636efa",
           "#EF553B",
           "#00cc96",
           "#ab63fa",
           "#FFA15A",
           "#19d3f3",
           "#FF6692",
           "#B6E880",
           "#FF97FF",
           "#FECB52"
          ],
          "font": {
           "color": "#2a3f5f"
          },
          "geo": {
           "bgcolor": "white",
           "lakecolor": "white",
           "landcolor": "#E5ECF6",
           "showlakes": true,
           "showland": true,
           "subunitcolor": "white"
          },
          "hoverlabel": {
           "align": "left"
          },
          "hovermode": "closest",
          "mapbox": {
           "style": "light"
          },
          "paper_bgcolor": "white",
          "plot_bgcolor": "#E5ECF6",
          "polar": {
           "angularaxis": {
            "gridcolor": "white",
            "linecolor": "white",
            "ticks": ""
           },
           "bgcolor": "#E5ECF6",
           "radialaxis": {
            "gridcolor": "white",
            "linecolor": "white",
            "ticks": ""
           }
          },
          "scene": {
           "xaxis": {
            "backgroundcolor": "#E5ECF6",
            "gridcolor": "white",
            "gridwidth": 2,
            "linecolor": "white",
            "showbackground": true,
            "ticks": "",
            "zerolinecolor": "white"
           },
           "yaxis": {
            "backgroundcolor": "#E5ECF6",
            "gridcolor": "white",
            "gridwidth": 2,
            "linecolor": "white",
            "showbackground": true,
            "ticks": "",
            "zerolinecolor": "white"
           },
           "zaxis": {
            "backgroundcolor": "#E5ECF6",
            "gridcolor": "white",
            "gridwidth": 2,
            "linecolor": "white",
            "showbackground": true,
            "ticks": "",
            "zerolinecolor": "white"
           }
          },
          "shapedefaults": {
           "line": {
            "color": "#2a3f5f"
           }
          },
          "ternary": {
           "aaxis": {
            "gridcolor": "white",
            "linecolor": "white",
            "ticks": ""
           },
           "baxis": {
            "gridcolor": "white",
            "linecolor": "white",
            "ticks": ""
           },
           "bgcolor": "#E5ECF6",
           "caxis": {
            "gridcolor": "white",
            "linecolor": "white",
            "ticks": ""
           }
          },
          "title": {
           "x": 0.05
          },
          "xaxis": {
           "automargin": true,
           "gridcolor": "white",
           "linecolor": "white",
           "ticks": "",
           "title": {
            "standoff": 15
           },
           "zerolinecolor": "white",
           "zerolinewidth": 2
          },
          "yaxis": {
           "automargin": true,
           "gridcolor": "white",
           "linecolor": "white",
           "ticks": "",
           "title": {
            "standoff": 15
           },
           "zerolinecolor": "white",
           "zerolinewidth": 2
          }
         }
        },
        "xaxis": {
         "anchor": "y",
         "categoryarray": [
          "PushEvent",
          "IssueCommentEvent",
          "PullRequestEvent",
          "PullRequestReviewEvent",
          "CreateEvent",
          "PullRequestReviewCommentEvent",
          "WatchEvent",
          "DeleteEvent",
          "IssuesEvent",
          "ForkEvent",
          "CommitCommentEvent",
          "ReleaseEvent",
          "GollumEvent",
          "MemberEvent",
          "PublicEvent"
         ],
         "categoryorder": "array",
         "domain": [
          0,
          1
         ],
         "title": {
          "text": "index"
         }
        },
        "yaxis": {
         "anchor": "x",
         "domain": [
          0,
          1
         ],
         "title": {
          "text": "value"
         }
        }
       }
      }
     },
     "metadata": {},
     "output_type": "display_data"
    }
   ],
   "source": [
    "fig_ec = px.bar(\n",
    "    data_frame=event_counts.to_frame(),\n",
    "    color=event_counts.to_frame().index,\n",
    ")\n",
    "\n",
    "fig_ec.write_image(\"general_eventcount.jpeg\")\n",
    "fig_ec"
   ]
  },
  {
   "cell_type": "code",
   "execution_count": 130,
   "metadata": {},
   "outputs": [
    {
     "data": {
      "image/jpeg": "[encoded data removed]",
      "text/plain": [
       "<IPython.core.display.Image object>"
      ]
     },
     "execution_count": 130,
     "metadata": {},
     "output_type": "execute_result"
    }
   ],
   "source": [
    "Image(\"general_eventcount.jpeg\")"
   ]
  },
  {
   "cell_type": "markdown",
   "metadata": {},
   "source": [
    "### Repositories with the most events "
   ]
  },
  {
   "cell_type": "code",
   "execution_count": 131,
   "metadata": {},
   "outputs": [
    {
     "data": {
      "text/plain": [
       "https://api.github.com/repos/llvm/llvm-project                          49315\n",
       "https://api.github.com/repos/JetBrains/MPS                              14522\n",
       "https://api.github.com/repos/dotnet/runtime                             14115\n",
       "https://api.github.com/repos/pytorch/pytorch                            14024\n",
       "https://api.github.com/repos/rust-lang/rust                             13521\n",
       "                                                                        ...  \n",
       "https://api.github.com/repos/thunderbolt181/FileShare                       1\n",
       "https://api.github.com/repos/Sir-hennihau/react-native-web-turborepo        1\n",
       "https://api.github.com/repos/josephrocca/diy-perchance-api                  1\n",
       "https://api.github.com/repos/huggingface/m4-logs                            1\n",
       "https://api.github.com/repos/decaffeinate/decaffeinate-project.org          1\n",
       "Name: repo_git, Length: 324583, dtype: int64"
      ]
     },
     "execution_count": 131,
     "metadata": {},
     "output_type": "execute_result"
    }
   ],
   "source": [
    "repo_event_counts = df_event_stream.repo_git.value_counts()\n",
    "repo_event_counts"
   ]
  },
  {
   "cell_type": "code",
   "execution_count": 132,
   "metadata": {},
   "outputs": [
    {
     "name": "stdout",
     "output_type": "stream",
     "text": [
      "                                                    count\n",
      "https://api.github.com/repos/llvm/llvm-project      49315\n",
      "https://api.github.com/repos/JetBrains/MPS          14522\n",
      "https://api.github.com/repos/dotnet/runtime         14115\n",
      "https://api.github.com/repos/pytorch/pytorch        14024\n",
      "https://api.github.com/repos/rust-lang/rust         13521\n",
      "...                                                   ...\n",
      "https://api.github.com/repos/thunderbolt181/Fil...      1\n",
      "https://api.github.com/repos/Sir-hennihau/react...      1\n",
      "https://api.github.com/repos/josephrocca/diy-pe...      1\n",
      "https://api.github.com/repos/huggingface/m4-logs        1\n",
      "https://api.github.com/repos/decaffeinate/decaf...      1\n",
      "\n",
      "[324583 rows x 1 columns]\n"
     ]
    },
    {
     "data": {
      "application/vnd.plotly.v1+json": {
       "config": {
        "plotlyServerURL": "https://plot.ly"
       },
       "data": [
        {
         "alignmentgroup": "True",
         "hovertemplate": "index=%{x}<br>value=%{y}<extra></extra>",
         "legendgroup": "https://api.github.com/repos/llvm/llvm-project",
         "marker": {
          "color": "#636efa",
          "pattern": {
           "shape": ""
          }
         },
         "name": "https://api.github.com/repos/llvm/llvm-project",
         "offsetgroup": "https://api.github.com/repos/llvm/llvm-project",
         "orientation": "v",
         "showlegend": true,
         "textposition": "auto",
         "type": "bar",
         "x": [
          "https://api.github.com/repos/llvm/llvm-project"
         ],
         "xaxis": "x",
         "y": [
          49315
         ],
         "yaxis": "y"
        },
        {
         "alignmentgroup": "True",
         "hovertemplate": "index=%{x}<br>value=%{y}<extra></extra>",
         "legendgroup": "https://api.github.com/repos/JetBrains/MPS",
         "marker": {
          "color": "#EF553B",
          "pattern": {
           "shape": ""
          }
         },
         "name": "https://api.github.com/repos/JetBrains/MPS",
         "offsetgroup": "https://api.github.com/repos/JetBrains/MPS",
         "orientation": "v",
         "showlegend": true,
         "textposition": "auto",
         "type": "bar",
         "x": [
          "https://api.github.com/repos/JetBrains/MPS"
         ],
         "xaxis": "x",
         "y": [
          14522
         ],
         "yaxis": "y"
        },
        {
         "alignmentgroup": "True",
         "hovertemplate": "index=%{x}<br>value=%{y}<extra></extra>",
         "legendgroup": "https://api.github.com/repos/dotnet/runtime",
         "marker": {
          "color": "#00cc96",
          "pattern": {
           "shape": ""
          }
         },
         "name": "https://api.github.com/repos/dotnet/runtime",
         "offsetgroup": "https://api.github.com/repos/dotnet/runtime",
         "orientation": "v",
         "showlegend": true,
         "textposition": "auto",
         "type": "bar",
         "x": [
          "https://api.github.com/repos/dotnet/runtime"
         ],
         "xaxis": "x",
         "y": [
          14115
         ],
         "yaxis": "y"
        },
        {
         "alignmentgroup": "True",
         "hovertemplate": "index=%{x}<br>value=%{y}<extra></extra>",
         "legendgroup": "https://api.github.com/repos/pytorch/pytorch",
         "marker": {
          "color": "#ab63fa",
          "pattern": {
           "shape": ""
          }
         },
         "name": "https://api.github.com/repos/pytorch/pytorch",
         "offsetgroup": "https://api.github.com/repos/pytorch/pytorch",
         "orientation": "v",
         "showlegend": true,
         "textposition": "auto",
         "type": "bar",
         "x": [
          "https://api.github.com/repos/pytorch/pytorch"
         ],
         "xaxis": "x",
         "y": [
          14024
         ],
         "yaxis": "y"
        },
        {
         "alignmentgroup": "True",
         "hovertemplate": "index=%{x}<br>value=%{y}<extra></extra>",
         "legendgroup": "https://api.github.com/repos/rust-lang/rust",
         "marker": {
          "color": "#FFA15A",
          "pattern": {
           "shape": ""
          }
         },
         "name": "https://api.github.com/repos/rust-lang/rust",
         "offsetgroup": "https://api.github.com/repos/rust-lang/rust",
         "orientation": "v",
         "showlegend": true,
         "textposition": "auto",
         "type": "bar",
         "x": [
          "https://api.github.com/repos/rust-lang/rust"
         ],
         "xaxis": "x",
         "y": [
          13521
         ],
         "yaxis": "y"
        },
        {
         "alignmentgroup": "True",
         "hovertemplate": "index=%{x}<br>value=%{y}<extra></extra>",
         "legendgroup": "https://api.github.com/repos/milahu/opensubtitles-scraper-new-subs",
         "marker": {
          "color": "#19d3f3",
          "pattern": {
           "shape": ""
          }
         },
         "name": "https://api.github.com/repos/milahu/opensubtitles-scraper-new-subs",
         "offsetgroup": "https://api.github.com/repos/milahu/opensubtitles-scraper-new-subs",
         "orientation": "v",
         "showlegend": true,
         "textposition": "auto",
         "type": "bar",
         "x": [
          "https://api.github.com/repos/milahu/opensubtitles-scraper-new-subs"
         ],
         "xaxis": "x",
         "y": [
          11358
         ],
         "yaxis": "y"
        },
        {
         "alignmentgroup": "True",
         "hovertemplate": "index=%{x}<br>value=%{y}<extra></extra>",
         "legendgroup": "https://api.github.com/repos/intel/llvm",
         "marker": {
          "color": "#FF6692",
          "pattern": {
           "shape": ""
          }
         },
         "name": "https://api.github.com/repos/intel/llvm",
         "offsetgroup": "https://api.github.com/repos/intel/llvm",
         "orientation": "v",
         "showlegend": true,
         "textposition": "auto",
         "type": "bar",
         "x": [
          "https://api.github.com/repos/intel/llvm"
         ],
         "xaxis": "x",
         "y": [
          11090
         ],
         "yaxis": "y"
        },
        {
         "alignmentgroup": "True",
         "hovertemplate": "index=%{x}<br>value=%{y}<extra></extra>",
         "legendgroup": "https://api.github.com/repos/apple/swift",
         "marker": {
          "color": "#B6E880",
          "pattern": {
           "shape": ""
          }
         },
         "name": "https://api.github.com/repos/apple/swift",
         "offsetgroup": "https://api.github.com/repos/apple/swift",
         "orientation": "v",
         "showlegend": true,
         "textposition": "auto",
         "type": "bar",
         "x": [
          "https://api.github.com/repos/apple/swift"
         ],
         "xaxis": "x",
         "y": [
          10935
         ],
         "yaxis": "y"
        },
        {
         "alignmentgroup": "True",
         "hovertemplate": "index=%{x}<br>value=%{y}<extra></extra>",
         "legendgroup": "https://api.github.com/repos/rust-lang/crates.io-index",
         "marker": {
          "color": "#FF97FF",
          "pattern": {
           "shape": ""
          }
         },
         "name": "https://api.github.com/repos/rust-lang/crates.io-index",
         "offsetgroup": "https://api.github.com/repos/rust-lang/crates.io-index",
         "orientation": "v",
         "showlegend": true,
         "textposition": "auto",
         "type": "bar",
         "x": [
          "https://api.github.com/repos/rust-lang/crates.io-index"
         ],
         "xaxis": "x",
         "y": [
          9760
         ],
         "yaxis": "y"
        },
        {
         "alignmentgroup": "True",
         "hovertemplate": "index=%{x}<br>value=%{y}<extra></extra>",
         "legendgroup": "https://api.github.com/repos/Homebrew/homebrew-core",
         "marker": {
          "color": "#FECB52",
          "pattern": {
           "shape": ""
          }
         },
         "name": "https://api.github.com/repos/Homebrew/homebrew-core",
         "offsetgroup": "https://api.github.com/repos/Homebrew/homebrew-core",
         "orientation": "v",
         "showlegend": true,
         "textposition": "auto",
         "type": "bar",
         "x": [
          "https://api.github.com/repos/Homebrew/homebrew-core"
         ],
         "xaxis": "x",
         "y": [
          9363
         ],
         "yaxis": "y"
        },
        {
         "alignmentgroup": "True",
         "hovertemplate": "index=%{x}<br>value=%{y}<extra></extra>",
         "legendgroup": "https://api.github.com/repos/NixOS/nixpkgs",
         "marker": {
          "color": "#636efa",
          "pattern": {
           "shape": ""
          }
         },
         "name": "https://api.github.com/repos/NixOS/nixpkgs",
         "offsetgroup": "https://api.github.com/repos/NixOS/nixpkgs",
         "orientation": "v",
         "showlegend": true,
         "textposition": "auto",
         "type": "bar",
         "x": [
          "https://api.github.com/repos/NixOS/nixpkgs"
         ],
         "xaxis": "x",
         "y": [
          9346
         ],
         "yaxis": "y"
        },
        {
         "alignmentgroup": "True",
         "hovertemplate": "index=%{x}<br>value=%{y}<extra></extra>",
         "legendgroup": "https://api.github.com/repos/openxla/iree",
         "marker": {
          "color": "#EF553B",
          "pattern": {
           "shape": ""
          }
         },
         "name": "https://api.github.com/repos/openxla/iree",
         "offsetgroup": "https://api.github.com/repos/openxla/iree",
         "orientation": "v",
         "showlegend": true,
         "textposition": "auto",
         "type": "bar",
         "x": [
          "https://api.github.com/repos/openxla/iree"
         ],
         "xaxis": "x",
         "y": [
          8230
         ],
         "yaxis": "y"
        },
        {
         "alignmentgroup": "True",
         "hovertemplate": "index=%{x}<br>value=%{y}<extra></extra>",
         "legendgroup": "https://api.github.com/repos/GoogleChrome/developer.chrome.com",
         "marker": {
          "color": "#00cc96",
          "pattern": {
           "shape": ""
          }
         },
         "name": "https://api.github.com/repos/GoogleChrome/developer.chrome.com",
         "offsetgroup": "https://api.github.com/repos/GoogleChrome/developer.chrome.com",
         "orientation": "v",
         "showlegend": true,
         "textposition": "auto",
         "type": "bar",
         "x": [
          "https://api.github.com/repos/GoogleChrome/developer.chrome.com"
         ],
         "xaxis": "x",
         "y": [
          8093
         ],
         "yaxis": "y"
        },
        {
         "alignmentgroup": "True",
         "hovertemplate": "index=%{x}<br>value=%{y}<extra></extra>",
         "legendgroup": "https://api.github.com/repos/ClickHouse/ClickHouse",
         "marker": {
          "color": "#ab63fa",
          "pattern": {
           "shape": ""
          }
         },
         "name": "https://api.github.com/repos/ClickHouse/ClickHouse",
         "offsetgroup": "https://api.github.com/repos/ClickHouse/ClickHouse",
         "orientation": "v",
         "showlegend": true,
         "textposition": "auto",
         "type": "bar",
         "x": [
          "https://api.github.com/repos/ClickHouse/ClickHouse"
         ],
         "xaxis": "x",
         "y": [
          7686
         ],
         "yaxis": "y"
        },
        {
         "alignmentgroup": "True",
         "hovertemplate": "index=%{x}<br>value=%{y}<extra></extra>",
         "legendgroup": "https://api.github.com/repos/apple/llvm-project",
         "marker": {
          "color": "#FFA15A",
          "pattern": {
           "shape": ""
          }
         },
         "name": "https://api.github.com/repos/apple/llvm-project",
         "offsetgroup": "https://api.github.com/repos/apple/llvm-project",
         "orientation": "v",
         "showlegend": true,
         "textposition": "auto",
         "type": "bar",
         "x": [
          "https://api.github.com/repos/apple/llvm-project"
         ],
         "xaxis": "x",
         "y": [
          7029
         ],
         "yaxis": "y"
        },
        {
         "alignmentgroup": "True",
         "hovertemplate": "index=%{x}<br>value=%{y}<extra></extra>",
         "legendgroup": "https://api.github.com/repos/llvm/circt",
         "marker": {
          "color": "#19d3f3",
          "pattern": {
           "shape": ""
          }
         },
         "name": "https://api.github.com/repos/llvm/circt",
         "offsetgroup": "https://api.github.com/repos/llvm/circt",
         "orientation": "v",
         "showlegend": true,
         "textposition": "auto",
         "type": "bar",
         "x": [
          "https://api.github.com/repos/llvm/circt"
         ],
         "xaxis": "x",
         "y": [
          6789
         ],
         "yaxis": "y"
        },
        {
         "alignmentgroup": "True",
         "hovertemplate": "index=%{x}<br>value=%{y}<extra></extra>",
         "legendgroup": "https://api.github.com/repos/AvaloniaUI/Avalonia",
         "marker": {
          "color": "#FF6692",
          "pattern": {
           "shape": ""
          }
         },
         "name": "https://api.github.com/repos/AvaloniaUI/Avalonia",
         "offsetgroup": "https://api.github.com/repos/AvaloniaUI/Avalonia",
         "orientation": "v",
         "showlegend": true,
         "textposition": "auto",
         "type": "bar",
         "x": [
          "https://api.github.com/repos/AvaloniaUI/Avalonia"
         ],
         "xaxis": "x",
         "y": [
          6660
         ],
         "yaxis": "y"
        },
        {
         "alignmentgroup": "True",
         "hovertemplate": "index=%{x}<br>value=%{y}<extra></extra>",
         "legendgroup": "https://api.github.com/repos/unoplatform/uno",
         "marker": {
          "color": "#B6E880",
          "pattern": {
           "shape": ""
          }
         },
         "name": "https://api.github.com/repos/unoplatform/uno",
         "offsetgroup": "https://api.github.com/repos/unoplatform/uno",
         "orientation": "v",
         "showlegend": true,
         "textposition": "auto",
         "type": "bar",
         "x": [
          "https://api.github.com/repos/unoplatform/uno"
         ],
         "xaxis": "x",
         "y": [
          6413
         ],
         "yaxis": "y"
        },
        {
         "alignmentgroup": "True",
         "hovertemplate": "index=%{x}<br>value=%{y}<extra></extra>",
         "legendgroup": "https://api.github.com/repos/microsoft/winget-pkgs",
         "marker": {
          "color": "#FF97FF",
          "pattern": {
           "shape": ""
          }
         },
         "name": "https://api.github.com/repos/microsoft/winget-pkgs",
         "offsetgroup": "https://api.github.com/repos/microsoft/winget-pkgs",
         "orientation": "v",
         "showlegend": true,
         "textposition": "auto",
         "type": "bar",
         "x": [
          "https://api.github.com/repos/microsoft/winget-pkgs"
         ],
         "xaxis": "x",
         "y": [
          6160
         ],
         "yaxis": "y"
        },
        {
         "alignmentgroup": "True",
         "hovertemplate": "index=%{x}<br>value=%{y}<extra></extra>",
         "legendgroup": "https://api.github.com/repos/apache/tvm",
         "marker": {
          "color": "#FECB52",
          "pattern": {
           "shape": ""
          }
         },
         "name": "https://api.github.com/repos/apache/tvm",
         "offsetgroup": "https://api.github.com/repos/apache/tvm",
         "orientation": "v",
         "showlegend": true,
         "textposition": "auto",
         "type": "bar",
         "x": [
          "https://api.github.com/repos/apache/tvm"
         ],
         "xaxis": "x",
         "y": [
          5904
         ],
         "yaxis": "y"
        },
        {
         "alignmentgroup": "True",
         "hovertemplate": "index=%{x}<br>value=%{y}<extra></extra>",
         "legendgroup": "https://api.github.com/repos/nodejs/node",
         "marker": {
          "color": "#636efa",
          "pattern": {
           "shape": ""
          }
         },
         "name": "https://api.github.com/repos/nodejs/node",
         "offsetgroup": "https://api.github.com/repos/nodejs/node",
         "orientation": "v",
         "showlegend": true,
         "textposition": "auto",
         "type": "bar",
         "x": [
          "https://api.github.com/repos/nodejs/node"
         ],
         "xaxis": "x",
         "y": [
          5547
         ],
         "yaxis": "y"
        },
        {
         "alignmentgroup": "True",
         "hovertemplate": "index=%{x}<br>value=%{y}<extra></extra>",
         "legendgroup": "https://api.github.com/repos/microsoft/vscode",
         "marker": {
          "color": "#EF553B",
          "pattern": {
           "shape": ""
          }
         },
         "name": "https://api.github.com/repos/microsoft/vscode",
         "offsetgroup": "https://api.github.com/repos/microsoft/vscode",
         "orientation": "v",
         "showlegend": true,
         "textposition": "auto",
         "type": "bar",
         "x": [
          "https://api.github.com/repos/microsoft/vscode"
         ],
         "xaxis": "x",
         "y": [
          5362
         ],
         "yaxis": "y"
        },
        {
         "alignmentgroup": "True",
         "hovertemplate": "index=%{x}<br>value=%{y}<extra></extra>",
         "legendgroup": "https://api.github.com/repos/astral-sh/ruff",
         "marker": {
          "color": "#00cc96",
          "pattern": {
           "shape": ""
          }
         },
         "name": "https://api.github.com/repos/astral-sh/ruff",
         "offsetgroup": "https://api.github.com/repos/astral-sh/ruff",
         "orientation": "v",
         "showlegend": true,
         "textposition": "auto",
         "type": "bar",
         "x": [
          "https://api.github.com/repos/astral-sh/ruff"
         ],
         "xaxis": "x",
         "y": [
          5252
         ],
         "yaxis": "y"
        },
        {
         "alignmentgroup": "True",
         "hovertemplate": "index=%{x}<br>value=%{y}<extra></extra>",
         "legendgroup": "https://api.github.com/repos/paritytech/polkadot-sdk",
         "marker": {
          "color": "#ab63fa",
          "pattern": {
           "shape": ""
          }
         },
         "name": "https://api.github.com/repos/paritytech/polkadot-sdk",
         "offsetgroup": "https://api.github.com/repos/paritytech/polkadot-sdk",
         "orientation": "v",
         "showlegend": true,
         "textposition": "auto",
         "type": "bar",
         "x": [
          "https://api.github.com/repos/paritytech/polkadot-sdk"
         ],
         "xaxis": "x",
         "y": [
          4983
         ],
         "yaxis": "y"
        },
        {
         "alignmentgroup": "True",
         "hovertemplate": "index=%{x}<br>value=%{y}<extra></extra>",
         "legendgroup": "https://api.github.com/repos/llvm-premerge-tests/llvm-project",
         "marker": {
          "color": "#FFA15A",
          "pattern": {
           "shape": ""
          }
         },
         "name": "https://api.github.com/repos/llvm-premerge-tests/llvm-project",
         "offsetgroup": "https://api.github.com/repos/llvm-premerge-tests/llvm-project",
         "orientation": "v",
         "showlegend": true,
         "textposition": "auto",
         "type": "bar",
         "x": [
          "https://api.github.com/repos/llvm-premerge-tests/llvm-project"
         ],
         "xaxis": "x",
         "y": [
          4725
         ],
         "yaxis": "y"
        },
        {
         "alignmentgroup": "True",
         "hovertemplate": "index=%{x}<br>value=%{y}<extra></extra>",
         "legendgroup": "https://api.github.com/repos/emscripten-core/emscripten",
         "marker": {
          "color": "#19d3f3",
          "pattern": {
           "shape": ""
          }
         },
         "name": "https://api.github.com/repos/emscripten-core/emscripten",
         "offsetgroup": "https://api.github.com/repos/emscripten-core/emscripten",
         "orientation": "v",
         "showlegend": true,
         "textposition": "auto",
         "type": "bar",
         "x": [
          "https://api.github.com/repos/emscripten-core/emscripten"
         ],
         "xaxis": "x",
         "y": [
          4720
         ],
         "yaxis": "y"
        },
        {
         "alignmentgroup": "True",
         "hovertemplate": "index=%{x}<br>value=%{y}<extra></extra>",
         "legendgroup": "https://api.github.com/repos/python/cpython",
         "marker": {
          "color": "#FF6692",
          "pattern": {
           "shape": ""
          }
         },
         "name": "https://api.github.com/repos/python/cpython",
         "offsetgroup": "https://api.github.com/repos/python/cpython",
         "orientation": "v",
         "showlegend": true,
         "textposition": "auto",
         "type": "bar",
         "x": [
          "https://api.github.com/repos/python/cpython"
         ],
         "xaxis": "x",
         "y": [
          4528
         ],
         "yaxis": "y"
        },
        {
         "alignmentgroup": "True",
         "hovertemplate": "index=%{x}<br>value=%{y}<extra></extra>",
         "legendgroup": "https://api.github.com/repos/microsoft/onnxruntime",
         "marker": {
          "color": "#B6E880",
          "pattern": {
           "shape": ""
          }
         },
         "name": "https://api.github.com/repos/microsoft/onnxruntime",
         "offsetgroup": "https://api.github.com/repos/microsoft/onnxruntime",
         "orientation": "v",
         "showlegend": true,
         "textposition": "auto",
         "type": "bar",
         "x": [
          "https://api.github.com/repos/microsoft/onnxruntime"
         ],
         "xaxis": "x",
         "y": [
          4519
         ],
         "yaxis": "y"
        },
        {
         "alignmentgroup": "True",
         "hovertemplate": "index=%{x}<br>value=%{y}<extra></extra>",
         "legendgroup": "https://api.github.com/repos/golang/go",
         "marker": {
          "color": "#FF97FF",
          "pattern": {
           "shape": ""
          }
         },
         "name": "https://api.github.com/repos/golang/go",
         "offsetgroup": "https://api.github.com/repos/golang/go",
         "orientation": "v",
         "showlegend": true,
         "textposition": "auto",
         "type": "bar",
         "x": [
          "https://api.github.com/repos/golang/go"
         ],
         "xaxis": "x",
         "y": [
          4239
         ],
         "yaxis": "y"
        },
        {
         "alignmentgroup": "True",
         "hovertemplate": "index=%{x}<br>value=%{y}<extra></extra>",
         "legendgroup": "https://api.github.com/repos/zkSNACKs/WalletWasabi",
         "marker": {
          "color": "#FECB52",
          "pattern": {
           "shape": ""
          }
         },
         "name": "https://api.github.com/repos/zkSNACKs/WalletWasabi",
         "offsetgroup": "https://api.github.com/repos/zkSNACKs/WalletWasabi",
         "orientation": "v",
         "showlegend": true,
         "textposition": "auto",
         "type": "bar",
         "x": [
          "https://api.github.com/repos/zkSNACKs/WalletWasabi"
         ],
         "xaxis": "x",
         "y": [
          4172
         ],
         "yaxis": "y"
        },
        {
         "alignmentgroup": "True",
         "hovertemplate": "index=%{x}<br>value=%{y}<extra></extra>",
         "legendgroup": "https://api.github.com/repos/JuliaLang/julia",
         "marker": {
          "color": "#636efa",
          "pattern": {
           "shape": ""
          }
         },
         "name": "https://api.github.com/repos/JuliaLang/julia",
         "offsetgroup": "https://api.github.com/repos/JuliaLang/julia",
         "orientation": "v",
         "showlegend": true,
         "textposition": "auto",
         "type": "bar",
         "x": [
          "https://api.github.com/repos/JuliaLang/julia"
         ],
         "xaxis": "x",
         "y": [
          4076
         ],
         "yaxis": "y"
        },
        {
         "alignmentgroup": "True",
         "hovertemplate": "index=%{x}<br>value=%{y}<extra></extra>",
         "legendgroup": "https://api.github.com/repos/leanprover-community/mathlib4",
         "marker": {
          "color": "#EF553B",
          "pattern": {
           "shape": ""
          }
         },
         "name": "https://api.github.com/repos/leanprover-community/mathlib4",
         "offsetgroup": "https://api.github.com/repos/leanprover-community/mathlib4",
         "orientation": "v",
         "showlegend": true,
         "textposition": "auto",
         "type": "bar",
         "x": [
          "https://api.github.com/repos/leanprover-community/mathlib4"
         ],
         "xaxis": "x",
         "y": [
          3982
         ],
         "yaxis": "y"
        },
        {
         "alignmentgroup": "True",
         "hovertemplate": "index=%{x}<br>value=%{y}<extra></extra>",
         "legendgroup": "https://api.github.com/repos/tensorflow/tensorflow",
         "marker": {
          "color": "#00cc96",
          "pattern": {
           "shape": ""
          }
         },
         "name": "https://api.github.com/repos/tensorflow/tensorflow",
         "offsetgroup": "https://api.github.com/repos/tensorflow/tensorflow",
         "orientation": "v",
         "showlegend": true,
         "textposition": "auto",
         "type": "bar",
         "x": [
          "https://api.github.com/repos/tensorflow/tensorflow"
         ],
         "xaxis": "x",
         "y": [
          3982
         ],
         "yaxis": "y"
        },
        {
         "alignmentgroup": "True",
         "hovertemplate": "index=%{x}<br>value=%{y}<extra></extra>",
         "legendgroup": "https://api.github.com/repos/gear-tech/gear",
         "marker": {
          "color": "#ab63fa",
          "pattern": {
           "shape": ""
          }
         },
         "name": "https://api.github.com/repos/gear-tech/gear",
         "offsetgroup": "https://api.github.com/repos/gear-tech/gear",
         "orientation": "v",
         "showlegend": true,
         "textposition": "auto",
         "type": "bar",
         "x": [
          "https://api.github.com/repos/gear-tech/gear"
         ],
         "xaxis": "x",
         "y": [
          3921
         ],
         "yaxis": "y"
        },
        {
         "alignmentgroup": "True",
         "hovertemplate": "index=%{x}<br>value=%{y}<extra></extra>",
         "legendgroup": "https://api.github.com/repos/paritytech/substrate",
         "marker": {
          "color": "#FFA15A",
          "pattern": {
           "shape": ""
          }
         },
         "name": "https://api.github.com/repos/paritytech/substrate",
         "offsetgroup": "https://api.github.com/repos/paritytech/substrate",
         "orientation": "v",
         "showlegend": true,
         "textposition": "auto",
         "type": "bar",
         "x": [
          "https://api.github.com/repos/paritytech/substrate"
         ],
         "xaxis": "x",
         "y": [
          3888
         ],
         "yaxis": "y"
        },
        {
         "alignmentgroup": "True",
         "hovertemplate": "index=%{x}<br>value=%{y}<extra></extra>",
         "legendgroup": "https://api.github.com/repos/bytecodealliance/wasmtime",
         "marker": {
          "color": "#19d3f3",
          "pattern": {
           "shape": ""
          }
         },
         "name": "https://api.github.com/repos/bytecodealliance/wasmtime",
         "offsetgroup": "https://api.github.com/repos/bytecodealliance/wasmtime",
         "orientation": "v",
         "showlegend": true,
         "textposition": "auto",
         "type": "bar",
         "x": [
          "https://api.github.com/repos/bytecodealliance/wasmtime"
         ],
         "xaxis": "x",
         "y": [
          3724
         ],
         "yaxis": "y"
        },
        {
         "alignmentgroup": "True",
         "hovertemplate": "index=%{x}<br>value=%{y}<extra></extra>",
         "legendgroup": "https://api.github.com/repos/ethereum-optimism/optimism",
         "marker": {
          "color": "#FF6692",
          "pattern": {
           "shape": ""
          }
         },
         "name": "https://api.github.com/repos/ethereum-optimism/optimism",
         "offsetgroup": "https://api.github.com/repos/ethereum-optimism/optimism",
         "orientation": "v",
         "showlegend": true,
         "textposition": "auto",
         "type": "bar",
         "x": [
          "https://api.github.com/repos/ethereum-optimism/optimism"
         ],
         "xaxis": "x",
         "y": [
          3701
         ],
         "yaxis": "y"
        },
        {
         "alignmentgroup": "True",
         "hovertemplate": "index=%{x}<br>value=%{y}<extra></extra>",
         "legendgroup": "https://api.github.com/repos/godotengine/godot",
         "marker": {
          "color": "#B6E880",
          "pattern": {
           "shape": ""
          }
         },
         "name": "https://api.github.com/repos/godotengine/godot",
         "offsetgroup": "https://api.github.com/repos/godotengine/godot",
         "orientation": "v",
         "showlegend": true,
         "textposition": "auto",
         "type": "bar",
         "x": [
          "https://api.github.com/repos/godotengine/godot"
         ],
         "xaxis": "x",
         "y": [
          3614
         ],
         "yaxis": "y"
        },
        {
         "alignmentgroup": "True",
         "hovertemplate": "index=%{x}<br>value=%{y}<extra></extra>",
         "legendgroup": "https://api.github.com/repos/flutter/flutter",
         "marker": {
          "color": "#FF97FF",
          "pattern": {
           "shape": ""
          }
         },
         "name": "https://api.github.com/repos/flutter/flutter",
         "offsetgroup": "https://api.github.com/repos/flutter/flutter",
         "orientation": "v",
         "showlegend": true,
         "textposition": "auto",
         "type": "bar",
         "x": [
          "https://api.github.com/repos/flutter/flutter"
         ],
         "xaxis": "x",
         "y": [
          3607
         ],
         "yaxis": "y"
        },
        {
         "alignmentgroup": "True",
         "hovertemplate": "index=%{x}<br>value=%{y}<extra></extra>",
         "legendgroup": "https://api.github.com/repos/ziglang/zig",
         "marker": {
          "color": "#FECB52",
          "pattern": {
           "shape": ""
          }
         },
         "name": "https://api.github.com/repos/ziglang/zig",
         "offsetgroup": "https://api.github.com/repos/ziglang/zig",
         "orientation": "v",
         "showlegend": true,
         "textposition": "auto",
         "type": "bar",
         "x": [
          "https://api.github.com/repos/ziglang/zig"
         ],
         "xaxis": "x",
         "y": [
          3591
         ],
         "yaxis": "y"
        },
        {
         "alignmentgroup": "True",
         "hovertemplate": "index=%{x}<br>value=%{y}<extra></extra>",
         "legendgroup": "https://api.github.com/repos/web-platform-tests/wpt",
         "marker": {
          "color": "#636efa",
          "pattern": {
           "shape": ""
          }
         },
         "name": "https://api.github.com/repos/web-platform-tests/wpt",
         "offsetgroup": "https://api.github.com/repos/web-platform-tests/wpt",
         "orientation": "v",
         "showlegend": true,
         "textposition": "auto",
         "type": "bar",
         "x": [
          "https://api.github.com/repos/web-platform-tests/wpt"
         ],
         "xaxis": "x",
         "y": [
          3435
         ],
         "yaxis": "y"
        },
        {
         "alignmentgroup": "True",
         "hovertemplate": "index=%{x}<br>value=%{y}<extra></extra>",
         "legendgroup": "https://api.github.com/repos/chromium/chromium",
         "marker": {
          "color": "#EF553B",
          "pattern": {
           "shape": ""
          }
         },
         "name": "https://api.github.com/repos/chromium/chromium",
         "offsetgroup": "https://api.github.com/repos/chromium/chromium",
         "orientation": "v",
         "showlegend": true,
         "textposition": "auto",
         "type": "bar",
         "x": [
          "https://api.github.com/repos/chromium/chromium"
         ],
         "xaxis": "x",
         "y": [
          3430
         ],
         "yaxis": "y"
        },
        {
         "alignmentgroup": "True",
         "hovertemplate": "index=%{x}<br>value=%{y}<extra></extra>",
         "legendgroup": "https://api.github.com/repos/ethereum/go-ethereum",
         "marker": {
          "color": "#00cc96",
          "pattern": {
           "shape": ""
          }
         },
         "name": "https://api.github.com/repos/ethereum/go-ethereum",
         "offsetgroup": "https://api.github.com/repos/ethereum/go-ethereum",
         "orientation": "v",
         "showlegend": true,
         "textposition": "auto",
         "type": "bar",
         "x": [
          "https://api.github.com/repos/ethereum/go-ethereum"
         ],
         "xaxis": "x",
         "y": [
          3351
         ],
         "yaxis": "y"
        },
        {
         "alignmentgroup": "True",
         "hovertemplate": "index=%{x}<br>value=%{y}<extra></extra>",
         "legendgroup": "https://api.github.com/repos/dotnet/maui",
         "marker": {
          "color": "#ab63fa",
          "pattern": {
           "shape": ""
          }
         },
         "name": "https://api.github.com/repos/dotnet/maui",
         "offsetgroup": "https://api.github.com/repos/dotnet/maui",
         "orientation": "v",
         "showlegend": true,
         "textposition": "auto",
         "type": "bar",
         "x": [
          "https://api.github.com/repos/dotnet/maui"
         ],
         "xaxis": "x",
         "y": [
          3277
         ],
         "yaxis": "y"
        },
        {
         "alignmentgroup": "True",
         "hovertemplate": "index=%{x}<br>value=%{y}<extra></extra>",
         "legendgroup": "https://api.github.com/repos/noir-lang/noir",
         "marker": {
          "color": "#FFA15A",
          "pattern": {
           "shape": ""
          }
         },
         "name": "https://api.github.com/repos/noir-lang/noir",
         "offsetgroup": "https://api.github.com/repos/noir-lang/noir",
         "orientation": "v",
         "showlegend": true,
         "textposition": "auto",
         "type": "bar",
         "x": [
          "https://api.github.com/repos/noir-lang/noir"
         ],
         "xaxis": "x",
         "y": [
          3210
         ],
         "yaxis": "y"
        },
        {
         "alignmentgroup": "True",
         "hovertemplate": "index=%{x}<br>value=%{y}<extra></extra>",
         "legendgroup": "https://api.github.com/repos/redpanda-data/redpanda",
         "marker": {
          "color": "#19d3f3",
          "pattern": {
           "shape": ""
          }
         },
         "name": "https://api.github.com/repos/redpanda-data/redpanda",
         "offsetgroup": "https://api.github.com/repos/redpanda-data/redpanda",
         "orientation": "v",
         "showlegend": true,
         "textposition": "auto",
         "type": "bar",
         "x": [
          "https://api.github.com/repos/redpanda-data/redpanda"
         ],
         "xaxis": "x",
         "y": [
          3192
         ],
         "yaxis": "y"
        },
        {
         "alignmentgroup": "True",
         "hovertemplate": "index=%{x}<br>value=%{y}<extra></extra>",
         "legendgroup": "https://api.github.com/repos/powdr-labs/powdr",
         "marker": {
          "color": "#FF6692",
          "pattern": {
           "shape": ""
          }
         },
         "name": "https://api.github.com/repos/powdr-labs/powdr",
         "offsetgroup": "https://api.github.com/repos/powdr-labs/powdr",
         "orientation": "v",
         "showlegend": true,
         "textposition": "auto",
         "type": "bar",
         "x": [
          "https://api.github.com/repos/powdr-labs/powdr"
         ],
         "xaxis": "x",
         "y": [
          3121
         ],
         "yaxis": "y"
        },
        {
         "alignmentgroup": "True",
         "hovertemplate": "index=%{x}<br>value=%{y}<extra></extra>",
         "legendgroup": "https://api.github.com/repos/scylladb/scylladb",
         "marker": {
          "color": "#B6E880",
          "pattern": {
           "shape": ""
          }
         },
         "name": "https://api.github.com/repos/scylladb/scylladb",
         "offsetgroup": "https://api.github.com/repos/scylladb/scylladb",
         "orientation": "v",
         "showlegend": true,
         "textposition": "auto",
         "type": "bar",
         "x": [
          "https://api.github.com/repos/scylladb/scylladb"
         ],
         "xaxis": "x",
         "y": [
          3119
         ],
         "yaxis": "y"
        },
        {
         "alignmentgroup": "True",
         "hovertemplate": "index=%{x}<br>value=%{y}<extra></extra>",
         "legendgroup": "https://api.github.com/repos/spacemeshos/go-spacemesh",
         "marker": {
          "color": "#FF97FF",
          "pattern": {
           "shape": ""
          }
         },
         "name": "https://api.github.com/repos/spacemeshos/go-spacemesh",
         "offsetgroup": "https://api.github.com/repos/spacemeshos/go-spacemesh",
         "orientation": "v",
         "showlegend": true,
         "textposition": "auto",
         "type": "bar",
         "x": [
          "https://api.github.com/repos/spacemeshos/go-spacemesh"
         ],
         "xaxis": "x",
         "y": [
          3043
         ],
         "yaxis": "y"
        },
        {
         "alignmentgroup": "True",
         "hovertemplate": "index=%{x}<br>value=%{y}<extra></extra>",
         "legendgroup": "https://api.github.com/repos/WasmEdge/WasmEdge",
         "marker": {
          "color": "#FECB52",
          "pattern": {
           "shape": ""
          }
         },
         "name": "https://api.github.com/repos/WasmEdge/WasmEdge",
         "offsetgroup": "https://api.github.com/repos/WasmEdge/WasmEdge",
         "orientation": "v",
         "showlegend": true,
         "textposition": "auto",
         "type": "bar",
         "x": [
          "https://api.github.com/repos/WasmEdge/WasmEdge"
         ],
         "xaxis": "x",
         "y": [
          2903
         ],
         "yaxis": "y"
        },
        {
         "alignmentgroup": "True",
         "hovertemplate": "index=%{x}<br>value=%{y}<extra></extra>",
         "legendgroup": "https://api.github.com/repos/apache/arrow",
         "marker": {
          "color": "#636efa",
          "pattern": {
           "shape": ""
          }
         },
         "name": "https://api.github.com/repos/apache/arrow",
         "offsetgroup": "https://api.github.com/repos/apache/arrow",
         "orientation": "v",
         "showlegend": true,
         "textposition": "auto",
         "type": "bar",
         "x": [
          "https://api.github.com/repos/apache/arrow"
         ],
         "xaxis": "x",
         "y": [
          2870
         ],
         "yaxis": "y"
        },
        {
         "alignmentgroup": "True",
         "hovertemplate": "index=%{x}<br>value=%{y}<extra></extra>",
         "legendgroup": "https://api.github.com/repos/cloudflare/workerd",
         "marker": {
          "color": "#EF553B",
          "pattern": {
           "shape": ""
          }
         },
         "name": "https://api.github.com/repos/cloudflare/workerd",
         "offsetgroup": "https://api.github.com/repos/cloudflare/workerd",
         "orientation": "v",
         "showlegend": true,
         "textposition": "auto",
         "type": "bar",
         "x": [
          "https://api.github.com/repos/cloudflare/workerd"
         ],
         "xaxis": "x",
         "y": [
          2864
         ],
         "yaxis": "y"
        },
        {
         "alignmentgroup": "True",
         "hovertemplate": "index=%{x}<br>value=%{y}<extra></extra>",
         "legendgroup": "https://api.github.com/repos/systemd/systemd",
         "marker": {
          "color": "#00cc96",
          "pattern": {
           "shape": ""
          }
         },
         "name": "https://api.github.com/repos/systemd/systemd",
         "offsetgroup": "https://api.github.com/repos/systemd/systemd",
         "orientation": "v",
         "showlegend": true,
         "textposition": "auto",
         "type": "bar",
         "x": [
          "https://api.github.com/repos/systemd/systemd"
         ],
         "xaxis": "x",
         "y": [
          2862
         ],
         "yaxis": "y"
        },
        {
         "alignmentgroup": "True",
         "hovertemplate": "index=%{x}<br>value=%{y}<extra></extra>",
         "legendgroup": "https://api.github.com/repos/dotnet/aspnetcore",
         "marker": {
          "color": "#ab63fa",
          "pattern": {
           "shape": ""
          }
         },
         "name": "https://api.github.com/repos/dotnet/aspnetcore",
         "offsetgroup": "https://api.github.com/repos/dotnet/aspnetcore",
         "orientation": "v",
         "showlegend": true,
         "textposition": "auto",
         "type": "bar",
         "x": [
          "https://api.github.com/repos/dotnet/aspnetcore"
         ],
         "xaxis": "x",
         "y": [
          2779
         ],
         "yaxis": "y"
        },
        {
         "alignmentgroup": "True",
         "hovertemplate": "index=%{x}<br>value=%{y}<extra></extra>",
         "legendgroup": "https://api.github.com/repos/mdn/content",
         "marker": {
          "color": "#FFA15A",
          "pattern": {
           "shape": ""
          }
         },
         "name": "https://api.github.com/repos/mdn/content",
         "offsetgroup": "https://api.github.com/repos/mdn/content",
         "orientation": "v",
         "showlegend": true,
         "textposition": "auto",
         "type": "bar",
         "x": [
          "https://api.github.com/repos/mdn/content"
         ],
         "xaxis": "x",
         "y": [
          2774
         ],
         "yaxis": "y"
        },
        {
         "alignmentgroup": "True",
         "hovertemplate": "index=%{x}<br>value=%{y}<extra></extra>",
         "legendgroup": "https://api.github.com/repos/zephyrproject-rtos/zephyr",
         "marker": {
          "color": "#19d3f3",
          "pattern": {
           "shape": ""
          }
         },
         "name": "https://api.github.com/repos/zephyrproject-rtos/zephyr",
         "offsetgroup": "https://api.github.com/repos/zephyrproject-rtos/zephyr",
         "orientation": "v",
         "showlegend": true,
         "textposition": "auto",
         "type": "bar",
         "x": [
          "https://api.github.com/repos/zephyrproject-rtos/zephyr"
         ],
         "xaxis": "x",
         "y": [
          2715
         ],
         "yaxis": "y"
        },
        {
         "alignmentgroup": "True",
         "hovertemplate": "index=%{x}<br>value=%{y}<extra></extra>",
         "legendgroup": "https://api.github.com/repos/bytecodealliance/wasm-micro-runtime",
         "marker": {
          "color": "#FF6692",
          "pattern": {
           "shape": ""
          }
         },
         "name": "https://api.github.com/repos/bytecodealliance/wasm-micro-runtime",
         "offsetgroup": "https://api.github.com/repos/bytecodealliance/wasm-micro-runtime",
         "orientation": "v",
         "showlegend": true,
         "textposition": "auto",
         "type": "bar",
         "x": [
          "https://api.github.com/repos/bytecodealliance/wasm-micro-runtime"
         ],
         "xaxis": "x",
         "y": [
          2654
         ],
         "yaxis": "y"
        },
        {
         "alignmentgroup": "True",
         "hovertemplate": "index=%{x}<br>value=%{y}<extra></extra>",
         "legendgroup": "https://api.github.com/repos/openxla/xla",
         "marker": {
          "color": "#B6E880",
          "pattern": {
           "shape": ""
          }
         },
         "name": "https://api.github.com/repos/openxla/xla",
         "offsetgroup": "https://api.github.com/repos/openxla/xla",
         "orientation": "v",
         "showlegend": true,
         "textposition": "auto",
         "type": "bar",
         "x": [
          "https://api.github.com/repos/openxla/xla"
         ],
         "xaxis": "x",
         "y": [
          2627
         ],
         "yaxis": "y"
        },
        {
         "alignmentgroup": "True",
         "hovertemplate": "index=%{x}<br>value=%{y}<extra></extra>",
         "legendgroup": "https://api.github.com/repos/microsoft/playwright",
         "marker": {
          "color": "#FF97FF",
          "pattern": {
           "shape": ""
          }
         },
         "name": "https://api.github.com/repos/microsoft/playwright",
         "offsetgroup": "https://api.github.com/repos/microsoft/playwright",
         "orientation": "v",
         "showlegend": true,
         "textposition": "auto",
         "type": "bar",
         "x": [
          "https://api.github.com/repos/microsoft/playwright"
         ],
         "xaxis": "x",
         "y": [
          2582
         ],
         "yaxis": "y"
        },
        {
         "alignmentgroup": "True",
         "hovertemplate": "index=%{x}<br>value=%{y}<extra></extra>",
         "legendgroup": "https://api.github.com/repos/mesonbuild/meson",
         "marker": {
          "color": "#FECB52",
          "pattern": {
           "shape": ""
          }
         },
         "name": "https://api.github.com/repos/mesonbuild/meson",
         "offsetgroup": "https://api.github.com/repos/mesonbuild/meson",
         "orientation": "v",
         "showlegend": true,
         "textposition": "auto",
         "type": "bar",
         "x": [
          "https://api.github.com/repos/mesonbuild/meson"
         ],
         "xaxis": "x",
         "y": [
          2574
         ],
         "yaxis": "y"
        },
        {
         "alignmentgroup": "True",
         "hovertemplate": "index=%{x}<br>value=%{y}<extra></extra>",
         "legendgroup": "https://api.github.com/repos/paritytech/polkadot",
         "marker": {
          "color": "#636efa",
          "pattern": {
           "shape": ""
          }
         },
         "name": "https://api.github.com/repos/paritytech/polkadot",
         "offsetgroup": "https://api.github.com/repos/paritytech/polkadot",
         "orientation": "v",
         "showlegend": true,
         "textposition": "auto",
         "type": "bar",
         "x": [
          "https://api.github.com/repos/paritytech/polkadot"
         ],
         "xaxis": "x",
         "y": [
          2554
         ],
         "yaxis": "y"
        }
       ],
       "layout": {
        "barmode": "relative",
        "legend": {
         "title": {
          "text": "index"
         },
         "tracegroupgap": 0
        },
        "margin": {
         "t": 60
        },
        "template": {
         "data": {
          "bar": [
           {
            "error_x": {
             "color": "#2a3f5f"
            },
            "error_y": {
             "color": "#2a3f5f"
            },
            "marker": {
             "line": {
              "color": "#E5ECF6",
              "width": 0.5
             },
             "pattern": {
              "fillmode": "overlay",
              "size": 10,
              "solidity": 0.2
             }
            },
            "type": "bar"
           }
          ],
          "barpolar": [
           {
            "marker": {
             "line": {
              "color": "#E5ECF6",
              "width": 0.5
             },
             "pattern": {
              "fillmode": "overlay",
              "size": 10,
              "solidity": 0.2
             }
            },
            "type": "barpolar"
           }
          ],
          "carpet": [
           {
            "aaxis": {
             "endlinecolor": "#2a3f5f",
             "gridcolor": "white",
             "linecolor": "white",
             "minorgridcolor": "white",
             "startlinecolor": "#2a3f5f"
            },
            "baxis": {
             "endlinecolor": "#2a3f5f",
             "gridcolor": "white",
             "linecolor": "white",
             "minorgridcolor": "white",
             "startlinecolor": "#2a3f5f"
            },
            "type": "carpet"
           }
          ],
          "choropleth": [
           {
            "colorbar": {
             "outlinewidth": 0,
             "ticks": ""
            },
            "type": "choropleth"
           }
          ],
          "contour": [
           {
            "colorbar": {
             "outlinewidth": 0,
             "ticks": ""
            },
            "colorscale": [
             [
              0,
              "#0d0887"
             ],
             [
              0.1111111111111111,
              "#46039f"
             ],
             [
              0.2222222222222222,
              "#7201a8"
             ],
             [
              0.3333333333333333,
              "#9c179e"
             ],
             [
              0.4444444444444444,
              "#bd3786"
             ],
             [
              0.5555555555555556,
              "#d8576b"
             ],
             [
              0.6666666666666666,
              "#ed7953"
             ],
             [
              0.7777777777777778,
              "#fb9f3a"
             ],
             [
              0.8888888888888888,
              "#fdca26"
             ],
             [
              1,
              "#f0f921"
             ]
            ],
            "type": "contour"
           }
          ],
          "contourcarpet": [
           {
            "colorbar": {
             "outlinewidth": 0,
             "ticks": ""
            },
            "type": "contourcarpet"
           }
          ],
          "heatmap": [
           {
            "colorbar": {
             "outlinewidth": 0,
             "ticks": ""
            },
            "colorscale": [
             [
              0,
              "#0d0887"
             ],
             [
              0.1111111111111111,
              "#46039f"
             ],
             [
              0.2222222222222222,
              "#7201a8"
             ],
             [
              0.3333333333333333,
              "#9c179e"
             ],
             [
              0.4444444444444444,
              "#bd3786"
             ],
             [
              0.5555555555555556,
              "#d8576b"
             ],
             [
              0.6666666666666666,
              "#ed7953"
             ],
             [
              0.7777777777777778,
              "#fb9f3a"
             ],
             [
              0.8888888888888888,
              "#fdca26"
             ],
             [
              1,
              "#f0f921"
             ]
            ],
            "type": "heatmap"
           }
          ],
          "heatmapgl": [
           {
            "colorbar": {
             "outlinewidth": 0,
             "ticks": ""
            },
            "colorscale": [
             [
              0,
              "#0d0887"
             ],
             [
              0.1111111111111111,
              "#46039f"
             ],
             [
              0.2222222222222222,
              "#7201a8"
             ],
             [
              0.3333333333333333,
              "#9c179e"
             ],
             [
              0.4444444444444444,
              "#bd3786"
             ],
             [
              0.5555555555555556,
              "#d8576b"
             ],
             [
              0.6666666666666666,
              "#ed7953"
             ],
             [
              0.7777777777777778,
              "#fb9f3a"
             ],
             [
              0.8888888888888888,
              "#fdca26"
             ],
             [
              1,
              "#f0f921"
             ]
            ],
            "type": "heatmapgl"
           }
          ],
          "histogram": [
           {
            "marker": {
             "pattern": {
              "fillmode": "overlay",
              "size": 10,
              "solidity": 0.2
             }
            },
            "type": "histogram"
           }
          ],
          "histogram2d": [
           {
            "colorbar": {
             "outlinewidth": 0,
             "ticks": ""
            },
            "colorscale": [
             [
              0,
              "#0d0887"
             ],
             [
              0.1111111111111111,
              "#46039f"
             ],
             [
              0.2222222222222222,
              "#7201a8"
             ],
             [
              0.3333333333333333,
              "#9c179e"
             ],
             [
              0.4444444444444444,
              "#bd3786"
             ],
             [
              0.5555555555555556,
              "#d8576b"
             ],
             [
              0.6666666666666666,
              "#ed7953"
             ],
             [
              0.7777777777777778,
              "#fb9f3a"
             ],
             [
              0.8888888888888888,
              "#fdca26"
             ],
             [
              1,
              "#f0f921"
             ]
            ],
            "type": "histogram2d"
           }
          ],
          "histogram2dcontour": [
           {
            "colorbar": {
             "outlinewidth": 0,
             "ticks": ""
            },
            "colorscale": [
             [
              0,
              "#0d0887"
             ],
             [
              0.1111111111111111,
              "#46039f"
             ],
             [
              0.2222222222222222,
              "#7201a8"
             ],
             [
              0.3333333333333333,
              "#9c179e"
             ],
             [
              0.4444444444444444,
              "#bd3786"
             ],
             [
              0.5555555555555556,
              "#d8576b"
             ],
             [
              0.6666666666666666,
              "#ed7953"
             ],
             [
              0.7777777777777778,
              "#fb9f3a"
             ],
             [
              0.8888888888888888,
              "#fdca26"
             ],
             [
              1,
              "#f0f921"
             ]
            ],
            "type": "histogram2dcontour"
           }
          ],
          "mesh3d": [
           {
            "colorbar": {
             "outlinewidth": 0,
             "ticks": ""
            },
            "type": "mesh3d"
           }
          ],
          "parcoords": [
           {
            "line": {
             "colorbar": {
              "outlinewidth": 0,
              "ticks": ""
             }
            },
            "type": "parcoords"
           }
          ],
          "pie": [
           {
            "automargin": true,
            "type": "pie"
           }
          ],
          "scatter": [
           {
            "fillpattern": {
             "fillmode": "overlay",
             "size": 10,
             "solidity": 0.2
            },
            "type": "scatter"
           }
          ],
          "scatter3d": [
           {
            "line": {
             "colorbar": {
              "outlinewidth": 0,
              "ticks": ""
             }
            },
            "marker": {
             "colorbar": {
              "outlinewidth": 0,
              "ticks": ""
             }
            },
            "type": "scatter3d"
           }
          ],
          "scattercarpet": [
           {
            "marker": {
             "colorbar": {
              "outlinewidth": 0,
              "ticks": ""
             }
            },
            "type": "scattercarpet"
           }
          ],
          "scattergeo": [
           {
            "marker": {
             "colorbar": {
              "outlinewidth": 0,
              "ticks": ""
             }
            },
            "type": "scattergeo"
           }
          ],
          "scattergl": [
           {
            "marker": {
             "colorbar": {
              "outlinewidth": 0,
              "ticks": ""
             }
            },
            "type": "scattergl"
           }
          ],
          "scattermapbox": [
           {
            "marker": {
             "colorbar": {
              "outlinewidth": 0,
              "ticks": ""
             }
            },
            "type": "scattermapbox"
           }
          ],
          "scatterpolar": [
           {
            "marker": {
             "colorbar": {
              "outlinewidth": 0,
              "ticks": ""
             }
            },
            "type": "scatterpolar"
           }
          ],
          "scatterpolargl": [
           {
            "marker": {
             "colorbar": {
              "outlinewidth": 0,
              "ticks": ""
             }
            },
            "type": "scatterpolargl"
           }
          ],
          "scatterternary": [
           {
            "marker": {
             "colorbar": {
              "outlinewidth": 0,
              "ticks": ""
             }
            },
            "type": "scatterternary"
           }
          ],
          "surface": [
           {
            "colorbar": {
             "outlinewidth": 0,
             "ticks": ""
            },
            "colorscale": [
             [
              0,
              "#0d0887"
             ],
             [
              0.1111111111111111,
              "#46039f"
             ],
             [
              0.2222222222222222,
              "#7201a8"
             ],
             [
              0.3333333333333333,
              "#9c179e"
             ],
             [
              0.4444444444444444,
              "#bd3786"
             ],
             [
              0.5555555555555556,
              "#d8576b"
             ],
             [
              0.6666666666666666,
              "#ed7953"
             ],
             [
              0.7777777777777778,
              "#fb9f3a"
             ],
             [
              0.8888888888888888,
              "#fdca26"
             ],
             [
              1,
              "#f0f921"
             ]
            ],
            "type": "surface"
           }
          ],
          "table": [
           {
            "cells": {
             "fill": {
              "color": "#EBF0F8"
             },
             "line": {
              "color": "white"
             }
            },
            "header": {
             "fill": {
              "color": "#C8D4E3"
             },
             "line": {
              "color": "white"
             }
            },
            "type": "table"
           }
          ]
         },
         "layout": {
          "annotationdefaults": {
           "arrowcolor": "#2a3f5f",
           "arrowhead": 0,
           "arrowwidth": 1
          },
          "autotypenumbers": "strict",
          "coloraxis": {
           "colorbar": {
            "outlinewidth": 0,
            "ticks": ""
           }
          },
          "colorscale": {
           "diverging": [
            [
             0,
             "#8e0152"
            ],
            [
             0.1,
             "#c51b7d"
            ],
            [
             0.2,
             "#de77ae"
            ],
            [
             0.3,
             "#f1b6da"
            ],
            [
             0.4,
             "#fde0ef"
            ],
            [
             0.5,
             "#f7f7f7"
            ],
            [
             0.6,
             "#e6f5d0"
            ],
            [
             0.7,
             "#b8e186"
            ],
            [
             0.8,
             "#7fbc41"
            ],
            [
             0.9,
             "#4d9221"
            ],
            [
             1,
             "#276419"
            ]
           ],
           "sequential": [
            [
             0,
             "#0d0887"
            ],
            [
             0.1111111111111111,
             "#46039f"
            ],
            [
             0.2222222222222222,
             "#7201a8"
            ],
            [
             0.3333333333333333,
             "#9c179e"
            ],
            [
             0.4444444444444444,
             "#bd3786"
            ],
            [
             0.5555555555555556,
             "#d8576b"
            ],
            [
             0.6666666666666666,
             "#ed7953"
            ],
            [
             0.7777777777777778,
             "#fb9f3a"
            ],
            [
             0.8888888888888888,
             "#fdca26"
            ],
            [
             1,
             "#f0f921"
            ]
           ],
           "sequentialminus": [
            [
             0,
             "#0d0887"
            ],
            [
             0.1111111111111111,
             "#46039f"
            ],
            [
             0.2222222222222222,
             "#7201a8"
            ],
            [
             0.3333333333333333,
             "#9c179e"
            ],
            [
             0.4444444444444444,
             "#bd3786"
            ],
            [
             0.5555555555555556,
             "#d8576b"
            ],
            [
             0.6666666666666666,
             "#ed7953"
            ],
            [
             0.7777777777777778,
             "#fb9f3a"
            ],
            [
             0.8888888888888888,
             "#fdca26"
            ],
            [
             1,
             "#f0f921"
            ]
           ]
          },
          "colorway": [
           "#636efa",
           "#EF553B",
           "#00cc96",
           "#ab63fa",
           "#FFA15A",
           "#19d3f3",
           "#FF6692",
           "#B6E880",
           "#FF97FF",
           "#FECB52"
          ],
          "font": {
           "color": "#2a3f5f"
          },
          "geo": {
           "bgcolor": "white",
           "lakecolor": "white",
           "landcolor": "#E5ECF6",
           "showlakes": true,
           "showland": true,
           "subunitcolor": "white"
          },
          "hoverlabel": {
           "align": "left"
          },
          "hovermode": "closest",
          "mapbox": {
           "style": "light"
          },
          "paper_bgcolor": "white",
          "plot_bgcolor": "#E5ECF6",
          "polar": {
           "angularaxis": {
            "gridcolor": "white",
            "linecolor": "white",
            "ticks": ""
           },
           "bgcolor": "#E5ECF6",
           "radialaxis": {
            "gridcolor": "white",
            "linecolor": "white",
            "ticks": ""
           }
          },
          "scene": {
           "xaxis": {
            "backgroundcolor": "#E5ECF6",
            "gridcolor": "white",
            "gridwidth": 2,
            "linecolor": "white",
            "showbackground": true,
            "ticks": "",
            "zerolinecolor": "white"
           },
           "yaxis": {
            "backgroundcolor": "#E5ECF6",
            "gridcolor": "white",
            "gridwidth": 2,
            "linecolor": "white",
            "showbackground": true,
            "ticks": "",
            "zerolinecolor": "white"
           },
           "zaxis": {
            "backgroundcolor": "#E5ECF6",
            "gridcolor": "white",
            "gridwidth": 2,
            "linecolor": "white",
            "showbackground": true,
            "ticks": "",
            "zerolinecolor": "white"
           }
          },
          "shapedefaults": {
           "line": {
            "color": "#2a3f5f"
           }
          },
          "ternary": {
           "aaxis": {
            "gridcolor": "white",
            "linecolor": "white",
            "ticks": ""
           },
           "baxis": {
            "gridcolor": "white",
            "linecolor": "white",
            "ticks": ""
           },
           "bgcolor": "#E5ECF6",
           "caxis": {
            "gridcolor": "white",
            "linecolor": "white",
            "ticks": ""
           }
          },
          "title": {
           "x": 0.05
          },
          "xaxis": {
           "automargin": true,
           "gridcolor": "white",
           "linecolor": "white",
           "ticks": "",
           "title": {
            "standoff": 15
           },
           "zerolinecolor": "white",
           "zerolinewidth": 2
          },
          "yaxis": {
           "automargin": true,
           "gridcolor": "white",
           "linecolor": "white",
           "ticks": "",
           "title": {
            "standoff": 15
           },
           "zerolinecolor": "white",
           "zerolinewidth": 2
          }
         }
        },
        "xaxis": {
         "anchor": "y",
         "categoryarray": [
          "https://api.github.com/repos/llvm/llvm-project",
          "https://api.github.com/repos/JetBrains/MPS",
          "https://api.github.com/repos/dotnet/runtime",
          "https://api.github.com/repos/pytorch/pytorch",
          "https://api.github.com/repos/rust-lang/rust",
          "https://api.github.com/repos/milahu/opensubtitles-scraper-new-subs",
          "https://api.github.com/repos/intel/llvm",
          "https://api.github.com/repos/apple/swift",
          "https://api.github.com/repos/rust-lang/crates.io-index",
          "https://api.github.com/repos/Homebrew/homebrew-core",
          "https://api.github.com/repos/NixOS/nixpkgs",
          "https://api.github.com/repos/openxla/iree",
          "https://api.github.com/repos/GoogleChrome/developer.chrome.com",
          "https://api.github.com/repos/ClickHouse/ClickHouse",
          "https://api.github.com/repos/apple/llvm-project",
          "https://api.github.com/repos/llvm/circt",
          "https://api.github.com/repos/AvaloniaUI/Avalonia",
          "https://api.github.com/repos/unoplatform/uno",
          "https://api.github.com/repos/microsoft/winget-pkgs",
          "https://api.github.com/repos/apache/tvm",
          "https://api.github.com/repos/nodejs/node",
          "https://api.github.com/repos/microsoft/vscode",
          "https://api.github.com/repos/astral-sh/ruff",
          "https://api.github.com/repos/paritytech/polkadot-sdk",
          "https://api.github.com/repos/llvm-premerge-tests/llvm-project",
          "https://api.github.com/repos/emscripten-core/emscripten",
          "https://api.github.com/repos/python/cpython",
          "https://api.github.com/repos/microsoft/onnxruntime",
          "https://api.github.com/repos/golang/go",
          "https://api.github.com/repos/zkSNACKs/WalletWasabi",
          "https://api.github.com/repos/JuliaLang/julia",
          "https://api.github.com/repos/leanprover-community/mathlib4",
          "https://api.github.com/repos/tensorflow/tensorflow",
          "https://api.github.com/repos/gear-tech/gear",
          "https://api.github.com/repos/paritytech/substrate",
          "https://api.github.com/repos/bytecodealliance/wasmtime",
          "https://api.github.com/repos/ethereum-optimism/optimism",
          "https://api.github.com/repos/godotengine/godot",
          "https://api.github.com/repos/flutter/flutter",
          "https://api.github.com/repos/ziglang/zig",
          "https://api.github.com/repos/web-platform-tests/wpt",
          "https://api.github.com/repos/chromium/chromium",
          "https://api.github.com/repos/ethereum/go-ethereum",
          "https://api.github.com/repos/dotnet/maui",
          "https://api.github.com/repos/noir-lang/noir",
          "https://api.github.com/repos/redpanda-data/redpanda",
          "https://api.github.com/repos/powdr-labs/powdr",
          "https://api.github.com/repos/scylladb/scylladb",
          "https://api.github.com/repos/spacemeshos/go-spacemesh",
          "https://api.github.com/repos/WasmEdge/WasmEdge",
          "https://api.github.com/repos/apache/arrow",
          "https://api.github.com/repos/cloudflare/workerd",
          "https://api.github.com/repos/systemd/systemd",
          "https://api.github.com/repos/dotnet/aspnetcore",
          "https://api.github.com/repos/mdn/content",
          "https://api.github.com/repos/zephyrproject-rtos/zephyr",
          "https://api.github.com/repos/bytecodealliance/wasm-micro-runtime",
          "https://api.github.com/repos/openxla/xla",
          "https://api.github.com/repos/microsoft/playwright",
          "https://api.github.com/repos/mesonbuild/meson",
          "https://api.github.com/repos/paritytech/polkadot"
         ],
         "categoryorder": "array",
         "domain": [
          0,
          1
         ],
         "title": {
          "text": "index"
         }
        },
        "yaxis": {
         "anchor": "x",
         "domain": [
          0,
          1
         ],
         "title": {
          "text": "value"
         }
        }
       }
      }
     },
     "metadata": {},
     "output_type": "display_data"
    }
   ],
   "source": [
    "df_fig_rec = repo_event_counts.to_frame().rename(columns={\"repo_git\": \"count\"})\n",
    "print(df_fig_rec)\n",
    "df_fig_rec = df_fig_rec[df_fig_rec[\"count\"] > 2500]\n",
    "\n",
    "fig_rec = px.bar(\n",
    "    data_frame=df_fig_rec,\n",
    "    color=df_fig_rec.index\n",
    ")\n",
    "fig_rec.write_image(\"general_repository_eventcount.jpeg\")\n",
    "fig_rec"
   ]
  },
  {
   "cell_type": "code",
   "execution_count": 133,
   "metadata": {},
   "outputs": [
    {
     "data": {
      "image/jpeg": "[encoded data removed]",
      "text/plain": [
       "<IPython.core.display.Image object>"
      ]
     },
     "execution_count": 133,
     "metadata": {},
     "output_type": "execute_result"
    }
   ],
   "source": [
    "Image(\"general_repository_eventcount.jpeg\")"
   ]
  },
  {
   "cell_type": "markdown",
   "metadata": {},
   "source": [
    "## Contribution event stream re: Known contributors\n",
    "\n",
    "We'd like to know which projects our group of contributors are the most active in. \n",
    "\n",
    "We'll cross-reference our event stream with the list of contributor IDs we have from our previous analysis."
   ]
  },
  {
   "cell_type": "code",
   "execution_count": 134,
   "metadata": {},
   "outputs": [
    {
     "data": {
      "text/plain": [
       "['010002df-6100-0000-0000-000000000000',\n",
       " '010000fd-e400-0000-0000-000000000000',\n",
       " '01002a5e-b400-0000-0000-000000000000',\n",
       " '0100034c-5400-0000-0000-000000000000',\n",
       " '01003291-1b00-0000-0000-000000000000',\n",
       " '01019668-3400-0000-0000-000000000000',\n",
       " '01000e6f-b800-0000-0000-000000000000',\n",
       " '01000123-4b00-0000-0000-000000000000',\n",
       " '0100580b-d200-0000-0000-000000000000',\n",
       " '010003d7-c900-0000-0000-000000000000',\n",
       " '010044b7-6b00-0000-0000-000000000000',\n",
       " '01000844-b800-0000-0000-000000000000',\n",
       " '01000d33-f800-0000-0000-000000000000',\n",
       " '01027f51-2a00-0000-0000-000000000000',\n",
       " '010005fd-cc00-0000-0000-000000000000',\n",
       " '01005d27-9500-0000-0000-000000000000',\n",
       " '010001cf-5a00-0000-0000-000000000000',\n",
       " '010109e8-ab00-0000-0000-000000000000',\n",
       " '01000058-b400-0000-0000-000000000000',\n",
       " '01002912-dc00-0000-0000-000000000000',\n",
       " '010001ad-c700-0000-0000-000000000000',\n",
       " '010004fe-4500-0000-0000-000000000000',\n",
       " '0100319a-6800-0000-0000-000000000000',\n",
       " '010014b5-5700-0000-0000-000000000000',\n",
       " '0102f65a-0500-0000-0000-000000000000',\n",
       " '0103aef2-f500-0000-0000-000000000000',\n",
       " '01001201-7300-0000-0000-000000000000',\n",
       " '010007c6-e200-0000-0000-000000000000',\n",
       " '010031ea-2100-0000-0000-000000000000',\n",
       " '01001730-8300-0000-0000-000000000000',\n",
       " '01010932-ef00-0000-0000-000000000000',\n",
       " '01000ce2-cd00-0000-0000-000000000000',\n",
       " '010003af-d500-0000-0000-000000000000',\n",
       " '0102baa2-2100-0000-0000-000000000000',\n",
       " '0101a90d-a900-0000-0000-000000000000',\n",
       " '01070dcb-e200-0000-0000-000000000000',\n",
       " '0100002a-3600-0000-0000-000000000000',\n",
       " '01004820-6900-0000-0000-000000000000',\n",
       " '0100a4d7-a700-0000-0000-000000000000',\n",
       " '0100c12f-0f00-0000-0000-000000000000',\n",
       " '010015b8-f100-0000-0000-000000000000',\n",
       " '01007e51-5400-0000-0000-000000000000',\n",
       " '0103ebaf-3a00-0000-0000-000000000000',\n",
       " '010000dc-2700-0000-0000-000000000000',\n",
       " '0100173e-d200-0000-0000-000000000000',\n",
       " '0105c15a-8e00-0000-0000-000000000000',\n",
       " '01010e41-b100-0000-0000-000000000000',\n",
       " '010057c3-8200-0000-0000-000000000000',\n",
       " '0102b4c8-1700-0000-0000-000000000000',\n",
       " '0100b863-3000-0000-0000-000000000000',\n",
       " '010359c8-c300-0000-0000-000000000000',\n",
       " '01006c29-c300-0000-0000-000000000000',\n",
       " '01003f62-c900-0000-0000-000000000000',\n",
       " '010027b8-0300-0000-0000-000000000000',\n",
       " '01038fb6-3500-0000-0000-000000000000',\n",
       " '0100042e-7900-0000-0000-000000000000',\n",
       " '01014fc3-1f00-0000-0000-000000000000',\n",
       " '01001ac1-2c00-0000-0000-000000000000',\n",
       " '010021a8-9500-0000-0000-000000000000',\n",
       " '01002c7a-7a00-0000-0000-000000000000',\n",
       " '0100043f-ed00-0000-0000-000000000000',\n",
       " '0100f997-4300-0000-0000-000000000000',\n",
       " '01012c10-f300-0000-0000-000000000000',\n",
       " '010089e9-6500-0000-0000-000000000000',\n",
       " '01021373-c500-0000-0000-000000000000',\n",
       " '0101de87-2b00-0000-0000-000000000000',\n",
       " '0101563f-ff00-0000-0000-000000000000',\n",
       " '0101cb24-bb00-0000-0000-000000000000',\n",
       " '01019296-d200-0000-0000-000000000000',\n",
       " '0100006c-f500-0000-0000-000000000000',\n",
       " '010056d2-0800-0000-0000-000000000000',\n",
       " '010000d5-f300-0000-0000-000000000000',\n",
       " '0106e8d2-7300-0000-0000-000000000000',\n",
       " '0102a285-8900-0000-0000-000000000000',\n",
       " '0100466e-6e00-0000-0000-000000000000',\n",
       " '0100b98b-7900-0000-0000-000000000000',\n",
       " '01001658-6000-0000-0000-000000000000',\n",
       " '0100c480-5100-0000-0000-000000000000',\n",
       " '01004cae-0900-0000-0000-000000000000',\n",
       " '0100ca52-8800-0000-0000-000000000000',\n",
       " '01034700-fd00-0000-0000-000000000000',\n",
       " '010001e7-c800-0000-0000-000000000000',\n",
       " '01059e69-db00-0000-0000-000000000000',\n",
       " '0100000c-a200-0000-0000-000000000000',\n",
       " '01005d97-7000-0000-0000-000000000000',\n",
       " '010002e7-5900-0000-0000-000000000000',\n",
       " '010006dd-f100-0000-0000-000000000000',\n",
       " '0101059e-5200-0000-0000-000000000000',\n",
       " '010012f8-1100-0000-0000-000000000000',\n",
       " '01001405-0600-0000-0000-000000000000',\n",
       " '010168e8-1d00-0000-0000-000000000000',\n",
       " '01017ab5-c700-0000-0000-000000000000',\n",
       " '01007106-f100-0000-0000-000000000000',\n",
       " '0101c6d3-1700-0000-0000-000000000000',\n",
       " '010014d3-0b00-0000-0000-000000000000',\n",
       " '0100c95f-3700-0000-0000-000000000000',\n",
       " '010037e4-5200-0000-0000-000000000000',\n",
       " '01028907-0d00-0000-0000-000000000000',\n",
       " '0100bd06-3100-0000-0000-000000000000',\n",
       " '01001ff1-c400-0000-0000-000000000000',\n",
       " '01003afc-8000-0000-0000-000000000000',\n",
       " '0100025d-0a00-0000-0000-000000000000',\n",
       " '01008964-1a00-0000-0000-000000000000',\n",
       " '0101a9c7-e800-0000-0000-000000000000',\n",
       " '0100027b-b100-0000-0000-000000000000',\n",
       " '01026358-fe00-0000-0000-000000000000',\n",
       " '01019010-5400-0000-0000-000000000000',\n",
       " '0101a14a-1400-0000-0000-000000000000',\n",
       " '01000384-f600-0000-0000-000000000000',\n",
       " '01000376-f100-0000-0000-000000000000',\n",
       " '0100c487-1e00-0000-0000-000000000000',\n",
       " '01000687-3100-0000-0000-000000000000',\n",
       " '0100029c-d700-0000-0000-000000000000',\n",
       " '0100b6d3-9200-0000-0000-000000000000',\n",
       " '0102919f-e300-0000-0000-000000000000',\n",
       " '0100583e-6800-0000-0000-000000000000',\n",
       " '01001be1-2900-0000-0000-000000000000',\n",
       " '0101668e-0800-0000-0000-000000000000',\n",
       " '010091a4-5e00-0000-0000-000000000000',\n",
       " '0102cb5e-4800-0000-0000-000000000000',\n",
       " '01005320-9300-0000-0000-000000000000',\n",
       " '010005c2-5b00-0000-0000-000000000000',\n",
       " '01000877-1000-0000-0000-000000000000',\n",
       " '010023ea-7900-0000-0000-000000000000',\n",
       " '0100114d-3a00-0000-0000-000000000000',\n",
       " '01040775-8e00-0000-0000-000000000000',\n",
       " '0106cc99-fd00-0000-0000-000000000000',\n",
       " '0100586a-c900-0000-0000-000000000000',\n",
       " '0100b795-a300-0000-0000-000000000000',\n",
       " '01006bd0-ba00-0000-0000-000000000000',\n",
       " '010003c3-2e00-0000-0000-000000000000',\n",
       " '0102bbdb-2f00-0000-0000-000000000000',\n",
       " '01003fb4-0000-0000-0000-000000000000',\n",
       " '01001af2-f000-0000-0000-000000000000',\n",
       " '01006afa-3800-0000-0000-000000000000',\n",
       " '010001d2-0000-0000-0000-000000000000',\n",
       " '010062cc-dc00-0000-0000-000000000000',\n",
       " '01004580-4f00-0000-0000-000000000000',\n",
       " '010027ae-4a00-0000-0000-000000000000',\n",
       " '01001386-4c00-0000-0000-000000000000',\n",
       " '0101f8fb-b200-0000-0000-000000000000',\n",
       " '0101d21d-3000-0000-0000-000000000000',\n",
       " '01019736-ff00-0000-0000-000000000000',\n",
       " '01001206-b200-0000-0000-000000000000',\n",
       " '01000466-3000-0000-0000-000000000000',\n",
       " '01001344-6400-0000-0000-000000000000',\n",
       " '01015bbd-6d00-0000-0000-000000000000',\n",
       " '0100aa10-7f00-0000-0000-000000000000',\n",
       " '010130b7-7600-0000-0000-000000000000',\n",
       " '0101c5b2-1200-0000-0000-000000000000',\n",
       " '010040ce-3b00-0000-0000-000000000000',\n",
       " '01042581-bd00-0000-0000-000000000000',\n",
       " '010045f3-9400-0000-0000-000000000000',\n",
       " '010041d6-6800-0000-0000-000000000000',\n",
       " '01028b21-3500-0000-0000-000000000000',\n",
       " '01003f27-bb00-0000-0000-000000000000',\n",
       " '01001626-6e00-0000-0000-000000000000',\n",
       " '01006cab-7b00-0000-0000-000000000000',\n",
       " '01006eaf-6700-0000-0000-000000000000',\n",
       " '010168b2-3b00-0000-0000-000000000000',\n",
       " '0100397d-3100-0000-0000-000000000000',\n",
       " '01004671-0400-0000-0000-000000000000',\n",
       " '010485c4-fd00-0000-0000-000000000000',\n",
       " '01003f80-6c00-0000-0000-000000000000',\n",
       " '010022e4-8600-0000-0000-000000000000',\n",
       " '01001159-8900-0000-0000-000000000000',\n",
       " '010276fb-8b00-0000-0000-000000000000',\n",
       " '0102b992-3300-0000-0000-000000000000',\n",
       " '0102806e-d500-0000-0000-000000000000',\n",
       " '01000454-ff00-0000-0000-000000000000',\n",
       " '01015973-c800-0000-0000-000000000000',\n",
       " '0100ce2a-2900-0000-0000-000000000000',\n",
       " '01004e43-f500-0000-0000-000000000000',\n",
       " '01001440-b500-0000-0000-000000000000',\n",
       " '0100cac6-e000-0000-0000-000000000000',\n",
       " '0100024e-3800-0000-0000-000000000000',\n",
       " '01003292-9f00-0000-0000-000000000000',\n",
       " '01001078-0600-0000-0000-000000000000',\n",
       " '0100d1c9-a100-0000-0000-000000000000',\n",
       " '0101b5f4-3100-0000-0000-000000000000',\n",
       " '010022bd-6e00-0000-0000-000000000000',\n",
       " '01000d48-ee00-0000-0000-000000000000',\n",
       " '01000ce4-4300-0000-0000-000000000000',\n",
       " '01022674-8900-0000-0000-000000000000',\n",
       " '010381ac-8e00-0000-0000-000000000000',\n",
       " '0100e78c-9e00-0000-0000-000000000000',\n",
       " '0100e1ac-f300-0000-0000-000000000000',\n",
       " '01030e60-2c00-0000-0000-000000000000',\n",
       " '0104f7a0-9200-0000-0000-000000000000',\n",
       " '01003870-2100-0000-0000-000000000000',\n",
       " '0100204d-3700-0000-0000-000000000000',\n",
       " '01009603-ae00-0000-0000-000000000000',\n",
       " '01002dea-ea00-0000-0000-000000000000',\n",
       " '0101d93f-8d00-0000-0000-000000000000',\n",
       " '01001d6b-7400-0000-0000-000000000000',\n",
       " '01036ea6-bc00-0000-0000-000000000000',\n",
       " '01012a68-0700-0000-0000-000000000000',\n",
       " '01001811-7700-0000-0000-000000000000',\n",
       " '010136a5-fb00-0000-0000-000000000000',\n",
       " '01022cea-6200-0000-0000-000000000000',\n",
       " '0102f3c1-9200-0000-0000-000000000000',\n",
       " '0100d92d-6800-0000-0000-000000000000',\n",
       " '01016a3f-0c00-0000-0000-000000000000',\n",
       " '01036274-4e00-0000-0000-000000000000',\n",
       " '0100d479-c100-0000-0000-000000000000',\n",
       " '010001e0-7000-0000-0000-000000000000',\n",
       " '01000624-1600-0000-0000-000000000000',\n",
       " '01002ee0-9500-0000-0000-000000000000',\n",
       " '0100144e-6c00-0000-0000-000000000000',\n",
       " '010006f1-6e00-0000-0000-000000000000',\n",
       " '01000acc-f300-0000-0000-000000000000',\n",
       " '01051a0c-d600-0000-0000-000000000000',\n",
       " '010001ff-7100-0000-0000-000000000000',\n",
       " '0100ac00-d400-0000-0000-000000000000',\n",
       " '0100450d-8500-0000-0000-000000000000',\n",
       " '0100050a-6600-0000-0000-000000000000',\n",
       " '0101085c-fb00-0000-0000-000000000000',\n",
       " '0105284d-bd00-0000-0000-000000000000',\n",
       " '01000242-4500-0000-0000-000000000000',\n",
       " '01009694-3700-0000-0000-000000000000',\n",
       " '0100426d-c800-0000-0000-000000000000',\n",
       " '01000f5a-7400-0000-0000-000000000000',\n",
       " '01021fc5-3400-0000-0000-000000000000',\n",
       " '0100ba84-fa00-0000-0000-000000000000',\n",
       " '01003191-cb00-0000-0000-000000000000',\n",
       " '01004c49-ea00-0000-0000-000000000000',\n",
       " '01046ae0-b000-0000-0000-000000000000',\n",
       " '0101de99-3e00-0000-0000-000000000000',\n",
       " '01005aeb-8500-0000-0000-000000000000',\n",
       " '0106309b-e200-0000-0000-000000000000',\n",
       " '0100c0ed-7900-0000-0000-000000000000',\n",
       " '0102f877-8d00-0000-0000-000000000000',\n",
       " '01007c55-a000-0000-0000-000000000000',\n",
       " '01000427-af00-0000-0000-000000000000',\n",
       " '010015d3-d700-0000-0000-000000000000',\n",
       " '010173ec-2100-0000-0000-000000000000',\n",
       " '01000e32-be00-0000-0000-000000000000',\n",
       " '01000698-df00-0000-0000-000000000000',\n",
       " '010002b9-9600-0000-0000-000000000000',\n",
       " '010063f6-3600-0000-0000-000000000000',\n",
       " '0105f8fe-b700-0000-0000-000000000000',\n",
       " '0100593f-cd00-0000-0000-000000000000',\n",
       " '0102430c-b500-0000-0000-000000000000',\n",
       " '0100104f-3500-0000-0000-000000000000',\n",
       " '010087dc-d000-0000-0000-000000000000',\n",
       " '010141f6-1500-0000-0000-000000000000',\n",
       " '0101e6dc-6800-0000-0000-000000000000',\n",
       " '0102d83b-1d00-0000-0000-000000000000',\n",
       " '0101eaf6-a100-0000-0000-000000000000',\n",
       " '01000e6a-5700-0000-0000-000000000000',\n",
       " '010400fe-2f00-0000-0000-000000000000',\n",
       " '0100b039-af00-0000-0000-000000000000',\n",
       " '010007e0-1600-0000-0000-000000000000',\n",
       " '01000008-c200-0000-0000-000000000000',\n",
       " '01001300-8300-0000-0000-000000000000',\n",
       " '010001d8-d000-0000-0000-000000000000',\n",
       " '01032876-0000-0000-0000-000000000000',\n",
       " '01031f79-0200-0000-0000-000000000000',\n",
       " '01002bb1-b200-0000-0000-000000000000',\n",
       " '01001a0d-f100-0000-0000-000000000000',\n",
       " '01006b88-d100-0000-0000-000000000000',\n",
       " '0100404c-8300-0000-0000-000000000000',\n",
       " '0101583e-5700-0000-0000-000000000000',\n",
       " '0104f782-9c00-0000-0000-000000000000',\n",
       " '01000d23-0400-0000-0000-000000000000',\n",
       " '0101b4dc-fc00-0000-0000-000000000000',\n",
       " '0100582a-1200-0000-0000-000000000000',\n",
       " '01025b97-d300-0000-0000-000000000000',\n",
       " '0100f9b5-ba00-0000-0000-000000000000',\n",
       " '01000321-d200-0000-0000-000000000000',\n",
       " '01009743-5800-0000-0000-000000000000',\n",
       " '0105759c-fe00-0000-0000-000000000000',\n",
       " '010036e0-f700-0000-0000-000000000000',\n",
       " '01000b13-5100-0000-0000-000000000000',\n",
       " '0100b7b9-ed00-0000-0000-000000000000',\n",
       " '01000006-8000-0000-0000-000000000000',\n",
       " '01012fcc-4700-0000-0000-000000000000',\n",
       " '01030022-b000-0000-0000-000000000000',\n",
       " '0105316e-f400-0000-0000-000000000000',\n",
       " '01000220-2f00-0000-0000-000000000000',\n",
       " '0100099b-ce00-0000-0000-000000000000',\n",
       " '01002721-5700-0000-0000-000000000000',\n",
       " '0101cf8f-6100-0000-0000-000000000000',\n",
       " '01001655-4600-0000-0000-000000000000',\n",
       " '010011ff-ae00-0000-0000-000000000000',\n",
       " '01000882-1600-0000-0000-000000000000',\n",
       " '01003d8f-be00-0000-0000-000000000000',\n",
       " '0101528e-5600-0000-0000-000000000000',\n",
       " '01036603-c800-0000-0000-000000000000',\n",
       " '01000363-3c00-0000-0000-000000000000',\n",
       " '010013dd-c700-0000-0000-000000000000',\n",
       " '01007b1d-5b00-0000-0000-000000000000',\n",
       " '01000010-2e00-0000-0000-000000000000',\n",
       " '010015fd-6600-0000-0000-000000000000',\n",
       " '01023b0a-3e00-0000-0000-000000000000',\n",
       " '01003894-4d00-0000-0000-000000000000',\n",
       " '010063e4-cb00-0000-0000-000000000000',\n",
       " '01000995-ac00-0000-0000-000000000000',\n",
       " '01018e15-f200-0000-0000-000000000000',\n",
       " '01042e6a-d200-0000-0000-000000000000',\n",
       " '01073d13-bb00-0000-0000-000000000000',\n",
       " '01000027-9900-0000-0000-000000000000',\n",
       " '0105996a-1000-0000-0000-000000000000',\n",
       " '01001911-db00-0000-0000-000000000000',\n",
       " '0101cd20-2200-0000-0000-000000000000',\n",
       " '010222d2-5500-0000-0000-000000000000',\n",
       " '010002a6-5d00-0000-0000-000000000000',\n",
       " '01005542-cb00-0000-0000-000000000000',\n",
       " '01018d10-a800-0000-0000-000000000000',\n",
       " '01001f9e-8b00-0000-0000-000000000000',\n",
       " '0101bf33-f900-0000-0000-000000000000',\n",
       " '0100a497-e300-0000-0000-000000000000',\n",
       " '01002137-4b00-0000-0000-000000000000',\n",
       " '0103971e-fa00-0000-0000-000000000000',\n",
       " '0101714f-6100-0000-0000-000000000000',\n",
       " '01004998-9600-0000-0000-000000000000',\n",
       " '01000727-5000-0000-0000-000000000000',\n",
       " '0100038f-0b00-0000-0000-000000000000',\n",
       " '01035087-f200-0000-0000-000000000000',\n",
       " '0105d4c5-4c00-0000-0000-000000000000',\n",
       " '01000f37-5e00-0000-0000-000000000000',\n",
       " '0102a537-cd00-0000-0000-000000000000',\n",
       " '0101428c-a800-0000-0000-000000000000',\n",
       " '01000647-3700-0000-0000-000000000000',\n",
       " '01004c19-9800-0000-0000-000000000000',\n",
       " '0101b46b-d400-0000-0000-000000000000',\n",
       " '01013234-c500-0000-0000-000000000000',\n",
       " '01006a12-2a00-0000-0000-000000000000',\n",
       " '0100441e-a700-0000-0000-000000000000',\n",
       " '0100690c-5800-0000-0000-000000000000',\n",
       " '01001e8c-bd00-0000-0000-000000000000',\n",
       " '01007e8f-fa00-0000-0000-000000000000',\n",
       " '01001363-a100-0000-0000-000000000000',\n",
       " '0100090d-f100-0000-0000-000000000000',\n",
       " '01000404-c500-0000-0000-000000000000',\n",
       " '01067b73-6e00-0000-0000-000000000000',\n",
       " '010004d8-1800-0000-0000-000000000000',\n",
       " '01000376-4500-0000-0000-000000000000',\n",
       " '01004729-6000-0000-0000-000000000000',\n",
       " '0100d989-2400-0000-0000-000000000000',\n",
       " '0100256d-5500-0000-0000-000000000000',\n",
       " '010057ff-c800-0000-0000-000000000000',\n",
       " '0104e006-7900-0000-0000-000000000000',\n",
       " '0102a183-4900-0000-0000-000000000000',\n",
       " '010001ff-f300-0000-0000-000000000000',\n",
       " '010031df-4e00-0000-0000-000000000000',\n",
       " '0100cc55-2700-0000-0000-000000000000',\n",
       " '01000106-ac00-0000-0000-000000000000',\n",
       " '010044b7-0300-0000-0000-000000000000',\n",
       " '0101656a-0100-0000-0000-000000000000',\n",
       " '01007d04-8300-0000-0000-000000000000',\n",
       " '010003a5-a400-0000-0000-000000000000',\n",
       " '010260b5-4c00-0000-0000-000000000000',\n",
       " '0100004f-7400-0000-0000-000000000000',\n",
       " '0103e842-b800-0000-0000-000000000000',\n",
       " '01001636-5100-0000-0000-000000000000',\n",
       " '01000f84-ac00-0000-0000-000000000000',\n",
       " '0101ff9c-f000-0000-0000-000000000000',\n",
       " '0100c81e-b400-0000-0000-000000000000',\n",
       " '01047792-b000-0000-0000-000000000000',\n",
       " '01048080-7400-0000-0000-000000000000',\n",
       " '0100e1df-b100-0000-0000-000000000000',\n",
       " '01001580-6100-0000-0000-000000000000',\n",
       " '010000b6-1700-0000-0000-000000000000',\n",
       " '010153ae-d100-0000-0000-000000000000',\n",
       " '010004e5-d000-0000-0000-000000000000',\n",
       " '01015fc5-c800-0000-0000-000000000000',\n",
       " '0105668c-8f00-0000-0000-000000000000',\n",
       " '01001619-6100-0000-0000-000000000000',\n",
       " '0100d319-a300-0000-0000-000000000000',\n",
       " '01000a83-5e00-0000-0000-000000000000',\n",
       " '01008868-a000-0000-0000-000000000000',\n",
       " '0100ee5d-a500-0000-0000-000000000000',\n",
       " '01038ecc-4400-0000-0000-000000000000',\n",
       " '0100578b-3900-0000-0000-000000000000',\n",
       " '01021f3e-7800-0000-0000-000000000000',\n",
       " '01004850-f400-0000-0000-000000000000',\n",
       " '010003c5-8f00-0000-0000-000000000000',\n",
       " '0102a259-2a00-0000-0000-000000000000',\n",
       " '0105d7d8-4800-0000-0000-000000000000',\n",
       " '0100a590-6200-0000-0000-000000000000',\n",
       " '01000221-5300-0000-0000-000000000000',\n",
       " '010236a8-c800-0000-0000-000000000000',\n",
       " '0100158c-9e00-0000-0000-000000000000',\n",
       " '01000637-6500-0000-0000-000000000000',\n",
       " '0100140a-3400-0000-0000-000000000000',\n",
       " '01001008-1c00-0000-0000-000000000000',\n",
       " '010003c6-4700-0000-0000-000000000000',\n",
       " '0100a82f-de00-0000-0000-000000000000',\n",
       " '010004bc-7900-0000-0000-000000000000',\n",
       " '0100b009-bc00-0000-0000-000000000000',\n",
       " '01008528-8300-0000-0000-000000000000',\n",
       " '010092da-cb00-0000-0000-000000000000',\n",
       " '0100eb42-f100-0000-0000-000000000000',\n",
       " '010061b0-3500-0000-0000-000000000000',\n",
       " '01044897-0600-0000-0000-000000000000',\n",
       " '01032d1c-9b00-0000-0000-000000000000',\n",
       " '0100b90a-7e00-0000-0000-000000000000',\n",
       " '010035ab-b400-0000-0000-000000000000',\n",
       " '010160d4-4900-0000-0000-000000000000',\n",
       " '010047f0-e700-0000-0000-000000000000',\n",
       " '0100fdb2-8400-0000-0000-000000000000',\n",
       " '01000e0e-d200-0000-0000-000000000000',\n",
       " '010000c6-4200-0000-0000-000000000000',\n",
       " '01038841-2a00-0000-0000-000000000000',\n",
       " '01000b4d-ba00-0000-0000-000000000000',\n",
       " '01038918-6a00-0000-0000-000000000000',\n",
       " '01001319-1900-0000-0000-000000000000',\n",
       " '01001278-e400-0000-0000-000000000000',\n",
       " '01002981-2900-0000-0000-000000000000',\n",
       " '010003bf-e600-0000-0000-000000000000',\n",
       " '010000cf-ac00-0000-0000-000000000000',\n",
       " '010016ff-0e00-0000-0000-000000000000',\n",
       " '010266cf-e900-0000-0000-000000000000',\n",
       " '01042b88-0700-0000-0000-000000000000',\n",
       " '0101c8b9-2700-0000-0000-000000000000',\n",
       " '010000d5-b800-0000-0000-000000000000',\n",
       " '0100b791-7c00-0000-0000-000000000000',\n",
       " '010011c4-0300-0000-0000-000000000000',\n",
       " '01027695-ca00-0000-0000-000000000000',\n",
       " '0101bc8c-8100-0000-0000-000000000000',\n",
       " '0102d5c7-7300-0000-0000-000000000000',\n",
       " '01015c3a-8a00-0000-0000-000000000000',\n",
       " '010470a8-c100-0000-0000-000000000000',\n",
       " '01008d97-1600-0000-0000-000000000000',\n",
       " '01008f32-fb00-0000-0000-000000000000',\n",
       " '010007f2-2300-0000-0000-000000000000',\n",
       " '01007729-9700-0000-0000-000000000000',\n",
       " '0102d905-b800-0000-0000-000000000000',\n",
       " '01006694-6f00-0000-0000-000000000000',\n",
       " '01001a04-7e00-0000-0000-000000000000',\n",
       " '0105403b-c900-0000-0000-000000000000',\n",
       " '01037433-cc00-0000-0000-000000000000',\n",
       " '010000e4-b300-0000-0000-000000000000',\n",
       " '010140e8-e200-0000-0000-000000000000',\n",
       " '01001a1d-b300-0000-0000-000000000000',\n",
       " '010004e9-4500-0000-0000-000000000000',\n",
       " '01004428-f900-0000-0000-000000000000',\n",
       " '010022fb-0900-0000-0000-000000000000',\n",
       " '01000325-1c00-0000-0000-000000000000',\n",
       " '0100048a-ce00-0000-0000-000000000000',\n",
       " '01000004-1a00-0000-0000-000000000000',\n",
       " '010153ba-0f00-0000-0000-000000000000',\n",
       " '01008890-9600-0000-0000-000000000000',\n",
       " '0100005d-db00-0000-0000-000000000000',\n",
       " '01034765-2700-0000-0000-000000000000',\n",
       " '01025d12-4100-0000-0000-000000000000',\n",
       " '01037470-1b00-0000-0000-000000000000',\n",
       " '01009367-a500-0000-0000-000000000000',\n",
       " '01002c07-1a00-0000-0000-000000000000',\n",
       " '01010e9b-0900-0000-0000-000000000000',\n",
       " '01049dee-d300-0000-0000-000000000000',\n",
       " '01000019-f200-0000-0000-000000000000',\n",
       " '01001340-5e00-0000-0000-000000000000',\n",
       " '01010a44-7d00-0000-0000-000000000000',\n",
       " '010019b3-bb00-0000-0000-000000000000',\n",
       " '0101c927-8400-0000-0000-000000000000',\n",
       " '01001951-e400-0000-0000-000000000000',\n",
       " '01002eff-ea00-0000-0000-000000000000',\n",
       " '01005a1c-e800-0000-0000-000000000000',\n",
       " '0100460d-7700-0000-0000-000000000000',\n",
       " '010185b3-e200-0000-0000-000000000000',\n",
       " '010037e2-2400-0000-0000-000000000000',\n",
       " '010016fd-9400-0000-0000-000000000000',\n",
       " '01004891-4900-0000-0000-000000000000',\n",
       " '01005743-fa00-0000-0000-000000000000',\n",
       " '01001348-d400-0000-0000-000000000000',\n",
       " '01001790-ad00-0000-0000-000000000000',\n",
       " '0100d637-2200-0000-0000-000000000000',\n",
       " '0100c837-3200-0000-0000-000000000000',\n",
       " '01013ba7-9f00-0000-0000-000000000000',\n",
       " '0100663b-7d00-0000-0000-000000000000',\n",
       " '01000d86-fb00-0000-0000-000000000000',\n",
       " '01002bf9-b800-0000-0000-000000000000',\n",
       " '01008447-ac00-0000-0000-000000000000',\n",
       " '01005312-3a00-0000-0000-000000000000',\n",
       " '010096d7-7600-0000-0000-000000000000',\n",
       " '010002c9-9e00-0000-0000-000000000000',\n",
       " '01028e25-ae00-0000-0000-000000000000',\n",
       " '01000e54-d700-0000-0000-000000000000',\n",
       " '01001a5a-b000-0000-0000-000000000000',\n",
       " '01000ce9-c300-0000-0000-000000000000',\n",
       " '01001999-6100-0000-0000-000000000000',\n",
       " '01000781-4800-0000-0000-000000000000',\n",
       " '010030d9-d100-0000-0000-000000000000',\n",
       " '01021bc4-7400-0000-0000-000000000000',\n",
       " '0101b676-6f00-0000-0000-000000000000',\n",
       " '0100f9bf-6b00-0000-0000-000000000000',\n",
       " '0102b916-bc00-0000-0000-000000000000',\n",
       " '0100112c-3700-0000-0000-000000000000',\n",
       " '01001c28-8100-0000-0000-000000000000',\n",
       " '01001349-f400-0000-0000-000000000000',\n",
       " '010004b6-aa00-0000-0000-000000000000',\n",
       " '01033b12-9900-0000-0000-000000000000',\n",
       " '0102e22a-9b00-0000-0000-000000000000',\n",
       " '0101e1ce-f000-0000-0000-000000000000',\n",
       " '0100331c-5400-0000-0000-000000000000',\n",
       " '01013eb5-7400-0000-0000-000000000000',\n",
       " '010017e1-d800-0000-0000-000000000000',\n",
       " '0100d948-6000-0000-0000-000000000000',\n",
       " '0102fe00-dc00-0000-0000-000000000000',\n",
       " '0101b751-3900-0000-0000-000000000000',\n",
       " '0102089a-4300-0000-0000-000000000000',\n",
       " '01038fec-9500-0000-0000-000000000000',\n",
       " '0105006d-2c00-0000-0000-000000000000',\n",
       " '010383df-8600-0000-0000-000000000000',\n",
       " '01021b09-8800-0000-0000-000000000000',\n",
       " '01011dd0-4700-0000-0000-000000000000',\n",
       " '0104e76a-9b00-0000-0000-000000000000',\n",
       " '0103d7bb-3f00-0000-0000-000000000000',\n",
       " '01000517-ef00-0000-0000-000000000000',\n",
       " '01004c0d-e400-0000-0000-000000000000',\n",
       " '010000b9-bd00-0000-0000-000000000000',\n",
       " '01017647-c700-0000-0000-000000000000',\n",
       " '01000173-2600-0000-0000-000000000000',\n",
       " '0102ebf9-7b00-0000-0000-000000000000',\n",
       " '01027f2c-da00-0000-0000-000000000000',\n",
       " '0102b738-b400-0000-0000-000000000000',\n",
       " '01001ba5-ea00-0000-0000-000000000000',\n",
       " '010546f7-5b00-0000-0000-000000000000',\n",
       " '010002ec-e700-0000-0000-000000000000',\n",
       " '010027b1-9b00-0000-0000-000000000000',\n",
       " '01000ae5-6900-0000-0000-000000000000',\n",
       " '0101527d-bf00-0000-0000-000000000000',\n",
       " '0105d7ed-4200-0000-0000-000000000000',\n",
       " '01002356-fc00-0000-0000-000000000000',\n",
       " '01000566-d900-0000-0000-000000000000',\n",
       " '0100a24f-f300-0000-0000-000000000000',\n",
       " '01008507-1d00-0000-0000-000000000000',\n",
       " '01001b27-a300-0000-0000-000000000000',\n",
       " '0100071a-dd00-0000-0000-000000000000',\n",
       " '01000c2d-3900-0000-0000-000000000000',\n",
       " '01001a8d-9400-0000-0000-000000000000',\n",
       " '01030c8c-2e00-0000-0000-000000000000',\n",
       " '0105e28a-7800-0000-0000-000000000000',\n",
       " '01027319-c700-0000-0000-000000000000',\n",
       " '01001563-0f00-0000-0000-000000000000',\n",
       " '010024b6-4000-0000-0000-000000000000',\n",
       " '01022317-9800-0000-0000-000000000000',\n",
       " '0100c3df-5500-0000-0000-000000000000',\n",
       " '01051835-cb00-0000-0000-000000000000',\n",
       " '01000350-c000-0000-0000-000000000000',\n",
       " '010000ad-a600-0000-0000-000000000000',\n",
       " '010043af-7600-0000-0000-000000000000',\n",
       " '01001a2d-e300-0000-0000-000000000000',\n",
       " '0100997c-b600-0000-0000-000000000000',\n",
       " '010060d6-ca00-0000-0000-000000000000',\n",
       " '010099f0-b400-0000-0000-000000000000',\n",
       " '010009c6-4b00-0000-0000-000000000000',\n",
       " '01019a46-1700-0000-0000-000000000000',\n",
       " '01032c7b-fa00-0000-0000-000000000000',\n",
       " '0100092e-2400-0000-0000-000000000000',\n",
       " '01000424-d800-0000-0000-000000000000',\n",
       " '010015b5-7e00-0000-0000-000000000000',\n",
       " '01000465-6f00-0000-0000-000000000000',\n",
       " '0100415f-dc00-0000-0000-000000000000',\n",
       " '010010e2-c500-0000-0000-000000000000',\n",
       " '01022df3-b800-0000-0000-000000000000',\n",
       " '010373ad-f600-0000-0000-000000000000',\n",
       " '01006ad2-8f00-0000-0000-000000000000',\n",
       " '01005247-5300-0000-0000-000000000000',\n",
       " '0100188d-3d00-0000-0000-000000000000',\n",
       " '0103857a-9b00-0000-0000-000000000000',\n",
       " '01058cc8-4600-0000-0000-000000000000',\n",
       " '01001977-8b00-0000-0000-000000000000',\n",
       " '010007b8-0a00-0000-0000-000000000000',\n",
       " '01037b78-3800-0000-0000-000000000000',\n",
       " '0104a6d6-a200-0000-0000-000000000000',\n",
       " '01023d86-0f00-0000-0000-000000000000',\n",
       " '0100545e-2c00-0000-0000-000000000000',\n",
       " '01001cfc-8600-0000-0000-000000000000',\n",
       " '01005a01-ca00-0000-0000-000000000000',\n",
       " '0100d2d5-af00-0000-0000-000000000000',\n",
       " '0100161d-2b00-0000-0000-000000000000',\n",
       " '01004186-5400-0000-0000-000000000000',\n",
       " '01080540-b900-0000-0000-000000000000',\n",
       " '01001d98-b300-0000-0000-000000000000',\n",
       " '01010f01-f900-0000-0000-000000000000',\n",
       " '0101c427-ee00-0000-0000-000000000000',\n",
       " '01004bb5-6500-0000-0000-000000000000',\n",
       " '01006e77-9700-0000-0000-000000000000',\n",
       " '01000111-ef00-0000-0000-000000000000',\n",
       " '010014c2-9b00-0000-0000-000000000000',\n",
       " '0100047e-1d00-0000-0000-000000000000',\n",
       " '0100c074-9600-0000-0000-000000000000',\n",
       " '01001d4c-cc00-0000-0000-000000000000',\n",
       " '01000138-e800-0000-0000-000000000000',\n",
       " '01050f13-3c00-0000-0000-000000000000',\n",
       " '01048384-2900-0000-0000-000000000000',\n",
       " '010009b0-a900-0000-0000-000000000000',\n",
       " '01001555-f700-0000-0000-000000000000',\n",
       " '010050ee-3500-0000-0000-000000000000',\n",
       " '0100134d-8300-0000-0000-000000000000',\n",
       " '01000048-1e00-0000-0000-000000000000',\n",
       " '01026f32-2f00-0000-0000-000000000000',\n",
       " '0100472c-da00-0000-0000-000000000000',\n",
       " '01000960-9400-0000-0000-000000000000',\n",
       " '01000b85-fd00-0000-0000-000000000000',\n",
       " '01017ae6-8300-0000-0000-000000000000',\n",
       " '010003c2-2d00-0000-0000-000000000000',\n",
       " '010088f0-9800-0000-0000-000000000000',\n",
       " '010002b3-3600-0000-0000-000000000000',\n",
       " '0100a485-e700-0000-0000-000000000000',\n",
       " '01005ca4-2a00-0000-0000-000000000000',\n",
       " '01003224-5f00-0000-0000-000000000000',\n",
       " '010000c1-ba00-0000-0000-000000000000',\n",
       " '010262e1-2b00-0000-0000-000000000000',\n",
       " '0100a51d-8500-0000-0000-000000000000',\n",
       " '0101d06c-ab00-0000-0000-000000000000',\n",
       " '01000091-b700-0000-0000-000000000000',\n",
       " '0101ea60-6100-0000-0000-000000000000',\n",
       " '0106626b-5a00-0000-0000-000000000000',\n",
       " '01000182-a600-0000-0000-000000000000',\n",
       " '0101620c-6b00-0000-0000-000000000000',\n",
       " '01010e26-7a00-0000-0000-000000000000',\n",
       " '01005048-8800-0000-0000-000000000000',\n",
       " '010130b1-5e00-0000-0000-000000000000',\n",
       " '010000e4-4200-0000-0000-000000000000',\n",
       " '0102f14f-5300-0000-0000-000000000000',\n",
       " '010001ed-7500-0000-0000-000000000000',\n",
       " '01005ad3-e100-0000-0000-000000000000',\n",
       " '01024309-8a00-0000-0000-000000000000',\n",
       " '010036be-f800-0000-0000-000000000000',\n",
       " '01013ba4-8900-0000-0000-000000000000',\n",
       " '0101cbcc-b900-0000-0000-000000000000',\n",
       " '01006f43-1800-0000-0000-000000000000',\n",
       " '01003083-bc00-0000-0000-000000000000',\n",
       " '010494c1-1300-0000-0000-000000000000',\n",
       " '01011c0e-7a00-0000-0000-000000000000',\n",
       " '01002d47-8200-0000-0000-000000000000',\n",
       " '01000506-2000-0000-0000-000000000000',\n",
       " '01002c7b-fd00-0000-0000-000000000000',\n",
       " '0103e405-0800-0000-0000-000000000000',\n",
       " '01000140-1300-0000-0000-000000000000',\n",
       " '0101cc6f-cd00-0000-0000-000000000000',\n",
       " '01000809-7a00-0000-0000-000000000000',\n",
       " '0101023e-db00-0000-0000-000000000000',\n",
       " '010011b3-de00-0000-0000-000000000000',\n",
       " '01003cd4-c300-0000-0000-000000000000',\n",
       " '0102d049-1800-0000-0000-000000000000',\n",
       " '01000a5c-d200-0000-0000-000000000000',\n",
       " '01020a2b-b900-0000-0000-000000000000',\n",
       " '0101274e-7c00-0000-0000-000000000000',\n",
       " '01003036-0000-0000-0000-000000000000',\n",
       " '01005818-7a00-0000-0000-000000000000',\n",
       " '01000514-a000-0000-0000-000000000000',\n",
       " '01006b45-8600-0000-0000-000000000000',\n",
       " '010021b6-7800-0000-0000-000000000000',\n",
       " '010007b2-7f00-0000-0000-000000000000',\n",
       " '0100081f-be00-0000-0000-000000000000',\n",
       " '0102a065-a200-0000-0000-000000000000',\n",
       " '01000138-a500-0000-0000-000000000000',\n",
       " '0101ae76-bd00-0000-0000-000000000000',\n",
       " '0100c9bc-0d00-0000-0000-000000000000',\n",
       " '010003ad-ff00-0000-0000-000000000000',\n",
       " '0100145f-5d00-0000-0000-000000000000',\n",
       " '01030f4d-2c00-0000-0000-000000000000',\n",
       " '010097da-2c00-0000-0000-000000000000',\n",
       " '01006b55-c400-0000-0000-000000000000',\n",
       " '0100c923-d300-0000-0000-000000000000',\n",
       " '01000c32-4f00-0000-0000-000000000000',\n",
       " '0100003f-3800-0000-0000-000000000000',\n",
       " '01000015-9000-0000-0000-000000000000',\n",
       " '0100614a-4400-0000-0000-000000000000',\n",
       " '01000a2b-6100-0000-0000-000000000000',\n",
       " '0100f9ab-8900-0000-0000-000000000000',\n",
       " '0100af4e-7600-0000-0000-000000000000',\n",
       " '01000023-d700-0000-0000-000000000000',\n",
       " '01000070-7300-0000-0000-000000000000',\n",
       " '01009c8d-d200-0000-0000-000000000000',\n",
       " '010101fc-ed00-0000-0000-000000000000',\n",
       " '01002a23-8a00-0000-0000-000000000000',\n",
       " '0104e981-5000-0000-0000-000000000000',\n",
       " '0100f76b-8b00-0000-0000-000000000000',\n",
       " '0103b876-2d00-0000-0000-000000000000',\n",
       " '01001139-e700-0000-0000-000000000000',\n",
       " '0100e9fc-da00-0000-0000-000000000000',\n",
       " '01052848-e600-0000-0000-000000000000',\n",
       " '0103601d-8f00-0000-0000-000000000000',\n",
       " '010003a3-e800-0000-0000-000000000000',\n",
       " '010002b5-6f00-0000-0000-000000000000',\n",
       " '010062af-4b00-0000-0000-000000000000',\n",
       " '01023116-4900-0000-0000-000000000000',\n",
       " '01007c42-e500-0000-0000-000000000000',\n",
       " '01059296-3700-0000-0000-000000000000',\n",
       " '01000507-9a00-0000-0000-000000000000',\n",
       " '01000953-ed00-0000-0000-000000000000',\n",
       " '01011ab0-5000-0000-0000-000000000000',\n",
       " '01035ea4-6900-0000-0000-000000000000',\n",
       " '01046491-9b00-0000-0000-000000000000',\n",
       " '01005121-e700-0000-0000-000000000000',\n",
       " '0101adc0-4200-0000-0000-000000000000',\n",
       " '01005f65-6b00-0000-0000-000000000000',\n",
       " '0100cefc-7300-0000-0000-000000000000',\n",
       " '010684a3-f400-0000-0000-000000000000',\n",
       " '010182ab-ec00-0000-0000-000000000000',\n",
       " '01007b8c-4200-0000-0000-000000000000',\n",
       " '0101c6ab-a000-0000-0000-000000000000',\n",
       " '010002ac-0400-0000-0000-000000000000',\n",
       " '010001e5-0b00-0000-0000-000000000000',\n",
       " '01001f5d-d400-0000-0000-000000000000',\n",
       " '010008ed-0c00-0000-0000-000000000000',\n",
       " '0100123b-6700-0000-0000-000000000000',\n",
       " '01003b59-b100-0000-0000-000000000000',\n",
       " '0102bde0-5b00-0000-0000-000000000000',\n",
       " '010001e0-d700-0000-0000-000000000000',\n",
       " '01032763-b900-0000-0000-000000000000',\n",
       " '01006f2e-b600-0000-0000-000000000000',\n",
       " '01000626-5000-0000-0000-000000000000',\n",
       " '01008729-7800-0000-0000-000000000000',\n",
       " '01012773-a500-0000-0000-000000000000',\n",
       " '01007215-df00-0000-0000-000000000000',\n",
       " '01029ac5-2600-0000-0000-000000000000',\n",
       " '0101594f-5400-0000-0000-000000000000',\n",
       " '0100564a-f200-0000-0000-000000000000',\n",
       " '01017773-b800-0000-0000-000000000000',\n",
       " '010253ee-fd00-0000-0000-000000000000',\n",
       " '01013ba9-f200-0000-0000-000000000000',\n",
       " '010000ad-3900-0000-0000-000000000000',\n",
       " '010132ab-4400-0000-0000-000000000000',\n",
       " '0100f46f-3000-0000-0000-000000000000',\n",
       " '01009a0f-2900-0000-0000-000000000000',\n",
       " '01012f23-6e00-0000-0000-000000000000',\n",
       " '0100771d-9f00-0000-0000-000000000000',\n",
       " '010426d2-6c00-0000-0000-000000000000',\n",
       " '0100db01-bb00-0000-0000-000000000000',\n",
       " '01002748-de00-0000-0000-000000000000',\n",
       " '010163c4-ec00-0000-0000-000000000000',\n",
       " '01000cde-0300-0000-0000-000000000000',\n",
       " '0101efb0-7700-0000-0000-000000000000',\n",
       " '01038bfe-f700-0000-0000-000000000000',\n",
       " '010020ea-e500-0000-0000-000000000000',\n",
       " '010068be-c800-0000-0000-000000000000',\n",
       " '01004022-df00-0000-0000-000000000000',\n",
       " '0104e9c4-9c00-0000-0000-000000000000',\n",
       " '0101f48b-ed00-0000-0000-000000000000',\n",
       " '0100129f-aa00-0000-0000-000000000000',\n",
       " '01009841-3900-0000-0000-000000000000',\n",
       " '01036942-d700-0000-0000-000000000000',\n",
       " '01032af5-9400-0000-0000-000000000000',\n",
       " '01003ce9-6100-0000-0000-000000000000',\n",
       " '01000edd-f300-0000-0000-000000000000',\n",
       " '0100697b-5b00-0000-0000-000000000000',\n",
       " '01000290-4600-0000-0000-000000000000',\n",
       " '0102f774-4300-0000-0000-000000000000',\n",
       " '0102fe5d-8900-0000-0000-000000000000',\n",
       " '01008a8d-2900-0000-0000-000000000000',\n",
       " '0100009b-ec00-0000-0000-000000000000',\n",
       " '01000020-9000-0000-0000-000000000000',\n",
       " '01001396-1400-0000-0000-000000000000',\n",
       " '01027949-ec00-0000-0000-000000000000',\n",
       " '01042e73-7c00-0000-0000-000000000000',\n",
       " '010038a3-c600-0000-0000-000000000000',\n",
       " '0100025a-da00-0000-0000-000000000000',\n",
       " '010016fa-ee00-0000-0000-000000000000',\n",
       " '010018cd-9c00-0000-0000-000000000000',\n",
       " '010003bb-ca00-0000-0000-000000000000',\n",
       " '010006c6-a700-0000-0000-000000000000',\n",
       " '01000150-3100-0000-0000-000000000000',\n",
       " '01022087-2a00-0000-0000-000000000000',\n",
       " '01004363-ca00-0000-0000-000000000000',\n",
       " '0102ba5c-3400-0000-0000-000000000000',\n",
       " '01000000-0400-0000-0000-000000000000',\n",
       " '010215d4-fc00-0000-0000-000000000000',\n",
       " '01022f27-7700-0000-0000-000000000000',\n",
       " '0100999d-4900-0000-0000-000000000000',\n",
       " '010002bd-dd00-0000-0000-000000000000',\n",
       " '01022d82-2500-0000-0000-000000000000',\n",
       " '01010919-4500-0000-0000-000000000000',\n",
       " '0106e5f6-9e00-0000-0000-000000000000',\n",
       " '01000ed0-6e00-0000-0000-000000000000',\n",
       " '01000a9a-6d00-0000-0000-000000000000',\n",
       " '01002b1b-f400-0000-0000-000000000000',\n",
       " '0100b63d-d700-0000-0000-000000000000',\n",
       " '0100016f-f400-0000-0000-000000000000',\n",
       " '010009be-4800-0000-0000-000000000000',\n",
       " '0102bb9f-8c00-0000-0000-000000000000',\n",
       " '01010200-0800-0000-0000-000000000000',\n",
       " '01015856-aa00-0000-0000-000000000000',\n",
       " '01000b51-af00-0000-0000-000000000000',\n",
       " '0101f71f-8100-0000-0000-000000000000',\n",
       " '01006b3c-1900-0000-0000-000000000000',\n",
       " '0100604f-7700-0000-0000-000000000000',\n",
       " '0100032d-d400-0000-0000-000000000000',\n",
       " '01003bb5-e100-0000-0000-000000000000',\n",
       " '01003716-8d00-0000-0000-000000000000',\n",
       " '0102cca1-1900-0000-0000-000000000000',\n",
       " '01002f64-0200-0000-0000-000000000000',\n",
       " '01006f91-ee00-0000-0000-000000000000',\n",
       " '0100007e-2b00-0000-0000-000000000000',\n",
       " '01008fdd-6d00-0000-0000-000000000000',\n",
       " '01000b2d-7800-0000-0000-000000000000',\n",
       " '0100be4b-5200-0000-0000-000000000000',\n",
       " '0100b3e8-f300-0000-0000-000000000000',\n",
       " '01000096-8400-0000-0000-000000000000',\n",
       " '010002d3-e400-0000-0000-000000000000',\n",
       " '0100e98e-4500-0000-0000-000000000000',\n",
       " '01025616-8e00-0000-0000-000000000000',\n",
       " '010008bf-c400-0000-0000-000000000000',\n",
       " '01004fe7-4400-0000-0000-000000000000',\n",
       " '010002b8-c800-0000-0000-000000000000',\n",
       " '01000b10-c600-0000-0000-000000000000',\n",
       " '01026292-b900-0000-0000-000000000000',\n",
       " '0100157c-9a00-0000-0000-000000000000',\n",
       " '01015084-1e00-0000-0000-000000000000',\n",
       " '01000d34-e600-0000-0000-000000000000',\n",
       " '01005d9a-8600-0000-0000-000000000000',\n",
       " '01000a08-d100-0000-0000-000000000000',\n",
       " '0101e02c-db00-0000-0000-000000000000',\n",
       " '01001ab7-0b00-0000-0000-000000000000',\n",
       " '01009058-b300-0000-0000-000000000000',\n",
       " '01013ff6-2d00-0000-0000-000000000000',\n",
       " '010082b8-7f00-0000-0000-000000000000',\n",
       " '01000176-d500-0000-0000-000000000000',\n",
       " '01007544-0d00-0000-0000-000000000000',\n",
       " '01000dae-4f00-0000-0000-000000000000',\n",
       " '01000fd8-bf00-0000-0000-000000000000',\n",
       " '01001617-ad00-0000-0000-000000000000',\n",
       " '01003375-3600-0000-0000-000000000000',\n",
       " '01000997-0800-0000-0000-000000000000',\n",
       " '010572a7-4e00-0000-0000-000000000000',\n",
       " '01000cc1-5100-0000-0000-000000000000',\n",
       " '0100bccb-5500-0000-0000-000000000000',\n",
       " '01020dbe-f900-0000-0000-000000000000',\n",
       " '010073be-4900-0000-0000-000000000000',\n",
       " '0100add4-cf00-0000-0000-000000000000',\n",
       " '01000930-9c00-0000-0000-000000000000',\n",
       " '010001dd-af00-0000-0000-000000000000',\n",
       " '0100c687-e100-0000-0000-000000000000',\n",
       " '010070e0-fe00-0000-0000-000000000000',\n",
       " '01000756-2600-0000-0000-000000000000',\n",
       " '01010500-8a00-0000-0000-000000000000',\n",
       " '01000d72-6500-0000-0000-000000000000',\n",
       " '01001b21-bb00-0000-0000-000000000000',\n",
       " '01012ea2-0100-0000-0000-000000000000',\n",
       " '01001441-1200-0000-0000-000000000000',\n",
       " '01006e32-0800-0000-0000-000000000000',\n",
       " '0101ef46-f500-0000-0000-000000000000',\n",
       " '01002c54-1600-0000-0000-000000000000',\n",
       " '0100a684-9500-0000-0000-000000000000',\n",
       " '0100f7f7-4000-0000-0000-000000000000',\n",
       " '01024f9e-d600-0000-0000-000000000000',\n",
       " '0101c0fd-7e00-0000-0000-000000000000',\n",
       " '01000e94-cc00-0000-0000-000000000000',\n",
       " '0100466e-d100-0000-0000-000000000000',\n",
       " '0101f262-b200-0000-0000-000000000000',\n",
       " '010129b6-1c00-0000-0000-000000000000',\n",
       " '0102542f-d800-0000-0000-000000000000',\n",
       " '01000859-5f00-0000-0000-000000000000',\n",
       " '01037e64-bb00-0000-0000-000000000000',\n",
       " '01077e04-f900-0000-0000-000000000000',\n",
       " '01003701-a500-0000-0000-000000000000',\n",
       " '0100bc47-f400-0000-0000-000000000000',\n",
       " '01033e02-2800-0000-0000-000000000000',\n",
       " '0100018a-8700-0000-0000-000000000000',\n",
       " '01000381-f900-0000-0000-000000000000',\n",
       " '010296ef-bf00-0000-0000-000000000000',\n",
       " '010198ca-9d00-0000-0000-000000000000',\n",
       " '0105e1ae-4100-0000-0000-000000000000',\n",
       " '01001ec7-c000-0000-0000-000000000000',\n",
       " '01049f7e-6600-0000-0000-000000000000',\n",
       " '010315f1-4a00-0000-0000-000000000000',\n",
       " '01038130-1400-0000-0000-000000000000',\n",
       " '01040292-7400-0000-0000-000000000000',\n",
       " '010022db-1500-0000-0000-000000000000',\n",
       " '01036eff-2a00-0000-0000-000000000000',\n",
       " '0100019b-f800-0000-0000-000000000000',\n",
       " '01021bf3-eb00-0000-0000-000000000000',\n",
       " '010068b4-f300-0000-0000-000000000000',\n",
       " '0100aa30-ab00-0000-0000-000000000000',\n",
       " '0105cf26-5800-0000-0000-000000000000',\n",
       " '01009b2f-f200-0000-0000-000000000000',\n",
       " '01000568-0800-0000-0000-000000000000',\n",
       " '01004408-8e00-0000-0000-000000000000',\n",
       " '01017900-2d00-0000-0000-000000000000',\n",
       " '0102e6f4-2400-0000-0000-000000000000',\n",
       " '01000ed4-3b00-0000-0000-000000000000',\n",
       " '01000591-6700-0000-0000-000000000000',\n",
       " '01017264-3800-0000-0000-000000000000',\n",
       " '0100254a-6800-0000-0000-000000000000',\n",
       " '0104b53d-ab00-0000-0000-000000000000',\n",
       " '010086fb-9b00-0000-0000-000000000000',\n",
       " '0100e8a7-4300-0000-0000-000000000000',\n",
       " '0102a7ed-9b00-0000-0000-000000000000',\n",
       " '0101011f-6900-0000-0000-000000000000',\n",
       " '01013d18-5500-0000-0000-000000000000',\n",
       " '0100754c-3f00-0000-0000-000000000000',\n",
       " '01029254-c600-0000-0000-000000000000',\n",
       " '01039b6c-b000-0000-0000-000000000000',\n",
       " '0100c127-9d00-0000-0000-000000000000',\n",
       " '01005096-d300-0000-0000-000000000000',\n",
       " '0100006b-2100-0000-0000-000000000000',\n",
       " '01023be4-0000-0000-0000-000000000000',\n",
       " '010023ce-d300-0000-0000-000000000000',\n",
       " '01000f17-7200-0000-0000-000000000000',\n",
       " '01043a5a-f100-0000-0000-000000000000',\n",
       " '010000d4-9200-0000-0000-000000000000',\n",
       " '01007346-5900-0000-0000-000000000000',\n",
       " '0102dd60-e900-0000-0000-000000000000',\n",
       " '01004b17-c900-0000-0000-000000000000',\n",
       " '010006ee-1f00-0000-0000-000000000000',\n",
       " '01009828-0600-0000-0000-000000000000',\n",
       " '01002aab-b200-0000-0000-000000000000',\n",
       " '01000058-c800-0000-0000-000000000000',\n",
       " '010000b0-c100-0000-0000-000000000000',\n",
       " '01007d7d-0f00-0000-0000-000000000000',\n",
       " '01000875-6800-0000-0000-000000000000',\n",
       " '01000cdc-de00-0000-0000-000000000000',\n",
       " '010010ce-3200-0000-0000-000000000000',\n",
       " '01006e81-de00-0000-0000-000000000000',\n",
       " '01001d9b-3e00-0000-0000-000000000000',\n",
       " '010065dd-2f00-0000-0000-000000000000',\n",
       " '01001367-e600-0000-0000-000000000000',\n",
       " '0100162d-2000-0000-0000-000000000000',\n",
       " '0100e51a-ec00-0000-0000-000000000000',\n",
       " '01000ac1-0000-0000-0000-000000000000',\n",
       " '0100a14a-4500-0000-0000-000000000000',\n",
       " '0100640e-4200-0000-0000-000000000000',\n",
       " '010006d7-1200-0000-0000-000000000000',\n",
       " '0100072d-b500-0000-0000-000000000000',\n",
       " '0100f2dc-5b00-0000-0000-000000000000',\n",
       " '0100e57f-cf00-0000-0000-000000000000',\n",
       " '0100f8a1-ce00-0000-0000-000000000000',\n",
       " '010416ad-4700-0000-0000-000000000000',\n",
       " '01008933-9700-0000-0000-000000000000',\n",
       " '010005b4-fc00-0000-0000-000000000000',\n",
       " '010173f5-d700-0000-0000-000000000000',\n",
       " '010002de-8100-0000-0000-000000000000',\n",
       " '01000477-6700-0000-0000-000000000000',\n",
       " '0100026f-3a00-0000-0000-000000000000',\n",
       " '0100032a-4800-0000-0000-000000000000',\n",
       " '0100c82a-a200-0000-0000-000000000000',\n",
       " '01017e2f-e300-0000-0000-000000000000',\n",
       " '0100b45b-a000-0000-0000-000000000000',\n",
       " '01000d8f-8e00-0000-0000-000000000000',\n",
       " '01008062-6800-0000-0000-000000000000',\n",
       " '010587fe-7900-0000-0000-000000000000',\n",
       " '01001b15-4600-0000-0000-000000000000',\n",
       " '0101dbec-6100-0000-0000-000000000000',\n",
       " '0101f3fb-b500-0000-0000-000000000000',\n",
       " '01006db5-1800-0000-0000-000000000000',\n",
       " '0100aed9-d400-0000-0000-000000000000',\n",
       " '0100d5c8-b200-0000-0000-000000000000',\n",
       " '0100012d-b600-0000-0000-000000000000',\n",
       " '01000186-0100-0000-0000-000000000000',\n",
       " '0100021b-2100-0000-0000-000000000000',\n",
       " '0100065b-3f00-0000-0000-000000000000',\n",
       " '010008bf-1f00-0000-0000-000000000000',\n",
       " '01000955-2000-0000-0000-000000000000',\n",
       " '01000ffd-3300-0000-0000-000000000000',\n",
       " '01002323-e300-0000-0000-000000000000',\n",
       " '01002db8-5d00-0000-0000-000000000000',\n",
       " '010044e3-5e00-0000-0000-000000000000',\n",
       " '0100477e-7a00-0000-0000-000000000000',\n",
       " '01005860-5500-0000-0000-000000000000',\n",
       " '010065b9-3300-0000-0000-000000000000',\n",
       " '01007110-8700-0000-0000-000000000000',\n",
       " '0100a221-5700-0000-0000-000000000000',\n",
       " '0100da31-3900-0000-0000-000000000000',\n",
       " '0100f289-bb00-0000-0000-000000000000',\n",
       " '0100f627-4d00-0000-0000-000000000000',\n",
       " '010126b8-5a00-0000-0000-000000000000',\n",
       " '01013504-1500-0000-0000-000000000000',\n",
       " '01013c9f-cb00-0000-0000-000000000000',\n",
       " '01015bf7-f100-0000-0000-000000000000',\n",
       " '010185a8-ff00-0000-0000-000000000000',\n",
       " '0102d16d-1000-0000-0000-000000000000',\n",
       " '0105fb7f-6f00-0000-0000-000000000000',\n",
       " '01063298-6a00-0000-0000-000000000000',\n",
       " '0100171c-6c00-0000-0000-000000000000',\n",
       " '0101aef0-2b00-0000-0000-000000000000',\n",
       " '0100071a-6f00-0000-0000-000000000000',\n",
       " '01001d49-3e00-0000-0000-000000000000',\n",
       " '0100309f-5600-0000-0000-000000000000',\n",
       " '01007281-1900-0000-0000-000000000000',\n",
       " '01009c8d-8400-0000-0000-000000000000',\n",
       " '0100afea-9700-0000-0000-000000000000',\n",
       " '0100e854-2e00-0000-0000-000000000000',\n",
       " '0100f270-d600-0000-0000-000000000000',\n",
       " '010125c6-3b00-0000-0000-000000000000',\n",
       " '0102d2a3-df00-0000-0000-000000000000',\n",
       " '01012f8f-0900-0000-0000-000000000000',\n",
       " '01057e5c-6900-0000-0000-000000000000',\n",
       " '010003bd-8b00-0000-0000-000000000000',\n",
       " '010150d7-d000-0000-0000-000000000000',\n",
       " '01000177-c800-0000-0000-000000000000',\n",
       " '0100484c-ce00-0000-0000-000000000000',\n",
       " '010287cb-2600-0000-0000-000000000000',\n",
       " '01000cbb-2600-0000-0000-000000000000',\n",
       " '01024eb8-1100-0000-0000-000000000000',\n",
       " '0100c7f0-3d00-0000-0000-000000000000',\n",
       " '01006b94-3500-0000-0000-000000000000',\n",
       " '01001325-7f00-0000-0000-000000000000',\n",
       " '01000787-9d00-0000-0000-000000000000',\n",
       " '0100e6ab-5b00-0000-0000-000000000000',\n",
       " '01002d1e-1900-0000-0000-000000000000',\n",
       " '0102ca6d-e800-0000-0000-000000000000',\n",
       " '010263bb-a000-0000-0000-000000000000',\n",
       " '0102c772-3100-0000-0000-000000000000',\n",
       " '0100558d-9c00-0000-0000-000000000000',\n",
       " ...]"
      ]
     },
     "execution_count": 134,
     "metadata": {},
     "output_type": "execute_result"
    }
   ],
   "source": [
    "UUID_known = df_known_contribs.cntrb_id.to_list()\n",
    "UUID_known"
   ]
  },
  {
   "cell_type": "code",
   "execution_count": 135,
   "metadata": {},
   "outputs": [],
   "source": [
    "# only consider events from known contributors.\n",
    "df_known_event_stream = df_event_stream[df_event_stream.cntrb_id.isin(UUID_known)]"
   ]
  },
  {
   "cell_type": "markdown",
   "metadata": {},
   "source": [
    "### Difference in size:\n",
    "\n",
    "The initial set of events represented the activity of the population of all Github users. \n",
    "\n",
    "By filtering by UUID_known, we now consider only those events from those contributors that we identified in our previous step; those that were in the initial set of repos that we believe are in our ecosystem of interest.\n",
    "\n",
    "This change is from 4.2 Million events to 454K events, nearly an order of magnitude difference."
   ]
  },
  {
   "cell_type": "code",
   "execution_count": 136,
   "metadata": {},
   "outputs": [
    {
     "name": "stdout",
     "output_type": "stream",
     "text": [
      "Diff in size: (4243500, 8) compared to (454850, 8)\n"
     ]
    }
   ],
   "source": [
    "print(f\"Diff in size: {df_event_stream.shape} compared to {df_known_event_stream.shape}\")"
   ]
  },
  {
   "cell_type": "markdown",
   "metadata": {},
   "source": [
    "## Most common events among known contributors"
   ]
  },
  {
   "cell_type": "code",
   "execution_count": 137,
   "metadata": {},
   "outputs": [
    {
     "data": {
      "application/vnd.plotly.v1+json": {
       "config": {
        "plotlyServerURL": "https://plot.ly"
       },
       "data": [
        {
         "alignmentgroup": "True",
         "hovertemplate": "index=%{x}<br>value=%{y}<extra></extra>",
         "legendgroup": "PushEvent",
         "marker": {
          "color": "#636efa",
          "pattern": {
           "shape": ""
          }
         },
         "name": "PushEvent",
         "offsetgroup": "PushEvent",
         "orientation": "v",
         "showlegend": true,
         "textposition": "auto",
         "type": "bar",
         "x": [
          "PushEvent"
         ],
         "xaxis": "x",
         "y": [
          144896
         ],
         "yaxis": "y"
        },
        {
         "alignmentgroup": "True",
         "hovertemplate": "index=%{x}<br>value=%{y}<extra></extra>",
         "legendgroup": "IssueCommentEvent",
         "marker": {
          "color": "#EF553B",
          "pattern": {
           "shape": ""
          }
         },
         "name": "IssueCommentEvent",
         "offsetgroup": "IssueCommentEvent",
         "orientation": "v",
         "showlegend": true,
         "textposition": "auto",
         "type": "bar",
         "x": [
          "IssueCommentEvent"
         ],
         "xaxis": "x",
         "y": [
          89443
         ],
         "yaxis": "y"
        },
        {
         "alignmentgroup": "True",
         "hovertemplate": "index=%{x}<br>value=%{y}<extra></extra>",
         "legendgroup": "PullRequestEvent",
         "marker": {
          "color": "#00cc96",
          "pattern": {
           "shape": ""
          }
         },
         "name": "PullRequestEvent",
         "offsetgroup": "PullRequestEvent",
         "orientation": "v",
         "showlegend": true,
         "textposition": "auto",
         "type": "bar",
         "x": [
          "PullRequestEvent"
         ],
         "xaxis": "x",
         "y": [
          45773
         ],
         "yaxis": "y"
        },
        {
         "alignmentgroup": "True",
         "hovertemplate": "index=%{x}<br>value=%{y}<extra></extra>",
         "legendgroup": "CreateEvent",
         "marker": {
          "color": "#ab63fa",
          "pattern": {
           "shape": ""
          }
         },
         "name": "CreateEvent",
         "offsetgroup": "CreateEvent",
         "orientation": "v",
         "showlegend": true,
         "textposition": "auto",
         "type": "bar",
         "x": [
          "CreateEvent"
         ],
         "xaxis": "x",
         "y": [
          42392
         ],
         "yaxis": "y"
        },
        {
         "alignmentgroup": "True",
         "hovertemplate": "index=%{x}<br>value=%{y}<extra></extra>",
         "legendgroup": "PullRequestReviewEvent",
         "marker": {
          "color": "#FFA15A",
          "pattern": {
           "shape": ""
          }
         },
         "name": "PullRequestReviewEvent",
         "offsetgroup": "PullRequestReviewEvent",
         "orientation": "v",
         "showlegend": true,
         "textposition": "auto",
         "type": "bar",
         "x": [
          "PullRequestReviewEvent"
         ],
         "xaxis": "x",
         "y": [
          35200
         ],
         "yaxis": "y"
        },
        {
         "alignmentgroup": "True",
         "hovertemplate": "index=%{x}<br>value=%{y}<extra></extra>",
         "legendgroup": "DeleteEvent",
         "marker": {
          "color": "#19d3f3",
          "pattern": {
           "shape": ""
          }
         },
         "name": "DeleteEvent",
         "offsetgroup": "DeleteEvent",
         "orientation": "v",
         "showlegend": true,
         "textposition": "auto",
         "type": "bar",
         "x": [
          "DeleteEvent"
         ],
         "xaxis": "x",
         "y": [
          28665
         ],
         "yaxis": "y"
        },
        {
         "alignmentgroup": "True",
         "hovertemplate": "index=%{x}<br>value=%{y}<extra></extra>",
         "legendgroup": "PullRequestReviewCommentEvent",
         "marker": {
          "color": "#FF6692",
          "pattern": {
           "shape": ""
          }
         },
         "name": "PullRequestReviewCommentEvent",
         "offsetgroup": "PullRequestReviewCommentEvent",
         "orientation": "v",
         "showlegend": true,
         "textposition": "auto",
         "type": "bar",
         "x": [
          "PullRequestReviewCommentEvent"
         ],
         "xaxis": "x",
         "y": [
          26634
         ],
         "yaxis": "y"
        },
        {
         "alignmentgroup": "True",
         "hovertemplate": "index=%{x}<br>value=%{y}<extra></extra>",
         "legendgroup": "WatchEvent",
         "marker": {
          "color": "#B6E880",
          "pattern": {
           "shape": ""
          }
         },
         "name": "WatchEvent",
         "offsetgroup": "WatchEvent",
         "orientation": "v",
         "showlegend": true,
         "textposition": "auto",
         "type": "bar",
         "x": [
          "WatchEvent"
         ],
         "xaxis": "x",
         "y": [
          20762
         ],
         "yaxis": "y"
        },
        {
         "alignmentgroup": "True",
         "hovertemplate": "index=%{x}<br>value=%{y}<extra></extra>",
         "legendgroup": "IssuesEvent",
         "marker": {
          "color": "#FF97FF",
          "pattern": {
           "shape": ""
          }
         },
         "name": "IssuesEvent",
         "offsetgroup": "IssuesEvent",
         "orientation": "v",
         "showlegend": true,
         "textposition": "auto",
         "type": "bar",
         "x": [
          "IssuesEvent"
         ],
         "xaxis": "x",
         "y": [
          15182
         ],
         "yaxis": "y"
        },
        {
         "alignmentgroup": "True",
         "hovertemplate": "index=%{x}<br>value=%{y}<extra></extra>",
         "legendgroup": "ForkEvent",
         "marker": {
          "color": "#FECB52",
          "pattern": {
           "shape": ""
          }
         },
         "name": "ForkEvent",
         "offsetgroup": "ForkEvent",
         "orientation": "v",
         "showlegend": true,
         "textposition": "auto",
         "type": "bar",
         "x": [
          "ForkEvent"
         ],
         "xaxis": "x",
         "y": [
          2758
         ],
         "yaxis": "y"
        },
        {
         "alignmentgroup": "True",
         "hovertemplate": "index=%{x}<br>value=%{y}<extra></extra>",
         "legendgroup": "ReleaseEvent",
         "marker": {
          "color": "#636efa",
          "pattern": {
           "shape": ""
          }
         },
         "name": "ReleaseEvent",
         "offsetgroup": "ReleaseEvent",
         "orientation": "v",
         "showlegend": true,
         "textposition": "auto",
         "type": "bar",
         "x": [
          "ReleaseEvent"
         ],
         "xaxis": "x",
         "y": [
          2064
         ],
         "yaxis": "y"
        },
        {
         "alignmentgroup": "True",
         "hovertemplate": "index=%{x}<br>value=%{y}<extra></extra>",
         "legendgroup": "GollumEvent",
         "marker": {
          "color": "#EF553B",
          "pattern": {
           "shape": ""
          }
         },
         "name": "GollumEvent",
         "offsetgroup": "GollumEvent",
         "orientation": "v",
         "showlegend": true,
         "textposition": "auto",
         "type": "bar",
         "x": [
          "GollumEvent"
         ],
         "xaxis": "x",
         "y": [
          367
         ],
         "yaxis": "y"
        },
        {
         "alignmentgroup": "True",
         "hovertemplate": "index=%{x}<br>value=%{y}<extra></extra>",
         "legendgroup": "MemberEvent",
         "marker": {
          "color": "#00cc96",
          "pattern": {
           "shape": ""
          }
         },
         "name": "MemberEvent",
         "offsetgroup": "MemberEvent",
         "orientation": "v",
         "showlegend": true,
         "textposition": "auto",
         "type": "bar",
         "x": [
          "MemberEvent"
         ],
         "xaxis": "x",
         "y": [
          271
         ],
         "yaxis": "y"
        },
        {
         "alignmentgroup": "True",
         "hovertemplate": "index=%{x}<br>value=%{y}<extra></extra>",
         "legendgroup": "CommitCommentEvent",
         "marker": {
          "color": "#ab63fa",
          "pattern": {
           "shape": ""
          }
         },
         "name": "CommitCommentEvent",
         "offsetgroup": "CommitCommentEvent",
         "orientation": "v",
         "showlegend": true,
         "textposition": "auto",
         "type": "bar",
         "x": [
          "CommitCommentEvent"
         ],
         "xaxis": "x",
         "y": [
          270
         ],
         "yaxis": "y"
        },
        {
         "alignmentgroup": "True",
         "hovertemplate": "index=%{x}<br>value=%{y}<extra></extra>",
         "legendgroup": "PublicEvent",
         "marker": {
          "color": "#FFA15A",
          "pattern": {
           "shape": ""
          }
         },
         "name": "PublicEvent",
         "offsetgroup": "PublicEvent",
         "orientation": "v",
         "showlegend": true,
         "textposition": "auto",
         "type": "bar",
         "x": [
          "PublicEvent"
         ],
         "xaxis": "x",
         "y": [
          173
         ],
         "yaxis": "y"
        }
       ],
       "layout": {
        "barmode": "relative",
        "legend": {
         "title": {
          "text": "index"
         },
         "tracegroupgap": 0
        },
        "margin": {
         "t": 60
        },
        "template": {
         "data": {
          "bar": [
           {
            "error_x": {
             "color": "#2a3f5f"
            },
            "error_y": {
             "color": "#2a3f5f"
            },
            "marker": {
             "line": {
              "color": "#E5ECF6",
              "width": 0.5
             },
             "pattern": {
              "fillmode": "overlay",
              "size": 10,
              "solidity": 0.2
             }
            },
            "type": "bar"
           }
          ],
          "barpolar": [
           {
            "marker": {
             "line": {
              "color": "#E5ECF6",
              "width": 0.5
             },
             "pattern": {
              "fillmode": "overlay",
              "size": 10,
              "solidity": 0.2
             }
            },
            "type": "barpolar"
           }
          ],
          "carpet": [
           {
            "aaxis": {
             "endlinecolor": "#2a3f5f",
             "gridcolor": "white",
             "linecolor": "white",
             "minorgridcolor": "white",
             "startlinecolor": "#2a3f5f"
            },
            "baxis": {
             "endlinecolor": "#2a3f5f",
             "gridcolor": "white",
             "linecolor": "white",
             "minorgridcolor": "white",
             "startlinecolor": "#2a3f5f"
            },
            "type": "carpet"
           }
          ],
          "choropleth": [
           {
            "colorbar": {
             "outlinewidth": 0,
             "ticks": ""
            },
            "type": "choropleth"
           }
          ],
          "contour": [
           {
            "colorbar": {
             "outlinewidth": 0,
             "ticks": ""
            },
            "colorscale": [
             [
              0,
              "#0d0887"
             ],
             [
              0.1111111111111111,
              "#46039f"
             ],
             [
              0.2222222222222222,
              "#7201a8"
             ],
             [
              0.3333333333333333,
              "#9c179e"
             ],
             [
              0.4444444444444444,
              "#bd3786"
             ],
             [
              0.5555555555555556,
              "#d8576b"
             ],
             [
              0.6666666666666666,
              "#ed7953"
             ],
             [
              0.7777777777777778,
              "#fb9f3a"
             ],
             [
              0.8888888888888888,
              "#fdca26"
             ],
             [
              1,
              "#f0f921"
             ]
            ],
            "type": "contour"
           }
          ],
          "contourcarpet": [
           {
            "colorbar": {
             "outlinewidth": 0,
             "ticks": ""
            },
            "type": "contourcarpet"
           }
          ],
          "heatmap": [
           {
            "colorbar": {
             "outlinewidth": 0,
             "ticks": ""
            },
            "colorscale": [
             [
              0,
              "#0d0887"
             ],
             [
              0.1111111111111111,
              "#46039f"
             ],
             [
              0.2222222222222222,
              "#7201a8"
             ],
             [
              0.3333333333333333,
              "#9c179e"
             ],
             [
              0.4444444444444444,
              "#bd3786"
             ],
             [
              0.5555555555555556,
              "#d8576b"
             ],
             [
              0.6666666666666666,
              "#ed7953"
             ],
             [
              0.7777777777777778,
              "#fb9f3a"
             ],
             [
              0.8888888888888888,
              "#fdca26"
             ],
             [
              1,
              "#f0f921"
             ]
            ],
            "type": "heatmap"
           }
          ],
          "heatmapgl": [
           {
            "colorbar": {
             "outlinewidth": 0,
             "ticks": ""
            },
            "colorscale": [
             [
              0,
              "#0d0887"
             ],
             [
              0.1111111111111111,
              "#46039f"
             ],
             [
              0.2222222222222222,
              "#7201a8"
             ],
             [
              0.3333333333333333,
              "#9c179e"
             ],
             [
              0.4444444444444444,
              "#bd3786"
             ],
             [
              0.5555555555555556,
              "#d8576b"
             ],
             [
              0.6666666666666666,
              "#ed7953"
             ],
             [
              0.7777777777777778,
              "#fb9f3a"
             ],
             [
              0.8888888888888888,
              "#fdca26"
             ],
             [
              1,
              "#f0f921"
             ]
            ],
            "type": "heatmapgl"
           }
          ],
          "histogram": [
           {
            "marker": {
             "pattern": {
              "fillmode": "overlay",
              "size": 10,
              "solidity": 0.2
             }
            },
            "type": "histogram"
           }
          ],
          "histogram2d": [
           {
            "colorbar": {
             "outlinewidth": 0,
             "ticks": ""
            },
            "colorscale": [
             [
              0,
              "#0d0887"
             ],
             [
              0.1111111111111111,
              "#46039f"
             ],
             [
              0.2222222222222222,
              "#7201a8"
             ],
             [
              0.3333333333333333,
              "#9c179e"
             ],
             [
              0.4444444444444444,
              "#bd3786"
             ],
             [
              0.5555555555555556,
              "#d8576b"
             ],
             [
              0.6666666666666666,
              "#ed7953"
             ],
             [
              0.7777777777777778,
              "#fb9f3a"
             ],
             [
              0.8888888888888888,
              "#fdca26"
             ],
             [
              1,
              "#f0f921"
             ]
            ],
            "type": "histogram2d"
           }
          ],
          "histogram2dcontour": [
           {
            "colorbar": {
             "outlinewidth": 0,
             "ticks": ""
            },
            "colorscale": [
             [
              0,
              "#0d0887"
             ],
             [
              0.1111111111111111,
              "#46039f"
             ],
             [
              0.2222222222222222,
              "#7201a8"
             ],
             [
              0.3333333333333333,
              "#9c179e"
             ],
             [
              0.4444444444444444,
              "#bd3786"
             ],
             [
              0.5555555555555556,
              "#d8576b"
             ],
             [
              0.6666666666666666,
              "#ed7953"
             ],
             [
              0.7777777777777778,
              "#fb9f3a"
             ],
             [
              0.8888888888888888,
              "#fdca26"
             ],
             [
              1,
              "#f0f921"
             ]
            ],
            "type": "histogram2dcontour"
           }
          ],
          "mesh3d": [
           {
            "colorbar": {
             "outlinewidth": 0,
             "ticks": ""
            },
            "type": "mesh3d"
           }
          ],
          "parcoords": [
           {
            "line": {
             "colorbar": {
              "outlinewidth": 0,
              "ticks": ""
             }
            },
            "type": "parcoords"
           }
          ],
          "pie": [
           {
            "automargin": true,
            "type": "pie"
           }
          ],
          "scatter": [
           {
            "fillpattern": {
             "fillmode": "overlay",
             "size": 10,
             "solidity": 0.2
            },
            "type": "scatter"
           }
          ],
          "scatter3d": [
           {
            "line": {
             "colorbar": {
              "outlinewidth": 0,
              "ticks": ""
             }
            },
            "marker": {
             "colorbar": {
              "outlinewidth": 0,
              "ticks": ""
             }
            },
            "type": "scatter3d"
           }
          ],
          "scattercarpet": [
           {
            "marker": {
             "colorbar": {
              "outlinewidth": 0,
              "ticks": ""
             }
            },
            "type": "scattercarpet"
           }
          ],
          "scattergeo": [
           {
            "marker": {
             "colorbar": {
              "outlinewidth": 0,
              "ticks": ""
             }
            },
            "type": "scattergeo"
           }
          ],
          "scattergl": [
           {
            "marker": {
             "colorbar": {
              "outlinewidth": 0,
              "ticks": ""
             }
            },
            "type": "scattergl"
           }
          ],
          "scattermapbox": [
           {
            "marker": {
             "colorbar": {
              "outlinewidth": 0,
              "ticks": ""
             }
            },
            "type": "scattermapbox"
           }
          ],
          "scatterpolar": [
           {
            "marker": {
             "colorbar": {
              "outlinewidth": 0,
              "ticks": ""
             }
            },
            "type": "scatterpolar"
           }
          ],
          "scatterpolargl": [
           {
            "marker": {
             "colorbar": {
              "outlinewidth": 0,
              "ticks": ""
             }
            },
            "type": "scatterpolargl"
           }
          ],
          "scatterternary": [
           {
            "marker": {
             "colorbar": {
              "outlinewidth": 0,
              "ticks": ""
             }
            },
            "type": "scatterternary"
           }
          ],
          "surface": [
           {
            "colorbar": {
             "outlinewidth": 0,
             "ticks": ""
            },
            "colorscale": [
             [
              0,
              "#0d0887"
             ],
             [
              0.1111111111111111,
              "#46039f"
             ],
             [
              0.2222222222222222,
              "#7201a8"
             ],
             [
              0.3333333333333333,
              "#9c179e"
             ],
             [
              0.4444444444444444,
              "#bd3786"
             ],
             [
              0.5555555555555556,
              "#d8576b"
             ],
             [
              0.6666666666666666,
              "#ed7953"
             ],
             [
              0.7777777777777778,
              "#fb9f3a"
             ],
             [
              0.8888888888888888,
              "#fdca26"
             ],
             [
              1,
              "#f0f921"
             ]
            ],
            "type": "surface"
           }
          ],
          "table": [
           {
            "cells": {
             "fill": {
              "color": "#EBF0F8"
             },
             "line": {
              "color": "white"
             }
            },
            "header": {
             "fill": {
              "color": "#C8D4E3"
             },
             "line": {
              "color": "white"
             }
            },
            "type": "table"
           }
          ]
         },
         "layout": {
          "annotationdefaults": {
           "arrowcolor": "#2a3f5f",
           "arrowhead": 0,
           "arrowwidth": 1
          },
          "autotypenumbers": "strict",
          "coloraxis": {
           "colorbar": {
            "outlinewidth": 0,
            "ticks": ""
           }
          },
          "colorscale": {
           "diverging": [
            [
             0,
             "#8e0152"
            ],
            [
             0.1,
             "#c51b7d"
            ],
            [
             0.2,
             "#de77ae"
            ],
            [
             0.3,
             "#f1b6da"
            ],
            [
             0.4,
             "#fde0ef"
            ],
            [
             0.5,
             "#f7f7f7"
            ],
            [
             0.6,
             "#e6f5d0"
            ],
            [
             0.7,
             "#b8e186"
            ],
            [
             0.8,
             "#7fbc41"
            ],
            [
             0.9,
             "#4d9221"
            ],
            [
             1,
             "#276419"
            ]
           ],
           "sequential": [
            [
             0,
             "#0d0887"
            ],
            [
             0.1111111111111111,
             "#46039f"
            ],
            [
             0.2222222222222222,
             "#7201a8"
            ],
            [
             0.3333333333333333,
             "#9c179e"
            ],
            [
             0.4444444444444444,
             "#bd3786"
            ],
            [
             0.5555555555555556,
             "#d8576b"
            ],
            [
             0.6666666666666666,
             "#ed7953"
            ],
            [
             0.7777777777777778,
             "#fb9f3a"
            ],
            [
             0.8888888888888888,
             "#fdca26"
            ],
            [
             1,
             "#f0f921"
            ]
           ],
           "sequentialminus": [
            [
             0,
             "#0d0887"
            ],
            [
             0.1111111111111111,
             "#46039f"
            ],
            [
             0.2222222222222222,
             "#7201a8"
            ],
            [
             0.3333333333333333,
             "#9c179e"
            ],
            [
             0.4444444444444444,
             "#bd3786"
            ],
            [
             0.5555555555555556,
             "#d8576b"
            ],
            [
             0.6666666666666666,
             "#ed7953"
            ],
            [
             0.7777777777777778,
             "#fb9f3a"
            ],
            [
             0.8888888888888888,
             "#fdca26"
            ],
            [
             1,
             "#f0f921"
            ]
           ]
          },
          "colorway": [
           "#636efa",
           "#EF553B",
           "#00cc96",
           "#ab63fa",
           "#FFA15A",
           "#19d3f3",
           "#FF6692",
           "#B6E880",
           "#FF97FF",
           "#FECB52"
          ],
          "font": {
           "color": "#2a3f5f"
          },
          "geo": {
           "bgcolor": "white",
           "lakecolor": "white",
           "landcolor": "#E5ECF6",
           "showlakes": true,
           "showland": true,
           "subunitcolor": "white"
          },
          "hoverlabel": {
           "align": "left"
          },
          "hovermode": "closest",
          "mapbox": {
           "style": "light"
          },
          "paper_bgcolor": "white",
          "plot_bgcolor": "#E5ECF6",
          "polar": {
           "angularaxis": {
            "gridcolor": "white",
            "linecolor": "white",
            "ticks": ""
           },
           "bgcolor": "#E5ECF6",
           "radialaxis": {
            "gridcolor": "white",
            "linecolor": "white",
            "ticks": ""
           }
          },
          "scene": {
           "xaxis": {
            "backgroundcolor": "#E5ECF6",
            "gridcolor": "white",
            "gridwidth": 2,
            "linecolor": "white",
            "showbackground": true,
            "ticks": "",
            "zerolinecolor": "white"
           },
           "yaxis": {
            "backgroundcolor": "#E5ECF6",
            "gridcolor": "white",
            "gridwidth": 2,
            "linecolor": "white",
            "showbackground": true,
            "ticks": "",
            "zerolinecolor": "white"
           },
           "zaxis": {
            "backgroundcolor": "#E5ECF6",
            "gridcolor": "white",
            "gridwidth": 2,
            "linecolor": "white",
            "showbackground": true,
            "ticks": "",
            "zerolinecolor": "white"
           }
          },
          "shapedefaults": {
           "line": {
            "color": "#2a3f5f"
           }
          },
          "ternary": {
           "aaxis": {
            "gridcolor": "white",
            "linecolor": "white",
            "ticks": ""
           },
           "baxis": {
            "gridcolor": "white",
            "linecolor": "white",
            "ticks": ""
           },
           "bgcolor": "#E5ECF6",
           "caxis": {
            "gridcolor": "white",
            "linecolor": "white",
            "ticks": ""
           }
          },
          "title": {
           "x": 0.05
          },
          "xaxis": {
           "automargin": true,
           "gridcolor": "white",
           "linecolor": "white",
           "ticks": "",
           "title": {
            "standoff": 15
           },
           "zerolinecolor": "white",
           "zerolinewidth": 2
          },
          "yaxis": {
           "automargin": true,
           "gridcolor": "white",
           "linecolor": "white",
           "ticks": "",
           "title": {
            "standoff": 15
           },
           "zerolinecolor": "white",
           "zerolinewidth": 2
          }
         }
        },
        "xaxis": {
         "anchor": "y",
         "categoryarray": [
          "PushEvent",
          "IssueCommentEvent",
          "PullRequestEvent",
          "CreateEvent",
          "PullRequestReviewEvent",
          "DeleteEvent",
          "PullRequestReviewCommentEvent",
          "WatchEvent",
          "IssuesEvent",
          "ForkEvent",
          "ReleaseEvent",
          "GollumEvent",
          "MemberEvent",
          "CommitCommentEvent",
          "PublicEvent"
         ],
         "categoryorder": "array",
         "domain": [
          0,
          1
         ],
         "title": {
          "text": "index"
         }
        },
        "yaxis": {
         "anchor": "x",
         "domain": [
          0,
          1
         ],
         "title": {
          "text": "value"
         }
        }
       }
      }
     },
     "metadata": {},
     "output_type": "display_data"
    }
   ],
   "source": [
    "kc_event_counts = df_known_event_stream.event_type.value_counts()\n",
    "fig_kec = px.bar(\n",
    "    data_frame=kc_event_counts.to_frame(),\n",
    "    color=kc_event_counts.to_frame().index,\n",
    ")\n",
    "fig_kec.write_image(\"knowncontributors_eventcount.jpeg\")\n",
    "fig_kec"
   ]
  },
  {
   "cell_type": "code",
   "execution_count": 138,
   "metadata": {},
   "outputs": [
    {
     "data": {
      "image/jpeg": "[encoded data removed]",
      "text/plain": [
       "<IPython.core.display.Image object>"
      ]
     },
     "execution_count": 138,
     "metadata": {},
     "output_type": "execute_result"
    }
   ],
   "source": [
    "Image(\"knowncontributors_eventcount.jpeg\")"
   ]
  },
  {
   "cell_type": "markdown",
   "metadata": {},
   "source": [
    "## Most common repositories among known contributors"
   ]
  },
  {
   "cell_type": "code",
   "execution_count": 139,
   "metadata": {},
   "outputs": [
    {
     "data": {
      "application/vnd.plotly.v1+json": {
       "config": {
        "plotlyServerURL": "https://plot.ly"
       },
       "data": [
        {
         "alignmentgroup": "True",
         "hovertemplate": "color=https://api.github.com/repos/Homebrew/homebrew-core<br>index=%{x}<br>value=%{y}<extra></extra>",
         "legendgroup": "https://api.github.com/repos/Homebrew/homebrew-core",
         "marker": {
          "color": "#636efa",
          "pattern": {
           "shape": ""
          }
         },
         "name": "https://api.github.com/repos/Homebrew/homebrew-core",
         "offsetgroup": "https://api.github.com/repos/Homebrew/homebrew-core",
         "orientation": "v",
         "showlegend": true,
         "textposition": "auto",
         "type": "bar",
         "x": [
          "https://api.github.com/repos/Homebrew/homebrew-core"
         ],
         "xaxis": "x",
         "y": [
          7153
         ],
         "yaxis": "y"
        },
        {
         "alignmentgroup": "True",
         "hovertemplate": "color=https://api.github.com/repos/rust-lang/rust<br>index=%{x}<br>value=%{y}<extra></extra>",
         "legendgroup": "https://api.github.com/repos/rust-lang/rust",
         "marker": {
          "color": "#EF553B",
          "pattern": {
           "shape": ""
          }
         },
         "name": "https://api.github.com/repos/rust-lang/rust",
         "offsetgroup": "https://api.github.com/repos/rust-lang/rust",
         "orientation": "v",
         "showlegend": true,
         "textposition": "auto",
         "type": "bar",
         "x": [
          "https://api.github.com/repos/rust-lang/rust"
         ],
         "xaxis": "x",
         "y": [
          4716
         ],
         "yaxis": "y"
        },
        {
         "alignmentgroup": "True",
         "hovertemplate": "color=https://api.github.com/repos/bytecodealliance/wasmtime<br>index=%{x}<br>value=%{y}<extra></extra>",
         "legendgroup": "https://api.github.com/repos/bytecodealliance/wasmtime",
         "marker": {
          "color": "#00cc96",
          "pattern": {
           "shape": ""
          }
         },
         "name": "https://api.github.com/repos/bytecodealliance/wasmtime",
         "offsetgroup": "https://api.github.com/repos/bytecodealliance/wasmtime",
         "orientation": "v",
         "showlegend": true,
         "textposition": "auto",
         "type": "bar",
         "x": [
          "https://api.github.com/repos/bytecodealliance/wasmtime"
         ],
         "xaxis": "x",
         "y": [
          3126
         ],
         "yaxis": "y"
        },
        {
         "alignmentgroup": "True",
         "hovertemplate": "color=https://api.github.com/repos/WasmEdge/WasmEdge<br>index=%{x}<br>value=%{y}<extra></extra>",
         "legendgroup": "https://api.github.com/repos/WasmEdge/WasmEdge",
         "marker": {
          "color": "#ab63fa",
          "pattern": {
           "shape": ""
          }
         },
         "name": "https://api.github.com/repos/WasmEdge/WasmEdge",
         "offsetgroup": "https://api.github.com/repos/WasmEdge/WasmEdge",
         "orientation": "v",
         "showlegend": true,
         "textposition": "auto",
         "type": "bar",
         "x": [
          "https://api.github.com/repos/WasmEdge/WasmEdge"
         ],
         "xaxis": "x",
         "y": [
          2744
         ],
         "yaxis": "y"
        },
        {
         "alignmentgroup": "True",
         "hovertemplate": "color=https://api.github.com/repos/microsoft/winget-pkgs<br>index=%{x}<br>value=%{y}<extra></extra>",
         "legendgroup": "https://api.github.com/repos/microsoft/winget-pkgs",
         "marker": {
          "color": "#FFA15A",
          "pattern": {
           "shape": ""
          }
         },
         "name": "https://api.github.com/repos/microsoft/winget-pkgs",
         "offsetgroup": "https://api.github.com/repos/microsoft/winget-pkgs",
         "orientation": "v",
         "showlegend": true,
         "textposition": "auto",
         "type": "bar",
         "x": [
          "https://api.github.com/repos/microsoft/winget-pkgs"
         ],
         "xaxis": "x",
         "y": [
          2659
         ],
         "yaxis": "y"
        },
        {
         "alignmentgroup": "True",
         "hovertemplate": "color=https://api.github.com/repos/noir-lang/noir<br>index=%{x}<br>value=%{y}<extra></extra>",
         "legendgroup": "https://api.github.com/repos/noir-lang/noir",
         "marker": {
          "color": "#19d3f3",
          "pattern": {
           "shape": ""
          }
         },
         "name": "https://api.github.com/repos/noir-lang/noir",
         "offsetgroup": "https://api.github.com/repos/noir-lang/noir",
         "orientation": "v",
         "showlegend": true,
         "textposition": "auto",
         "type": "bar",
         "x": [
          "https://api.github.com/repos/noir-lang/noir"
         ],
         "xaxis": "x",
         "y": [
          2155
         ],
         "yaxis": "y"
        },
        {
         "alignmentgroup": "True",
         "hovertemplate": "color=https://api.github.com/repos/leanprover-community/mathlib4<br>index=%{x}<br>value=%{y}<extra></extra>",
         "legendgroup": "https://api.github.com/repos/leanprover-community/mathlib4",
         "marker": {
          "color": "#FF6692",
          "pattern": {
           "shape": ""
          }
         },
         "name": "https://api.github.com/repos/leanprover-community/mathlib4",
         "offsetgroup": "https://api.github.com/repos/leanprover-community/mathlib4",
         "orientation": "v",
         "showlegend": true,
         "textposition": "auto",
         "type": "bar",
         "x": [
          "https://api.github.com/repos/leanprover-community/mathlib4"
         ],
         "xaxis": "x",
         "y": [
          2125
         ],
         "yaxis": "y"
        },
        {
         "alignmentgroup": "True",
         "hovertemplate": "color=https://api.github.com/repos/wasmerio/wasmer<br>index=%{x}<br>value=%{y}<extra></extra>",
         "legendgroup": "https://api.github.com/repos/wasmerio/wasmer",
         "marker": {
          "color": "#B6E880",
          "pattern": {
           "shape": ""
          }
         },
         "name": "https://api.github.com/repos/wasmerio/wasmer",
         "offsetgroup": "https://api.github.com/repos/wasmerio/wasmer",
         "orientation": "v",
         "showlegend": true,
         "textposition": "auto",
         "type": "bar",
         "x": [
          "https://api.github.com/repos/wasmerio/wasmer"
         ],
         "xaxis": "x",
         "y": [
          2118
         ],
         "yaxis": "y"
        },
        {
         "alignmentgroup": "True",
         "hovertemplate": "color=https://api.github.com/repos/NixOS/nixpkgs<br>index=%{x}<br>value=%{y}<extra></extra>",
         "legendgroup": "https://api.github.com/repos/NixOS/nixpkgs",
         "marker": {
          "color": "#FF97FF",
          "pattern": {
           "shape": ""
          }
         },
         "name": "https://api.github.com/repos/NixOS/nixpkgs",
         "offsetgroup": "https://api.github.com/repos/NixOS/nixpkgs",
         "orientation": "v",
         "showlegend": true,
         "textposition": "auto",
         "type": "bar",
         "x": [
          "https://api.github.com/repos/NixOS/nixpkgs"
         ],
         "xaxis": "x",
         "y": [
          2062
         ],
         "yaxis": "y"
        },
        {
         "alignmentgroup": "True",
         "hovertemplate": "color=https://api.github.com/repos/risingwavelabs/risingwave<br>index=%{x}<br>value=%{y}<extra></extra>",
         "legendgroup": "https://api.github.com/repos/risingwavelabs/risingwave",
         "marker": {
          "color": "#FECB52",
          "pattern": {
           "shape": ""
          }
         },
         "name": "https://api.github.com/repos/risingwavelabs/risingwave",
         "offsetgroup": "https://api.github.com/repos/risingwavelabs/risingwave",
         "orientation": "v",
         "showlegend": true,
         "textposition": "auto",
         "type": "bar",
         "x": [
          "https://api.github.com/repos/risingwavelabs/risingwave"
         ],
         "xaxis": "x",
         "y": [
          2042
         ],
         "yaxis": "y"
        },
        {
         "alignmentgroup": "True",
         "hovertemplate": "color=https://api.github.com/repos/golang/go<br>index=%{x}<br>value=%{y}<extra></extra>",
         "legendgroup": "https://api.github.com/repos/golang/go",
         "marker": {
          "color": "#636efa",
          "pattern": {
           "shape": ""
          }
         },
         "name": "https://api.github.com/repos/golang/go",
         "offsetgroup": "https://api.github.com/repos/golang/go",
         "orientation": "v",
         "showlegend": true,
         "textposition": "auto",
         "type": "bar",
         "x": [
          "https://api.github.com/repos/golang/go"
         ],
         "xaxis": "x",
         "y": [
          1624
         ],
         "yaxis": "y"
        },
        {
         "alignmentgroup": "True",
         "hovertemplate": "color=https://api.github.com/repos/bbigras/nix-config<br>index=%{x}<br>value=%{y}<extra></extra>",
         "legendgroup": "https://api.github.com/repos/bbigras/nix-config",
         "marker": {
          "color": "#EF553B",
          "pattern": {
           "shape": ""
          }
         },
         "name": "https://api.github.com/repos/bbigras/nix-config",
         "offsetgroup": "https://api.github.com/repos/bbigras/nix-config",
         "orientation": "v",
         "showlegend": true,
         "textposition": "auto",
         "type": "bar",
         "x": [
          "https://api.github.com/repos/bbigras/nix-config"
         ],
         "xaxis": "x",
         "y": [
          1498
         ],
         "yaxis": "y"
        },
        {
         "alignmentgroup": "True",
         "hovertemplate": "color=https://api.github.com/repos/dotnet/runtime<br>index=%{x}<br>value=%{y}<extra></extra>",
         "legendgroup": "https://api.github.com/repos/dotnet/runtime",
         "marker": {
          "color": "#00cc96",
          "pattern": {
           "shape": ""
          }
         },
         "name": "https://api.github.com/repos/dotnet/runtime",
         "offsetgroup": "https://api.github.com/repos/dotnet/runtime",
         "orientation": "v",
         "showlegend": true,
         "textposition": "auto",
         "type": "bar",
         "x": [
          "https://api.github.com/repos/dotnet/runtime"
         ],
         "xaxis": "x",
         "y": [
          1415
         ],
         "yaxis": "y"
        },
        {
         "alignmentgroup": "True",
         "hovertemplate": "color=https://api.github.com/repos/gear-tech/gear<br>index=%{x}<br>value=%{y}<extra></extra>",
         "legendgroup": "https://api.github.com/repos/gear-tech/gear",
         "marker": {
          "color": "#ab63fa",
          "pattern": {
           "shape": ""
          }
         },
         "name": "https://api.github.com/repos/gear-tech/gear",
         "offsetgroup": "https://api.github.com/repos/gear-tech/gear",
         "orientation": "v",
         "showlegend": true,
         "textposition": "auto",
         "type": "bar",
         "x": [
          "https://api.github.com/repos/gear-tech/gear"
         ],
         "xaxis": "x",
         "y": [
          1321
         ],
         "yaxis": "y"
        },
        {
         "alignmentgroup": "True",
         "hovertemplate": "color=https://api.github.com/repos/apollographql/router<br>index=%{x}<br>value=%{y}<extra></extra>",
         "legendgroup": "https://api.github.com/repos/apollographql/router",
         "marker": {
          "color": "#FFA15A",
          "pattern": {
           "shape": ""
          }
         },
         "name": "https://api.github.com/repos/apollographql/router",
         "offsetgroup": "https://api.github.com/repos/apollographql/router",
         "orientation": "v",
         "showlegend": true,
         "textposition": "auto",
         "type": "bar",
         "x": [
          "https://api.github.com/repos/apollographql/router"
         ],
         "xaxis": "x",
         "y": [
          1263
         ],
         "yaxis": "y"
        },
        {
         "alignmentgroup": "True",
         "hovertemplate": "color=https://api.github.com/repos/matrix-org/matrix-rust-sdk<br>index=%{x}<br>value=%{y}<extra></extra>",
         "legendgroup": "https://api.github.com/repos/matrix-org/matrix-rust-sdk",
         "marker": {
          "color": "#19d3f3",
          "pattern": {
           "shape": ""
          }
         },
         "name": "https://api.github.com/repos/matrix-org/matrix-rust-sdk",
         "offsetgroup": "https://api.github.com/repos/matrix-org/matrix-rust-sdk",
         "orientation": "v",
         "showlegend": true,
         "textposition": "auto",
         "type": "bar",
         "x": [
          "https://api.github.com/repos/matrix-org/matrix-rust-sdk"
         ],
         "xaxis": "x",
         "y": [
          1262
         ],
         "yaxis": "y"
        },
        {
         "alignmentgroup": "True",
         "hovertemplate": "color=https://api.github.com/repos/WebAssembly/binaryen<br>index=%{x}<br>value=%{y}<extra></extra>",
         "legendgroup": "https://api.github.com/repos/WebAssembly/binaryen",
         "marker": {
          "color": "#FF6692",
          "pattern": {
           "shape": ""
          }
         },
         "name": "https://api.github.com/repos/WebAssembly/binaryen",
         "offsetgroup": "https://api.github.com/repos/WebAssembly/binaryen",
         "orientation": "v",
         "showlegend": true,
         "textposition": "auto",
         "type": "bar",
         "x": [
          "https://api.github.com/repos/WebAssembly/binaryen"
         ],
         "xaxis": "x",
         "y": [
          1202
         ],
         "yaxis": "y"
        },
        {
         "alignmentgroup": "True",
         "hovertemplate": "color=https://api.github.com/repos/dependabot/dependabot-core<br>index=%{x}<br>value=%{y}<extra></extra>",
         "legendgroup": "https://api.github.com/repos/dependabot/dependabot-core",
         "marker": {
          "color": "#B6E880",
          "pattern": {
           "shape": ""
          }
         },
         "name": "https://api.github.com/repos/dependabot/dependabot-core",
         "offsetgroup": "https://api.github.com/repos/dependabot/dependabot-core",
         "orientation": "v",
         "showlegend": true,
         "textposition": "auto",
         "type": "bar",
         "x": [
          "https://api.github.com/repos/dependabot/dependabot-core"
         ],
         "xaxis": "x",
         "y": [
          1192
         ],
         "yaxis": "y"
        },
        {
         "alignmentgroup": "True",
         "hovertemplate": "color=https://api.github.com/repos/wasmCloud/wasmCloud<br>index=%{x}<br>value=%{y}<extra></extra>",
         "legendgroup": "https://api.github.com/repos/wasmCloud/wasmCloud",
         "marker": {
          "color": "#FF97FF",
          "pattern": {
           "shape": ""
          }
         },
         "name": "https://api.github.com/repos/wasmCloud/wasmCloud",
         "offsetgroup": "https://api.github.com/repos/wasmCloud/wasmCloud",
         "orientation": "v",
         "showlegend": true,
         "textposition": "auto",
         "type": "bar",
         "x": [
          "https://api.github.com/repos/wasmCloud/wasmCloud"
         ],
         "xaxis": "x",
         "y": [
          1078
         ],
         "yaxis": "y"
        },
        {
         "alignmentgroup": "True",
         "hovertemplate": "color=https://api.github.com/repos/containerd/runwasi<br>index=%{x}<br>value=%{y}<extra></extra>",
         "legendgroup": "https://api.github.com/repos/containerd/runwasi",
         "marker": {
          "color": "#FECB52",
          "pattern": {
           "shape": ""
          }
         },
         "name": "https://api.github.com/repos/containerd/runwasi",
         "offsetgroup": "https://api.github.com/repos/containerd/runwasi",
         "orientation": "v",
         "showlegend": true,
         "textposition": "auto",
         "type": "bar",
         "x": [
          "https://api.github.com/repos/containerd/runwasi"
         ],
         "xaxis": "x",
         "y": [
          1050
         ],
         "yaxis": "y"
        },
        {
         "alignmentgroup": "True",
         "hovertemplate": "color=https://api.github.com/repos/hrydgard/ppsspp<br>index=%{x}<br>value=%{y}<extra></extra>",
         "legendgroup": "https://api.github.com/repos/hrydgard/ppsspp",
         "marker": {
          "color": "#636efa",
          "pattern": {
           "shape": ""
          }
         },
         "name": "https://api.github.com/repos/hrydgard/ppsspp",
         "offsetgroup": "https://api.github.com/repos/hrydgard/ppsspp",
         "orientation": "v",
         "showlegend": true,
         "textposition": "auto",
         "type": "bar",
         "x": [
          "https://api.github.com/repos/hrydgard/ppsspp"
         ],
         "xaxis": "x",
         "y": [
          1030
         ],
         "yaxis": "y"
        },
        {
         "alignmentgroup": "True",
         "hovertemplate": "color=https://api.github.com/repos/CosmWasm/cosmwasm<br>index=%{x}<br>value=%{y}<extra></extra>",
         "legendgroup": "https://api.github.com/repos/CosmWasm/cosmwasm",
         "marker": {
          "color": "#EF553B",
          "pattern": {
           "shape": ""
          }
         },
         "name": "https://api.github.com/repos/CosmWasm/cosmwasm",
         "offsetgroup": "https://api.github.com/repos/CosmWasm/cosmwasm",
         "orientation": "v",
         "showlegend": true,
         "textposition": "auto",
         "type": "bar",
         "x": [
          "https://api.github.com/repos/CosmWasm/cosmwasm"
         ],
         "xaxis": "x",
         "y": [
          1019
         ],
         "yaxis": "y"
        },
        {
         "alignmentgroup": "True",
         "hovertemplate": "color=https://api.github.com/repos/astral-sh/ruff<br>index=%{x}<br>value=%{y}<extra></extra>",
         "legendgroup": "https://api.github.com/repos/astral-sh/ruff",
         "marker": {
          "color": "#00cc96",
          "pattern": {
           "shape": ""
          }
         },
         "name": "https://api.github.com/repos/astral-sh/ruff",
         "offsetgroup": "https://api.github.com/repos/astral-sh/ruff",
         "orientation": "v",
         "showlegend": true,
         "textposition": "auto",
         "type": "bar",
         "x": [
          "https://api.github.com/repos/astral-sh/ruff"
         ],
         "xaxis": "x",
         "y": [
          990
         ],
         "yaxis": "y"
        },
        {
         "alignmentgroup": "True",
         "hovertemplate": "color=https://api.github.com/repos/FuelLabs/fuel-indexer<br>index=%{x}<br>value=%{y}<extra></extra>",
         "legendgroup": "https://api.github.com/repos/FuelLabs/fuel-indexer",
         "marker": {
          "color": "#ab63fa",
          "pattern": {
           "shape": ""
          }
         },
         "name": "https://api.github.com/repos/FuelLabs/fuel-indexer",
         "offsetgroup": "https://api.github.com/repos/FuelLabs/fuel-indexer",
         "orientation": "v",
         "showlegend": true,
         "textposition": "auto",
         "type": "bar",
         "x": [
          "https://api.github.com/repos/FuelLabs/fuel-indexer"
         ],
         "xaxis": "x",
         "y": [
          976
         ],
         "yaxis": "y"
        },
        {
         "alignmentgroup": "True",
         "hovertemplate": "color=https://api.github.com/repos/massalabs/massa<br>index=%{x}<br>value=%{y}<extra></extra>",
         "legendgroup": "https://api.github.com/repos/massalabs/massa",
         "marker": {
          "color": "#FFA15A",
          "pattern": {
           "shape": ""
          }
         },
         "name": "https://api.github.com/repos/massalabs/massa",
         "offsetgroup": "https://api.github.com/repos/massalabs/massa",
         "orientation": "v",
         "showlegend": true,
         "textposition": "auto",
         "type": "bar",
         "x": [
          "https://api.github.com/repos/massalabs/massa"
         ],
         "xaxis": "x",
         "y": [
          960
         ],
         "yaxis": "y"
        },
        {
         "alignmentgroup": "True",
         "hovertemplate": "color=https://api.github.com/repos/onflow/flow-go<br>index=%{x}<br>value=%{y}<extra></extra>",
         "legendgroup": "https://api.github.com/repos/onflow/flow-go",
         "marker": {
          "color": "#19d3f3",
          "pattern": {
           "shape": ""
          }
         },
         "name": "https://api.github.com/repos/onflow/flow-go",
         "offsetgroup": "https://api.github.com/repos/onflow/flow-go",
         "orientation": "v",
         "showlegend": true,
         "textposition": "auto",
         "type": "bar",
         "x": [
          "https://api.github.com/repos/onflow/flow-go"
         ],
         "xaxis": "x",
         "y": [
          949
         ],
         "yaxis": "y"
        },
        {
         "alignmentgroup": "True",
         "hovertemplate": "color=https://api.github.com/repos/ni/nimble<br>index=%{x}<br>value=%{y}<extra></extra>",
         "legendgroup": "https://api.github.com/repos/ni/nimble",
         "marker": {
          "color": "#FF6692",
          "pattern": {
           "shape": ""
          }
         },
         "name": "https://api.github.com/repos/ni/nimble",
         "offsetgroup": "https://api.github.com/repos/ni/nimble",
         "orientation": "v",
         "showlegend": true,
         "textposition": "auto",
         "type": "bar",
         "x": [
          "https://api.github.com/repos/ni/nimble"
         ],
         "xaxis": "x",
         "y": [
          938
         ],
         "yaxis": "y"
        },
        {
         "alignmentgroup": "True",
         "hovertemplate": "color=https://api.github.com/repos/vercel/next.js<br>index=%{x}<br>value=%{y}<extra></extra>",
         "legendgroup": "https://api.github.com/repos/vercel/next.js",
         "marker": {
          "color": "#B6E880",
          "pattern": {
           "shape": ""
          }
         },
         "name": "https://api.github.com/repos/vercel/next.js",
         "offsetgroup": "https://api.github.com/repos/vercel/next.js",
         "orientation": "v",
         "showlegend": true,
         "textposition": "auto",
         "type": "bar",
         "x": [
          "https://api.github.com/repos/vercel/next.js"
         ],
         "xaxis": "x",
         "y": [
          919
         ],
         "yaxis": "y"
        },
        {
         "alignmentgroup": "True",
         "hovertemplate": "color=https://api.github.com/repos/tigerbeetle/tigerbeetle<br>index=%{x}<br>value=%{y}<extra></extra>",
         "legendgroup": "https://api.github.com/repos/tigerbeetle/tigerbeetle",
         "marker": {
          "color": "#FF97FF",
          "pattern": {
           "shape": ""
          }
         },
         "name": "https://api.github.com/repos/tigerbeetle/tigerbeetle",
         "offsetgroup": "https://api.github.com/repos/tigerbeetle/tigerbeetle",
         "orientation": "v",
         "showlegend": true,
         "textposition": "auto",
         "type": "bar",
         "x": [
          "https://api.github.com/repos/tigerbeetle/tigerbeetle"
         ],
         "xaxis": "x",
         "y": [
          868
         ],
         "yaxis": "y"
        },
        {
         "alignmentgroup": "True",
         "hovertemplate": "color=https://api.github.com/repos/cargo-bins/cargo-binstall<br>index=%{x}<br>value=%{y}<extra></extra>",
         "legendgroup": "https://api.github.com/repos/cargo-bins/cargo-binstall",
         "marker": {
          "color": "#FECB52",
          "pattern": {
           "shape": ""
          }
         },
         "name": "https://api.github.com/repos/cargo-bins/cargo-binstall",
         "offsetgroup": "https://api.github.com/repos/cargo-bins/cargo-binstall",
         "orientation": "v",
         "showlegend": true,
         "textposition": "auto",
         "type": "bar",
         "x": [
          "https://api.github.com/repos/cargo-bins/cargo-binstall"
         ],
         "xaxis": "x",
         "y": [
          866
         ],
         "yaxis": "y"
        },
        {
         "alignmentgroup": "True",
         "hovertemplate": "color=https://api.github.com/repos/paradigmxyz/reth<br>index=%{x}<br>value=%{y}<extra></extra>",
         "legendgroup": "https://api.github.com/repos/paradigmxyz/reth",
         "marker": {
          "color": "#636efa",
          "pattern": {
           "shape": ""
          }
         },
         "name": "https://api.github.com/repos/paradigmxyz/reth",
         "offsetgroup": "https://api.github.com/repos/paradigmxyz/reth",
         "orientation": "v",
         "showlegend": true,
         "textposition": "auto",
         "type": "bar",
         "x": [
          "https://api.github.com/repos/paradigmxyz/reth"
         ],
         "xaxis": "x",
         "y": [
          855
         ],
         "yaxis": "y"
        },
        {
         "alignmentgroup": "True",
         "hovertemplate": "color=https://api.github.com/repos/paritytech/substrate<br>index=%{x}<br>value=%{y}<extra></extra>",
         "legendgroup": "https://api.github.com/repos/paritytech/substrate",
         "marker": {
          "color": "#EF553B",
          "pattern": {
           "shape": ""
          }
         },
         "name": "https://api.github.com/repos/paritytech/substrate",
         "offsetgroup": "https://api.github.com/repos/paritytech/substrate",
         "orientation": "v",
         "showlegend": true,
         "textposition": "auto",
         "type": "bar",
         "x": [
          "https://api.github.com/repos/paritytech/substrate"
         ],
         "xaxis": "x",
         "y": [
          850
         ],
         "yaxis": "y"
        },
        {
         "alignmentgroup": "True",
         "hovertemplate": "color=https://api.github.com/repos/emscripten-core/emscripten<br>index=%{x}<br>value=%{y}<extra></extra>",
         "legendgroup": "https://api.github.com/repos/emscripten-core/emscripten",
         "marker": {
          "color": "#00cc96",
          "pattern": {
           "shape": ""
          }
         },
         "name": "https://api.github.com/repos/emscripten-core/emscripten",
         "offsetgroup": "https://api.github.com/repos/emscripten-core/emscripten",
         "orientation": "v",
         "showlegend": true,
         "textposition": "auto",
         "type": "bar",
         "x": [
          "https://api.github.com/repos/emscripten-core/emscripten"
         ],
         "xaxis": "x",
         "y": [
          834
         ],
         "yaxis": "y"
        },
        {
         "alignmentgroup": "True",
         "hovertemplate": "color=https://api.github.com/repos/anoma/namada<br>index=%{x}<br>value=%{y}<extra></extra>",
         "legendgroup": "https://api.github.com/repos/anoma/namada",
         "marker": {
          "color": "#ab63fa",
          "pattern": {
           "shape": ""
          }
         },
         "name": "https://api.github.com/repos/anoma/namada",
         "offsetgroup": "https://api.github.com/repos/anoma/namada",
         "orientation": "v",
         "showlegend": true,
         "textposition": "auto",
         "type": "bar",
         "x": [
          "https://api.github.com/repos/anoma/namada"
         ],
         "xaxis": "x",
         "y": [
          820
         ],
         "yaxis": "y"
        },
        {
         "alignmentgroup": "True",
         "hovertemplate": "color=https://api.github.com/repos/leptos-rs/leptos<br>index=%{x}<br>value=%{y}<extra></extra>",
         "legendgroup": "https://api.github.com/repos/leptos-rs/leptos",
         "marker": {
          "color": "#FFA15A",
          "pattern": {
           "shape": ""
          }
         },
         "name": "https://api.github.com/repos/leptos-rs/leptos",
         "offsetgroup": "https://api.github.com/repos/leptos-rs/leptos",
         "orientation": "v",
         "showlegend": true,
         "textposition": "auto",
         "type": "bar",
         "x": [
          "https://api.github.com/repos/leptos-rs/leptos"
         ],
         "xaxis": "x",
         "y": [
          807
         ],
         "yaxis": "y"
        },
        {
         "alignmentgroup": "True",
         "hovertemplate": "color=https://api.github.com/repos/AmbientRun/Ambient<br>index=%{x}<br>value=%{y}<extra></extra>",
         "legendgroup": "https://api.github.com/repos/AmbientRun/Ambient",
         "marker": {
          "color": "#19d3f3",
          "pattern": {
           "shape": ""
          }
         },
         "name": "https://api.github.com/repos/AmbientRun/Ambient",
         "offsetgroup": "https://api.github.com/repos/AmbientRun/Ambient",
         "orientation": "v",
         "showlegend": true,
         "textposition": "auto",
         "type": "bar",
         "x": [
          "https://api.github.com/repos/AmbientRun/Ambient"
         ],
         "xaxis": "x",
         "y": [
          797
         ],
         "yaxis": "y"
        },
        {
         "alignmentgroup": "True",
         "hovertemplate": "color=https://api.github.com/repos/llvm/llvm-project<br>index=%{x}<br>value=%{y}<extra></extra>",
         "legendgroup": "https://api.github.com/repos/llvm/llvm-project",
         "marker": {
          "color": "#FF6692",
          "pattern": {
           "shape": ""
          }
         },
         "name": "https://api.github.com/repos/llvm/llvm-project",
         "offsetgroup": "https://api.github.com/repos/llvm/llvm-project",
         "orientation": "v",
         "showlegend": true,
         "textposition": "auto",
         "type": "bar",
         "x": [
          "https://api.github.com/repos/llvm/llvm-project"
         ],
         "xaxis": "x",
         "y": [
          795
         ],
         "yaxis": "y"
        },
        {
         "alignmentgroup": "True",
         "hovertemplate": "color=https://api.github.com/repos/fermyon/developer<br>index=%{x}<br>value=%{y}<extra></extra>",
         "legendgroup": "https://api.github.com/repos/fermyon/developer",
         "marker": {
          "color": "#B6E880",
          "pattern": {
           "shape": ""
          }
         },
         "name": "https://api.github.com/repos/fermyon/developer",
         "offsetgroup": "https://api.github.com/repos/fermyon/developer",
         "orientation": "v",
         "showlegend": true,
         "textposition": "auto",
         "type": "bar",
         "x": [
          "https://api.github.com/repos/fermyon/developer"
         ],
         "xaxis": "x",
         "y": [
          787
         ],
         "yaxis": "y"
        },
        {
         "alignmentgroup": "True",
         "hovertemplate": "color=https://api.github.com/repos/fermyon/spin<br>index=%{x}<br>value=%{y}<extra></extra>",
         "legendgroup": "https://api.github.com/repos/fermyon/spin",
         "marker": {
          "color": "#FF97FF",
          "pattern": {
           "shape": ""
          }
         },
         "name": "https://api.github.com/repos/fermyon/spin",
         "offsetgroup": "https://api.github.com/repos/fermyon/spin",
         "orientation": "v",
         "showlegend": true,
         "textposition": "auto",
         "type": "bar",
         "x": [
          "https://api.github.com/repos/fermyon/spin"
         ],
         "xaxis": "x",
         "y": [
          782
         ],
         "yaxis": "y"
        },
        {
         "alignmentgroup": "True",
         "hovertemplate": "color=https://api.github.com/repos/gravitational/teleport<br>index=%{x}<br>value=%{y}<extra></extra>",
         "legendgroup": "https://api.github.com/repos/gravitational/teleport",
         "marker": {
          "color": "#FECB52",
          "pattern": {
           "shape": ""
          }
         },
         "name": "https://api.github.com/repos/gravitational/teleport",
         "offsetgroup": "https://api.github.com/repos/gravitational/teleport",
         "orientation": "v",
         "showlegend": true,
         "textposition": "auto",
         "type": "bar",
         "x": [
          "https://api.github.com/repos/gravitational/teleport"
         ],
         "xaxis": "x",
         "y": [
          778
         ],
         "yaxis": "y"
        },
        {
         "alignmentgroup": "True",
         "hovertemplate": "color=https://api.github.com/repos/andrewdavidmackenzie/flow<br>index=%{x}<br>value=%{y}<extra></extra>",
         "legendgroup": "https://api.github.com/repos/andrewdavidmackenzie/flow",
         "marker": {
          "color": "#636efa",
          "pattern": {
           "shape": ""
          }
         },
         "name": "https://api.github.com/repos/andrewdavidmackenzie/flow",
         "offsetgroup": "https://api.github.com/repos/andrewdavidmackenzie/flow",
         "orientation": "v",
         "showlegend": true,
         "textposition": "auto",
         "type": "bar",
         "x": [
          "https://api.github.com/repos/andrewdavidmackenzie/flow"
         ],
         "xaxis": "x",
         "y": [
          771
         ],
         "yaxis": "y"
        },
        {
         "alignmentgroup": "True",
         "hovertemplate": "color=https://api.github.com/repos/swc-project/swc<br>index=%{x}<br>value=%{y}<extra></extra>",
         "legendgroup": "https://api.github.com/repos/swc-project/swc",
         "marker": {
          "color": "#EF553B",
          "pattern": {
           "shape": ""
          }
         },
         "name": "https://api.github.com/repos/swc-project/swc",
         "offsetgroup": "https://api.github.com/repos/swc-project/swc",
         "orientation": "v",
         "showlegend": true,
         "textposition": "auto",
         "type": "bar",
         "x": [
          "https://api.github.com/repos/swc-project/swc"
         ],
         "xaxis": "x",
         "y": [
          757
         ],
         "yaxis": "y"
        },
        {
         "alignmentgroup": "True",
         "hovertemplate": "color=https://api.github.com/repos/dotnet/aspnetcore<br>index=%{x}<br>value=%{y}<extra></extra>",
         "legendgroup": "https://api.github.com/repos/dotnet/aspnetcore",
         "marker": {
          "color": "#00cc96",
          "pattern": {
           "shape": ""
          }
         },
         "name": "https://api.github.com/repos/dotnet/aspnetcore",
         "offsetgroup": "https://api.github.com/repos/dotnet/aspnetcore",
         "orientation": "v",
         "showlegend": true,
         "textposition": "auto",
         "type": "bar",
         "x": [
          "https://api.github.com/repos/dotnet/aspnetcore"
         ],
         "xaxis": "x",
         "y": [
          756
         ],
         "yaxis": "y"
        },
        {
         "alignmentgroup": "True",
         "hovertemplate": "color=https://api.github.com/repos/web-infra-dev/rspack<br>index=%{x}<br>value=%{y}<extra></extra>",
         "legendgroup": "https://api.github.com/repos/web-infra-dev/rspack",
         "marker": {
          "color": "#ab63fa",
          "pattern": {
           "shape": ""
          }
         },
         "name": "https://api.github.com/repos/web-infra-dev/rspack",
         "offsetgroup": "https://api.github.com/repos/web-infra-dev/rspack",
         "orientation": "v",
         "showlegend": true,
         "textposition": "auto",
         "type": "bar",
         "x": [
          "https://api.github.com/repos/web-infra-dev/rspack"
         ],
         "xaxis": "x",
         "y": [
          752
         ],
         "yaxis": "y"
        },
        {
         "alignmentgroup": "True",
         "hovertemplate": "color=https://api.github.com/repos/paritytech/polkadot-sdk<br>index=%{x}<br>value=%{y}<extra></extra>",
         "legendgroup": "https://api.github.com/repos/paritytech/polkadot-sdk",
         "marker": {
          "color": "#FFA15A",
          "pattern": {
           "shape": ""
          }
         },
         "name": "https://api.github.com/repos/paritytech/polkadot-sdk",
         "offsetgroup": "https://api.github.com/repos/paritytech/polkadot-sdk",
         "orientation": "v",
         "showlegend": true,
         "textposition": "auto",
         "type": "bar",
         "x": [
          "https://api.github.com/repos/paritytech/polkadot-sdk"
         ],
         "xaxis": "x",
         "y": [
          728
         ],
         "yaxis": "y"
        },
        {
         "alignmentgroup": "True",
         "hovertemplate": "color=https://api.github.com/repos/OffchainLabs/nitro<br>index=%{x}<br>value=%{y}<extra></extra>",
         "legendgroup": "https://api.github.com/repos/OffchainLabs/nitro",
         "marker": {
          "color": "#19d3f3",
          "pattern": {
           "shape": ""
          }
         },
         "name": "https://api.github.com/repos/OffchainLabs/nitro",
         "offsetgroup": "https://api.github.com/repos/OffchainLabs/nitro",
         "orientation": "v",
         "showlegend": true,
         "textposition": "auto",
         "type": "bar",
         "x": [
          "https://api.github.com/repos/OffchainLabs/nitro"
         ],
         "xaxis": "x",
         "y": [
          719
         ],
         "yaxis": "y"
        },
        {
         "alignmentgroup": "True",
         "hovertemplate": "color=https://api.github.com/repos/ChainSafe/forest<br>index=%{x}<br>value=%{y}<extra></extra>",
         "legendgroup": "https://api.github.com/repos/ChainSafe/forest",
         "marker": {
          "color": "#FF6692",
          "pattern": {
           "shape": ""
          }
         },
         "name": "https://api.github.com/repos/ChainSafe/forest",
         "offsetgroup": "https://api.github.com/repos/ChainSafe/forest",
         "orientation": "v",
         "showlegend": true,
         "textposition": "auto",
         "type": "bar",
         "x": [
          "https://api.github.com/repos/ChainSafe/forest"
         ],
         "xaxis": "x",
         "y": [
          714
         ],
         "yaxis": "y"
        },
        {
         "alignmentgroup": "True",
         "hovertemplate": "color=https://api.github.com/repos/moondance-labs/tanssi<br>index=%{x}<br>value=%{y}<extra></extra>",
         "legendgroup": "https://api.github.com/repos/moondance-labs/tanssi",
         "marker": {
          "color": "#B6E880",
          "pattern": {
           "shape": ""
          }
         },
         "name": "https://api.github.com/repos/moondance-labs/tanssi",
         "offsetgroup": "https://api.github.com/repos/moondance-labs/tanssi",
         "orientation": "v",
         "showlegend": true,
         "textposition": "auto",
         "type": "bar",
         "x": [
          "https://api.github.com/repos/moondance-labs/tanssi"
         ],
         "xaxis": "x",
         "y": [
          713
         ],
         "yaxis": "y"
        },
        {
         "alignmentgroup": "True",
         "hovertemplate": "color=https://api.github.com/repos/osmosis-labs/mesh-security<br>index=%{x}<br>value=%{y}<extra></extra>",
         "legendgroup": "https://api.github.com/repos/osmosis-labs/mesh-security",
         "marker": {
          "color": "#FF97FF",
          "pattern": {
           "shape": ""
          }
         },
         "name": "https://api.github.com/repos/osmosis-labs/mesh-security",
         "offsetgroup": "https://api.github.com/repos/osmosis-labs/mesh-security",
         "orientation": "v",
         "showlegend": true,
         "textposition": "auto",
         "type": "bar",
         "x": [
          "https://api.github.com/repos/osmosis-labs/mesh-security"
         ],
         "xaxis": "x",
         "y": [
          702
         ],
         "yaxis": "y"
        },
        {
         "alignmentgroup": "True",
         "hovertemplate": "color=https://api.github.com/repos/Kong/ngx_wasm_module<br>index=%{x}<br>value=%{y}<extra></extra>",
         "legendgroup": "https://api.github.com/repos/Kong/ngx_wasm_module",
         "marker": {
          "color": "#FECB52",
          "pattern": {
           "shape": ""
          }
         },
         "name": "https://api.github.com/repos/Kong/ngx_wasm_module",
         "offsetgroup": "https://api.github.com/repos/Kong/ngx_wasm_module",
         "orientation": "v",
         "showlegend": true,
         "textposition": "auto",
         "type": "bar",
         "x": [
          "https://api.github.com/repos/Kong/ngx_wasm_module"
         ],
         "xaxis": "x",
         "y": [
          688
         ],
         "yaxis": "y"
        }
       ],
       "layout": {
        "barmode": "relative",
        "legend": {
         "title": {
          "text": "color"
         },
         "tracegroupgap": 0
        },
        "margin": {
         "t": 60
        },
        "template": {
         "data": {
          "bar": [
           {
            "error_x": {
             "color": "#2a3f5f"
            },
            "error_y": {
             "color": "#2a3f5f"
            },
            "marker": {
             "line": {
              "color": "#E5ECF6",
              "width": 0.5
             },
             "pattern": {
              "fillmode": "overlay",
              "size": 10,
              "solidity": 0.2
             }
            },
            "type": "bar"
           }
          ],
          "barpolar": [
           {
            "marker": {
             "line": {
              "color": "#E5ECF6",
              "width": 0.5
             },
             "pattern": {
              "fillmode": "overlay",
              "size": 10,
              "solidity": 0.2
             }
            },
            "type": "barpolar"
           }
          ],
          "carpet": [
           {
            "aaxis": {
             "endlinecolor": "#2a3f5f",
             "gridcolor": "white",
             "linecolor": "white",
             "minorgridcolor": "white",
             "startlinecolor": "#2a3f5f"
            },
            "baxis": {
             "endlinecolor": "#2a3f5f",
             "gridcolor": "white",
             "linecolor": "white",
             "minorgridcolor": "white",
             "startlinecolor": "#2a3f5f"
            },
            "type": "carpet"
           }
          ],
          "choropleth": [
           {
            "colorbar": {
             "outlinewidth": 0,
             "ticks": ""
            },
            "type": "choropleth"
           }
          ],
          "contour": [
           {
            "colorbar": {
             "outlinewidth": 0,
             "ticks": ""
            },
            "colorscale": [
             [
              0,
              "#0d0887"
             ],
             [
              0.1111111111111111,
              "#46039f"
             ],
             [
              0.2222222222222222,
              "#7201a8"
             ],
             [
              0.3333333333333333,
              "#9c179e"
             ],
             [
              0.4444444444444444,
              "#bd3786"
             ],
             [
              0.5555555555555556,
              "#d8576b"
             ],
             [
              0.6666666666666666,
              "#ed7953"
             ],
             [
              0.7777777777777778,
              "#fb9f3a"
             ],
             [
              0.8888888888888888,
              "#fdca26"
             ],
             [
              1,
              "#f0f921"
             ]
            ],
            "type": "contour"
           }
          ],
          "contourcarpet": [
           {
            "colorbar": {
             "outlinewidth": 0,
             "ticks": ""
            },
            "type": "contourcarpet"
           }
          ],
          "heatmap": [
           {
            "colorbar": {
             "outlinewidth": 0,
             "ticks": ""
            },
            "colorscale": [
             [
              0,
              "#0d0887"
             ],
             [
              0.1111111111111111,
              "#46039f"
             ],
             [
              0.2222222222222222,
              "#7201a8"
             ],
             [
              0.3333333333333333,
              "#9c179e"
             ],
             [
              0.4444444444444444,
              "#bd3786"
             ],
             [
              0.5555555555555556,
              "#d8576b"
             ],
             [
              0.6666666666666666,
              "#ed7953"
             ],
             [
              0.7777777777777778,
              "#fb9f3a"
             ],
             [
              0.8888888888888888,
              "#fdca26"
             ],
             [
              1,
              "#f0f921"
             ]
            ],
            "type": "heatmap"
           }
          ],
          "heatmapgl": [
           {
            "colorbar": {
             "outlinewidth": 0,
             "ticks": ""
            },
            "colorscale": [
             [
              0,
              "#0d0887"
             ],
             [
              0.1111111111111111,
              "#46039f"
             ],
             [
              0.2222222222222222,
              "#7201a8"
             ],
             [
              0.3333333333333333,
              "#9c179e"
             ],
             [
              0.4444444444444444,
              "#bd3786"
             ],
             [
              0.5555555555555556,
              "#d8576b"
             ],
             [
              0.6666666666666666,
              "#ed7953"
             ],
             [
              0.7777777777777778,
              "#fb9f3a"
             ],
             [
              0.8888888888888888,
              "#fdca26"
             ],
             [
              1,
              "#f0f921"
             ]
            ],
            "type": "heatmapgl"
           }
          ],
          "histogram": [
           {
            "marker": {
             "pattern": {
              "fillmode": "overlay",
              "size": 10,
              "solidity": 0.2
             }
            },
            "type": "histogram"
           }
          ],
          "histogram2d": [
           {
            "colorbar": {
             "outlinewidth": 0,
             "ticks": ""
            },
            "colorscale": [
             [
              0,
              "#0d0887"
             ],
             [
              0.1111111111111111,
              "#46039f"
             ],
             [
              0.2222222222222222,
              "#7201a8"
             ],
             [
              0.3333333333333333,
              "#9c179e"
             ],
             [
              0.4444444444444444,
              "#bd3786"
             ],
             [
              0.5555555555555556,
              "#d8576b"
             ],
             [
              0.6666666666666666,
              "#ed7953"
             ],
             [
              0.7777777777777778,
              "#fb9f3a"
             ],
             [
              0.8888888888888888,
              "#fdca26"
             ],
             [
              1,
              "#f0f921"
             ]
            ],
            "type": "histogram2d"
           }
          ],
          "histogram2dcontour": [
           {
            "colorbar": {
             "outlinewidth": 0,
             "ticks": ""
            },
            "colorscale": [
             [
              0,
              "#0d0887"
             ],
             [
              0.1111111111111111,
              "#46039f"
             ],
             [
              0.2222222222222222,
              "#7201a8"
             ],
             [
              0.3333333333333333,
              "#9c179e"
             ],
             [
              0.4444444444444444,
              "#bd3786"
             ],
             [
              0.5555555555555556,
              "#d8576b"
             ],
             [
              0.6666666666666666,
              "#ed7953"
             ],
             [
              0.7777777777777778,
              "#fb9f3a"
             ],
             [
              0.8888888888888888,
              "#fdca26"
             ],
             [
              1,
              "#f0f921"
             ]
            ],
            "type": "histogram2dcontour"
           }
          ],
          "mesh3d": [
           {
            "colorbar": {
             "outlinewidth": 0,
             "ticks": ""
            },
            "type": "mesh3d"
           }
          ],
          "parcoords": [
           {
            "line": {
             "colorbar": {
              "outlinewidth": 0,
              "ticks": ""
             }
            },
            "type": "parcoords"
           }
          ],
          "pie": [
           {
            "automargin": true,
            "type": "pie"
           }
          ],
          "scatter": [
           {
            "fillpattern": {
             "fillmode": "overlay",
             "size": 10,
             "solidity": 0.2
            },
            "type": "scatter"
           }
          ],
          "scatter3d": [
           {
            "line": {
             "colorbar": {
              "outlinewidth": 0,
              "ticks": ""
             }
            },
            "marker": {
             "colorbar": {
              "outlinewidth": 0,
              "ticks": ""
             }
            },
            "type": "scatter3d"
           }
          ],
          "scattercarpet": [
           {
            "marker": {
             "colorbar": {
              "outlinewidth": 0,
              "ticks": ""
             }
            },
            "type": "scattercarpet"
           }
          ],
          "scattergeo": [
           {
            "marker": {
             "colorbar": {
              "outlinewidth": 0,
              "ticks": ""
             }
            },
            "type": "scattergeo"
           }
          ],
          "scattergl": [
           {
            "marker": {
             "colorbar": {
              "outlinewidth": 0,
              "ticks": ""
             }
            },
            "type": "scattergl"
           }
          ],
          "scattermapbox": [
           {
            "marker": {
             "colorbar": {
              "outlinewidth": 0,
              "ticks": ""
             }
            },
            "type": "scattermapbox"
           }
          ],
          "scatterpolar": [
           {
            "marker": {
             "colorbar": {
              "outlinewidth": 0,
              "ticks": ""
             }
            },
            "type": "scatterpolar"
           }
          ],
          "scatterpolargl": [
           {
            "marker": {
             "colorbar": {
              "outlinewidth": 0,
              "ticks": ""
             }
            },
            "type": "scatterpolargl"
           }
          ],
          "scatterternary": [
           {
            "marker": {
             "colorbar": {
              "outlinewidth": 0,
              "ticks": ""
             }
            },
            "type": "scatterternary"
           }
          ],
          "surface": [
           {
            "colorbar": {
             "outlinewidth": 0,
             "ticks": ""
            },
            "colorscale": [
             [
              0,
              "#0d0887"
             ],
             [
              0.1111111111111111,
              "#46039f"
             ],
             [
              0.2222222222222222,
              "#7201a8"
             ],
             [
              0.3333333333333333,
              "#9c179e"
             ],
             [
              0.4444444444444444,
              "#bd3786"
             ],
             [
              0.5555555555555556,
              "#d8576b"
             ],
             [
              0.6666666666666666,
              "#ed7953"
             ],
             [
              0.7777777777777778,
              "#fb9f3a"
             ],
             [
              0.8888888888888888,
              "#fdca26"
             ],
             [
              1,
              "#f0f921"
             ]
            ],
            "type": "surface"
           }
          ],
          "table": [
           {
            "cells": {
             "fill": {
              "color": "#EBF0F8"
             },
             "line": {
              "color": "white"
             }
            },
            "header": {
             "fill": {
              "color": "#C8D4E3"
             },
             "line": {
              "color": "white"
             }
            },
            "type": "table"
           }
          ]
         },
         "layout": {
          "annotationdefaults": {
           "arrowcolor": "#2a3f5f",
           "arrowhead": 0,
           "arrowwidth": 1
          },
          "autotypenumbers": "strict",
          "coloraxis": {
           "colorbar": {
            "outlinewidth": 0,
            "ticks": ""
           }
          },
          "colorscale": {
           "diverging": [
            [
             0,
             "#8e0152"
            ],
            [
             0.1,
             "#c51b7d"
            ],
            [
             0.2,
             "#de77ae"
            ],
            [
             0.3,
             "#f1b6da"
            ],
            [
             0.4,
             "#fde0ef"
            ],
            [
             0.5,
             "#f7f7f7"
            ],
            [
             0.6,
             "#e6f5d0"
            ],
            [
             0.7,
             "#b8e186"
            ],
            [
             0.8,
             "#7fbc41"
            ],
            [
             0.9,
             "#4d9221"
            ],
            [
             1,
             "#276419"
            ]
           ],
           "sequential": [
            [
             0,
             "#0d0887"
            ],
            [
             0.1111111111111111,
             "#46039f"
            ],
            [
             0.2222222222222222,
             "#7201a8"
            ],
            [
             0.3333333333333333,
             "#9c179e"
            ],
            [
             0.4444444444444444,
             "#bd3786"
            ],
            [
             0.5555555555555556,
             "#d8576b"
            ],
            [
             0.6666666666666666,
             "#ed7953"
            ],
            [
             0.7777777777777778,
             "#fb9f3a"
            ],
            [
             0.8888888888888888,
             "#fdca26"
            ],
            [
             1,
             "#f0f921"
            ]
           ],
           "sequentialminus": [
            [
             0,
             "#0d0887"
            ],
            [
             0.1111111111111111,
             "#46039f"
            ],
            [
             0.2222222222222222,
             "#7201a8"
            ],
            [
             0.3333333333333333,
             "#9c179e"
            ],
            [
             0.4444444444444444,
             "#bd3786"
            ],
            [
             0.5555555555555556,
             "#d8576b"
            ],
            [
             0.6666666666666666,
             "#ed7953"
            ],
            [
             0.7777777777777778,
             "#fb9f3a"
            ],
            [
             0.8888888888888888,
             "#fdca26"
            ],
            [
             1,
             "#f0f921"
            ]
           ]
          },
          "colorway": [
           "#636efa",
           "#EF553B",
           "#00cc96",
           "#ab63fa",
           "#FFA15A",
           "#19d3f3",
           "#FF6692",
           "#B6E880",
           "#FF97FF",
           "#FECB52"
          ],
          "font": {
           "color": "#2a3f5f"
          },
          "geo": {
           "bgcolor": "white",
           "lakecolor": "white",
           "landcolor": "#E5ECF6",
           "showlakes": true,
           "showland": true,
           "subunitcolor": "white"
          },
          "hoverlabel": {
           "align": "left"
          },
          "hovermode": "closest",
          "mapbox": {
           "style": "light"
          },
          "paper_bgcolor": "white",
          "plot_bgcolor": "#E5ECF6",
          "polar": {
           "angularaxis": {
            "gridcolor": "white",
            "linecolor": "white",
            "ticks": ""
           },
           "bgcolor": "#E5ECF6",
           "radialaxis": {
            "gridcolor": "white",
            "linecolor": "white",
            "ticks": ""
           }
          },
          "scene": {
           "xaxis": {
            "backgroundcolor": "#E5ECF6",
            "gridcolor": "white",
            "gridwidth": 2,
            "linecolor": "white",
            "showbackground": true,
            "ticks": "",
            "zerolinecolor": "white"
           },
           "yaxis": {
            "backgroundcolor": "#E5ECF6",
            "gridcolor": "white",
            "gridwidth": 2,
            "linecolor": "white",
            "showbackground": true,
            "ticks": "",
            "zerolinecolor": "white"
           },
           "zaxis": {
            "backgroundcolor": "#E5ECF6",
            "gridcolor": "white",
            "gridwidth": 2,
            "linecolor": "white",
            "showbackground": true,
            "ticks": "",
            "zerolinecolor": "white"
           }
          },
          "shapedefaults": {
           "line": {
            "color": "#2a3f5f"
           }
          },
          "ternary": {
           "aaxis": {
            "gridcolor": "white",
            "linecolor": "white",
            "ticks": ""
           },
           "baxis": {
            "gridcolor": "white",
            "linecolor": "white",
            "ticks": ""
           },
           "bgcolor": "#E5ECF6",
           "caxis": {
            "gridcolor": "white",
            "linecolor": "white",
            "ticks": ""
           }
          },
          "title": {
           "x": 0.05
          },
          "xaxis": {
           "automargin": true,
           "gridcolor": "white",
           "linecolor": "white",
           "ticks": "",
           "title": {
            "standoff": 15
           },
           "zerolinecolor": "white",
           "zerolinewidth": 2
          },
          "yaxis": {
           "automargin": true,
           "gridcolor": "white",
           "linecolor": "white",
           "ticks": "",
           "title": {
            "standoff": 15
           },
           "zerolinecolor": "white",
           "zerolinewidth": 2
          }
         }
        },
        "xaxis": {
         "anchor": "y",
         "domain": [
          0,
          1
         ],
         "title": {
          "text": "index"
         }
        },
        "yaxis": {
         "anchor": "x",
         "domain": [
          0,
          1
         ],
         "title": {
          "text": "value"
         }
        }
       }
      }
     },
     "metadata": {},
     "output_type": "display_data"
    }
   ],
   "source": [
    "kc_repo_event_counts = df_known_event_stream.repo_git.value_counts()\n",
    "df_fig_rec_kc = kc_repo_event_counts.to_frame() \n",
    "\n",
    "fig_rec_kc = px.bar(\n",
    "    data_frame=df_fig_rec_kc[:50],\n",
    "    color=df_fig_rec_kc[:50].index\n",
    ")\n",
    "fig_rec_kc.write_image(\"knowncontributors_repository_eventcount.jpeg\")\n",
    "fig_rec_kc"
   ]
  },
  {
   "cell_type": "code",
   "execution_count": 140,
   "metadata": {},
   "outputs": [
    {
     "data": {
      "image/jpeg": "[encoded data removed]",
      "text/plain": [
       "<IPython.core.display.Image object>"
      ]
     },
     "execution_count": 140,
     "metadata": {},
     "output_type": "execute_result"
    }
   ],
   "source": [
    "Image(\"knowncontributors_repository_eventcount.jpeg\")"
   ]
  },
  {
   "cell_type": "markdown",
   "metadata": {},
   "source": [
    "## Interpretation\n",
    "\n",
    "We find here that some obvious WASM-specific repositories are contributed to most frequently by the contributors we already knew about.\n",
    "\n",
    "However, as one might expect, repos that are popular among the general public like 'risingwavelabs/risingwave', (which is 5th in this list and 74th among the general population, despite being a distributed streaming DB (not about WASM))\n",
    "are also popular among this slice of the general population.\n",
    "\n",
    "Our challenge now is to find those repos that are *especially* popular among this population as compared to the popularity among the general public."
   ]
  },
  {
   "cell_type": "markdown",
   "metadata": {},
   "source": [
    "# Identify disproportionately popular repos"
   ]
  },
  {
   "cell_type": "markdown",
   "metadata": {},
   "source": [
    "## Unknown contributors\n",
    "\n",
    "We want to consider the popularity of repos among people who aren't in our initial set.\n",
    "\n",
    "If our 'known' group of contributors is the subpopulation \"p\" and the general population is \"P\",\n",
    "then the group of people who are in the general population but aren't in our sub-population is \"P - p\" or \" P^ \", pronounced P-hat."
   ]
  },
  {
   "cell_type": "code",
   "execution_count": 141,
   "metadata": {},
   "outputs": [
    {
     "data": {
      "text/plain": [
       "(3788650, 8)"
      ]
     },
     "execution_count": 141,
     "metadata": {},
     "output_type": "execute_result"
    }
   ],
   "source": [
    "# Get events made by those in P^\n",
    "\n",
    "df_general_event_stream = df_event_stream[~df_event_stream.cntrb_id.isin(UUID_known)]\n",
    "df_general_event_stream.shape"
   ]
  },
  {
   "cell_type": "code",
   "execution_count": 142,
   "metadata": {},
   "outputs": [
    {
     "data": {
      "text/html": [
       "<div>\n",
       "<style scoped>\n",
       "    .dataframe tbody tr th:only-of-type {\n",
       "        vertical-align: middle;\n",
       "    }\n",
       "\n",
       "    .dataframe tbody tr th {\n",
       "        vertical-align: top;\n",
       "    }\n",
       "\n",
       "    .dataframe thead th {\n",
       "        text-align: right;\n",
       "    }\n",
       "</style>\n",
       "<table border=\"1\" class=\"dataframe\">\n",
       "  <thead>\n",
       "    <tr style=\"text-align: right;\">\n",
       "      <th></th>\n",
       "      <th>repo_git</th>\n",
       "    </tr>\n",
       "  </thead>\n",
       "  <tbody>\n",
       "    <tr>\n",
       "      <th>https://api.github.com/repos/llvm/llvm-project</th>\n",
       "      <td>48520</td>\n",
       "    </tr>\n",
       "    <tr>\n",
       "      <th>https://api.github.com/repos/JetBrains/MPS</th>\n",
       "      <td>14522</td>\n",
       "    </tr>\n",
       "    <tr>\n",
       "      <th>https://api.github.com/repos/pytorch/pytorch</th>\n",
       "      <td>14015</td>\n",
       "    </tr>\n",
       "    <tr>\n",
       "      <th>https://api.github.com/repos/dotnet/runtime</th>\n",
       "      <td>12700</td>\n",
       "    </tr>\n",
       "    <tr>\n",
       "      <th>https://api.github.com/repos/milahu/opensubtitles-scraper-new-subs</th>\n",
       "      <td>11358</td>\n",
       "    </tr>\n",
       "    <tr>\n",
       "      <th>...</th>\n",
       "      <td>...</td>\n",
       "    </tr>\n",
       "    <tr>\n",
       "      <th>https://api.github.com/repos/joachimneu/regenbib</th>\n",
       "      <td>1</td>\n",
       "    </tr>\n",
       "    <tr>\n",
       "      <th>https://api.github.com/repos/jenkinsci/ssh-agent-plugin</th>\n",
       "      <td>1</td>\n",
       "    </tr>\n",
       "    <tr>\n",
       "      <th>https://api.github.com/repos/Wohlstand/OPNMIDI-Player-Java</th>\n",
       "      <td>1</td>\n",
       "    </tr>\n",
       "    <tr>\n",
       "      <th>https://api.github.com/repos/mrlacey/VSWaterMark</th>\n",
       "      <td>1</td>\n",
       "    </tr>\n",
       "    <tr>\n",
       "      <th>https://api.github.com/repos/decaffeinate/decaffeinate-project.org</th>\n",
       "      <td>1</td>\n",
       "    </tr>\n",
       "  </tbody>\n",
       "</table>\n",
       "<p>285199 rows × 1 columns</p>\n",
       "</div>"
      ],
      "text/plain": [
       "                                                    repo_git\n",
       "https://api.github.com/repos/llvm/llvm-project         48520\n",
       "https://api.github.com/repos/JetBrains/MPS             14522\n",
       "https://api.github.com/repos/pytorch/pytorch           14015\n",
       "https://api.github.com/repos/dotnet/runtime            12700\n",
       "https://api.github.com/repos/milahu/opensubtitl...     11358\n",
       "...                                                      ...\n",
       "https://api.github.com/repos/joachimneu/regenbib           1\n",
       "https://api.github.com/repos/jenkinsci/ssh-agen...         1\n",
       "https://api.github.com/repos/Wohlstand/OPNMIDI-...         1\n",
       "https://api.github.com/repos/mrlacey/VSWaterMark           1\n",
       "https://api.github.com/repos/decaffeinate/decaf...         1\n",
       "\n",
       "[285199 rows x 1 columns]"
      ]
     },
     "execution_count": 142,
     "metadata": {},
     "output_type": "execute_result"
    }
   ],
   "source": [
    "# Count the events-per-repo of P^\n",
    "\n",
    "g_repo_event_counts = df_general_event_stream.repo_git.value_counts().to_frame()\n",
    "g_repo_event_counts"
   ]
  },
  {
   "cell_type": "code",
   "execution_count": null,
   "metadata": {},
   "outputs": [],
   "source": []
  },
  {
   "cell_type": "code",
   "execution_count": 143,
   "metadata": {},
   "outputs": [
    {
     "data": {
      "text/html": [
       "<div>\n",
       "<style scoped>\n",
       "    .dataframe tbody tr th:only-of-type {\n",
       "        vertical-align: middle;\n",
       "    }\n",
       "\n",
       "    .dataframe tbody tr th {\n",
       "        vertical-align: top;\n",
       "    }\n",
       "\n",
       "    .dataframe thead th {\n",
       "        text-align: right;\n",
       "    }\n",
       "</style>\n",
       "<table border=\"1\" class=\"dataframe\">\n",
       "  <thead>\n",
       "    <tr style=\"text-align: right;\">\n",
       "      <th></th>\n",
       "      <th>count_general</th>\n",
       "      <th>count_known</th>\n",
       "    </tr>\n",
       "  </thead>\n",
       "  <tbody>\n",
       "    <tr>\n",
       "      <th>https://api.github.com/repos/llvm/llvm-project</th>\n",
       "      <td>48520</td>\n",
       "      <td>795.0</td>\n",
       "    </tr>\n",
       "    <tr>\n",
       "      <th>https://api.github.com/repos/JetBrains/MPS</th>\n",
       "      <td>14522</td>\n",
       "      <td>0.0</td>\n",
       "    </tr>\n",
       "    <tr>\n",
       "      <th>https://api.github.com/repos/pytorch/pytorch</th>\n",
       "      <td>14015</td>\n",
       "      <td>9.0</td>\n",
       "    </tr>\n",
       "    <tr>\n",
       "      <th>https://api.github.com/repos/dotnet/runtime</th>\n",
       "      <td>12700</td>\n",
       "      <td>1415.0</td>\n",
       "    </tr>\n",
       "    <tr>\n",
       "      <th>https://api.github.com/repos/milahu/opensubtitles-scraper-new-subs</th>\n",
       "      <td>11358</td>\n",
       "      <td>0.0</td>\n",
       "    </tr>\n",
       "    <tr>\n",
       "      <th>...</th>\n",
       "      <td>...</td>\n",
       "      <td>...</td>\n",
       "    </tr>\n",
       "    <tr>\n",
       "      <th>https://api.github.com/repos/joachimneu/regenbib</th>\n",
       "      <td>1</td>\n",
       "      <td>0.0</td>\n",
       "    </tr>\n",
       "    <tr>\n",
       "      <th>https://api.github.com/repos/jenkinsci/ssh-agent-plugin</th>\n",
       "      <td>1</td>\n",
       "      <td>0.0</td>\n",
       "    </tr>\n",
       "    <tr>\n",
       "      <th>https://api.github.com/repos/Wohlstand/OPNMIDI-Player-Java</th>\n",
       "      <td>1</td>\n",
       "      <td>0.0</td>\n",
       "    </tr>\n",
       "    <tr>\n",
       "      <th>https://api.github.com/repos/mrlacey/VSWaterMark</th>\n",
       "      <td>1</td>\n",
       "      <td>0.0</td>\n",
       "    </tr>\n",
       "    <tr>\n",
       "      <th>https://api.github.com/repos/decaffeinate/decaffeinate-project.org</th>\n",
       "      <td>1</td>\n",
       "      <td>0.0</td>\n",
       "    </tr>\n",
       "  </tbody>\n",
       "</table>\n",
       "<p>285199 rows × 2 columns</p>\n",
       "</div>"
      ],
      "text/plain": [
       "                                                    count_general  count_known\n",
       "https://api.github.com/repos/llvm/llvm-project              48520        795.0\n",
       "https://api.github.com/repos/JetBrains/MPS                  14522          0.0\n",
       "https://api.github.com/repos/pytorch/pytorch                14015          9.0\n",
       "https://api.github.com/repos/dotnet/runtime                 12700       1415.0\n",
       "https://api.github.com/repos/milahu/opensubtitl...          11358          0.0\n",
       "...                                                           ...          ...\n",
       "https://api.github.com/repos/joachimneu/regenbib                1          0.0\n",
       "https://api.github.com/repos/jenkinsci/ssh-agen...              1          0.0\n",
       "https://api.github.com/repos/Wohlstand/OPNMIDI-...              1          0.0\n",
       "https://api.github.com/repos/mrlacey/VSWaterMark                1          0.0\n",
       "https://api.github.com/repos/decaffeinate/decaf...              1          0.0\n",
       "\n",
       "[285199 rows x 2 columns]"
      ]
     },
     "execution_count": 143,
     "metadata": {},
     "output_type": "execute_result"
    }
   ],
   "source": [
    "# Join the counts of P^ with those of p\n",
    "\n",
    "joined_counts = g_repo_event_counts.join(\n",
    "    other=kc_repo_event_counts.to_frame(),\n",
    "    how=\"left\",\n",
    "    lsuffix=\"_general\",\n",
    "    rsuffix=\"_known\",\n",
    ")\n",
    "\n",
    "joined_counts = joined_counts.rename(columns={\"repo_git_general\": \"count_general\", \"repo_git_known\": \"count_known\"})\n",
    "\n",
    "joined_counts = joined_counts.fillna(0)\n",
    "joined_counts"
   ]
  },
  {
   "cell_type": "markdown",
   "metadata": {},
   "source": [
    "## Simple approach\n",
    "\n",
    "In this figure we visualize the count of contributions from those in 'p' and 'P^' stacked on top of one another. \n",
    "\n",
    "Most of the most-contributed-to projects of those in 'p' are also most-contributed-to by members of 'p' (they are not also largely contributed to by those in 'P^').\n",
    "\n",
    "Some notable visual exceptions are 'NixOS/nixpkgs,' 'dotnet/runtime,' 'astral-sh/ruff,' 'paritytech/substrate,' and 'llvm/llvm-project.'"
   ]
  },
  {
   "cell_type": "code",
   "execution_count": 144,
   "metadata": {},
   "outputs": [
    {
     "data": {
      "application/vnd.plotly.v1+json": {
       "config": {
        "plotlyServerURL": "https://plot.ly"
       },
       "data": [
        {
         "alignmentgroup": "True",
         "hovertemplate": "variable=count_general<br>index=%{x}<br>value=%{y}<extra></extra>",
         "legendgroup": "count_general",
         "marker": {
          "color": "#636efa",
          "pattern": {
           "shape": ""
          }
         },
         "name": "count_general",
         "offsetgroup": "count_general",
         "orientation": "v",
         "showlegend": true,
         "textposition": "auto",
         "type": "bar",
         "x": [
          "https://api.github.com/repos/Homebrew/homebrew-core",
          "https://api.github.com/repos/rust-lang/rust",
          "https://api.github.com/repos/bytecodealliance/wasmtime",
          "https://api.github.com/repos/WasmEdge/WasmEdge",
          "https://api.github.com/repos/microsoft/winget-pkgs",
          "https://api.github.com/repos/noir-lang/noir",
          "https://api.github.com/repos/leanprover-community/mathlib4",
          "https://api.github.com/repos/wasmerio/wasmer",
          "https://api.github.com/repos/NixOS/nixpkgs",
          "https://api.github.com/repos/risingwavelabs/risingwave",
          "https://api.github.com/repos/golang/go",
          "https://api.github.com/repos/dotnet/runtime",
          "https://api.github.com/repos/gear-tech/gear",
          "https://api.github.com/repos/apollographql/router",
          "https://api.github.com/repos/matrix-org/matrix-rust-sdk",
          "https://api.github.com/repos/WebAssembly/binaryen",
          "https://api.github.com/repos/dependabot/dependabot-core",
          "https://api.github.com/repos/wasmCloud/wasmCloud",
          "https://api.github.com/repos/containerd/runwasi",
          "https://api.github.com/repos/hrydgard/ppsspp",
          "https://api.github.com/repos/CosmWasm/cosmwasm",
          "https://api.github.com/repos/astral-sh/ruff",
          "https://api.github.com/repos/FuelLabs/fuel-indexer",
          "https://api.github.com/repos/massalabs/massa",
          "https://api.github.com/repos/onflow/flow-go",
          "https://api.github.com/repos/ni/nimble",
          "https://api.github.com/repos/vercel/next.js",
          "https://api.github.com/repos/tigerbeetle/tigerbeetle",
          "https://api.github.com/repos/cargo-bins/cargo-binstall",
          "https://api.github.com/repos/paradigmxyz/reth",
          "https://api.github.com/repos/paritytech/substrate",
          "https://api.github.com/repos/emscripten-core/emscripten",
          "https://api.github.com/repos/anoma/namada",
          "https://api.github.com/repos/leptos-rs/leptos",
          "https://api.github.com/repos/AmbientRun/Ambient",
          "https://api.github.com/repos/llvm/llvm-project",
          "https://api.github.com/repos/fermyon/developer",
          "https://api.github.com/repos/fermyon/spin",
          "https://api.github.com/repos/gravitational/teleport",
          "https://api.github.com/repos/swc-project/swc",
          "https://api.github.com/repos/dotnet/aspnetcore",
          "https://api.github.com/repos/web-infra-dev/rspack",
          "https://api.github.com/repos/paritytech/polkadot-sdk",
          "https://api.github.com/repos/OffchainLabs/nitro",
          "https://api.github.com/repos/ChainSafe/forest",
          "https://api.github.com/repos/moondance-labs/tanssi",
          "https://api.github.com/repos/osmosis-labs/mesh-security",
          "https://api.github.com/repos/Kong/ngx_wasm_module",
          "https://api.github.com/repos/demergent-labs/azle",
          "https://api.github.com/repos/containers/podman"
         ],
         "xaxis": "x",
         "y": [
          2210,
          8805,
          598,
          159,
          3501,
          1055,
          1857,
          97,
          7284,
          20,
          2615,
          12700,
          2600,
          1130,
          561,
          676,
          24,
          840,
          133,
          38,
          16,
          4262,
          25,
          180,
          606,
          738,
          1536,
          29,
          101,
          163,
          3038,
          3886,
          682,
          245,
          42,
          48520,
          1176,
          1296,
          554,
          144,
          2023,
          43,
          4255,
          63,
          1456,
          1,
          54,
          148,
          454,
          337
         ],
         "yaxis": "y"
        },
        {
         "alignmentgroup": "True",
         "hovertemplate": "variable=count_known<br>index=%{x}<br>value=%{y}<extra></extra>",
         "legendgroup": "count_known",
         "marker": {
          "color": "#EF553B",
          "pattern": {
           "shape": ""
          }
         },
         "name": "count_known",
         "offsetgroup": "count_known",
         "orientation": "v",
         "showlegend": true,
         "textposition": "auto",
         "type": "bar",
         "x": [
          "https://api.github.com/repos/Homebrew/homebrew-core",
          "https://api.github.com/repos/rust-lang/rust",
          "https://api.github.com/repos/bytecodealliance/wasmtime",
          "https://api.github.com/repos/WasmEdge/WasmEdge",
          "https://api.github.com/repos/microsoft/winget-pkgs",
          "https://api.github.com/repos/noir-lang/noir",
          "https://api.github.com/repos/leanprover-community/mathlib4",
          "https://api.github.com/repos/wasmerio/wasmer",
          "https://api.github.com/repos/NixOS/nixpkgs",
          "https://api.github.com/repos/risingwavelabs/risingwave",
          "https://api.github.com/repos/golang/go",
          "https://api.github.com/repos/dotnet/runtime",
          "https://api.github.com/repos/gear-tech/gear",
          "https://api.github.com/repos/apollographql/router",
          "https://api.github.com/repos/matrix-org/matrix-rust-sdk",
          "https://api.github.com/repos/WebAssembly/binaryen",
          "https://api.github.com/repos/dependabot/dependabot-core",
          "https://api.github.com/repos/wasmCloud/wasmCloud",
          "https://api.github.com/repos/containerd/runwasi",
          "https://api.github.com/repos/hrydgard/ppsspp",
          "https://api.github.com/repos/CosmWasm/cosmwasm",
          "https://api.github.com/repos/astral-sh/ruff",
          "https://api.github.com/repos/FuelLabs/fuel-indexer",
          "https://api.github.com/repos/massalabs/massa",
          "https://api.github.com/repos/onflow/flow-go",
          "https://api.github.com/repos/ni/nimble",
          "https://api.github.com/repos/vercel/next.js",
          "https://api.github.com/repos/tigerbeetle/tigerbeetle",
          "https://api.github.com/repos/cargo-bins/cargo-binstall",
          "https://api.github.com/repos/paradigmxyz/reth",
          "https://api.github.com/repos/paritytech/substrate",
          "https://api.github.com/repos/emscripten-core/emscripten",
          "https://api.github.com/repos/anoma/namada",
          "https://api.github.com/repos/leptos-rs/leptos",
          "https://api.github.com/repos/AmbientRun/Ambient",
          "https://api.github.com/repos/llvm/llvm-project",
          "https://api.github.com/repos/fermyon/developer",
          "https://api.github.com/repos/fermyon/spin",
          "https://api.github.com/repos/gravitational/teleport",
          "https://api.github.com/repos/swc-project/swc",
          "https://api.github.com/repos/dotnet/aspnetcore",
          "https://api.github.com/repos/web-infra-dev/rspack",
          "https://api.github.com/repos/paritytech/polkadot-sdk",
          "https://api.github.com/repos/OffchainLabs/nitro",
          "https://api.github.com/repos/ChainSafe/forest",
          "https://api.github.com/repos/moondance-labs/tanssi",
          "https://api.github.com/repos/osmosis-labs/mesh-security",
          "https://api.github.com/repos/Kong/ngx_wasm_module",
          "https://api.github.com/repos/demergent-labs/azle",
          "https://api.github.com/repos/containers/podman"
         ],
         "xaxis": "x",
         "y": [
          7153,
          4716,
          3126,
          2744,
          2659,
          2155,
          2125,
          2118,
          2062,
          2042,
          1624,
          1415,
          1321,
          1263,
          1262,
          1202,
          1192,
          1078,
          1050,
          1030,
          1019,
          990,
          976,
          960,
          949,
          938,
          919,
          868,
          866,
          855,
          850,
          834,
          820,
          807,
          797,
          795,
          787,
          782,
          778,
          757,
          756,
          752,
          728,
          719,
          714,
          713,
          702,
          688,
          675,
          648
         ],
         "yaxis": "y"
        }
       ],
       "layout": {
        "barmode": "relative",
        "legend": {
         "title": {
          "text": "variable"
         },
         "tracegroupgap": 0
        },
        "margin": {
         "t": 60
        },
        "template": {
         "data": {
          "bar": [
           {
            "error_x": {
             "color": "#2a3f5f"
            },
            "error_y": {
             "color": "#2a3f5f"
            },
            "marker": {
             "line": {
              "color": "#E5ECF6",
              "width": 0.5
             },
             "pattern": {
              "fillmode": "overlay",
              "size": 10,
              "solidity": 0.2
             }
            },
            "type": "bar"
           }
          ],
          "barpolar": [
           {
            "marker": {
             "line": {
              "color": "#E5ECF6",
              "width": 0.5
             },
             "pattern": {
              "fillmode": "overlay",
              "size": 10,
              "solidity": 0.2
             }
            },
            "type": "barpolar"
           }
          ],
          "carpet": [
           {
            "aaxis": {
             "endlinecolor": "#2a3f5f",
             "gridcolor": "white",
             "linecolor": "white",
             "minorgridcolor": "white",
             "startlinecolor": "#2a3f5f"
            },
            "baxis": {
             "endlinecolor": "#2a3f5f",
             "gridcolor": "white",
             "linecolor": "white",
             "minorgridcolor": "white",
             "startlinecolor": "#2a3f5f"
            },
            "type": "carpet"
           }
          ],
          "choropleth": [
           {
            "colorbar": {
             "outlinewidth": 0,
             "ticks": ""
            },
            "type": "choropleth"
           }
          ],
          "contour": [
           {
            "colorbar": {
             "outlinewidth": 0,
             "ticks": ""
            },
            "colorscale": [
             [
              0,
              "#0d0887"
             ],
             [
              0.1111111111111111,
              "#46039f"
             ],
             [
              0.2222222222222222,
              "#7201a8"
             ],
             [
              0.3333333333333333,
              "#9c179e"
             ],
             [
              0.4444444444444444,
              "#bd3786"
             ],
             [
              0.5555555555555556,
              "#d8576b"
             ],
             [
              0.6666666666666666,
              "#ed7953"
             ],
             [
              0.7777777777777778,
              "#fb9f3a"
             ],
             [
              0.8888888888888888,
              "#fdca26"
             ],
             [
              1,
              "#f0f921"
             ]
            ],
            "type": "contour"
           }
          ],
          "contourcarpet": [
           {
            "colorbar": {
             "outlinewidth": 0,
             "ticks": ""
            },
            "type": "contourcarpet"
           }
          ],
          "heatmap": [
           {
            "colorbar": {
             "outlinewidth": 0,
             "ticks": ""
            },
            "colorscale": [
             [
              0,
              "#0d0887"
             ],
             [
              0.1111111111111111,
              "#46039f"
             ],
             [
              0.2222222222222222,
              "#7201a8"
             ],
             [
              0.3333333333333333,
              "#9c179e"
             ],
             [
              0.4444444444444444,
              "#bd3786"
             ],
             [
              0.5555555555555556,
              "#d8576b"
             ],
             [
              0.6666666666666666,
              "#ed7953"
             ],
             [
              0.7777777777777778,
              "#fb9f3a"
             ],
             [
              0.8888888888888888,
              "#fdca26"
             ],
             [
              1,
              "#f0f921"
             ]
            ],
            "type": "heatmap"
           }
          ],
          "heatmapgl": [
           {
            "colorbar": {
             "outlinewidth": 0,
             "ticks": ""
            },
            "colorscale": [
             [
              0,
              "#0d0887"
             ],
             [
              0.1111111111111111,
              "#46039f"
             ],
             [
              0.2222222222222222,
              "#7201a8"
             ],
             [
              0.3333333333333333,
              "#9c179e"
             ],
             [
              0.4444444444444444,
              "#bd3786"
             ],
             [
              0.5555555555555556,
              "#d8576b"
             ],
             [
              0.6666666666666666,
              "#ed7953"
             ],
             [
              0.7777777777777778,
              "#fb9f3a"
             ],
             [
              0.8888888888888888,
              "#fdca26"
             ],
             [
              1,
              "#f0f921"
             ]
            ],
            "type": "heatmapgl"
           }
          ],
          "histogram": [
           {
            "marker": {
             "pattern": {
              "fillmode": "overlay",
              "size": 10,
              "solidity": 0.2
             }
            },
            "type": "histogram"
           }
          ],
          "histogram2d": [
           {
            "colorbar": {
             "outlinewidth": 0,
             "ticks": ""
            },
            "colorscale": [
             [
              0,
              "#0d0887"
             ],
             [
              0.1111111111111111,
              "#46039f"
             ],
             [
              0.2222222222222222,
              "#7201a8"
             ],
             [
              0.3333333333333333,
              "#9c179e"
             ],
             [
              0.4444444444444444,
              "#bd3786"
             ],
             [
              0.5555555555555556,
              "#d8576b"
             ],
             [
              0.6666666666666666,
              "#ed7953"
             ],
             [
              0.7777777777777778,
              "#fb9f3a"
             ],
             [
              0.8888888888888888,
              "#fdca26"
             ],
             [
              1,
              "#f0f921"
             ]
            ],
            "type": "histogram2d"
           }
          ],
          "histogram2dcontour": [
           {
            "colorbar": {
             "outlinewidth": 0,
             "ticks": ""
            },
            "colorscale": [
             [
              0,
              "#0d0887"
             ],
             [
              0.1111111111111111,
              "#46039f"
             ],
             [
              0.2222222222222222,
              "#7201a8"
             ],
             [
              0.3333333333333333,
              "#9c179e"
             ],
             [
              0.4444444444444444,
              "#bd3786"
             ],
             [
              0.5555555555555556,
              "#d8576b"
             ],
             [
              0.6666666666666666,
              "#ed7953"
             ],
             [
              0.7777777777777778,
              "#fb9f3a"
             ],
             [
              0.8888888888888888,
              "#fdca26"
             ],
             [
              1,
              "#f0f921"
             ]
            ],
            "type": "histogram2dcontour"
           }
          ],
          "mesh3d": [
           {
            "colorbar": {
             "outlinewidth": 0,
             "ticks": ""
            },
            "type": "mesh3d"
           }
          ],
          "parcoords": [
           {
            "line": {
             "colorbar": {
              "outlinewidth": 0,
              "ticks": ""
             }
            },
            "type": "parcoords"
           }
          ],
          "pie": [
           {
            "automargin": true,
            "type": "pie"
           }
          ],
          "scatter": [
           {
            "fillpattern": {
             "fillmode": "overlay",
             "size": 10,
             "solidity": 0.2
            },
            "type": "scatter"
           }
          ],
          "scatter3d": [
           {
            "line": {
             "colorbar": {
              "outlinewidth": 0,
              "ticks": ""
             }
            },
            "marker": {
             "colorbar": {
              "outlinewidth": 0,
              "ticks": ""
             }
            },
            "type": "scatter3d"
           }
          ],
          "scattercarpet": [
           {
            "marker": {
             "colorbar": {
              "outlinewidth": 0,
              "ticks": ""
             }
            },
            "type": "scattercarpet"
           }
          ],
          "scattergeo": [
           {
            "marker": {
             "colorbar": {
              "outlinewidth": 0,
              "ticks": ""
             }
            },
            "type": "scattergeo"
           }
          ],
          "scattergl": [
           {
            "marker": {
             "colorbar": {
              "outlinewidth": 0,
              "ticks": ""
             }
            },
            "type": "scattergl"
           }
          ],
          "scattermapbox": [
           {
            "marker": {
             "colorbar": {
              "outlinewidth": 0,
              "ticks": ""
             }
            },
            "type": "scattermapbox"
           }
          ],
          "scatterpolar": [
           {
            "marker": {
             "colorbar": {
              "outlinewidth": 0,
              "ticks": ""
             }
            },
            "type": "scatterpolar"
           }
          ],
          "scatterpolargl": [
           {
            "marker": {
             "colorbar": {
              "outlinewidth": 0,
              "ticks": ""
             }
            },
            "type": "scatterpolargl"
           }
          ],
          "scatterternary": [
           {
            "marker": {
             "colorbar": {
              "outlinewidth": 0,
              "ticks": ""
             }
            },
            "type": "scatterternary"
           }
          ],
          "surface": [
           {
            "colorbar": {
             "outlinewidth": 0,
             "ticks": ""
            },
            "colorscale": [
             [
              0,
              "#0d0887"
             ],
             [
              0.1111111111111111,
              "#46039f"
             ],
             [
              0.2222222222222222,
              "#7201a8"
             ],
             [
              0.3333333333333333,
              "#9c179e"
             ],
             [
              0.4444444444444444,
              "#bd3786"
             ],
             [
              0.5555555555555556,
              "#d8576b"
             ],
             [
              0.6666666666666666,
              "#ed7953"
             ],
             [
              0.7777777777777778,
              "#fb9f3a"
             ],
             [
              0.8888888888888888,
              "#fdca26"
             ],
             [
              1,
              "#f0f921"
             ]
            ],
            "type": "surface"
           }
          ],
          "table": [
           {
            "cells": {
             "fill": {
              "color": "#EBF0F8"
             },
             "line": {
              "color": "white"
             }
            },
            "header": {
             "fill": {
              "color": "#C8D4E3"
             },
             "line": {
              "color": "white"
             }
            },
            "type": "table"
           }
          ]
         },
         "layout": {
          "annotationdefaults": {
           "arrowcolor": "#2a3f5f",
           "arrowhead": 0,
           "arrowwidth": 1
          },
          "autotypenumbers": "strict",
          "coloraxis": {
           "colorbar": {
            "outlinewidth": 0,
            "ticks": ""
           }
          },
          "colorscale": {
           "diverging": [
            [
             0,
             "#8e0152"
            ],
            [
             0.1,
             "#c51b7d"
            ],
            [
             0.2,
             "#de77ae"
            ],
            [
             0.3,
             "#f1b6da"
            ],
            [
             0.4,
             "#fde0ef"
            ],
            [
             0.5,
             "#f7f7f7"
            ],
            [
             0.6,
             "#e6f5d0"
            ],
            [
             0.7,
             "#b8e186"
            ],
            [
             0.8,
             "#7fbc41"
            ],
            [
             0.9,
             "#4d9221"
            ],
            [
             1,
             "#276419"
            ]
           ],
           "sequential": [
            [
             0,
             "#0d0887"
            ],
            [
             0.1111111111111111,
             "#46039f"
            ],
            [
             0.2222222222222222,
             "#7201a8"
            ],
            [
             0.3333333333333333,
             "#9c179e"
            ],
            [
             0.4444444444444444,
             "#bd3786"
            ],
            [
             0.5555555555555556,
             "#d8576b"
            ],
            [
             0.6666666666666666,
             "#ed7953"
            ],
            [
             0.7777777777777778,
             "#fb9f3a"
            ],
            [
             0.8888888888888888,
             "#fdca26"
            ],
            [
             1,
             "#f0f921"
            ]
           ],
           "sequentialminus": [
            [
             0,
             "#0d0887"
            ],
            [
             0.1111111111111111,
             "#46039f"
            ],
            [
             0.2222222222222222,
             "#7201a8"
            ],
            [
             0.3333333333333333,
             "#9c179e"
            ],
            [
             0.4444444444444444,
             "#bd3786"
            ],
            [
             0.5555555555555556,
             "#d8576b"
            ],
            [
             0.6666666666666666,
             "#ed7953"
            ],
            [
             0.7777777777777778,
             "#fb9f3a"
            ],
            [
             0.8888888888888888,
             "#fdca26"
            ],
            [
             1,
             "#f0f921"
            ]
           ]
          },
          "colorway": [
           "#636efa",
           "#EF553B",
           "#00cc96",
           "#ab63fa",
           "#FFA15A",
           "#19d3f3",
           "#FF6692",
           "#B6E880",
           "#FF97FF",
           "#FECB52"
          ],
          "font": {
           "color": "#2a3f5f"
          },
          "geo": {
           "bgcolor": "white",
           "lakecolor": "white",
           "landcolor": "#E5ECF6",
           "showlakes": true,
           "showland": true,
           "subunitcolor": "white"
          },
          "hoverlabel": {
           "align": "left"
          },
          "hovermode": "closest",
          "mapbox": {
           "style": "light"
          },
          "paper_bgcolor": "white",
          "plot_bgcolor": "#E5ECF6",
          "polar": {
           "angularaxis": {
            "gridcolor": "white",
            "linecolor": "white",
            "ticks": ""
           },
           "bgcolor": "#E5ECF6",
           "radialaxis": {
            "gridcolor": "white",
            "linecolor": "white",
            "ticks": ""
           }
          },
          "scene": {
           "xaxis": {
            "backgroundcolor": "#E5ECF6",
            "gridcolor": "white",
            "gridwidth": 2,
            "linecolor": "white",
            "showbackground": true,
            "ticks": "",
            "zerolinecolor": "white"
           },
           "yaxis": {
            "backgroundcolor": "#E5ECF6",
            "gridcolor": "white",
            "gridwidth": 2,
            "linecolor": "white",
            "showbackground": true,
            "ticks": "",
            "zerolinecolor": "white"
           },
           "zaxis": {
            "backgroundcolor": "#E5ECF6",
            "gridcolor": "white",
            "gridwidth": 2,
            "linecolor": "white",
            "showbackground": true,
            "ticks": "",
            "zerolinecolor": "white"
           }
          },
          "shapedefaults": {
           "line": {
            "color": "#2a3f5f"
           }
          },
          "ternary": {
           "aaxis": {
            "gridcolor": "white",
            "linecolor": "white",
            "ticks": ""
           },
           "baxis": {
            "gridcolor": "white",
            "linecolor": "white",
            "ticks": ""
           },
           "bgcolor": "#E5ECF6",
           "caxis": {
            "gridcolor": "white",
            "linecolor": "white",
            "ticks": ""
           }
          },
          "title": {
           "x": 0.05
          },
          "xaxis": {
           "automargin": true,
           "gridcolor": "white",
           "linecolor": "white",
           "ticks": "",
           "title": {
            "standoff": 15
           },
           "zerolinecolor": "white",
           "zerolinewidth": 2
          },
          "yaxis": {
           "automargin": true,
           "gridcolor": "white",
           "linecolor": "white",
           "ticks": "",
           "title": {
            "standoff": 15
           },
           "zerolinecolor": "white",
           "zerolinewidth": 2
          }
         }
        },
        "xaxis": {
         "anchor": "y",
         "domain": [
          0,
          1
         ],
         "title": {
          "text": "index"
         }
        },
        "yaxis": {
         "anchor": "x",
         "domain": [
          0,
          1
         ],
         "title": {
          "text": "value"
         }
        }
       }
      }
     },
     "metadata": {},
     "output_type": "display_data"
    }
   ],
   "source": [
    "fig_joined_counts = px.bar(\n",
    "    data_frame=joined_counts\n",
    "    .sort_values(by=\"count_known\", ascending=False) # sort the joined_counts df by the number of contributions made by those in p\n",
    "    [:50], # only take the first 50\n",
    "    y=[\"count_general\", \"count_known\"]\n",
    ")\n",
    "fig_joined_counts.write_image(\"joined_counts.jpeg\")\n",
    "fig_joined_counts"
   ]
  },
  {
   "cell_type": "markdown",
   "metadata": {},
   "source": [
    "## Implement alpha and beta indices of preference"
   ]
  },
  {
   "cell_type": "markdown",
   "metadata": {},
   "source": [
    "### Implement alpha"
   ]
  },
  {
   "cell_type": "code",
   "execution_count": 145,
   "metadata": {},
   "outputs": [
    {
     "data": {
      "text/html": [
       "<div>\n",
       "<style scoped>\n",
       "    .dataframe tbody tr th:only-of-type {\n",
       "        vertical-align: middle;\n",
       "    }\n",
       "\n",
       "    .dataframe tbody tr th {\n",
       "        vertical-align: top;\n",
       "    }\n",
       "\n",
       "    .dataframe thead th {\n",
       "        text-align: right;\n",
       "    }\n",
       "</style>\n",
       "<table border=\"1\" class=\"dataframe\">\n",
       "  <thead>\n",
       "    <tr style=\"text-align: right;\">\n",
       "      <th></th>\n",
       "      <th>count_general</th>\n",
       "      <th>count_known</th>\n",
       "      <th>p_known</th>\n",
       "    </tr>\n",
       "  </thead>\n",
       "  <tbody>\n",
       "    <tr>\n",
       "      <th>https://api.github.com/repos/llvm/llvm-project</th>\n",
       "      <td>48520</td>\n",
       "      <td>795.0</td>\n",
       "      <td>0.003130</td>\n",
       "    </tr>\n",
       "    <tr>\n",
       "      <th>https://api.github.com/repos/JetBrains/MPS</th>\n",
       "      <td>14522</td>\n",
       "      <td>0.0</td>\n",
       "      <td>0.000000</td>\n",
       "    </tr>\n",
       "    <tr>\n",
       "      <th>https://api.github.com/repos/pytorch/pytorch</th>\n",
       "      <td>14015</td>\n",
       "      <td>9.0</td>\n",
       "      <td>0.000035</td>\n",
       "    </tr>\n",
       "    <tr>\n",
       "      <th>https://api.github.com/repos/dotnet/runtime</th>\n",
       "      <td>12700</td>\n",
       "      <td>1415.0</td>\n",
       "      <td>0.005571</td>\n",
       "    </tr>\n",
       "    <tr>\n",
       "      <th>https://api.github.com/repos/milahu/opensubtitles-scraper-new-subs</th>\n",
       "      <td>11358</td>\n",
       "      <td>0.0</td>\n",
       "      <td>0.000000</td>\n",
       "    </tr>\n",
       "    <tr>\n",
       "      <th>...</th>\n",
       "      <td>...</td>\n",
       "      <td>...</td>\n",
       "      <td>...</td>\n",
       "    </tr>\n",
       "    <tr>\n",
       "      <th>https://api.github.com/repos/joachimneu/regenbib</th>\n",
       "      <td>1</td>\n",
       "      <td>0.0</td>\n",
       "      <td>0.000000</td>\n",
       "    </tr>\n",
       "    <tr>\n",
       "      <th>https://api.github.com/repos/jenkinsci/ssh-agent-plugin</th>\n",
       "      <td>1</td>\n",
       "      <td>0.0</td>\n",
       "      <td>0.000000</td>\n",
       "    </tr>\n",
       "    <tr>\n",
       "      <th>https://api.github.com/repos/Wohlstand/OPNMIDI-Player-Java</th>\n",
       "      <td>1</td>\n",
       "      <td>0.0</td>\n",
       "      <td>0.000000</td>\n",
       "    </tr>\n",
       "    <tr>\n",
       "      <th>https://api.github.com/repos/mrlacey/VSWaterMark</th>\n",
       "      <td>1</td>\n",
       "      <td>0.0</td>\n",
       "      <td>0.000000</td>\n",
       "    </tr>\n",
       "    <tr>\n",
       "      <th>https://api.github.com/repos/decaffeinate/decaffeinate-project.org</th>\n",
       "      <td>1</td>\n",
       "      <td>0.0</td>\n",
       "      <td>0.000000</td>\n",
       "    </tr>\n",
       "  </tbody>\n",
       "</table>\n",
       "<p>285199 rows × 3 columns</p>\n",
       "</div>"
      ],
      "text/plain": [
       "                                                    count_general  \\\n",
       "https://api.github.com/repos/llvm/llvm-project              48520   \n",
       "https://api.github.com/repos/JetBrains/MPS                  14522   \n",
       "https://api.github.com/repos/pytorch/pytorch                14015   \n",
       "https://api.github.com/repos/dotnet/runtime                 12700   \n",
       "https://api.github.com/repos/milahu/opensubtitl...          11358   \n",
       "...                                                           ...   \n",
       "https://api.github.com/repos/joachimneu/regenbib                1   \n",
       "https://api.github.com/repos/jenkinsci/ssh-agen...              1   \n",
       "https://api.github.com/repos/Wohlstand/OPNMIDI-...              1   \n",
       "https://api.github.com/repos/mrlacey/VSWaterMark                1   \n",
       "https://api.github.com/repos/decaffeinate/decaf...              1   \n",
       "\n",
       "                                                    count_known   p_known  \n",
       "https://api.github.com/repos/llvm/llvm-project            795.0  0.003130  \n",
       "https://api.github.com/repos/JetBrains/MPS                  0.0  0.000000  \n",
       "https://api.github.com/repos/pytorch/pytorch                9.0  0.000035  \n",
       "https://api.github.com/repos/dotnet/runtime              1415.0  0.005571  \n",
       "https://api.github.com/repos/milahu/opensubtitl...          0.0  0.000000  \n",
       "...                                                         ...       ...  \n",
       "https://api.github.com/repos/joachimneu/regenbib            0.0  0.000000  \n",
       "https://api.github.com/repos/jenkinsci/ssh-agen...          0.0  0.000000  \n",
       "https://api.github.com/repos/Wohlstand/OPNMIDI-...          0.0  0.000000  \n",
       "https://api.github.com/repos/mrlacey/VSWaterMark            0.0  0.000000  \n",
       "https://api.github.com/repos/decaffeinate/decaf...          0.0  0.000000  \n",
       "\n",
       "[285199 rows x 3 columns]"
      ]
     },
     "execution_count": 145,
     "metadata": {},
     "output_type": "execute_result"
    }
   ],
   "source": [
    "# probabilities of contribution in known population\n",
    "\n",
    "n_known = joined_counts[\"count_known\"].sum()\n",
    "joined_counts[\"p_known\"] = joined_counts[\"count_known\"] / n_known\n",
    "joined_counts"
   ]
  },
  {
   "cell_type": "code",
   "execution_count": 146,
   "metadata": {},
   "outputs": [
    {
     "data": {
      "text/html": [
       "<div>\n",
       "<style scoped>\n",
       "    .dataframe tbody tr th:only-of-type {\n",
       "        vertical-align: middle;\n",
       "    }\n",
       "\n",
       "    .dataframe tbody tr th {\n",
       "        vertical-align: top;\n",
       "    }\n",
       "\n",
       "    .dataframe thead th {\n",
       "        text-align: right;\n",
       "    }\n",
       "</style>\n",
       "<table border=\"1\" class=\"dataframe\">\n",
       "  <thead>\n",
       "    <tr style=\"text-align: right;\">\n",
       "      <th></th>\n",
       "      <th>count_general</th>\n",
       "      <th>count_known</th>\n",
       "      <th>p_known</th>\n",
       "      <th>p_everyone</th>\n",
       "    </tr>\n",
       "  </thead>\n",
       "  <tbody>\n",
       "    <tr>\n",
       "      <th>https://api.github.com/repos/llvm/llvm-project</th>\n",
       "      <td>48520</td>\n",
       "      <td>795.0</td>\n",
       "      <td>0.003130</td>\n",
       "      <td>1.219869e-02</td>\n",
       "    </tr>\n",
       "    <tr>\n",
       "      <th>https://api.github.com/repos/JetBrains/MPS</th>\n",
       "      <td>14522</td>\n",
       "      <td>0.0</td>\n",
       "      <td>0.000000</td>\n",
       "      <td>3.592200e-03</td>\n",
       "    </tr>\n",
       "    <tr>\n",
       "      <th>https://api.github.com/repos/pytorch/pytorch</th>\n",
       "      <td>14015</td>\n",
       "      <td>9.0</td>\n",
       "      <td>0.000035</td>\n",
       "      <td>3.469013e-03</td>\n",
       "    </tr>\n",
       "    <tr>\n",
       "      <th>https://api.github.com/repos/dotnet/runtime</th>\n",
       "      <td>12700</td>\n",
       "      <td>1415.0</td>\n",
       "      <td>0.005571</td>\n",
       "      <td>3.491523e-03</td>\n",
       "    </tr>\n",
       "    <tr>\n",
       "      <th>https://api.github.com/repos/milahu/opensubtitles-scraper-new-subs</th>\n",
       "      <td>11358</td>\n",
       "      <td>0.0</td>\n",
       "      <td>0.000000</td>\n",
       "      <td>2.809545e-03</td>\n",
       "    </tr>\n",
       "    <tr>\n",
       "      <th>...</th>\n",
       "      <td>...</td>\n",
       "      <td>...</td>\n",
       "      <td>...</td>\n",
       "      <td>...</td>\n",
       "    </tr>\n",
       "    <tr>\n",
       "      <th>https://api.github.com/repos/joachimneu/regenbib</th>\n",
       "      <td>1</td>\n",
       "      <td>0.0</td>\n",
       "      <td>0.000000</td>\n",
       "      <td>2.473626e-07</td>\n",
       "    </tr>\n",
       "    <tr>\n",
       "      <th>https://api.github.com/repos/jenkinsci/ssh-agent-plugin</th>\n",
       "      <td>1</td>\n",
       "      <td>0.0</td>\n",
       "      <td>0.000000</td>\n",
       "      <td>2.473626e-07</td>\n",
       "    </tr>\n",
       "    <tr>\n",
       "      <th>https://api.github.com/repos/Wohlstand/OPNMIDI-Player-Java</th>\n",
       "      <td>1</td>\n",
       "      <td>0.0</td>\n",
       "      <td>0.000000</td>\n",
       "      <td>2.473626e-07</td>\n",
       "    </tr>\n",
       "    <tr>\n",
       "      <th>https://api.github.com/repos/mrlacey/VSWaterMark</th>\n",
       "      <td>1</td>\n",
       "      <td>0.0</td>\n",
       "      <td>0.000000</td>\n",
       "      <td>2.473626e-07</td>\n",
       "    </tr>\n",
       "    <tr>\n",
       "      <th>https://api.github.com/repos/decaffeinate/decaffeinate-project.org</th>\n",
       "      <td>1</td>\n",
       "      <td>0.0</td>\n",
       "      <td>0.000000</td>\n",
       "      <td>2.473626e-07</td>\n",
       "    </tr>\n",
       "  </tbody>\n",
       "</table>\n",
       "<p>285199 rows × 4 columns</p>\n",
       "</div>"
      ],
      "text/plain": [
       "                                                    count_general  \\\n",
       "https://api.github.com/repos/llvm/llvm-project              48520   \n",
       "https://api.github.com/repos/JetBrains/MPS                  14522   \n",
       "https://api.github.com/repos/pytorch/pytorch                14015   \n",
       "https://api.github.com/repos/dotnet/runtime                 12700   \n",
       "https://api.github.com/repos/milahu/opensubtitl...          11358   \n",
       "...                                                           ...   \n",
       "https://api.github.com/repos/joachimneu/regenbib                1   \n",
       "https://api.github.com/repos/jenkinsci/ssh-agen...              1   \n",
       "https://api.github.com/repos/Wohlstand/OPNMIDI-...              1   \n",
       "https://api.github.com/repos/mrlacey/VSWaterMark                1   \n",
       "https://api.github.com/repos/decaffeinate/decaf...              1   \n",
       "\n",
       "                                                    count_known   p_known  \\\n",
       "https://api.github.com/repos/llvm/llvm-project            795.0  0.003130   \n",
       "https://api.github.com/repos/JetBrains/MPS                  0.0  0.000000   \n",
       "https://api.github.com/repos/pytorch/pytorch                9.0  0.000035   \n",
       "https://api.github.com/repos/dotnet/runtime              1415.0  0.005571   \n",
       "https://api.github.com/repos/milahu/opensubtitl...          0.0  0.000000   \n",
       "...                                                         ...       ...   \n",
       "https://api.github.com/repos/joachimneu/regenbib            0.0  0.000000   \n",
       "https://api.github.com/repos/jenkinsci/ssh-agen...          0.0  0.000000   \n",
       "https://api.github.com/repos/Wohlstand/OPNMIDI-...          0.0  0.000000   \n",
       "https://api.github.com/repos/mrlacey/VSWaterMark            0.0  0.000000   \n",
       "https://api.github.com/repos/decaffeinate/decaf...          0.0  0.000000   \n",
       "\n",
       "                                                      p_everyone  \n",
       "https://api.github.com/repos/llvm/llvm-project      1.219869e-02  \n",
       "https://api.github.com/repos/JetBrains/MPS          3.592200e-03  \n",
       "https://api.github.com/repos/pytorch/pytorch        3.469013e-03  \n",
       "https://api.github.com/repos/dotnet/runtime         3.491523e-03  \n",
       "https://api.github.com/repos/milahu/opensubtitl...  2.809545e-03  \n",
       "...                                                          ...  \n",
       "https://api.github.com/repos/joachimneu/regenbib    2.473626e-07  \n",
       "https://api.github.com/repos/jenkinsci/ssh-agen...  2.473626e-07  \n",
       "https://api.github.com/repos/Wohlstand/OPNMIDI-...  2.473626e-07  \n",
       "https://api.github.com/repos/mrlacey/VSWaterMark    2.473626e-07  \n",
       "https://api.github.com/repos/decaffeinate/decaf...  2.473626e-07  \n",
       "\n",
       "[285199 rows x 4 columns]"
      ]
     },
     "execution_count": 146,
     "metadata": {},
     "output_type": "execute_result"
    }
   ],
   "source": [
    "# Probabilities of contribution in general population:\n",
    "\n",
    "n_general = joined_counts[\"count_general\"].sum()\n",
    "joined_counts[\"p_everyone\"] = (joined_counts[\"count_general\"] + joined_counts[\"count_known\"]) / (n_general + n_known)\n",
    "joined_counts"
   ]
  },
  {
   "cell_type": "code",
   "execution_count": 147,
   "metadata": {},
   "outputs": [
    {
     "data": {
      "text/html": [
       "<div>\n",
       "<style scoped>\n",
       "    .dataframe tbody tr th:only-of-type {\n",
       "        vertical-align: middle;\n",
       "    }\n",
       "\n",
       "    .dataframe tbody tr th {\n",
       "        vertical-align: top;\n",
       "    }\n",
       "\n",
       "    .dataframe thead th {\n",
       "        text-align: right;\n",
       "    }\n",
       "</style>\n",
       "<table border=\"1\" class=\"dataframe\">\n",
       "  <thead>\n",
       "    <tr style=\"text-align: right;\">\n",
       "      <th></th>\n",
       "      <th>count_general</th>\n",
       "      <th>count_known</th>\n",
       "      <th>p_known</th>\n",
       "      <th>p_everyone</th>\n",
       "      <th>alpha</th>\n",
       "    </tr>\n",
       "  </thead>\n",
       "  <tbody>\n",
       "    <tr>\n",
       "      <th>https://api.github.com/repos/llvm/llvm-project</th>\n",
       "      <td>48520</td>\n",
       "      <td>795.0</td>\n",
       "      <td>0.003130</td>\n",
       "      <td>1.219869e-02</td>\n",
       "      <td>0.256581</td>\n",
       "    </tr>\n",
       "    <tr>\n",
       "      <th>https://api.github.com/repos/JetBrains/MPS</th>\n",
       "      <td>14522</td>\n",
       "      <td>0.0</td>\n",
       "      <td>0.000000</td>\n",
       "      <td>3.592200e-03</td>\n",
       "      <td>0.000000</td>\n",
       "    </tr>\n",
       "    <tr>\n",
       "      <th>https://api.github.com/repos/pytorch/pytorch</th>\n",
       "      <td>14015</td>\n",
       "      <td>9.0</td>\n",
       "      <td>0.000035</td>\n",
       "      <td>3.469013e-03</td>\n",
       "      <td>0.010214</td>\n",
       "    </tr>\n",
       "    <tr>\n",
       "      <th>https://api.github.com/repos/dotnet/runtime</th>\n",
       "      <td>12700</td>\n",
       "      <td>1415.0</td>\n",
       "      <td>0.005571</td>\n",
       "      <td>3.491523e-03</td>\n",
       "      <td>1.595553</td>\n",
       "    </tr>\n",
       "    <tr>\n",
       "      <th>https://api.github.com/repos/milahu/opensubtitles-scraper-new-subs</th>\n",
       "      <td>11358</td>\n",
       "      <td>0.0</td>\n",
       "      <td>0.000000</td>\n",
       "      <td>2.809545e-03</td>\n",
       "      <td>0.000000</td>\n",
       "    </tr>\n",
       "    <tr>\n",
       "      <th>...</th>\n",
       "      <td>...</td>\n",
       "      <td>...</td>\n",
       "      <td>...</td>\n",
       "      <td>...</td>\n",
       "      <td>...</td>\n",
       "    </tr>\n",
       "    <tr>\n",
       "      <th>https://api.github.com/repos/joachimneu/regenbib</th>\n",
       "      <td>1</td>\n",
       "      <td>0.0</td>\n",
       "      <td>0.000000</td>\n",
       "      <td>2.473626e-07</td>\n",
       "      <td>0.000000</td>\n",
       "    </tr>\n",
       "    <tr>\n",
       "      <th>https://api.github.com/repos/jenkinsci/ssh-agent-plugin</th>\n",
       "      <td>1</td>\n",
       "      <td>0.0</td>\n",
       "      <td>0.000000</td>\n",
       "      <td>2.473626e-07</td>\n",
       "      <td>0.000000</td>\n",
       "    </tr>\n",
       "    <tr>\n",
       "      <th>https://api.github.com/repos/Wohlstand/OPNMIDI-Player-Java</th>\n",
       "      <td>1</td>\n",
       "      <td>0.0</td>\n",
       "      <td>0.000000</td>\n",
       "      <td>2.473626e-07</td>\n",
       "      <td>0.000000</td>\n",
       "    </tr>\n",
       "    <tr>\n",
       "      <th>https://api.github.com/repos/mrlacey/VSWaterMark</th>\n",
       "      <td>1</td>\n",
       "      <td>0.0</td>\n",
       "      <td>0.000000</td>\n",
       "      <td>2.473626e-07</td>\n",
       "      <td>0.000000</td>\n",
       "    </tr>\n",
       "    <tr>\n",
       "      <th>https://api.github.com/repos/decaffeinate/decaffeinate-project.org</th>\n",
       "      <td>1</td>\n",
       "      <td>0.0</td>\n",
       "      <td>0.000000</td>\n",
       "      <td>2.473626e-07</td>\n",
       "      <td>0.000000</td>\n",
       "    </tr>\n",
       "  </tbody>\n",
       "</table>\n",
       "<p>285199 rows × 5 columns</p>\n",
       "</div>"
      ],
      "text/plain": [
       "                                                    count_general  \\\n",
       "https://api.github.com/repos/llvm/llvm-project              48520   \n",
       "https://api.github.com/repos/JetBrains/MPS                  14522   \n",
       "https://api.github.com/repos/pytorch/pytorch                14015   \n",
       "https://api.github.com/repos/dotnet/runtime                 12700   \n",
       "https://api.github.com/repos/milahu/opensubtitl...          11358   \n",
       "...                                                           ...   \n",
       "https://api.github.com/repos/joachimneu/regenbib                1   \n",
       "https://api.github.com/repos/jenkinsci/ssh-agen...              1   \n",
       "https://api.github.com/repos/Wohlstand/OPNMIDI-...              1   \n",
       "https://api.github.com/repos/mrlacey/VSWaterMark                1   \n",
       "https://api.github.com/repos/decaffeinate/decaf...              1   \n",
       "\n",
       "                                                    count_known   p_known  \\\n",
       "https://api.github.com/repos/llvm/llvm-project            795.0  0.003130   \n",
       "https://api.github.com/repos/JetBrains/MPS                  0.0  0.000000   \n",
       "https://api.github.com/repos/pytorch/pytorch                9.0  0.000035   \n",
       "https://api.github.com/repos/dotnet/runtime              1415.0  0.005571   \n",
       "https://api.github.com/repos/milahu/opensubtitl...          0.0  0.000000   \n",
       "...                                                         ...       ...   \n",
       "https://api.github.com/repos/joachimneu/regenbib            0.0  0.000000   \n",
       "https://api.github.com/repos/jenkinsci/ssh-agen...          0.0  0.000000   \n",
       "https://api.github.com/repos/Wohlstand/OPNMIDI-...          0.0  0.000000   \n",
       "https://api.github.com/repos/mrlacey/VSWaterMark            0.0  0.000000   \n",
       "https://api.github.com/repos/decaffeinate/decaf...          0.0  0.000000   \n",
       "\n",
       "                                                      p_everyone     alpha  \n",
       "https://api.github.com/repos/llvm/llvm-project      1.219869e-02  0.256581  \n",
       "https://api.github.com/repos/JetBrains/MPS          3.592200e-03  0.000000  \n",
       "https://api.github.com/repos/pytorch/pytorch        3.469013e-03  0.010214  \n",
       "https://api.github.com/repos/dotnet/runtime         3.491523e-03  1.595553  \n",
       "https://api.github.com/repos/milahu/opensubtitl...  2.809545e-03  0.000000  \n",
       "...                                                          ...       ...  \n",
       "https://api.github.com/repos/joachimneu/regenbib    2.473626e-07  0.000000  \n",
       "https://api.github.com/repos/jenkinsci/ssh-agen...  2.473626e-07  0.000000  \n",
       "https://api.github.com/repos/Wohlstand/OPNMIDI-...  2.473626e-07  0.000000  \n",
       "https://api.github.com/repos/mrlacey/VSWaterMark    2.473626e-07  0.000000  \n",
       "https://api.github.com/repos/decaffeinate/decaf...  2.473626e-07  0.000000  \n",
       "\n",
       "[285199 rows x 5 columns]"
      ]
     },
     "execution_count": 147,
     "metadata": {},
     "output_type": "execute_result"
    }
   ],
   "source": [
    "# calculate alpha\n",
    "\n",
    "joined_counts[\"alpha\"] = joined_counts[\"p_known\"] / joined_counts[\"p_everyone\"]\n",
    "joined_counts"
   ]
  },
  {
   "cell_type": "code",
   "execution_count": 148,
   "metadata": {},
   "outputs": [
    {
     "data": {
      "application/vnd.plotly.v1+json": {
       "config": {
        "plotlyServerURL": "https://plot.ly"
       },
       "data": [
        {
         "alignmentgroup": "True",
         "customdata": [
          [
           713,
           1
          ],
          [
           447,
           1
          ],
          [
           360,
           1
          ],
          [
           285,
           1
          ],
          [
           264,
           1
          ],
          [
           249,
           1
          ],
          [
           243,
           1
          ],
          [
           233,
           1
          ],
          [
           232,
           1
          ],
          [
           228,
           1
          ],
          [
           215,
           1
          ],
          [
           214,
           1
          ],
          [
           422,
           2
          ],
          [
           209,
           1
          ],
          [
           399,
           2
          ],
          [
           189,
           1
          ],
          [
           181,
           1
          ],
          [
           337,
           2
          ],
          [
           164,
           1
          ],
          [
           473,
           3
          ],
          [
           155,
           1
          ],
          [
           152,
           1
          ],
          [
           151,
           1
          ],
          [
           147,
           1
          ],
          [
           143,
           1
          ],
          [
           422,
           3
          ],
          [
           280,
           2
          ],
          [
           135,
           1
          ],
          [
           134,
           1
          ],
          [
           133,
           1
          ],
          [
           132,
           1
          ],
          [
           131,
           1
          ],
          [
           128,
           1
          ],
          [
           127,
           1
          ],
          [
           124,
           1
          ],
          [
           116,
           1
          ],
          [
           114,
           1
          ],
          [
           114,
           1
          ],
          [
           336,
           3
          ],
          [
           222,
           2
          ],
          [
           110,
           1
          ],
          [
           640,
           6
          ],
          [
           2042,
           20
          ],
          [
           101,
           1
          ],
          [
           100,
           1
          ],
          [
           95,
           1
          ],
          [
           375,
           4
          ],
          [
           92,
           1
          ],
          [
           91,
           1
          ],
          [
           91,
           1
          ],
          [
           628,
           7
          ],
          [
           87,
           1
          ],
          [
           85,
           1
          ],
          [
           83,
           1
          ],
          [
           81,
           1
          ],
          [
           158,
           2
          ],
          [
           79,
           1
          ],
          [
           78,
           1
          ],
          [
           156,
           2
          ],
          [
           310,
           4
          ],
          [
           540,
           7
          ],
          [
           76,
           1
          ],
          [
           151,
           2
          ],
          [
           150,
           2
          ],
          [
           448,
           6
          ],
          [
           222,
           3
          ],
          [
           148,
           2
          ],
          [
           367,
           5
          ],
          [
           290,
           4
          ],
          [
           72,
           1
          ],
          [
           72,
           1
          ],
          [
           72,
           1
          ],
          [
           71,
           1
          ],
          [
           211,
           3
          ],
          [
           420,
           6
          ],
          [
           70,
           1
          ],
          [
           69,
           1
          ],
          [
           69,
           1
          ],
          [
           68,
           1
          ],
          [
           135,
           2
          ],
          [
           67,
           1
          ],
          [
           197,
           3
          ],
          [
           65,
           1
          ],
          [
           128,
           2
          ],
          [
           64,
           1
          ],
          [
           1019,
           16
          ],
          [
           127,
           2
          ],
          [
           63,
           1
          ],
          [
           62,
           1
          ],
          [
           61,
           1
          ],
          [
           61,
           1
          ],
          [
           60,
           1
          ],
          [
           59,
           1
          ],
          [
           59,
           1
          ],
          [
           234,
           4
          ],
          [
           58,
           1
          ],
          [
           58,
           1
          ],
          [
           115,
           2
          ],
          [
           171,
           3
          ],
          [
           57,
           1
          ]
         ],
         "hovertemplate": "Repo:%{label}: <br>Alpha: %{value} </br>(count_known, count_general) : %{customdata}",
         "legendgroup": "",
         "marker": {
          "color": "#636efa",
          "pattern": {
           "shape": ""
          }
         },
         "name": "",
         "offsetgroup": "",
         "orientation": "v",
         "showlegend": false,
         "textposition": "auto",
         "type": "bar",
         "x": [
          "https://api.github.com/repos/moondance-labs/tanssi",
          "https://api.github.com/repos/moonbeam-foundation/moonbeam",
          "https://api.github.com/repos/ashtonmeuser/godot-wasm",
          "https://api.github.com/repos/polywrap/evo.ninja",
          "https://api.github.com/repos/multiversx/mx-chain-go",
          "https://api.github.com/repos/BeeStation/BeeStation-Hornet",
          "https://api.github.com/repos/DenialAdams/roland",
          "https://api.github.com/repos/sonofmagic/weapp-tailwindcss",
          "https://api.github.com/repos/hpcc-systems/HPCC-Platform",
          "https://api.github.com/repos/rbatis/rbatis",
          "https://api.github.com/repos/mokeyish/obsidian-enhancing-export",
          "https://api.github.com/repos/sigstore/sigstore-js",
          "https://api.github.com/repos/Mesnage-Org/pgfinder",
          "https://api.github.com/repos/googleforgames/quilkin",
          "https://api.github.com/repos/ocaml-multicore/multicoretests",
          "https://api.github.com/repos/fishfolk/bones",
          "https://api.github.com/repos/bots-garden/slingshot",
          "https://api.github.com/repos/gluwa/creditcoin",
          "https://api.github.com/repos/rockwotj/redpanda",
          "https://api.github.com/repos/holochain/holochain",
          "https://api.github.com/repos/thaystg/runtime",
          "https://api.github.com/repos/glandium/git-cinnabar",
          "https://api.github.com/repos/zummenix/mprovision",
          "https://api.github.com/repos/zio/zio-aws",
          "https://api.github.com/repos/multiversx/mx-chain-vm-go",
          "https://api.github.com/repos/aws/s2n-quic",
          "https://api.github.com/repos/cloudflare/ebpf_exporter",
          "https://api.github.com/repos/bluebrown/kobold",
          "https://api.github.com/repos/cedar-policy/cedar-spec",
          "https://api.github.com/repos/lightninglabs/neutrino",
          "https://api.github.com/repos/camshaft/bolero",
          "https://api.github.com/repos/adampetro/bluejay-rb",
          "https://api.github.com/repos/maekawatoshiki/altius",
          "https://api.github.com/repos/alexcrichton/wasmtime",
          "https://api.github.com/repos/bytecodealliance/vscode-wit",
          "https://api.github.com/repos/Off-Narrative-Labs/Tuxedo",
          "https://api.github.com/repos/Mesnage-Org/pgfinder-gui",
          "https://api.github.com/repos/ruby/ruby.wasm",
          "https://api.github.com/repos/exercism/rust",
          "https://api.github.com/repos/joepio/pauseai",
          "https://api.github.com/repos/Phala-Network/phat-bricks",
          "https://api.github.com/repos/amazon-ion/ion-rust",
          "https://api.github.com/repos/risingwavelabs/risingwave",
          "https://api.github.com/repos/FalkorDB/falkordb-cloud",
          "https://api.github.com/repos/yamafaktory/jql",
          "https://api.github.com/repos/emacs-compat/compat",
          "https://api.github.com/repos/kubesimplify/ksctl",
          "https://api.github.com/repos/GTNewHorizons/ExampleMod1.7.10",
          "https://api.github.com/repos/Wasm-DSL/spectec",
          "https://api.github.com/repos/amun-ai/hypha",
          "https://api.github.com/repos/getredash/redash",
          "https://api.github.com/repos/pnpm/pn",
          "https://api.github.com/repos/eduardomourar/wasmtime",
          "https://api.github.com/repos/Tencent/CodeAnalysis",
          "https://api.github.com/repos/coralogix/zio-k8s",
          "https://api.github.com/repos/clearloop/zink",
          "https://api.github.com/repos/heiher/hev-socks5-tunnel",
          "https://api.github.com/repos/compio-rs/compio",
          "https://api.github.com/repos/demisto/dockerfiles",
          "https://api.github.com/repos/FISCO-BCOS/FISCO-BCOS",
          "https://api.github.com/repos/socketsupply/socket",
          "https://api.github.com/repos/blynkkk/BlynkNcpDriver",
          "https://api.github.com/repos/meli/meli",
          "https://api.github.com/repos/bytecodealliance/sightglass",
          "https://api.github.com/repos/fastly/compute-sdk-go",
          "https://api.github.com/repos/pendulum-project/statime",
          "https://api.github.com/repos/lpil/wisp",
          "https://api.github.com/repos/fulcrum-so/ziggy-pydust",
          "https://api.github.com/repos/afnanenayet/diffsitter",
          "https://api.github.com/repos/cdklabs/cdk-from-cfn",
          "https://api.github.com/repos/CosmWasm/cw-multi-test",
          "https://api.github.com/repos/profianinc/steward",
          "https://api.github.com/repos/craigpastro/pgmq-go",
          "https://api.github.com/repos/oxidize-rb/rb-sys",
          "https://api.github.com/repos/WasmEdge/wasmedge-rust-sdk",
          "https://api.github.com/repos/comit-network/xmr-btc-swap",
          "https://api.github.com/repos/ironthree/dxr",
          "https://api.github.com/repos/silvanshade/cxx-llvm",
          "https://api.github.com/repos/leon-thomm/Ryven",
          "https://api.github.com/repos/KWasm/kwasm-node-installer",
          "https://api.github.com/repos/openfoodfacts/openfoodfacts-server",
          "https://api.github.com/repos/robojumper/DIM",
          "https://api.github.com/repos/brettcannon/microvenv",
          "https://api.github.com/repos/mobilityhouse/ocpp",
          "https://api.github.com/repos/blynkkk/blynk-library",
          "https://api.github.com/repos/CosmWasm/cosmwasm",
          "https://api.github.com/repos/libsql/libsql-experimental-node",
          "https://api.github.com/repos/oantolin/embark",
          "https://api.github.com/repos/dipankardas011/crop-yield-monitor",
          "https://api.github.com/repos/rambip/leptos-markdown",
          "https://api.github.com/repos/openssh-rust/openssh-sftp-client",
          "https://api.github.com/repos/ktock/buildg",
          "https://api.github.com/repos/wasix-org/socket2",
          "https://api.github.com/repos/richardanaya/tour_of_rust",
          "https://api.github.com/repos/yamt/toywasm",
          "https://api.github.com/repos/octoclairvoyant/octoclairvoyant-webapp",
          "https://api.github.com/repos/linkerd/linkerd2-proxy",
          "https://api.github.com/repos/apache/dubbo-website",
          "https://api.github.com/repos/regehr/guided-tree-search",
          "https://api.github.com/repos/Voultapher/self_cell"
         ],
         "xaxis": "x",
         "y": [
          15.89377092737425,
          15.88053540635303,
          15.871973515877578,
          15.860411763607852,
          15.856001718628894,
          15.852398081874663,
          15.850832567547002,
          15.848044970809717,
          15.847753050808045,
          15.846559875604703,
          15.842376857443906,
          15.842034134310158,
          15.840986565486253,
          15.840271558193747,
          15.836680474185995,
          15.832293582087884,
          15.828611439269789,
          15.82216225844902,
          15.819601347374007,
          15.815751013986016,
          15.814036290614848,
          15.812035780015147,
          15.81135139480999,
          15.808521369502166,
          15.805534120566127,
          15.803713655920403,
          15.8031824565101,
          15.799032461117111,
          15.798165573190575,
          15.797285746638268,
          15.796392689611492,
          15.795486101417646,
          15.792682003050626,
          15.79171809423696,
          15.788733832549864,
          15.780027610419976,
          15.777661789189029,
          15.777661789189029,
          15.7752122220738,
          15.773954631813748,
          15.772674382269734,
          15.768235126884912,
          15.76168733283671,
          15.760022504422993,
          15.75847755564303,
          15.750270015249464,
          15.748082781529806,
          15.74492187602527,
          15.74306165368642,
          15.74306165368642,
          15.740609675579936,
          15.735197986526739,
          15.73099183897621,
          15.726585398685177,
          15.721964010087268,
          15.717111552059464,
          15.717111552059464,
          15.714593187766553,
          15.714593187766553,
          15.713309944814752,
          15.712383288569848,
          15.709360223002063,
          15.708009228830838,
          15.706640458420518,
          15.70571789510431,
          15.703848166783466,
          15.703848166783466,
          15.702136762231722,
          15.699517265468854,
          15.698034080087139,
          15.698034080087139,
          15.698034080087139,
          15.695005909932798,
          15.692939962070493,
          15.691892439210735,
          15.691892439210731,
          15.688690012182322,
          15.688690012182322,
          15.685394761182076,
          15.683711056291438,
          15.682002591034763,
          15.677321396231466,
          15.67490987163583,
          15.671199833796392,
          15.671199833796392,
          15.670016923180917,
          15.66930167490179,
          15.667373857274466,
          15.66342642118042,
          15.659351648438177,
          15.659351648438177,
          15.655143276589632,
          15.650794625679467,
          15.650794625679467,
          15.648565485296945,
          15.646298562874044,
          15.646298562874044,
          15.643992889640492,
          15.641647463420158,
          15.641647463420158
         ],
         "yaxis": "y"
        }
       ],
       "layout": {
        "barmode": "relative",
        "legend": {
         "tracegroupgap": 0
        },
        "margin": {
         "t": 60
        },
        "template": {
         "data": {
          "bar": [
           {
            "error_x": {
             "color": "#2a3f5f"
            },
            "error_y": {
             "color": "#2a3f5f"
            },
            "marker": {
             "line": {
              "color": "#E5ECF6",
              "width": 0.5
             },
             "pattern": {
              "fillmode": "overlay",
              "size": 10,
              "solidity": 0.2
             }
            },
            "type": "bar"
           }
          ],
          "barpolar": [
           {
            "marker": {
             "line": {
              "color": "#E5ECF6",
              "width": 0.5
             },
             "pattern": {
              "fillmode": "overlay",
              "size": 10,
              "solidity": 0.2
             }
            },
            "type": "barpolar"
           }
          ],
          "carpet": [
           {
            "aaxis": {
             "endlinecolor": "#2a3f5f",
             "gridcolor": "white",
             "linecolor": "white",
             "minorgridcolor": "white",
             "startlinecolor": "#2a3f5f"
            },
            "baxis": {
             "endlinecolor": "#2a3f5f",
             "gridcolor": "white",
             "linecolor": "white",
             "minorgridcolor": "white",
             "startlinecolor": "#2a3f5f"
            },
            "type": "carpet"
           }
          ],
          "choropleth": [
           {
            "colorbar": {
             "outlinewidth": 0,
             "ticks": ""
            },
            "type": "choropleth"
           }
          ],
          "contour": [
           {
            "colorbar": {
             "outlinewidth": 0,
             "ticks": ""
            },
            "colorscale": [
             [
              0,
              "#0d0887"
             ],
             [
              0.1111111111111111,
              "#46039f"
             ],
             [
              0.2222222222222222,
              "#7201a8"
             ],
             [
              0.3333333333333333,
              "#9c179e"
             ],
             [
              0.4444444444444444,
              "#bd3786"
             ],
             [
              0.5555555555555556,
              "#d8576b"
             ],
             [
              0.6666666666666666,
              "#ed7953"
             ],
             [
              0.7777777777777778,
              "#fb9f3a"
             ],
             [
              0.8888888888888888,
              "#fdca26"
             ],
             [
              1,
              "#f0f921"
             ]
            ],
            "type": "contour"
           }
          ],
          "contourcarpet": [
           {
            "colorbar": {
             "outlinewidth": 0,
             "ticks": ""
            },
            "type": "contourcarpet"
           }
          ],
          "heatmap": [
           {
            "colorbar": {
             "outlinewidth": 0,
             "ticks": ""
            },
            "colorscale": [
             [
              0,
              "#0d0887"
             ],
             [
              0.1111111111111111,
              "#46039f"
             ],
             [
              0.2222222222222222,
              "#7201a8"
             ],
             [
              0.3333333333333333,
              "#9c179e"
             ],
             [
              0.4444444444444444,
              "#bd3786"
             ],
             [
              0.5555555555555556,
              "#d8576b"
             ],
             [
              0.6666666666666666,
              "#ed7953"
             ],
             [
              0.7777777777777778,
              "#fb9f3a"
             ],
             [
              0.8888888888888888,
              "#fdca26"
             ],
             [
              1,
              "#f0f921"
             ]
            ],
            "type": "heatmap"
           }
          ],
          "heatmapgl": [
           {
            "colorbar": {
             "outlinewidth": 0,
             "ticks": ""
            },
            "colorscale": [
             [
              0,
              "#0d0887"
             ],
             [
              0.1111111111111111,
              "#46039f"
             ],
             [
              0.2222222222222222,
              "#7201a8"
             ],
             [
              0.3333333333333333,
              "#9c179e"
             ],
             [
              0.4444444444444444,
              "#bd3786"
             ],
             [
              0.5555555555555556,
              "#d8576b"
             ],
             [
              0.6666666666666666,
              "#ed7953"
             ],
             [
              0.7777777777777778,
              "#fb9f3a"
             ],
             [
              0.8888888888888888,
              "#fdca26"
             ],
             [
              1,
              "#f0f921"
             ]
            ],
            "type": "heatmapgl"
           }
          ],
          "histogram": [
           {
            "marker": {
             "pattern": {
              "fillmode": "overlay",
              "size": 10,
              "solidity": 0.2
             }
            },
            "type": "histogram"
           }
          ],
          "histogram2d": [
           {
            "colorbar": {
             "outlinewidth": 0,
             "ticks": ""
            },
            "colorscale": [
             [
              0,
              "#0d0887"
             ],
             [
              0.1111111111111111,
              "#46039f"
             ],
             [
              0.2222222222222222,
              "#7201a8"
             ],
             [
              0.3333333333333333,
              "#9c179e"
             ],
             [
              0.4444444444444444,
              "#bd3786"
             ],
             [
              0.5555555555555556,
              "#d8576b"
             ],
             [
              0.6666666666666666,
              "#ed7953"
             ],
             [
              0.7777777777777778,
              "#fb9f3a"
             ],
             [
              0.8888888888888888,
              "#fdca26"
             ],
             [
              1,
              "#f0f921"
             ]
            ],
            "type": "histogram2d"
           }
          ],
          "histogram2dcontour": [
           {
            "colorbar": {
             "outlinewidth": 0,
             "ticks": ""
            },
            "colorscale": [
             [
              0,
              "#0d0887"
             ],
             [
              0.1111111111111111,
              "#46039f"
             ],
             [
              0.2222222222222222,
              "#7201a8"
             ],
             [
              0.3333333333333333,
              "#9c179e"
             ],
             [
              0.4444444444444444,
              "#bd3786"
             ],
             [
              0.5555555555555556,
              "#d8576b"
             ],
             [
              0.6666666666666666,
              "#ed7953"
             ],
             [
              0.7777777777777778,
              "#fb9f3a"
             ],
             [
              0.8888888888888888,
              "#fdca26"
             ],
             [
              1,
              "#f0f921"
             ]
            ],
            "type": "histogram2dcontour"
           }
          ],
          "mesh3d": [
           {
            "colorbar": {
             "outlinewidth": 0,
             "ticks": ""
            },
            "type": "mesh3d"
           }
          ],
          "parcoords": [
           {
            "line": {
             "colorbar": {
              "outlinewidth": 0,
              "ticks": ""
             }
            },
            "type": "parcoords"
           }
          ],
          "pie": [
           {
            "automargin": true,
            "type": "pie"
           }
          ],
          "scatter": [
           {
            "fillpattern": {
             "fillmode": "overlay",
             "size": 10,
             "solidity": 0.2
            },
            "type": "scatter"
           }
          ],
          "scatter3d": [
           {
            "line": {
             "colorbar": {
              "outlinewidth": 0,
              "ticks": ""
             }
            },
            "marker": {
             "colorbar": {
              "outlinewidth": 0,
              "ticks": ""
             }
            },
            "type": "scatter3d"
           }
          ],
          "scattercarpet": [
           {
            "marker": {
             "colorbar": {
              "outlinewidth": 0,
              "ticks": ""
             }
            },
            "type": "scattercarpet"
           }
          ],
          "scattergeo": [
           {
            "marker": {
             "colorbar": {
              "outlinewidth": 0,
              "ticks": ""
             }
            },
            "type": "scattergeo"
           }
          ],
          "scattergl": [
           {
            "marker": {
             "colorbar": {
              "outlinewidth": 0,
              "ticks": ""
             }
            },
            "type": "scattergl"
           }
          ],
          "scattermapbox": [
           {
            "marker": {
             "colorbar": {
              "outlinewidth": 0,
              "ticks": ""
             }
            },
            "type": "scattermapbox"
           }
          ],
          "scatterpolar": [
           {
            "marker": {
             "colorbar": {
              "outlinewidth": 0,
              "ticks": ""
             }
            },
            "type": "scatterpolar"
           }
          ],
          "scatterpolargl": [
           {
            "marker": {
             "colorbar": {
              "outlinewidth": 0,
              "ticks": ""
             }
            },
            "type": "scatterpolargl"
           }
          ],
          "scatterternary": [
           {
            "marker": {
             "colorbar": {
              "outlinewidth": 0,
              "ticks": ""
             }
            },
            "type": "scatterternary"
           }
          ],
          "surface": [
           {
            "colorbar": {
             "outlinewidth": 0,
             "ticks": ""
            },
            "colorscale": [
             [
              0,
              "#0d0887"
             ],
             [
              0.1111111111111111,
              "#46039f"
             ],
             [
              0.2222222222222222,
              "#7201a8"
             ],
             [
              0.3333333333333333,
              "#9c179e"
             ],
             [
              0.4444444444444444,
              "#bd3786"
             ],
             [
              0.5555555555555556,
              "#d8576b"
             ],
             [
              0.6666666666666666,
              "#ed7953"
             ],
             [
              0.7777777777777778,
              "#fb9f3a"
             ],
             [
              0.8888888888888888,
              "#fdca26"
             ],
             [
              1,
              "#f0f921"
             ]
            ],
            "type": "surface"
           }
          ],
          "table": [
           {
            "cells": {
             "fill": {
              "color": "#EBF0F8"
             },
             "line": {
              "color": "white"
             }
            },
            "header": {
             "fill": {
              "color": "#C8D4E3"
             },
             "line": {
              "color": "white"
             }
            },
            "type": "table"
           }
          ]
         },
         "layout": {
          "annotationdefaults": {
           "arrowcolor": "#2a3f5f",
           "arrowhead": 0,
           "arrowwidth": 1
          },
          "autotypenumbers": "strict",
          "coloraxis": {
           "colorbar": {
            "outlinewidth": 0,
            "ticks": ""
           }
          },
          "colorscale": {
           "diverging": [
            [
             0,
             "#8e0152"
            ],
            [
             0.1,
             "#c51b7d"
            ],
            [
             0.2,
             "#de77ae"
            ],
            [
             0.3,
             "#f1b6da"
            ],
            [
             0.4,
             "#fde0ef"
            ],
            [
             0.5,
             "#f7f7f7"
            ],
            [
             0.6,
             "#e6f5d0"
            ],
            [
             0.7,
             "#b8e186"
            ],
            [
             0.8,
             "#7fbc41"
            ],
            [
             0.9,
             "#4d9221"
            ],
            [
             1,
             "#276419"
            ]
           ],
           "sequential": [
            [
             0,
             "#0d0887"
            ],
            [
             0.1111111111111111,
             "#46039f"
            ],
            [
             0.2222222222222222,
             "#7201a8"
            ],
            [
             0.3333333333333333,
             "#9c179e"
            ],
            [
             0.4444444444444444,
             "#bd3786"
            ],
            [
             0.5555555555555556,
             "#d8576b"
            ],
            [
             0.6666666666666666,
             "#ed7953"
            ],
            [
             0.7777777777777778,
             "#fb9f3a"
            ],
            [
             0.8888888888888888,
             "#fdca26"
            ],
            [
             1,
             "#f0f921"
            ]
           ],
           "sequentialminus": [
            [
             0,
             "#0d0887"
            ],
            [
             0.1111111111111111,
             "#46039f"
            ],
            [
             0.2222222222222222,
             "#7201a8"
            ],
            [
             0.3333333333333333,
             "#9c179e"
            ],
            [
             0.4444444444444444,
             "#bd3786"
            ],
            [
             0.5555555555555556,
             "#d8576b"
            ],
            [
             0.6666666666666666,
             "#ed7953"
            ],
            [
             0.7777777777777778,
             "#fb9f3a"
            ],
            [
             0.8888888888888888,
             "#fdca26"
            ],
            [
             1,
             "#f0f921"
            ]
           ]
          },
          "colorway": [
           "#636efa",
           "#EF553B",
           "#00cc96",
           "#ab63fa",
           "#FFA15A",
           "#19d3f3",
           "#FF6692",
           "#B6E880",
           "#FF97FF",
           "#FECB52"
          ],
          "font": {
           "color": "#2a3f5f"
          },
          "geo": {
           "bgcolor": "white",
           "lakecolor": "white",
           "landcolor": "#E5ECF6",
           "showlakes": true,
           "showland": true,
           "subunitcolor": "white"
          },
          "hoverlabel": {
           "align": "left"
          },
          "hovermode": "closest",
          "mapbox": {
           "style": "light"
          },
          "paper_bgcolor": "white",
          "plot_bgcolor": "#E5ECF6",
          "polar": {
           "angularaxis": {
            "gridcolor": "white",
            "linecolor": "white",
            "ticks": ""
           },
           "bgcolor": "#E5ECF6",
           "radialaxis": {
            "gridcolor": "white",
            "linecolor": "white",
            "ticks": ""
           }
          },
          "scene": {
           "xaxis": {
            "backgroundcolor": "#E5ECF6",
            "gridcolor": "white",
            "gridwidth": 2,
            "linecolor": "white",
            "showbackground": true,
            "ticks": "",
            "zerolinecolor": "white"
           },
           "yaxis": {
            "backgroundcolor": "#E5ECF6",
            "gridcolor": "white",
            "gridwidth": 2,
            "linecolor": "white",
            "showbackground": true,
            "ticks": "",
            "zerolinecolor": "white"
           },
           "zaxis": {
            "backgroundcolor": "#E5ECF6",
            "gridcolor": "white",
            "gridwidth": 2,
            "linecolor": "white",
            "showbackground": true,
            "ticks": "",
            "zerolinecolor": "white"
           }
          },
          "shapedefaults": {
           "line": {
            "color": "#2a3f5f"
           }
          },
          "ternary": {
           "aaxis": {
            "gridcolor": "white",
            "linecolor": "white",
            "ticks": ""
           },
           "baxis": {
            "gridcolor": "white",
            "linecolor": "white",
            "ticks": ""
           },
           "bgcolor": "#E5ECF6",
           "caxis": {
            "gridcolor": "white",
            "linecolor": "white",
            "ticks": ""
           }
          },
          "title": {
           "x": 0.05
          },
          "xaxis": {
           "automargin": true,
           "gridcolor": "white",
           "linecolor": "white",
           "ticks": "",
           "title": {
            "standoff": 15
           },
           "zerolinecolor": "white",
           "zerolinewidth": 2
          },
          "yaxis": {
           "automargin": true,
           "gridcolor": "white",
           "linecolor": "white",
           "ticks": "",
           "title": {
            "standoff": 15
           },
           "zerolinecolor": "white",
           "zerolinewidth": 2
          }
         }
        },
        "xaxis": {
         "anchor": "y",
         "domain": [
          0,
          1
         ],
         "title": {
          "text": "index"
         }
        },
        "yaxis": {
         "anchor": "x",
         "domain": [
          0,
          1
         ],
         "title": {
          "text": "alpha"
         }
        }
       }
      }
     },
     "metadata": {},
     "output_type": "display_data"
    }
   ],
   "source": [
    "# visualize alpha scores\n",
    "\n",
    "fig = px.bar(\n",
    "    data_frame = joined_counts.sort_values(by=\"alpha\", ascending=False)[:100],\n",
    "    y=\"alpha\",\n",
    "    custom_data=[\"count_known\", \"count_general\"]\n",
    ")\n",
    "fig.update_traces(hovertemplate = \"Repo:%{label}: <br>Alpha: %{value} </br>(count_known, count_general) : %{customdata}\"\n",
    ")\n",
    "fig"
   ]
  },
  {
   "cell_type": "markdown",
   "metadata": {},
   "source": [
    "### Implement beta"
   ]
  },
  {
   "cell_type": "code",
   "execution_count": 158,
   "metadata": {},
   "outputs": [],
   "source": [
    "# take the log of the count of known contributors.\n",
    "# This reduces the impact of very high contribution volume, shifting the \n",
    "# impact toward the alpha value.\n",
    "\n",
    "joined_counts[\"log_count_known\"] = np.log(joined_counts[\"count_known\"], where=(joined_counts[\"count_known\"] > 0))"
   ]
  },
  {
   "cell_type": "code",
   "execution_count": 159,
   "metadata": {},
   "outputs": [],
   "source": [
    "joined_counts[\"beta\"] = joined_counts[\"alpha\"] * joined_counts[\"log_count_known\"] "
   ]
  },
  {
   "cell_type": "code",
   "execution_count": 161,
   "metadata": {},
   "outputs": [
    {
     "data": {
      "application/vnd.plotly.v1+json": {
       "config": {
        "plotlyServerURL": "https://plot.ly"
       },
       "data": [
        {
         "alignmentgroup": "True",
         "customdata": [
          [
           15.76168733283671,
           7.621684998724611,
           2042,
           20
          ],
          [
           15.0443248490566,
           7.917171988845776,
           2744,
           159
          ],
          [
           15.219060955973116,
           7.658227526161352,
           2118,
           97
          ],
          [
           15.601929522031048,
           7.083387847625295,
           1192,
           24
          ],
          [
           15.670016923180917,
           6.926577033222725,
           1019,
           16
          ],
          [
           12.159307257830795,
           8.875287128108384,
           7153,
           2210
          ],
          [
           13.360260700142188,
           8.047509510981422,
           3126,
           598
          ],
          [
           15.518558276973696,
           6.883462586413092,
           976,
           25
          ],
          [
           15.349760487954532,
           6.937314081223682,
           1030,
           38
          ],
          [
           15.89377092737425,
           6.569481420414296,
           713,
           1
          ],
          [
           15.401496213468372,
           6.7661917146603505,
           868,
           29
          ],
          [
           15.768235126884912,
           6.461468176353717,
           640,
           6
          ],
          [
           15.740609675579936,
           6.4425401664681985,
           628,
           7
          ],
          [
           15.119310700793765,
           6.680854678790215,
           797,
           42
          ],
          [
           15.055193551021375,
           6.62273632394984,
           752,
           43
          ],
          [
           15.712383288569848,
           6.29156913955832,
           540,
           7
          ],
          [
           14.126682542484724,
           6.956545443151569,
           1050,
           133
          ],
          [
           15.815751013986016,
           6.159095388491933,
           473,
           3
          ],
          [
           15.88053540635303,
           6.102558594613569,
           447,
           1
          ],
          [
           14.779200736113783,
           6.553933404025811,
           702,
           54
          ],
          [
           14.25368146723757,
           6.763884908562435,
           866,
           101
          ],
          [
           14.633822015514593,
           6.577861357721047,
           719,
           63
          ],
          [
           15.70571789510431,
           6.104793232414985,
           448,
           6
          ],
          [
           15.840986565486253,
           6.045005314036012,
           422,
           2
          ],
          [
           15.608670569438097,
           6.124683390894205,
           457,
           9
          ],
          [
           15.803713655920403,
           6.045005314036012,
           422,
           3
          ],
          [
           15.309736147153766,
           6.22455842927536,
           505,
           20
          ],
          [
           15.057978970734792,
           6.298949246855942,
           544,
           31
          ],
          [
           15.836680474185995,
           5.988961416889864,
           399,
           2
          ],
          [
           15.691892439210735,
           6.040254711277414,
           420,
           6
          ],
          [
           15.555970423253768,
           6.068425588244111,
           432,
           10
          ],
          [
           15.871973515877578,
           5.886104031450156,
           360,
           1
          ],
          [
           15.50216945733848,
           6.021023349349527,
           412,
           11
          ],
          [
           15.748082781529806,
           5.926926025970411,
           375,
           4
          ],
          [
           15.702136762231722,
           5.905361848054571,
           367,
           5
          ],
          [
           14.451688572220325,
           6.400257445308821,
           602,
           61
          ],
          [
           15.620538627437133,
           5.91350300563827,
           370,
           7
          ],
          [
           15.161421444806379,
           6.091309882077698,
           442,
           22
          ],
          [
           15.579214451174073,
           5.91350300563827,
           370,
           8
          ],
          [
           15.82216225844902,
           5.820082930352362,
           337,
           2
          ],
          [
           13.402999857852176,
           6.866933284461882,
           960,
           180
          ],
          [
           15.7752122220738,
           5.817111159963204,
           336,
           3
          ],
          [
           15.601337934819808,
           5.849324779946859,
           347,
           7
          ],
          [
           14.165295474767518,
           6.434546518787453,
           623,
           77
          ],
          [
           15.269724774602526,
           5.934894195619588,
           378,
           16
          ],
          [
           13.367616201547678,
           6.75110146893676,
           855,
           163
          ],
          [
           15.713309944814752,
           5.736572297479192,
           310,
           4
          ],
          [
           15.860411763607852,
           5.652489180268651,
           285,
           1
          ],
          [
           15.8031824565101,
           5.634789603169249,
           280,
           2
          ],
          [
           15.699517265468854,
           5.66988092298052,
           290,
           4
          ],
          [
           13.372318739975572,
           6.6293632534374485,
           757,
           144
          ],
          [
           14.722357656359499,
           6.008813185442595,
           407,
           33
          ],
          [
           15.856001718628894,
           5.575949103146316,
           264,
           1
          ],
          [
           15.58789609756648,
           5.652489180268651,
           285,
           6
          ],
          [
           14.83632945948492,
           5.916202062607435,
           371,
           27
          ],
          [
           15.066609566332072,
           5.820082930352362,
           337,
           19
          ],
          [
           15.852398081874663,
           5.517452896464707,
           249,
           1
          ],
          [
           15.390779746011358,
           5.680172609017068,
           293,
           10
          ],
          [
           14.685835291106747,
           5.945420608606575,
           382,
           32
          ],
          [
           14.070721771060393,
           6.1903154058531475,
           488,
           64
          ],
          [
           15.850832567547002,
           5.493061443340548,
           243,
           1
          ],
          [
           14.91313237608278,
           5.834810737062605,
           342,
           23
          ],
          [
           15.608802440635761,
           5.537334267018537,
           254,
           5
          ],
          [
           15.194946238523755,
           5.68697535633982,
           295,
           14
          ],
          [
           15.848044970809717,
           5.4510384535657,
           233,
           1
          ],
          [
           15.847753050808045,
           5.44673737166631,
           232,
           1
          ],
          [
           15.228657645798817,
           5.662960480135946,
           288,
           13
          ],
          [
           14.782315425415387,
           5.82600010738045,
           339,
           26
          ],
          [
           15.846559875604703,
           5.429345628954441,
           228,
           1
          ],
          [
           13.098386224719171,
           6.5337888379333435,
           688,
           148
          ],
          [
           14.688377082511897,
           5.814130531825066,
           335,
           28
          ],
          [
           15.648565485296945,
           5.455321115357702,
           234,
           4
          ],
          [
           15.773954631813748,
           5.402677381872279,
           222,
           2
          ],
          [
           15.475696970257179,
           5.5053315359323625,
           246,
           7
          ],
          [
           15.842376857443906,
           5.3706380281276624,
           215,
           1
          ],
          [
           15.842034134310158,
           5.365976015021851,
           214,
           1
          ],
          [
           15.470412585925875,
           5.493061443340548,
           243,
           7
          ],
          [
           15.703848166783466,
           5.402677381872279,
           222,
           3
          ],
          [
           15.219008506475395,
           5.568344503761097,
           262,
           12
          ],
          [
           15.840271558193747,
           5.342334251964811,
           209,
           1
          ],
          [
           13.61889869576861,
           6.210600077024653,
           498,
           84
          ],
          [
           14.213413802745562,
           5.950642552587727,
           384,
           46
          ],
          [
           14.252625888033718,
           5.932245187448011,
           377,
           44
          ],
          [
           14.316654106740689,
           5.905361848054571,
           367,
           41
          ],
          [
           14.189319719795744,
           5.934894195619588,
           378,
           46
          ],
          [
           15.692939962070493,
           5.351858133476067,
           211,
           3
          ],
          [
           15.443975736629984,
           5.43372200355424,
           229,
           7
          ],
          [
           15.05105894363427,
           5.564520407322694,
           261,
           15
          ],
          [
           13.402999857852176,
           6.238324625039508,
           512,
           96
          ],
          [
           13.304833354987046,
           6.282266746896006,
           535,
           105
          ],
          [
           14.613839049555867,
           5.713732805509369,
           303,
           27
          ],
          [
           14.76801849091622,
           5.645446897643238,
           283,
           22
          ],
          [
           15.832293582087884,
           5.241747015059643,
           189,
           1
          ],
          [
           15.059043590288718,
           5.5053315359323625,
           246,
           14
          ],
          [
           15.677321396231466,
           5.2832037287379885,
           197,
           3
          ],
          [
           15.352661894696823,
           5.384495062789089,
           218,
           8
          ],
          [
           15.828611439269789,
           5.198497031265826,
           181,
           1
          ],
          [
           10.685082343842629,
           7.675546002537848,
           2155,
           1055
          ],
          [
           15.5895790013287,
           5.25227342804663,
           191,
           4
          ],
          [
           13.519064992163395,
           6.0473721790462776,
           423,
           75
          ]
         ],
         "hovertemplate": "index=%{x}<br>beta=%{y}<br>alpha=%{customdata[0]}<br>log_count_known=%{customdata[1]}<br>count_known=%{customdata[2]}<br>count_general=%{customdata[3]}<extra></extra>",
         "legendgroup": "",
         "marker": {
          "color": "#636efa",
          "pattern": {
           "shape": ""
          }
         },
         "name": "",
         "offsetgroup": "",
         "orientation": "v",
         "showlegend": false,
         "textposition": "auto",
         "type": "bar",
         "x": [
          "https://api.github.com/repos/risingwavelabs/risingwave",
          "https://api.github.com/repos/WasmEdge/WasmEdge",
          "https://api.github.com/repos/wasmerio/wasmer",
          "https://api.github.com/repos/dependabot/dependabot-core",
          "https://api.github.com/repos/CosmWasm/cosmwasm",
          "https://api.github.com/repos/Homebrew/homebrew-core",
          "https://api.github.com/repos/bytecodealliance/wasmtime",
          "https://api.github.com/repos/FuelLabs/fuel-indexer",
          "https://api.github.com/repos/hrydgard/ppsspp",
          "https://api.github.com/repos/moondance-labs/tanssi",
          "https://api.github.com/repos/tigerbeetle/tigerbeetle",
          "https://api.github.com/repos/amazon-ion/ion-rust",
          "https://api.github.com/repos/getredash/redash",
          "https://api.github.com/repos/AmbientRun/Ambient",
          "https://api.github.com/repos/web-infra-dev/rspack",
          "https://api.github.com/repos/socketsupply/socket",
          "https://api.github.com/repos/containerd/runwasi",
          "https://api.github.com/repos/holochain/holochain",
          "https://api.github.com/repos/moonbeam-foundation/moonbeam",
          "https://api.github.com/repos/osmosis-labs/mesh-security",
          "https://api.github.com/repos/cargo-bins/cargo-binstall",
          "https://api.github.com/repos/OffchainLabs/nitro",
          "https://api.github.com/repos/fastly/compute-sdk-go",
          "https://api.github.com/repos/Mesnage-Org/pgfinder",
          "https://api.github.com/repos/sorbet/sorbet",
          "https://api.github.com/repos/aws/s2n-quic",
          "https://api.github.com/repos/smol-dot/smoldot",
          "https://api.github.com/repos/chenrui333/homebrew-core",
          "https://api.github.com/repos/ocaml-multicore/multicoretests",
          "https://api.github.com/repos/WasmEdge/wasmedge-rust-sdk",
          "https://api.github.com/repos/WasmEdge/docs",
          "https://api.github.com/repos/ashtonmeuser/godot-wasm",
          "https://api.github.com/repos/zio/zio",
          "https://api.github.com/repos/kubesimplify/ksctl",
          "https://api.github.com/repos/fulcrum-so/ziggy-pydust",
          "https://api.github.com/repos/filecoin-project/lotus",
          "https://api.github.com/repos/lurk-lab/lurk-rs",
          "https://api.github.com/repos/filecoin-project/ref-fvm",
          "https://api.github.com/repos/pnpm/pacquet",
          "https://api.github.com/repos/gluwa/creditcoin",
          "https://api.github.com/repos/massalabs/massa",
          "https://api.github.com/repos/exercism/rust",
          "https://api.github.com/repos/aardappel/treesheets",
          "https://api.github.com/repos/bytecodealliance/registry",
          "https://api.github.com/repos/tosc-rs/mnemos",
          "https://api.github.com/repos/paradigmxyz/reth",
          "https://api.github.com/repos/FISCO-BCOS/FISCO-BCOS",
          "https://api.github.com/repos/polywrap/evo.ninja",
          "https://api.github.com/repos/cloudflare/ebpf_exporter",
          "https://api.github.com/repos/afnanenayet/diffsitter",
          "https://api.github.com/repos/swc-project/swc",
          "https://api.github.com/repos/ptitSeb/box64",
          "https://api.github.com/repos/multiversx/mx-chain-go",
          "https://api.github.com/repos/PureStake/moonbeam",
          "https://api.github.com/repos/filecoin-project/builtin-actors",
          "https://api.github.com/repos/CatalaLang/catala",
          "https://api.github.com/repos/BeeStation/BeeStation-Hornet",
          "https://api.github.com/repos/zio/zio-http",
          "https://api.github.com/repos/rust-lang/rustc_codegen_gcc",
          "https://api.github.com/repos/WebAssembly/component-model",
          "https://api.github.com/repos/DenialAdams/roland",
          "https://api.github.com/repos/cedar-policy/cedar",
          "https://api.github.com/repos/feldera/dbsp",
          "https://api.github.com/repos/NearSocial/VM",
          "https://api.github.com/repos/sonofmagic/weapp-tailwindcss",
          "https://api.github.com/repos/hpcc-systems/HPCC-Platform",
          "https://api.github.com/repos/bytecodealliance/meetings",
          "https://api.github.com/repos/containers/crun",
          "https://api.github.com/repos/rbatis/rbatis",
          "https://api.github.com/repos/Kong/ngx_wasm_module",
          "https://api.github.com/repos/memfault/interrupt",
          "https://api.github.com/repos/yamt/toywasm",
          "https://api.github.com/repos/joepio/pauseai",
          "https://api.github.com/repos/osmosis-labs/fee-abstraction",
          "https://api.github.com/repos/mokeyish/obsidian-enhancing-export",
          "https://api.github.com/repos/sigstore/sigstore-js",
          "https://api.github.com/repos/xJonathanLEI/starknet-rs",
          "https://api.github.com/repos/pendulum-project/statime",
          "https://api.github.com/repos/grame-cncm/faust",
          "https://api.github.com/repos/googleforgames/quilkin",
          "https://api.github.com/repos/paritytech/wasmi",
          "https://api.github.com/repos/libsql/libsql",
          "https://api.github.com/repos/containers/youki",
          "https://api.github.com/repos/MinaProtocol/mina",
          "https://api.github.com/repos/SciSharp/LLamaSharp",
          "https://api.github.com/repos/oxidize-rb/rb-sys",
          "https://api.github.com/repos/flows-network/docs",
          "https://api.github.com/repos/cc-tweaked/CC-Tweaked",
          "https://api.github.com/repos/WebAssembly/gc",
          "https://api.github.com/repos/bytecodealliance/javy",
          "https://api.github.com/repos/ScoopInstaller/Extras",
          "https://api.github.com/repos/kubernetes-client/javascript",
          "https://api.github.com/repos/fishfolk/bones",
          "https://api.github.com/repos/mozilla/perfcompare",
          "https://api.github.com/repos/robojumper/DIM",
          "https://api.github.com/repos/tj/git-extras",
          "https://api.github.com/repos/bots-garden/slingshot",
          "https://api.github.com/repos/noir-lang/noir",
          "https://api.github.com/repos/pendulum-project/ntpd-rs",
          "https://api.github.com/repos/wasmCloud/wadm"
         ],
         "xaxis": "x",
         "y": [
          120.13061589926927,
          119.10850728604737,
          116.55103153536082,
          110.51451797586105,
          108.53957933031637,
          107.9173431921405,
          107.51682505358558,
          106.82141529461965,
          106.48610957649787,
          104.41383280770603,
          104.20947607294246,
          101.88594946962968,
          101.4095100796217,
          101.00991763548099,
          99.70657719444463,
          98.85554580727793,
          98.27290906777093,
          97.41071913577788,
          96.91189783110477,
          96.86189738921897,
          96.41026096770426,
          96.25925235162097,
          95.88016031625172,
          95.75884796793747,
          95.59816539057671,
          95.53353303154232,
          95.29634718474765,
          94.84944529688254,
          94.845268331513,
          94.78302723480107,
          94.40024896644174,
          93.42408729887711,
          93.33892426820807,
          93.33772169698551,
          92.72679936861833,
          92.49452738163754,
          92.37210212303818,
          92.35291627309383,
          92.12773148250105,
          92.0862964816645,
          92.03750583552298,
          91.76616306781344,
          91.25729258246646,
          91.147252684761,
          90.62420093349715,
          90.24613337445136,
          90.1405385311286,
          89.650805888399,
          89.0476082029298,
          89.01439344348515,
          88.64995846804702,
          88.46389680633469,
          88.41225856247523,
          88.11041403464645,
          87.77472294972814,
          87.6889171552929,
          87.46485971275092,
          87.42228554470837,
          87.3134677943478,
          87.10220575086844,
          87.0695972216391,
          87.01530491120376,
          86.43115662165496,
          86.41328479939304,
          86.38830254972227,
          86.31854879877496,
          86.23928641367881,
          86.12177125580173,
          86.03645059457922,
          85.58208971000998,
          85.40014165839202,
          85.36794971699817,
          85.22158791197961,
          85.19884257088977,
          85.08367160651785,
          85.00797519386576,
          84.97992688831977,
          84.84282529903749,
          84.74468236972564,
          84.62402530576246,
          84.58153328893148,
          84.57894499215548,
          84.55007133278495,
          84.54502295374026,
          84.21211124480632,
          83.98638837415857,
          83.91827078248414,
          83.75192464366964,
          83.61226406264025,
          83.58451215902795,
          83.49957159188122,
          83.37206417388094,
          82.9888776254571,
          82.90502757859659,
          82.82648285719394,
          82.66633217266522,
          82.2849895761043,
          82.01384107106902,
          81.88073154311245,
          81.75481752032739
         ],
         "yaxis": "y"
        }
       ],
       "layout": {
        "barmode": "relative",
        "legend": {
         "tracegroupgap": 0
        },
        "margin": {
         "t": 60
        },
        "template": {
         "data": {
          "bar": [
           {
            "error_x": {
             "color": "#2a3f5f"
            },
            "error_y": {
             "color": "#2a3f5f"
            },
            "marker": {
             "line": {
              "color": "#E5ECF6",
              "width": 0.5
             },
             "pattern": {
              "fillmode": "overlay",
              "size": 10,
              "solidity": 0.2
             }
            },
            "type": "bar"
           }
          ],
          "barpolar": [
           {
            "marker": {
             "line": {
              "color": "#E5ECF6",
              "width": 0.5
             },
             "pattern": {
              "fillmode": "overlay",
              "size": 10,
              "solidity": 0.2
             }
            },
            "type": "barpolar"
           }
          ],
          "carpet": [
           {
            "aaxis": {
             "endlinecolor": "#2a3f5f",
             "gridcolor": "white",
             "linecolor": "white",
             "minorgridcolor": "white",
             "startlinecolor": "#2a3f5f"
            },
            "baxis": {
             "endlinecolor": "#2a3f5f",
             "gridcolor": "white",
             "linecolor": "white",
             "minorgridcolor": "white",
             "startlinecolor": "#2a3f5f"
            },
            "type": "carpet"
           }
          ],
          "choropleth": [
           {
            "colorbar": {
             "outlinewidth": 0,
             "ticks": ""
            },
            "type": "choropleth"
           }
          ],
          "contour": [
           {
            "colorbar": {
             "outlinewidth": 0,
             "ticks": ""
            },
            "colorscale": [
             [
              0,
              "#0d0887"
             ],
             [
              0.1111111111111111,
              "#46039f"
             ],
             [
              0.2222222222222222,
              "#7201a8"
             ],
             [
              0.3333333333333333,
              "#9c179e"
             ],
             [
              0.4444444444444444,
              "#bd3786"
             ],
             [
              0.5555555555555556,
              "#d8576b"
             ],
             [
              0.6666666666666666,
              "#ed7953"
             ],
             [
              0.7777777777777778,
              "#fb9f3a"
             ],
             [
              0.8888888888888888,
              "#fdca26"
             ],
             [
              1,
              "#f0f921"
             ]
            ],
            "type": "contour"
           }
          ],
          "contourcarpet": [
           {
            "colorbar": {
             "outlinewidth": 0,
             "ticks": ""
            },
            "type": "contourcarpet"
           }
          ],
          "heatmap": [
           {
            "colorbar": {
             "outlinewidth": 0,
             "ticks": ""
            },
            "colorscale": [
             [
              0,
              "#0d0887"
             ],
             [
              0.1111111111111111,
              "#46039f"
             ],
             [
              0.2222222222222222,
              "#7201a8"
             ],
             [
              0.3333333333333333,
              "#9c179e"
             ],
             [
              0.4444444444444444,
              "#bd3786"
             ],
             [
              0.5555555555555556,
              "#d8576b"
             ],
             [
              0.6666666666666666,
              "#ed7953"
             ],
             [
              0.7777777777777778,
              "#fb9f3a"
             ],
             [
              0.8888888888888888,
              "#fdca26"
             ],
             [
              1,
              "#f0f921"
             ]
            ],
            "type": "heatmap"
           }
          ],
          "heatmapgl": [
           {
            "colorbar": {
             "outlinewidth": 0,
             "ticks": ""
            },
            "colorscale": [
             [
              0,
              "#0d0887"
             ],
             [
              0.1111111111111111,
              "#46039f"
             ],
             [
              0.2222222222222222,
              "#7201a8"
             ],
             [
              0.3333333333333333,
              "#9c179e"
             ],
             [
              0.4444444444444444,
              "#bd3786"
             ],
             [
              0.5555555555555556,
              "#d8576b"
             ],
             [
              0.6666666666666666,
              "#ed7953"
             ],
             [
              0.7777777777777778,
              "#fb9f3a"
             ],
             [
              0.8888888888888888,
              "#fdca26"
             ],
             [
              1,
              "#f0f921"
             ]
            ],
            "type": "heatmapgl"
           }
          ],
          "histogram": [
           {
            "marker": {
             "pattern": {
              "fillmode": "overlay",
              "size": 10,
              "solidity": 0.2
             }
            },
            "type": "histogram"
           }
          ],
          "histogram2d": [
           {
            "colorbar": {
             "outlinewidth": 0,
             "ticks": ""
            },
            "colorscale": [
             [
              0,
              "#0d0887"
             ],
             [
              0.1111111111111111,
              "#46039f"
             ],
             [
              0.2222222222222222,
              "#7201a8"
             ],
             [
              0.3333333333333333,
              "#9c179e"
             ],
             [
              0.4444444444444444,
              "#bd3786"
             ],
             [
              0.5555555555555556,
              "#d8576b"
             ],
             [
              0.6666666666666666,
              "#ed7953"
             ],
             [
              0.7777777777777778,
              "#fb9f3a"
             ],
             [
              0.8888888888888888,
              "#fdca26"
             ],
             [
              1,
              "#f0f921"
             ]
            ],
            "type": "histogram2d"
           }
          ],
          "histogram2dcontour": [
           {
            "colorbar": {
             "outlinewidth": 0,
             "ticks": ""
            },
            "colorscale": [
             [
              0,
              "#0d0887"
             ],
             [
              0.1111111111111111,
              "#46039f"
             ],
             [
              0.2222222222222222,
              "#7201a8"
             ],
             [
              0.3333333333333333,
              "#9c179e"
             ],
             [
              0.4444444444444444,
              "#bd3786"
             ],
             [
              0.5555555555555556,
              "#d8576b"
             ],
             [
              0.6666666666666666,
              "#ed7953"
             ],
             [
              0.7777777777777778,
              "#fb9f3a"
             ],
             [
              0.8888888888888888,
              "#fdca26"
             ],
             [
              1,
              "#f0f921"
             ]
            ],
            "type": "histogram2dcontour"
           }
          ],
          "mesh3d": [
           {
            "colorbar": {
             "outlinewidth": 0,
             "ticks": ""
            },
            "type": "mesh3d"
           }
          ],
          "parcoords": [
           {
            "line": {
             "colorbar": {
              "outlinewidth": 0,
              "ticks": ""
             }
            },
            "type": "parcoords"
           }
          ],
          "pie": [
           {
            "automargin": true,
            "type": "pie"
           }
          ],
          "scatter": [
           {
            "fillpattern": {
             "fillmode": "overlay",
             "size": 10,
             "solidity": 0.2
            },
            "type": "scatter"
           }
          ],
          "scatter3d": [
           {
            "line": {
             "colorbar": {
              "outlinewidth": 0,
              "ticks": ""
             }
            },
            "marker": {
             "colorbar": {
              "outlinewidth": 0,
              "ticks": ""
             }
            },
            "type": "scatter3d"
           }
          ],
          "scattercarpet": [
           {
            "marker": {
             "colorbar": {
              "outlinewidth": 0,
              "ticks": ""
             }
            },
            "type": "scattercarpet"
           }
          ],
          "scattergeo": [
           {
            "marker": {
             "colorbar": {
              "outlinewidth": 0,
              "ticks": ""
             }
            },
            "type": "scattergeo"
           }
          ],
          "scattergl": [
           {
            "marker": {
             "colorbar": {
              "outlinewidth": 0,
              "ticks": ""
             }
            },
            "type": "scattergl"
           }
          ],
          "scattermapbox": [
           {
            "marker": {
             "colorbar": {
              "outlinewidth": 0,
              "ticks": ""
             }
            },
            "type": "scattermapbox"
           }
          ],
          "scatterpolar": [
           {
            "marker": {
             "colorbar": {
              "outlinewidth": 0,
              "ticks": ""
             }
            },
            "type": "scatterpolar"
           }
          ],
          "scatterpolargl": [
           {
            "marker": {
             "colorbar": {
              "outlinewidth": 0,
              "ticks": ""
             }
            },
            "type": "scatterpolargl"
           }
          ],
          "scatterternary": [
           {
            "marker": {
             "colorbar": {
              "outlinewidth": 0,
              "ticks": ""
             }
            },
            "type": "scatterternary"
           }
          ],
          "surface": [
           {
            "colorbar": {
             "outlinewidth": 0,
             "ticks": ""
            },
            "colorscale": [
             [
              0,
              "#0d0887"
             ],
             [
              0.1111111111111111,
              "#46039f"
             ],
             [
              0.2222222222222222,
              "#7201a8"
             ],
             [
              0.3333333333333333,
              "#9c179e"
             ],
             [
              0.4444444444444444,
              "#bd3786"
             ],
             [
              0.5555555555555556,
              "#d8576b"
             ],
             [
              0.6666666666666666,
              "#ed7953"
             ],
             [
              0.7777777777777778,
              "#fb9f3a"
             ],
             [
              0.8888888888888888,
              "#fdca26"
             ],
             [
              1,
              "#f0f921"
             ]
            ],
            "type": "surface"
           }
          ],
          "table": [
           {
            "cells": {
             "fill": {
              "color": "#EBF0F8"
             },
             "line": {
              "color": "white"
             }
            },
            "header": {
             "fill": {
              "color": "#C8D4E3"
             },
             "line": {
              "color": "white"
             }
            },
            "type": "table"
           }
          ]
         },
         "layout": {
          "annotationdefaults": {
           "arrowcolor": "#2a3f5f",
           "arrowhead": 0,
           "arrowwidth": 1
          },
          "autotypenumbers": "strict",
          "coloraxis": {
           "colorbar": {
            "outlinewidth": 0,
            "ticks": ""
           }
          },
          "colorscale": {
           "diverging": [
            [
             0,
             "#8e0152"
            ],
            [
             0.1,
             "#c51b7d"
            ],
            [
             0.2,
             "#de77ae"
            ],
            [
             0.3,
             "#f1b6da"
            ],
            [
             0.4,
             "#fde0ef"
            ],
            [
             0.5,
             "#f7f7f7"
            ],
            [
             0.6,
             "#e6f5d0"
            ],
            [
             0.7,
             "#b8e186"
            ],
            [
             0.8,
             "#7fbc41"
            ],
            [
             0.9,
             "#4d9221"
            ],
            [
             1,
             "#276419"
            ]
           ],
           "sequential": [
            [
             0,
             "#0d0887"
            ],
            [
             0.1111111111111111,
             "#46039f"
            ],
            [
             0.2222222222222222,
             "#7201a8"
            ],
            [
             0.3333333333333333,
             "#9c179e"
            ],
            [
             0.4444444444444444,
             "#bd3786"
            ],
            [
             0.5555555555555556,
             "#d8576b"
            ],
            [
             0.6666666666666666,
             "#ed7953"
            ],
            [
             0.7777777777777778,
             "#fb9f3a"
            ],
            [
             0.8888888888888888,
             "#fdca26"
            ],
            [
             1,
             "#f0f921"
            ]
           ],
           "sequentialminus": [
            [
             0,
             "#0d0887"
            ],
            [
             0.1111111111111111,
             "#46039f"
            ],
            [
             0.2222222222222222,
             "#7201a8"
            ],
            [
             0.3333333333333333,
             "#9c179e"
            ],
            [
             0.4444444444444444,
             "#bd3786"
            ],
            [
             0.5555555555555556,
             "#d8576b"
            ],
            [
             0.6666666666666666,
             "#ed7953"
            ],
            [
             0.7777777777777778,
             "#fb9f3a"
            ],
            [
             0.8888888888888888,
             "#fdca26"
            ],
            [
             1,
             "#f0f921"
            ]
           ]
          },
          "colorway": [
           "#636efa",
           "#EF553B",
           "#00cc96",
           "#ab63fa",
           "#FFA15A",
           "#19d3f3",
           "#FF6692",
           "#B6E880",
           "#FF97FF",
           "#FECB52"
          ],
          "font": {
           "color": "#2a3f5f"
          },
          "geo": {
           "bgcolor": "white",
           "lakecolor": "white",
           "landcolor": "#E5ECF6",
           "showlakes": true,
           "showland": true,
           "subunitcolor": "white"
          },
          "hoverlabel": {
           "align": "left"
          },
          "hovermode": "closest",
          "mapbox": {
           "style": "light"
          },
          "paper_bgcolor": "white",
          "plot_bgcolor": "#E5ECF6",
          "polar": {
           "angularaxis": {
            "gridcolor": "white",
            "linecolor": "white",
            "ticks": ""
           },
           "bgcolor": "#E5ECF6",
           "radialaxis": {
            "gridcolor": "white",
            "linecolor": "white",
            "ticks": ""
           }
          },
          "scene": {
           "xaxis": {
            "backgroundcolor": "#E5ECF6",
            "gridcolor": "white",
            "gridwidth": 2,
            "linecolor": "white",
            "showbackground": true,
            "ticks": "",
            "zerolinecolor": "white"
           },
           "yaxis": {
            "backgroundcolor": "#E5ECF6",
            "gridcolor": "white",
            "gridwidth": 2,
            "linecolor": "white",
            "showbackground": true,
            "ticks": "",
            "zerolinecolor": "white"
           },
           "zaxis": {
            "backgroundcolor": "#E5ECF6",
            "gridcolor": "white",
            "gridwidth": 2,
            "linecolor": "white",
            "showbackground": true,
            "ticks": "",
            "zerolinecolor": "white"
           }
          },
          "shapedefaults": {
           "line": {
            "color": "#2a3f5f"
           }
          },
          "ternary": {
           "aaxis": {
            "gridcolor": "white",
            "linecolor": "white",
            "ticks": ""
           },
           "baxis": {
            "gridcolor": "white",
            "linecolor": "white",
            "ticks": ""
           },
           "bgcolor": "#E5ECF6",
           "caxis": {
            "gridcolor": "white",
            "linecolor": "white",
            "ticks": ""
           }
          },
          "title": {
           "x": 0.05
          },
          "xaxis": {
           "automargin": true,
           "gridcolor": "white",
           "linecolor": "white",
           "ticks": "",
           "title": {
            "standoff": 15
           },
           "zerolinecolor": "white",
           "zerolinewidth": 2
          },
          "yaxis": {
           "automargin": true,
           "gridcolor": "white",
           "linecolor": "white",
           "ticks": "",
           "title": {
            "standoff": 15
           },
           "zerolinecolor": "white",
           "zerolinewidth": 2
          }
         }
        },
        "xaxis": {
         "anchor": "y",
         "domain": [
          0,
          1
         ],
         "title": {
          "text": "index"
         }
        },
        "yaxis": {
         "anchor": "x",
         "domain": [
          0,
          1
         ],
         "title": {
          "text": "beta"
         }
        }
       }
      }
     },
     "metadata": {},
     "output_type": "display_data"
    }
   ],
   "source": [
    "fig = px.bar(\n",
    "    data_frame=joined_counts.sort_values(by=\"beta\", ascending=False)[:100],\n",
    "    y=\"beta\",\n",
    "    hover_data=[\"alpha\", \"log_count_known\", \"count_known\", \"count_general\"]\n",
    ")\n",
    "fig"
   ]
  },
  {
   "cell_type": "markdown",
   "metadata": {},
   "source": [
    "## Takeaway\n",
    "\n",
    "Top repos by 'beta' value are:\n",
    "\n",
    "- risingwave\n",
    "- wasmer\n",
    "- cosmwasm\n",
    "- wasmtime\n",
    "- ppsspp\n",
    "- tigerbeetle\n",
    "- ion-rust\n",
    "- redash\n",
    "- Ambient\n",
    "- rspack\n",
    "- socket\n",
    "- runwasi\n",
    "- holochain\n",
    "\n",
    "Many of these are very directly connected to WASM, while others (risingwave, tigerbeetle, redash, holochain, ppsspp) are relatively unrelated.\n",
    "\n",
    "This demonstrates that simply considering the contribution-base of our sub-population will yield strong cross-pollination signal. We need to be considerate of ecosystem-specific features when selecting our contributor set in order to clarify the ecosystem discovery signal.\n",
    "\n",
    "### Next step\n",
    "\n",
    "Top repos by 'beta' are similar to those by 'alpha.' \n",
    "\n",
    "The distribution of projects seems to have some scew toward database systems and no-trust mathematical proofs. This probably represents the interest-space of contributors within the WASM space, which itself is fairly experimental.\n",
    "\n",
    "The next logical step is to renew focus on the 'core' contributors of the collaboration network, weighing the contributions of those people highly because they're highly integrated in the world of WASM."
   ]
  },
  {
   "cell_type": "markdown",
   "metadata": {},
   "source": []
  }
 ],
 "metadata": {
  "kernelspec": {
   "display_name": "Python 3",
   "language": "python",
   "name": "python3"
  },
  "language_info": {
   "codemirror_mode": {
    "name": "ipython",
    "version": 3
   },
   "file_extension": ".py",
   "mimetype": "text/x-python",
   "name": "python",
   "nbconvert_exporter": "python",
   "pygments_lexer": "ipython3",
   "version": "3.11.5"
  },
  "orig_nbformat": 4
 },
 "nbformat": 4,
 "nbformat_minor": 2
}
