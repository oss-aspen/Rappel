{
 "cells": [
  {
   "cell_type": "code",
   "execution_count": null,
   "metadata": {},
   "outputs": [],
   "source": []
  },
  {
   "cell_type": "markdown",
   "metadata": {},
   "source": []
  },
  {
   "cell_type": "code",
   "execution_count": 1,
   "metadata": {},
   "outputs": [],
   "source": [
    "# Importing the pandas library for data manipulation and analysis\n",
    "import pandas as pd\n",
    "\n",
    "# Importing the collections module for specialized container datatypes\n",
    "import collections\n",
    "\n",
    "# Importing the SQLAlchemy library for SQL database toolkit and Object-Relational Mapping (ORM)\n",
    "import sqlalchemy as salc\n",
    "\n",
    "# Importing the json module to work with JSON data\n",
    "import json\n",
    "\n",
    "# Importing the NetworkX library for creating and analyzing complex networks\n",
    "import networkx as nx\n",
    "\n",
    "# Importing the pyplot module from matplotlib for plotting and visualization\n",
    "import matplotlib.pyplot as plt\n",
    "\n",
    "# Importing the patches module from matplotlib for creating graphical patches\n",
    "import matplotlib.patches as mpatches\n",
    "\n",
    "# Importing specific functions from SQLAlchemy\n",
    "from sqlalchemy import create_engine, text"
   ]
  },
  {
   "cell_type": "markdown",
   "metadata": {},
   "source": [
    "## Connect to the Augur database"
   ]
  },
  {
   "cell_type": "code",
   "execution_count": 2,
   "metadata": {},
   "outputs": [],
   "source": [
    "# Opening the JSON file containing database credentials and loading it into a dictionary\n",
    "with open(\"data/il_ai_creds.json\") as config_file:\n",
    "    config = json.load(config_file)\n",
    "    \n",
    "# Creating a PostgreSQL database connection string using the credentials from the JSON file\n",
    "database_connection_string = 'postgresql+psycopg2://{}:{}@{}:{}/{}'.format(\n",
    "    config['user'],        # Username\n",
    "    config['password'],    # Password\n",
    "    config['host'],        # Hostname\n",
    "    config['port'],        # Port number\n",
    "    config['database']     # Database name\n",
    ")\n",
    "\n",
    "# Assigning the connection string to a variable\n",
    "connection_string = database_connection_string\n",
    "\n",
    "# Creating a SQLAlchemy engine using the connection string\n",
    "engine = create_engine(connection_string)"
   ]
  },
  {
   "cell_type": "markdown",
   "metadata": {},
   "source": [
    "## Load the URLs of AI repositories"
   ]
  },
  {
   "cell_type": "markdown",
   "metadata": {},
   "source": [
    "- There are different verticals like math, nlp, gen_ai, personal_assistants, llm etc\n",
    "- In this notebook, we are performing our analysis on math repositories as graphicals interpretation will be too messy if we try to plot all at once\n",
    "- If you want to perform the same analysis on other verticals, just replace math with your choice in data.get('math)\n",
    "- If you want to perofrm the analysis on all repositories at once, uncomment the cell following the below cell"
   ]
  },
  {
   "cell_type": "code",
   "execution_count": 3,
   "metadata": {},
   "outputs": [
    {
     "name": "stdout",
     "output_type": "stream",
     "text": [
      "{'gen_ai': ['https://github.com/lucidrains/imagen-pytorch',\n",
      "            'https://github.com/langchain-ai/langchain',\n",
      "            'https://github.com/run-llama/llama_index',\n",
      "            'https://github.com/microsoft/lora',\n",
      "            'https://github.com/nvidia/nemo',\n",
      "            'https://github.com/huggingface/peft',\n",
      "            'https://github.com/microsoft/semantic-kernel',\n",
      "            'https://github.com/chroma-core/chroma',\n",
      "            'https://github.com/milvus-io/milvus',\n",
      "            'https://github.com/qdrant/qdrant',\n",
      "            'https://github.com/bigscience-workshop/promptsource',\n",
      "            'https://github.com/automatic1111/stable-diffusion-webui'],\n",
      " 'llm': ['https://github.com/huggingface/transformers',\n",
      "         'https://github.com/huggingface/datasets',\n",
      "         'https://github.com/huggingface/trl',\n",
      "         'https://github.com/microsoft/deepspeed',\n",
      "         'https://github.com/timdettmers/bitsandbytes',\n",
      "         'https://github.com/mistralai/mistral-common',\n",
      "         'https://github.com/meta-llama/llama',\n",
      "         'https://github.com/google-research/text-to-text-transfer-transformer',\n",
      "         'https://github.com/instructlab/instructlab',\n",
      "         'https://github.com/google-deepmind/gemma'],\n",
      " 'math': ['https://github.com/numpy/numpy',\n",
      "          'https://github.com/tensorflow/tensorflow',\n",
      "          'https://github.com/networkx/networkx',\n",
      "          'https://github.com/pytorch/pytorch',\n",
      "          'https://github.com/keras-team/keras-io',\n",
      "          'https://github.com/tinygrad/tinygrad',\n",
      "          'https://github.com/pandas-dev/pandas',\n",
      "          'https://github.com/polarisss13/polaris',\n",
      "          'https://github.com/apache/arrow',\n",
      "          'https://github.com/ml-explore/mlx'],\n",
      " 'nlp': ['https://github.com/huggingface/transformers',\n",
      "         'https://github.com/explosion/spacy',\n",
      "         'https://github.com/nltk/nltk',\n",
      "         'https://github.com/allenai/allennlp',\n",
      "         'https://github.com/rare-technologies/gensim',\n",
      "         'https://github.com/stanfordnlp/corenlp',\n",
      "         'https://github.com/mozilla/deepspeech',\n",
      "         'https://github.com/facebookresearch/fasttext',\n",
      "         'https://github.com/ukplab/sentence-transformers',\n",
      "         'https://github.com/opennmt/opennmt',\n",
      "         'https://github.com/apache/opennlp',\n",
      "         'https://github.com/cogcomp/cogcomp-nlp'],\n",
      " 'personal_assistants': ['https://github.com/mycroftai/mycroft-core',\n",
      "                         'https://github.com/laion-ai/open-assistant',\n",
      "                         'https://github.com/rhasspy/rhasspy',\n",
      "                         'https://github.com/openvoiceos/ovos-core',\n",
      "                         'https://github.com/sukeesh/jarvis',\n",
      "                         'https://github.com/leon-ai/leon',\n",
      "                         'https://github.com/picovoice/porcupine']}\n"
     ]
    }
   ],
   "source": [
    "# Opening the JSON file containing AI repository data and loading it into a dictionary\n",
    "f = open('ai_repos.json')\n",
    "data = json.load(f)\n",
    "\n",
    "# Closing the file after loading the data\n",
    "f.close()  \n",
    "\n",
    "# print the collected repositories\n",
    "from pprint import pprint\n",
    "pprint(data)\n"
   ]
  },
  {
   "cell_type": "code",
   "execution_count": 4,
   "metadata": {},
   "outputs": [],
   "source": [
    "# Initializing an empty list to store repository git URLs\n",
    "repo_git_set = []\n",
    "\n",
    "# Extracting the list of repositories under the 'math' category from the loaded JSON data\n",
    "repo_git_set = data.get('math')"
   ]
  },
  {
   "cell_type": "markdown",
   "metadata": {},
   "source": [
    "Uncomment below cell if all the catergories needs to be analyzed at once."
   ]
  },
  {
   "cell_type": "code",
   "execution_count": 5,
   "metadata": {},
   "outputs": [],
   "source": [
    "# for key in data.keys():\n",
    "#     repo_git_set.extend(data.get(key))"
   ]
  },
  {
   "cell_type": "markdown",
   "metadata": {},
   "source": [
    "## Retrieve the repository IDs and the repository names"
   ]
  },
  {
   "cell_type": "markdown",
   "metadata": {},
   "source": [
    "Let's retrieve the repository IDs and names from the augur database."
   ]
  },
  {
   "cell_type": "code",
   "execution_count": 6,
   "metadata": {},
   "outputs": [
    {
     "name": "stdout",
     "output_type": "stream",
     "text": [
      "[25495, 25498, 25497, 25501, 25500, 25504, 25503, 25496, 25502, 25499]\n",
      "['numpy', 'tensorflow', 'networkx', 'pytorch', 'keras-io', 'tinygrad', 'pandas', 'polaris', 'arrow', 'mlx']\n"
     ]
    }
   ],
   "source": [
    "# Initializing empty lists to store repository IDs and names\n",
    "repo_set = []\n",
    "repo_name_set = []\n",
    "\n",
    "# Iterating through the list of repository git URLs\n",
    "for repo_git in repo_git_set:\n",
    "    # Creating a SQL query to fetch repository ID and name for each git URL\n",
    "    repo_query = text(f\"\"\"\n",
    "                    SET SCHEMA 'augur_data';\n",
    "                    SELECT \n",
    "                        b.repo_id,\n",
    "                        b.repo_name\n",
    "                    FROM\n",
    "                        repo_groups a,\n",
    "                        repo b\n",
    "                    WHERE\n",
    "                        a.repo_group_id = b.repo_group_id AND\n",
    "                        b.repo_git = '{repo_git}'\n",
    "            \"\"\")\n",
    "\n",
    "    # Using the connection to execute the query\n",
    "    with engine.connect() as connection:\n",
    "        t = connection.execute(repo_query)  # Executing the query\n",
    "        results = t.mappings().all()  # Fetching all the results\n",
    "        \n",
    "        # Checking if results are found and extracting repo_id and repo_name\n",
    "        if results:\n",
    "            repo_id = results[0]['repo_id']\n",
    "            repo_name = results[0]['repo_name']\n",
    "        else:\n",
    "            repo_id = None\n",
    "            repo_name = None\n",
    "        \n",
    "        # Appending the fetched repository ID and name to the respective lists\n",
    "        repo_set.append(repo_id)\n",
    "        repo_name_set.append(repo_name)\n",
    "\n",
    "# Printing the lists of repository IDs and names\n",
    "print(repo_set)\n",
    "print(repo_name_set)"
   ]
  },
  {
   "cell_type": "code",
   "execution_count": null,
   "metadata": {},
   "outputs": [],
   "source": []
  },
  {
   "cell_type": "markdown",
   "metadata": {},
   "source": [
    "## Retrieve PR Contributors"
   ]
  },
  {
   "cell_type": "markdown",
   "metadata": {},
   "source": [
    "We will now fetch all the PR contributors for various repositories."
   ]
  },
  {
   "cell_type": "code",
   "execution_count": 7,
   "metadata": {},
   "outputs": [
    {
     "data": {
      "text/html": [
       "<div>\n",
       "<style scoped>\n",
       "    .dataframe tbody tr th:only-of-type {\n",
       "        vertical-align: middle;\n",
       "    }\n",
       "\n",
       "    .dataframe tbody tr th {\n",
       "        vertical-align: top;\n",
       "    }\n",
       "\n",
       "    .dataframe thead th {\n",
       "        text-align: right;\n",
       "    }\n",
       "</style>\n",
       "<table border=\"1\" class=\"dataframe\">\n",
       "  <thead>\n",
       "    <tr style=\"text-align: right;\">\n",
       "      <th></th>\n",
       "      <th>repo_id</th>\n",
       "      <th>repo_name</th>\n",
       "      <th>repo_git</th>\n",
       "      <th>cntrb_id</th>\n",
       "      <th>pull_request_id</th>\n",
       "    </tr>\n",
       "  </thead>\n",
       "  <tbody>\n",
       "    <tr>\n",
       "      <th>0</th>\n",
       "      <td>25495</td>\n",
       "      <td>numpy</td>\n",
       "      <td>https://github.com/numpy/numpy</td>\n",
       "      <td>0100167f-9f00-0000-0000-000000000000</td>\n",
       "      <td>269773</td>\n",
       "    </tr>\n",
       "    <tr>\n",
       "      <th>1</th>\n",
       "      <td>25495</td>\n",
       "      <td>numpy</td>\n",
       "      <td>https://github.com/numpy/numpy</td>\n",
       "      <td>0100012d-d800-0000-0000-000000000000</td>\n",
       "      <td>269774</td>\n",
       "    </tr>\n",
       "    <tr>\n",
       "      <th>2</th>\n",
       "      <td>25495</td>\n",
       "      <td>numpy</td>\n",
       "      <td>https://github.com/numpy/numpy</td>\n",
       "      <td>01000088-e600-0000-0000-000000000000</td>\n",
       "      <td>269775</td>\n",
       "    </tr>\n",
       "    <tr>\n",
       "      <th>3</th>\n",
       "      <td>25495</td>\n",
       "      <td>numpy</td>\n",
       "      <td>https://github.com/numpy/numpy</td>\n",
       "      <td>010000b4-3700-0000-0000-000000000000</td>\n",
       "      <td>269777</td>\n",
       "    </tr>\n",
       "    <tr>\n",
       "      <th>4</th>\n",
       "      <td>25495</td>\n",
       "      <td>numpy</td>\n",
       "      <td>https://github.com/numpy/numpy</td>\n",
       "      <td>010000f2-1900-0000-0000-000000000000</td>\n",
       "      <td>269778</td>\n",
       "    </tr>\n",
       "    <tr>\n",
       "      <th>...</th>\n",
       "      <td>...</td>\n",
       "      <td>...</td>\n",
       "      <td>...</td>\n",
       "      <td>...</td>\n",
       "      <td>...</td>\n",
       "    </tr>\n",
       "    <tr>\n",
       "      <th>203204</th>\n",
       "      <td>25499</td>\n",
       "      <td>mlx</td>\n",
       "      <td>https://github.com/ml-explore/mlx</td>\n",
       "      <td>0100178a-9500-0000-0000-000000000000</td>\n",
       "      <td>41537</td>\n",
       "    </tr>\n",
       "    <tr>\n",
       "      <th>203205</th>\n",
       "      <td>25499</td>\n",
       "      <td>mlx</td>\n",
       "      <td>https://github.com/ml-explore/mlx</td>\n",
       "      <td>010012f3-bb00-0000-0000-000000000000</td>\n",
       "      <td>41538</td>\n",
       "    </tr>\n",
       "    <tr>\n",
       "      <th>203206</th>\n",
       "      <td>25499</td>\n",
       "      <td>mlx</td>\n",
       "      <td>https://github.com/ml-explore/mlx</td>\n",
       "      <td>0103993a-2500-0000-0000-000000000000</td>\n",
       "      <td>41539</td>\n",
       "    </tr>\n",
       "    <tr>\n",
       "      <th>203207</th>\n",
       "      <td>25499</td>\n",
       "      <td>mlx</td>\n",
       "      <td>https://github.com/ml-explore/mlx</td>\n",
       "      <td>0100178a-9500-0000-0000-000000000000</td>\n",
       "      <td>41540</td>\n",
       "    </tr>\n",
       "    <tr>\n",
       "      <th>203208</th>\n",
       "      <td>25499</td>\n",
       "      <td>mlx</td>\n",
       "      <td>https://github.com/ml-explore/mlx</td>\n",
       "      <td>0100178a-9500-0000-0000-000000000000</td>\n",
       "      <td>41541</td>\n",
       "    </tr>\n",
       "  </tbody>\n",
       "</table>\n",
       "<p>203209 rows × 5 columns</p>\n",
       "</div>"
      ],
      "text/plain": [
       "        repo_id repo_name                           repo_git  \\\n",
       "0         25495     numpy     https://github.com/numpy/numpy   \n",
       "1         25495     numpy     https://github.com/numpy/numpy   \n",
       "2         25495     numpy     https://github.com/numpy/numpy   \n",
       "3         25495     numpy     https://github.com/numpy/numpy   \n",
       "4         25495     numpy     https://github.com/numpy/numpy   \n",
       "...         ...       ...                                ...   \n",
       "203204    25499       mlx  https://github.com/ml-explore/mlx   \n",
       "203205    25499       mlx  https://github.com/ml-explore/mlx   \n",
       "203206    25499       mlx  https://github.com/ml-explore/mlx   \n",
       "203207    25499       mlx  https://github.com/ml-explore/mlx   \n",
       "203208    25499       mlx  https://github.com/ml-explore/mlx   \n",
       "\n",
       "                                    cntrb_id  pull_request_id  \n",
       "0       0100167f-9f00-0000-0000-000000000000           269773  \n",
       "1       0100012d-d800-0000-0000-000000000000           269774  \n",
       "2       01000088-e600-0000-0000-000000000000           269775  \n",
       "3       010000b4-3700-0000-0000-000000000000           269777  \n",
       "4       010000f2-1900-0000-0000-000000000000           269778  \n",
       "...                                      ...              ...  \n",
       "203204  0100178a-9500-0000-0000-000000000000            41537  \n",
       "203205  010012f3-bb00-0000-0000-000000000000            41538  \n",
       "203206  0103993a-2500-0000-0000-000000000000            41539  \n",
       "203207  0100178a-9500-0000-0000-000000000000            41540  \n",
       "203208  0100178a-9500-0000-0000-000000000000            41541  \n",
       "\n",
       "[203209 rows x 5 columns]"
      ]
     },
     "metadata": {},
     "output_type": "display_data"
    },
    {
     "data": {
      "text/plain": [
       "repo_id             int64\n",
       "repo_name          object\n",
       "repo_git           object\n",
       "cntrb_id           object\n",
       "pull_request_id     int64\n",
       "dtype: object"
      ]
     },
     "execution_count": 7,
     "metadata": {},
     "output_type": "execute_result"
    }
   ],
   "source": [
    "# Initializing an empty DataFrame to store pull request contributions\n",
    "pr_contrib = pd.DataFrame()\n",
    "\n",
    "# Iterating through the list of repository IDs\n",
    "for repo_id in repo_set:\n",
    "    # Skipping if repo_id is None\n",
    "    if not repo_id:\n",
    "        continue\n",
    "    \n",
    "    # Creating a SQL query to fetch pull request contributions for each repository\n",
    "    repo_query = salc.sql.text(f\"\"\"\n",
    "                    SET SCHEMA 'augur_data';\n",
    "                    SELECT \n",
    "                        r.repo_id,\n",
    "                        r.repo_name,\n",
    "                        r.repo_git,\n",
    "                        pr.pr_augur_contributor_id,\n",
    "                        pr.pull_request_id\n",
    "                    FROM\n",
    "                        repo r, pull_requests pr\n",
    "                    WHERE\n",
    "                        pr.repo_id = '{repo_id}' AND\n",
    "                        pr.repo_id = r.repo_id\n",
    "                \"\"\")\n",
    "    \n",
    "    # Executing the query and reading the results into a DataFrame\n",
    "    df_current_repo = pd.read_sql(repo_query, con=engine)\n",
    "    \n",
    "    # Concatenating the current repository's data with the main DataFrame\n",
    "    pr_contrib = pd.concat([pr_contrib, df_current_repo])\n",
    "\n",
    "# Resetting the index of the DataFrame\n",
    "pr_contrib = pr_contrib.reset_index()\n",
    "\n",
    "# Dropping the old index column\n",
    "pr_contrib.drop(\"index\", axis=1, inplace=True)\n",
    "\n",
    "# Renaming the columns of the DataFrame\n",
    "pr_contrib.columns = ['repo_id', 'repo_name', 'repo_git', 'cntrb_id', 'pull_request_id']\n",
    "\n",
    "# Displaying the DataFrame\n",
    "display(pr_contrib)\n",
    "\n",
    "# Displaying the data types of the DataFrame columns\n",
    "pr_contrib.dtypes"
   ]
  },
  {
   "cell_type": "code",
   "execution_count": 9,
   "metadata": {},
   "outputs": [],
   "source": [
    "# Group by 'repo_name' and 'cntrb_id', count occurrences, and reshape with 'repo_name' as columns\n",
    "df_pr = pr_contrib.groupby(['repo_name', 'cntrb_id']).size().unstack(fill_value=0)"
   ]
  },
  {
   "cell_type": "code",
   "execution_count": 10,
   "metadata": {},
   "outputs": [
    {
     "data": {
      "text/html": [
       "<div>\n",
       "<style scoped>\n",
       "    .dataframe tbody tr th:only-of-type {\n",
       "        vertical-align: middle;\n",
       "    }\n",
       "\n",
       "    .dataframe tbody tr th {\n",
       "        vertical-align: top;\n",
       "    }\n",
       "\n",
       "    .dataframe thead th {\n",
       "        text-align: right;\n",
       "    }\n",
       "</style>\n",
       "<table border=\"1\" class=\"dataframe\">\n",
       "  <thead>\n",
       "    <tr style=\"text-align: right;\">\n",
       "      <th>cntrb_id</th>\n",
       "      <th>01000000-5000-0000-0000-000000000000</th>\n",
       "      <th>01000002-3300-0000-0000-000000000000</th>\n",
       "      <th>01000002-5600-0000-0000-000000000000</th>\n",
       "      <th>01000002-8100-0000-0000-000000000000</th>\n",
       "      <th>01000004-6200-0000-0000-000000000000</th>\n",
       "      <th>01000004-c700-0000-0000-000000000000</th>\n",
       "      <th>01000004-ca00-0000-0000-000000000000</th>\n",
       "      <th>01000004-e100-0000-0000-000000000000</th>\n",
       "      <th>01000005-2200-0000-0000-000000000000</th>\n",
       "      <th>01000006-8000-0000-0000-000000000000</th>\n",
       "      <th>...</th>\n",
       "      <th>010a5f5c-ab00-0000-0000-000000000000</th>\n",
       "      <th>010a65e1-0a00-0000-0000-000000000000</th>\n",
       "      <th>010a6612-2d00-0000-0000-000000000000</th>\n",
       "      <th>010a7247-3d00-0000-0000-000000000000</th>\n",
       "      <th>010a7473-6500-0000-0000-000000000000</th>\n",
       "      <th>010a747f-ae00-0000-0000-000000000000</th>\n",
       "      <th>010a75bf-8800-0000-0000-000000000000</th>\n",
       "      <th>010a76ec-fd00-0000-0000-000000000000</th>\n",
       "      <th>010a79ef-4700-0000-0000-000000000000</th>\n",
       "      <th>010a824a-5f00-0000-0000-000000000000</th>\n",
       "    </tr>\n",
       "    <tr>\n",
       "      <th>repo_name</th>\n",
       "      <th></th>\n",
       "      <th></th>\n",
       "      <th></th>\n",
       "      <th></th>\n",
       "      <th></th>\n",
       "      <th></th>\n",
       "      <th></th>\n",
       "      <th></th>\n",
       "      <th></th>\n",
       "      <th></th>\n",
       "      <th></th>\n",
       "      <th></th>\n",
       "      <th></th>\n",
       "      <th></th>\n",
       "      <th></th>\n",
       "      <th></th>\n",
       "      <th></th>\n",
       "      <th></th>\n",
       "      <th></th>\n",
       "      <th></th>\n",
       "      <th></th>\n",
       "    </tr>\n",
       "  </thead>\n",
       "  <tbody>\n",
       "    <tr>\n",
       "      <th>arrow</th>\n",
       "      <td>0</td>\n",
       "      <td>52</td>\n",
       "      <td>0</td>\n",
       "      <td>0</td>\n",
       "      <td>0</td>\n",
       "      <td>0</td>\n",
       "      <td>0</td>\n",
       "      <td>0</td>\n",
       "      <td>0</td>\n",
       "      <td>0</td>\n",
       "      <td>...</td>\n",
       "      <td>0</td>\n",
       "      <td>0</td>\n",
       "      <td>0</td>\n",
       "      <td>0</td>\n",
       "      <td>0</td>\n",
       "      <td>0</td>\n",
       "      <td>0</td>\n",
       "      <td>0</td>\n",
       "      <td>0</td>\n",
       "      <td>0</td>\n",
       "    </tr>\n",
       "    <tr>\n",
       "      <th>keras-io</th>\n",
       "      <td>0</td>\n",
       "      <td>0</td>\n",
       "      <td>0</td>\n",
       "      <td>0</td>\n",
       "      <td>0</td>\n",
       "      <td>0</td>\n",
       "      <td>0</td>\n",
       "      <td>0</td>\n",
       "      <td>0</td>\n",
       "      <td>0</td>\n",
       "      <td>...</td>\n",
       "      <td>0</td>\n",
       "      <td>0</td>\n",
       "      <td>0</td>\n",
       "      <td>0</td>\n",
       "      <td>0</td>\n",
       "      <td>0</td>\n",
       "      <td>0</td>\n",
       "      <td>0</td>\n",
       "      <td>0</td>\n",
       "      <td>0</td>\n",
       "    </tr>\n",
       "    <tr>\n",
       "      <th>mlx</th>\n",
       "      <td>0</td>\n",
       "      <td>0</td>\n",
       "      <td>0</td>\n",
       "      <td>0</td>\n",
       "      <td>0</td>\n",
       "      <td>0</td>\n",
       "      <td>0</td>\n",
       "      <td>0</td>\n",
       "      <td>0</td>\n",
       "      <td>0</td>\n",
       "      <td>...</td>\n",
       "      <td>0</td>\n",
       "      <td>0</td>\n",
       "      <td>0</td>\n",
       "      <td>0</td>\n",
       "      <td>0</td>\n",
       "      <td>0</td>\n",
       "      <td>0</td>\n",
       "      <td>0</td>\n",
       "      <td>0</td>\n",
       "      <td>0</td>\n",
       "    </tr>\n",
       "    <tr>\n",
       "      <th>networkx</th>\n",
       "      <td>0</td>\n",
       "      <td>0</td>\n",
       "      <td>0</td>\n",
       "      <td>0</td>\n",
       "      <td>0</td>\n",
       "      <td>0</td>\n",
       "      <td>1</td>\n",
       "      <td>0</td>\n",
       "      <td>0</td>\n",
       "      <td>0</td>\n",
       "      <td>...</td>\n",
       "      <td>0</td>\n",
       "      <td>0</td>\n",
       "      <td>0</td>\n",
       "      <td>0</td>\n",
       "      <td>0</td>\n",
       "      <td>0</td>\n",
       "      <td>0</td>\n",
       "      <td>0</td>\n",
       "      <td>0</td>\n",
       "      <td>0</td>\n",
       "    </tr>\n",
       "    <tr>\n",
       "      <th>numpy</th>\n",
       "      <td>0</td>\n",
       "      <td>0</td>\n",
       "      <td>0</td>\n",
       "      <td>0</td>\n",
       "      <td>0</td>\n",
       "      <td>0</td>\n",
       "      <td>0</td>\n",
       "      <td>1</td>\n",
       "      <td>0</td>\n",
       "      <td>0</td>\n",
       "      <td>...</td>\n",
       "      <td>0</td>\n",
       "      <td>1</td>\n",
       "      <td>0</td>\n",
       "      <td>0</td>\n",
       "      <td>1</td>\n",
       "      <td>1</td>\n",
       "      <td>0</td>\n",
       "      <td>0</td>\n",
       "      <td>0</td>\n",
       "      <td>0</td>\n",
       "    </tr>\n",
       "  </tbody>\n",
       "</table>\n",
       "<p>5 rows × 19020 columns</p>\n",
       "</div>"
      ],
      "text/plain": [
       "cntrb_id   01000000-5000-0000-0000-000000000000  \\\n",
       "repo_name                                         \n",
       "arrow                                         0   \n",
       "keras-io                                      0   \n",
       "mlx                                           0   \n",
       "networkx                                      0   \n",
       "numpy                                         0   \n",
       "\n",
       "cntrb_id   01000002-3300-0000-0000-000000000000  \\\n",
       "repo_name                                         \n",
       "arrow                                        52   \n",
       "keras-io                                      0   \n",
       "mlx                                           0   \n",
       "networkx                                      0   \n",
       "numpy                                         0   \n",
       "\n",
       "cntrb_id   01000002-5600-0000-0000-000000000000  \\\n",
       "repo_name                                         \n",
       "arrow                                         0   \n",
       "keras-io                                      0   \n",
       "mlx                                           0   \n",
       "networkx                                      0   \n",
       "numpy                                         0   \n",
       "\n",
       "cntrb_id   01000002-8100-0000-0000-000000000000  \\\n",
       "repo_name                                         \n",
       "arrow                                         0   \n",
       "keras-io                                      0   \n",
       "mlx                                           0   \n",
       "networkx                                      0   \n",
       "numpy                                         0   \n",
       "\n",
       "cntrb_id   01000004-6200-0000-0000-000000000000  \\\n",
       "repo_name                                         \n",
       "arrow                                         0   \n",
       "keras-io                                      0   \n",
       "mlx                                           0   \n",
       "networkx                                      0   \n",
       "numpy                                         0   \n",
       "\n",
       "cntrb_id   01000004-c700-0000-0000-000000000000  \\\n",
       "repo_name                                         \n",
       "arrow                                         0   \n",
       "keras-io                                      0   \n",
       "mlx                                           0   \n",
       "networkx                                      0   \n",
       "numpy                                         0   \n",
       "\n",
       "cntrb_id   01000004-ca00-0000-0000-000000000000  \\\n",
       "repo_name                                         \n",
       "arrow                                         0   \n",
       "keras-io                                      0   \n",
       "mlx                                           0   \n",
       "networkx                                      1   \n",
       "numpy                                         0   \n",
       "\n",
       "cntrb_id   01000004-e100-0000-0000-000000000000  \\\n",
       "repo_name                                         \n",
       "arrow                                         0   \n",
       "keras-io                                      0   \n",
       "mlx                                           0   \n",
       "networkx                                      0   \n",
       "numpy                                         1   \n",
       "\n",
       "cntrb_id   01000005-2200-0000-0000-000000000000  \\\n",
       "repo_name                                         \n",
       "arrow                                         0   \n",
       "keras-io                                      0   \n",
       "mlx                                           0   \n",
       "networkx                                      0   \n",
       "numpy                                         0   \n",
       "\n",
       "cntrb_id   01000006-8000-0000-0000-000000000000  ...  \\\n",
       "repo_name                                        ...   \n",
       "arrow                                         0  ...   \n",
       "keras-io                                      0  ...   \n",
       "mlx                                           0  ...   \n",
       "networkx                                      0  ...   \n",
       "numpy                                         0  ...   \n",
       "\n",
       "cntrb_id   010a5f5c-ab00-0000-0000-000000000000  \\\n",
       "repo_name                                         \n",
       "arrow                                         0   \n",
       "keras-io                                      0   \n",
       "mlx                                           0   \n",
       "networkx                                      0   \n",
       "numpy                                         0   \n",
       "\n",
       "cntrb_id   010a65e1-0a00-0000-0000-000000000000  \\\n",
       "repo_name                                         \n",
       "arrow                                         0   \n",
       "keras-io                                      0   \n",
       "mlx                                           0   \n",
       "networkx                                      0   \n",
       "numpy                                         1   \n",
       "\n",
       "cntrb_id   010a6612-2d00-0000-0000-000000000000  \\\n",
       "repo_name                                         \n",
       "arrow                                         0   \n",
       "keras-io                                      0   \n",
       "mlx                                           0   \n",
       "networkx                                      0   \n",
       "numpy                                         0   \n",
       "\n",
       "cntrb_id   010a7247-3d00-0000-0000-000000000000  \\\n",
       "repo_name                                         \n",
       "arrow                                         0   \n",
       "keras-io                                      0   \n",
       "mlx                                           0   \n",
       "networkx                                      0   \n",
       "numpy                                         0   \n",
       "\n",
       "cntrb_id   010a7473-6500-0000-0000-000000000000  \\\n",
       "repo_name                                         \n",
       "arrow                                         0   \n",
       "keras-io                                      0   \n",
       "mlx                                           0   \n",
       "networkx                                      0   \n",
       "numpy                                         1   \n",
       "\n",
       "cntrb_id   010a747f-ae00-0000-0000-000000000000  \\\n",
       "repo_name                                         \n",
       "arrow                                         0   \n",
       "keras-io                                      0   \n",
       "mlx                                           0   \n",
       "networkx                                      0   \n",
       "numpy                                         1   \n",
       "\n",
       "cntrb_id   010a75bf-8800-0000-0000-000000000000  \\\n",
       "repo_name                                         \n",
       "arrow                                         0   \n",
       "keras-io                                      0   \n",
       "mlx                                           0   \n",
       "networkx                                      0   \n",
       "numpy                                         0   \n",
       "\n",
       "cntrb_id   010a76ec-fd00-0000-0000-000000000000  \\\n",
       "repo_name                                         \n",
       "arrow                                         0   \n",
       "keras-io                                      0   \n",
       "mlx                                           0   \n",
       "networkx                                      0   \n",
       "numpy                                         0   \n",
       "\n",
       "cntrb_id   010a79ef-4700-0000-0000-000000000000  \\\n",
       "repo_name                                         \n",
       "arrow                                         0   \n",
       "keras-io                                      0   \n",
       "mlx                                           0   \n",
       "networkx                                      0   \n",
       "numpy                                         0   \n",
       "\n",
       "cntrb_id   010a824a-5f00-0000-0000-000000000000  \n",
       "repo_name                                        \n",
       "arrow                                         0  \n",
       "keras-io                                      0  \n",
       "mlx                                           0  \n",
       "networkx                                      0  \n",
       "numpy                                         0  \n",
       "\n",
       "[5 rows x 19020 columns]"
      ]
     },
     "execution_count": 10,
     "metadata": {},
     "output_type": "execute_result"
    }
   ],
   "source": [
    "# Display the PR dataframe\n",
    "df_pr.head()"
   ]
  },
  {
   "cell_type": "code",
   "execution_count": 11,
   "metadata": {},
   "outputs": [],
   "source": [
    "df_pr = df_pr.reset_index()"
   ]
  },
  {
   "cell_type": "code",
   "execution_count": 12,
   "metadata": {},
   "outputs": [],
   "source": [
    "# Melt df_pr from wide to long format, using 'repo_name' as the identifier variable\n",
    "df_melted_pr = df_pr.melt(\n",
    "    ['repo_name'],        # Columns to keep as identifier variables\n",
    "    var_name='cntrb_id',  # Name for the variable column\n",
    "    value_name='number'   # Name for the values column\n",
    ")"
   ]
  },
  {
   "cell_type": "code",
   "execution_count": 13,
   "metadata": {},
   "outputs": [],
   "source": [
    "# Filter df_melted_commit to keep only rows where the 'number' column is not equal to 0\n",
    "df_melted_pr = df_melted_pr[df_melted_pr[df_melted_pr.columns[2]] != 0]"
   ]
  },
  {
   "cell_type": "code",
   "execution_count": 14,
   "metadata": {},
   "outputs": [
    {
     "data": {
      "text/html": [
       "<div>\n",
       "<style scoped>\n",
       "    .dataframe tbody tr th:only-of-type {\n",
       "        vertical-align: middle;\n",
       "    }\n",
       "\n",
       "    .dataframe tbody tr th {\n",
       "        vertical-align: top;\n",
       "    }\n",
       "\n",
       "    .dataframe thead th {\n",
       "        text-align: right;\n",
       "    }\n",
       "</style>\n",
       "<table border=\"1\" class=\"dataframe\">\n",
       "  <thead>\n",
       "    <tr style=\"text-align: right;\">\n",
       "      <th></th>\n",
       "      <th>repo_name</th>\n",
       "      <th>cntrb_id</th>\n",
       "      <th>number</th>\n",
       "    </tr>\n",
       "  </thead>\n",
       "  <tbody>\n",
       "    <tr>\n",
       "      <th>8</th>\n",
       "      <td>tensorflow</td>\n",
       "      <td>01000000-5000-0000-0000-000000000000</td>\n",
       "      <td>3</td>\n",
       "    </tr>\n",
       "    <tr>\n",
       "      <th>10</th>\n",
       "      <td>arrow</td>\n",
       "      <td>01000002-3300-0000-0000-000000000000</td>\n",
       "      <td>52</td>\n",
       "    </tr>\n",
       "    <tr>\n",
       "      <th>28</th>\n",
       "      <td>tensorflow</td>\n",
       "      <td>01000002-5600-0000-0000-000000000000</td>\n",
       "      <td>3</td>\n",
       "    </tr>\n",
       "    <tr>\n",
       "      <th>35</th>\n",
       "      <td>pandas</td>\n",
       "      <td>01000002-8100-0000-0000-000000000000</td>\n",
       "      <td>1</td>\n",
       "    </tr>\n",
       "    <tr>\n",
       "      <th>48</th>\n",
       "      <td>tensorflow</td>\n",
       "      <td>01000004-6200-0000-0000-000000000000</td>\n",
       "      <td>1</td>\n",
       "    </tr>\n",
       "  </tbody>\n",
       "</table>\n",
       "</div>"
      ],
      "text/plain": [
       "     repo_name                              cntrb_id  number\n",
       "8   tensorflow  01000000-5000-0000-0000-000000000000       3\n",
       "10       arrow  01000002-3300-0000-0000-000000000000      52\n",
       "28  tensorflow  01000002-5600-0000-0000-000000000000       3\n",
       "35      pandas  01000002-8100-0000-0000-000000000000       1\n",
       "48  tensorflow  01000004-6200-0000-0000-000000000000       1"
      ]
     },
     "execution_count": 14,
     "metadata": {},
     "output_type": "execute_result"
    }
   ],
   "source": [
    "df_melted_pr.head()"
   ]
  },
  {
   "cell_type": "markdown",
   "metadata": {},
   "source": [
    "structure of `contributorGraph` =  \n",
    "{  \n",
    "`repo1`: [(`repo2`, `PRs by same authors in repo 1 and repo 2`)],  \n",
    " `repo2`: [(`repo4`, `PRs created by same authors in repo 1 and repo 4` ), (`repo5`, `PRs by same authors in repo 2 and repo 5`)]  \n",
    "}"
   ]
  },
  {
   "cell_type": "code",
   "execution_count": 16,
   "metadata": {},
   "outputs": [],
   "source": [
    "# Initialize an empty dictionary to store the graph\n",
    "contributorGraph = {}\n",
    "\n",
    "# Iterate over each row in df_melted_pr\n",
    "for i, row in df_melted_pr.iterrows():\n",
    "    # If the 'cntrb_id' is not already a key in the dictionary, add it with an empty list\n",
    "    if row['cntrb_id'] not in contributorGraph:\n",
    "        contributorGraph[row['cntrb_id']] = []\n",
    "    \n",
    "    # If 'number' is greater than 0, append a tuple of (repo_name, number) to the list for this 'cntrb_id'\n",
    "    if row['number'] > 0:\n",
    "        contributorGraph[row['cntrb_id']].append((row['repo_name'], row['number']))"
   ]
  },
  {
   "cell_type": "code",
   "execution_count": 17,
   "metadata": {},
   "outputs": [
    {
     "name": "stdout",
     "output_type": "stream",
     "text": [
      "dict_items([(('pytorch', 'tensorflow'), 11446), (('arrow', 'pandas'), 8148), (('pandas', 'pytorch'), 2299), (('pytorch', 'tinygrad'), 1040), (('tensorflow', 'tinygrad'), 282), (('arrow', 'pytorch'), 795), (('numpy', 'pandas'), 16848), (('pandas', 'tensorflow'), 1237), (('arrow', 'keras-io'), 519), (('keras-io', 'networkx'), 48), (('networkx', 'numpy'), 2393), (('pandas', 'polaris'), 827), (('polaris', 'pytorch'), 585), (('keras-io', 'tensorflow'), 986), (('arrow', 'tensorflow'), 93), (('networkx', 'tensorflow'), 49), (('networkx', 'pandas'), 501), (('arrow', 'networkx'), 80), (('pandas', 'tinygrad'), 33), (('numpy', 'tensorflow'), 663), (('arrow', 'numpy'), 3539), (('numpy', 'pytorch'), 5692), (('numpy', 'tinygrad'), 8), (('mlx', 'pandas'), 6), (('mlx', 'tensorflow'), 263), (('keras-io', 'pandas'), 65), (('arrow', 'mlx'), 40), (('mlx', 'pytorch'), 38), (('keras-io', 'pytorch'), 73), (('networkx', 'tinygrad'), 17), (('arrow', 'tinygrad'), 24), (('networkx', 'pytorch'), 77), (('mlx', 'tinygrad'), 99), (('mlx', 'networkx'), 2), (('keras-io', 'numpy'), 31), (('mlx', 'numpy'), 24), (('keras-io', 'mlx'), 13), (('keras-io', 'tinygrad'), 6)])\n"
     ]
    }
   ],
   "source": [
    "# Initialize a defaultdict to store the sum of contributions for each pair of repositories\n",
    "commonRepoContributionsByContributor = collections.defaultdict(int)\n",
    "\n",
    "# Iterate over each contributor in the contributorGraph\n",
    "for key in contributorGraph:\n",
    "    # Skip contributors with less than 2 repositories in their list\n",
    "    if len(contributorGraph[key])-1 <= 0:\n",
    "        continue\n",
    "    \n",
    "    # Iterate through the list of repositories for the current contributor\n",
    "    for repoContributionIndex in range(len(contributorGraph[key])-1):\n",
    "        # Update the contribution sum for the pair of repositories\n",
    "        commonRepoContributionsByContributor[\n",
    "            (contributorGraph[key][repoContributionIndex][0], \n",
    "             contributorGraph[key][repoContributionIndex+1][0])\n",
    "        ] += (contributorGraph[key][repoContributionIndex][1] + \n",
    "              contributorGraph[key][repoContributionIndex+1][1])\n",
    "\n",
    "# Print the items of the commonRepoContributionsByContributor dictionary\n",
    "print(commonRepoContributionsByContributor.items())"
   ]
  },
  {
   "cell_type": "code",
   "execution_count": 18,
   "metadata": {},
   "outputs": [],
   "source": [
    "# Initialize an empty list to store the results\n",
    "res = []\n",
    "\n",
    "# Iterate over each key-value pair in commonRepoContributionsByContributor\n",
    "for key in commonRepoContributionsByContributor:\n",
    "    # Convert the key (a tuple of repository names) to strings and append the corresponding value\n",
    "    res.append(\n",
    "        tuple(str(k) for k in list(key)) + (commonRepoContributionsByContributor[key],)\n",
    "    )"
   ]
  },
  {
   "cell_type": "code",
   "execution_count": 19,
   "metadata": {},
   "outputs": [
    {
     "data": {
      "image/png": "[encoded data removed]",
      "text/plain": [
       "<Figure size 2000x2000 with 1 Axes>"
      ]
     },
     "metadata": {},
     "output_type": "display_data"
    }
   ],
   "source": [
    "g = nx.Graph()\n",
    "g.add_weighted_edges_from(res)\n",
    "\n",
    "# Get positions for all nodes\n",
    "pos = nx.spring_layout(g)\n",
    "\n",
    "# Draw the nodes with sizes based on their degree\n",
    "node_sizes = [nx.degree(g, n) * 100 for n in g.nodes()]\n",
    "\n",
    "# Draw the edges with widths based on their weight\n",
    "edge_widths = [g[u][v]['weight'] / 1000 for u, v in g.edges()]\n",
    "\n",
    "# Create a plot with the specified size\n",
    "fig, ax = plt.subplots(figsize=(20, 20))\n",
    "\n",
    "# Draw the nodes and edges with the specified attributes\n",
    "nx.draw_networkx_nodes(g, pos, node_size=node_sizes, ax=ax)\n",
    "nx.draw_networkx_edges(g, pos, width=edge_widths, ax=ax)\n",
    "\n",
    "# Draw the labels with a background box for readability\n",
    "nx.draw_networkx_labels(g, pos, font_size=14, ax=ax, bbox=dict(facecolor='white', edgecolor='black', boxstyle='round,pad=0.3'))\n",
    "\n",
    "# Draw edge labels with the number of contributors\n",
    "edge_labels = {(u, v): g[u][v]['weight'] for u, v in g.edges()}\n",
    "nx.draw_networkx_edge_labels(g, pos, edge_labels=edge_labels, font_size=10, ax=ax)\n",
    "\n",
    "# Display the plot\n",
    "plt.show()"
   ]
  },
  {
   "cell_type": "markdown",
   "metadata": {},
   "source": [
    "## Converting the above graph to plotly"
   ]
  },
  {
   "cell_type": "code",
   "execution_count": 21,
   "metadata": {},
   "outputs": [
    {
     "data": {
      "application/vnd.plotly.v1+json": {
       "config": {
        "plotlyServerURL": "https://plot.ly"
       },
       "data": [
        {
         "hoverinfo": "text",
         "line": {
          "color": "grey",
          "width": 11.446
         },
         "mode": "lines",
         "showlegend": false,
         "text": "Shared contributors: 11446",
         "type": "scatter",
         "x": [
          -0.025571056059915876,
          -0.1788465533893763,
          null
         ],
         "y": [
          -0.061259464446612615,
          0.06213758407021865,
          null
         ]
        },
        {
         "hoverinfo": "text",
         "line": {
          "color": "grey",
          "width": 2.299
         },
         "mode": "lines",
         "showlegend": false,
         "text": "Shared contributors: 2299",
         "type": "scatter",
         "x": [
          -0.025571056059915876,
          0.2477227429445517,
          null
         ],
         "y": [
          -0.061259464446612615,
          -0.024057877551590733,
          null
         ]
        },
        {
         "hoverinfo": "text",
         "line": {
          "color": "grey",
          "width": 1.04
         },
         "mode": "lines",
         "showlegend": false,
         "text": "Shared contributors: 1040",
         "type": "scatter",
         "x": [
          -0.025571056059915876,
          -0.4684733856165765,
          null
         ],
         "y": [
          -0.061259464446612615,
          -0.37807649728080944,
          null
         ]
        },
        {
         "hoverinfo": "text",
         "line": {
          "color": "grey",
          "width": 0.795
         },
         "mode": "lines",
         "showlegend": false,
         "text": "Shared contributors: 795",
         "type": "scatter",
         "x": [
          -0.025571056059915876,
          0.2947395244705808,
          null
         ],
         "y": [
          -0.061259464446612615,
          0.10293891252199902,
          null
         ]
        },
        {
         "hoverinfo": "text",
         "line": {
          "color": "grey",
          "width": 0.585
         },
         "mode": "lines",
         "showlegend": false,
         "text": "Shared contributors: 585",
         "type": "scatter",
         "x": [
          -0.025571056059915876,
          0.6028894023639383,
          null
         ],
         "y": [
          -0.061259464446612615,
          0.34905238039892067,
          null
         ]
        },
        {
         "hoverinfo": "text",
         "line": {
          "color": "grey",
          "width": 5.692
         },
         "mode": "lines",
         "showlegend": false,
         "text": "Shared contributors: 5692",
         "type": "scatter",
         "x": [
          -0.025571056059915876,
          0.2162801217484362,
          null
         ],
         "y": [
          -0.061259464446612615,
          -0.17188110884679292,
          null
         ]
        },
        {
         "hoverinfo": "text",
         "line": {
          "color": "grey",
          "width": 0.038
         },
         "mode": "lines",
         "showlegend": false,
         "text": "Shared contributors: 38",
         "type": "scatter",
         "x": [
          -0.025571056059915876,
          -1,
          null
         ],
         "y": [
          -0.061259464446612615,
          0.0562350809444169,
          null
         ]
        },
        {
         "hoverinfo": "text",
         "line": {
          "color": "grey",
          "width": 0.073
         },
         "mode": "lines",
         "showlegend": false,
         "text": "Shared contributors: 73",
         "type": "scatter",
         "x": [
          -0.025571056059915876,
          -0.1265916095596396,
          null
         ],
         "y": [
          -0.061259464446612615,
          0.526820938985941,
          null
         ]
        },
        {
         "hoverinfo": "text",
         "line": {
          "color": "grey",
          "width": 0.077
         },
         "mode": "lines",
         "showlegend": false,
         "text": "Shared contributors: 77",
         "type": "scatter",
         "x": [
          -0.025571056059915876,
          0.4378508130980057,
          null
         ],
         "y": [
          -0.061259464446612615,
          -0.46190994879569175,
          null
         ]
        },
        {
         "hoverinfo": "text",
         "line": {
          "color": "grey",
          "width": 0.282
         },
         "mode": "lines",
         "showlegend": false,
         "text": "Shared contributors: 282",
         "type": "scatter",
         "x": [
          -0.1788465533893763,
          -0.4684733856165765,
          null
         ],
         "y": [
          0.06213758407021865,
          -0.37807649728080944,
          null
         ]
        },
        {
         "hoverinfo": "text",
         "line": {
          "color": "grey",
          "width": 1.237
         },
         "mode": "lines",
         "showlegend": false,
         "text": "Shared contributors: 1237",
         "type": "scatter",
         "x": [
          -0.1788465533893763,
          0.2477227429445517,
          null
         ],
         "y": [
          0.06213758407021865,
          -0.024057877551590733,
          null
         ]
        },
        {
         "hoverinfo": "text",
         "line": {
          "color": "grey",
          "width": 0.986
         },
         "mode": "lines",
         "showlegend": false,
         "text": "Shared contributors: 986",
         "type": "scatter",
         "x": [
          -0.1788465533893763,
          -0.1265916095596396,
          null
         ],
         "y": [
          0.06213758407021865,
          0.526820938985941,
          null
         ]
        },
        {
         "hoverinfo": "text",
         "line": {
          "color": "grey",
          "width": 0.093
         },
         "mode": "lines",
         "showlegend": false,
         "text": "Shared contributors: 93",
         "type": "scatter",
         "x": [
          -0.1788465533893763,
          0.2947395244705808,
          null
         ],
         "y": [
          0.06213758407021865,
          0.10293891252199902,
          null
         ]
        },
        {
         "hoverinfo": "text",
         "line": {
          "color": "grey",
          "width": 0.049
         },
         "mode": "lines",
         "showlegend": false,
         "text": "Shared contributors: 49",
         "type": "scatter",
         "x": [
          -0.1788465533893763,
          0.4378508130980057,
          null
         ],
         "y": [
          0.06213758407021865,
          -0.46190994879569175,
          null
         ]
        },
        {
         "hoverinfo": "text",
         "line": {
          "color": "grey",
          "width": 0.663
         },
         "mode": "lines",
         "showlegend": false,
         "text": "Shared contributors: 663",
         "type": "scatter",
         "x": [
          -0.1788465533893763,
          0.2162801217484362,
          null
         ],
         "y": [
          0.06213758407021865,
          -0.17188110884679292,
          null
         ]
        },
        {
         "hoverinfo": "text",
         "line": {
          "color": "grey",
          "width": 0.263
         },
         "mode": "lines",
         "showlegend": false,
         "text": "Shared contributors: 263",
         "type": "scatter",
         "x": [
          -0.1788465533893763,
          -1,
          null
         ],
         "y": [
          0.06213758407021865,
          0.0562350809444169,
          null
         ]
        },
        {
         "hoverinfo": "text",
         "line": {
          "color": "grey",
          "width": 8.148
         },
         "mode": "lines",
         "showlegend": false,
         "text": "Shared contributors: 8148",
         "type": "scatter",
         "x": [
          0.2947395244705808,
          0.2477227429445517,
          null
         ],
         "y": [
          0.10293891252199902,
          -0.024057877551590733,
          null
         ]
        },
        {
         "hoverinfo": "text",
         "line": {
          "color": "grey",
          "width": 0.519
         },
         "mode": "lines",
         "showlegend": false,
         "text": "Shared contributors: 519",
         "type": "scatter",
         "x": [
          0.2947395244705808,
          -0.1265916095596396,
          null
         ],
         "y": [
          0.10293891252199902,
          0.526820938985941,
          null
         ]
        },
        {
         "hoverinfo": "text",
         "line": {
          "color": "grey",
          "width": 0.08
         },
         "mode": "lines",
         "showlegend": false,
         "text": "Shared contributors: 80",
         "type": "scatter",
         "x": [
          0.2947395244705808,
          0.4378508130980057,
          null
         ],
         "y": [
          0.10293891252199902,
          -0.46190994879569175,
          null
         ]
        },
        {
         "hoverinfo": "text",
         "line": {
          "color": "grey",
          "width": 3.539
         },
         "mode": "lines",
         "showlegend": false,
         "text": "Shared contributors: 3539",
         "type": "scatter",
         "x": [
          0.2947395244705808,
          0.2162801217484362,
          null
         ],
         "y": [
          0.10293891252199902,
          -0.17188110884679292,
          null
         ]
        },
        {
         "hoverinfo": "text",
         "line": {
          "color": "grey",
          "width": 0.04
         },
         "mode": "lines",
         "showlegend": false,
         "text": "Shared contributors: 40",
         "type": "scatter",
         "x": [
          0.2947395244705808,
          -1,
          null
         ],
         "y": [
          0.10293891252199902,
          0.0562350809444169,
          null
         ]
        },
        {
         "hoverinfo": "text",
         "line": {
          "color": "grey",
          "width": 0.024
         },
         "mode": "lines",
         "showlegend": false,
         "text": "Shared contributors: 24",
         "type": "scatter",
         "x": [
          0.2947395244705808,
          -0.4684733856165765,
          null
         ],
         "y": [
          0.10293891252199902,
          -0.37807649728080944,
          null
         ]
        },
        {
         "hoverinfo": "text",
         "line": {
          "color": "grey",
          "width": 16.848
         },
         "mode": "lines",
         "showlegend": false,
         "text": "Shared contributors: 16848",
         "type": "scatter",
         "x": [
          0.2477227429445517,
          0.2162801217484362,
          null
         ],
         "y": [
          -0.024057877551590733,
          -0.17188110884679292,
          null
         ]
        },
        {
         "hoverinfo": "text",
         "line": {
          "color": "grey",
          "width": 0.827
         },
         "mode": "lines",
         "showlegend": false,
         "text": "Shared contributors: 827",
         "type": "scatter",
         "x": [
          0.2477227429445517,
          0.6028894023639383,
          null
         ],
         "y": [
          -0.024057877551590733,
          0.34905238039892067,
          null
         ]
        },
        {
         "hoverinfo": "text",
         "line": {
          "color": "grey",
          "width": 0.501
         },
         "mode": "lines",
         "showlegend": false,
         "text": "Shared contributors: 501",
         "type": "scatter",
         "x": [
          0.2477227429445517,
          0.4378508130980057,
          null
         ],
         "y": [
          -0.024057877551590733,
          -0.46190994879569175,
          null
         ]
        },
        {
         "hoverinfo": "text",
         "line": {
          "color": "grey",
          "width": 0.033
         },
         "mode": "lines",
         "showlegend": false,
         "text": "Shared contributors: 33",
         "type": "scatter",
         "x": [
          0.2477227429445517,
          -0.4684733856165765,
          null
         ],
         "y": [
          -0.024057877551590733,
          -0.37807649728080944,
          null
         ]
        },
        {
         "hoverinfo": "text",
         "line": {
          "color": "grey",
          "width": 0.006
         },
         "mode": "lines",
         "showlegend": false,
         "text": "Shared contributors: 6",
         "type": "scatter",
         "x": [
          0.2477227429445517,
          -1,
          null
         ],
         "y": [
          -0.024057877551590733,
          0.0562350809444169,
          null
         ]
        },
        {
         "hoverinfo": "text",
         "line": {
          "color": "grey",
          "width": 0.065
         },
         "mode": "lines",
         "showlegend": false,
         "text": "Shared contributors: 65",
         "type": "scatter",
         "x": [
          0.2477227429445517,
          -0.1265916095596396,
          null
         ],
         "y": [
          -0.024057877551590733,
          0.526820938985941,
          null
         ]
        },
        {
         "hoverinfo": "text",
         "line": {
          "color": "grey",
          "width": 0.008
         },
         "mode": "lines",
         "showlegend": false,
         "text": "Shared contributors: 8",
         "type": "scatter",
         "x": [
          -0.4684733856165765,
          0.2162801217484362,
          null
         ],
         "y": [
          -0.37807649728080944,
          -0.17188110884679292,
          null
         ]
        },
        {
         "hoverinfo": "text",
         "line": {
          "color": "grey",
          "width": 0.017
         },
         "mode": "lines",
         "showlegend": false,
         "text": "Shared contributors: 17",
         "type": "scatter",
         "x": [
          -0.4684733856165765,
          0.4378508130980057,
          null
         ],
         "y": [
          -0.37807649728080944,
          -0.46190994879569175,
          null
         ]
        },
        {
         "hoverinfo": "text",
         "line": {
          "color": "grey",
          "width": 0.099
         },
         "mode": "lines",
         "showlegend": false,
         "text": "Shared contributors: 99",
         "type": "scatter",
         "x": [
          -0.4684733856165765,
          -1,
          null
         ],
         "y": [
          -0.37807649728080944,
          0.0562350809444169,
          null
         ]
        },
        {
         "hoverinfo": "text",
         "line": {
          "color": "grey",
          "width": 0.006
         },
         "mode": "lines",
         "showlegend": false,
         "text": "Shared contributors: 6",
         "type": "scatter",
         "x": [
          -0.4684733856165765,
          -0.1265916095596396,
          null
         ],
         "y": [
          -0.37807649728080944,
          0.526820938985941,
          null
         ]
        },
        {
         "hoverinfo": "text",
         "line": {
          "color": "grey",
          "width": 2.393
         },
         "mode": "lines",
         "showlegend": false,
         "text": "Shared contributors: 2393",
         "type": "scatter",
         "x": [
          0.2162801217484362,
          0.4378508130980057,
          null
         ],
         "y": [
          -0.17188110884679292,
          -0.46190994879569175,
          null
         ]
        },
        {
         "hoverinfo": "text",
         "line": {
          "color": "grey",
          "width": 0.031
         },
         "mode": "lines",
         "showlegend": false,
         "text": "Shared contributors: 31",
         "type": "scatter",
         "x": [
          0.2162801217484362,
          -0.1265916095596396,
          null
         ],
         "y": [
          -0.17188110884679292,
          0.526820938985941,
          null
         ]
        },
        {
         "hoverinfo": "text",
         "line": {
          "color": "grey",
          "width": 0.024
         },
         "mode": "lines",
         "showlegend": false,
         "text": "Shared contributors: 24",
         "type": "scatter",
         "x": [
          0.2162801217484362,
          -1,
          null
         ],
         "y": [
          -0.17188110884679292,
          0.0562350809444169,
          null
         ]
        },
        {
         "hoverinfo": "text",
         "line": {
          "color": "grey",
          "width": 0.048
         },
         "mode": "lines",
         "showlegend": false,
         "text": "Shared contributors: 48",
         "type": "scatter",
         "x": [
          -0.1265916095596396,
          0.4378508130980057,
          null
         ],
         "y": [
          0.526820938985941,
          -0.46190994879569175,
          null
         ]
        },
        {
         "hoverinfo": "text",
         "line": {
          "color": "grey",
          "width": 0.013
         },
         "mode": "lines",
         "showlegend": false,
         "text": "Shared contributors: 13",
         "type": "scatter",
         "x": [
          -0.1265916095596396,
          -1,
          null
         ],
         "y": [
          0.526820938985941,
          0.0562350809444169,
          null
         ]
        },
        {
         "hoverinfo": "text",
         "line": {
          "color": "grey",
          "width": 0.002
         },
         "mode": "lines",
         "showlegend": false,
         "text": "Shared contributors: 2",
         "type": "scatter",
         "x": [
          0.4378508130980057,
          -1,
          null
         ],
         "y": [
          -0.46190994879569175,
          0.0562350809444169,
          null
         ]
        },
        {
         "hoverinfo": "text",
         "marker": {
          "color": "skyblue",
          "line": {
           "color": "black",
           "width": 1
          },
          "size": [
           45,
           40,
           40,
           45,
           40,
           40,
           40,
           40,
           10,
           40
          ]
         },
         "mode": "markers",
         "text": [
          "pytorch",
          "tensorflow",
          "arrow",
          "pandas",
          "tinygrad",
          "numpy",
          "keras-io",
          "networkx",
          "polaris",
          "mlx"
         ],
         "textfont": {
          "size": 14
         },
         "textposition": "top center",
         "type": "scatter",
         "x": [
          -0.025571056059915876,
          -0.1788465533893763,
          0.2947395244705808,
          0.2477227429445517,
          -0.4684733856165765,
          0.2162801217484362,
          -0.1265916095596396,
          0.4378508130980057,
          0.6028894023639383,
          -1
         ],
         "y": [
          -0.061259464446612615,
          0.06213758407021865,
          0.10293891252199902,
          -0.024057877551590733,
          -0.37807649728080944,
          -0.17188110884679292,
          0.526820938985941,
          -0.46190994879569175,
          0.34905238039892067,
          0.0562350809444169
         ]
        }
       ],
       "layout": {
        "annotations": [
         {
          "bgcolor": "white",
          "bordercolor": "black",
          "borderwidth": 1,
          "font": {
           "color": "black",
           "size": 12
          },
          "opacity": 1,
          "showarrow": false,
          "text": "pytorch",
          "x": -0.025571056059915876,
          "xanchor": "center",
          "y": -0.061259464446612615,
          "yanchor": "top"
         },
         {
          "bgcolor": "white",
          "bordercolor": "black",
          "borderwidth": 1,
          "font": {
           "color": "black",
           "size": 12
          },
          "opacity": 1,
          "showarrow": false,
          "text": "tensorflow",
          "x": -0.1788465533893763,
          "xanchor": "center",
          "y": 0.06213758407021865,
          "yanchor": "top"
         },
         {
          "bgcolor": "white",
          "bordercolor": "black",
          "borderwidth": 1,
          "font": {
           "color": "black",
           "size": 12
          },
          "opacity": 1,
          "showarrow": false,
          "text": "arrow",
          "x": 0.2947395244705808,
          "xanchor": "center",
          "y": 0.10293891252199902,
          "yanchor": "top"
         },
         {
          "bgcolor": "white",
          "bordercolor": "black",
          "borderwidth": 1,
          "font": {
           "color": "black",
           "size": 12
          },
          "opacity": 1,
          "showarrow": false,
          "text": "pandas",
          "x": 0.2477227429445517,
          "xanchor": "center",
          "y": -0.024057877551590733,
          "yanchor": "top"
         },
         {
          "bgcolor": "white",
          "bordercolor": "black",
          "borderwidth": 1,
          "font": {
           "color": "black",
           "size": 12
          },
          "opacity": 1,
          "showarrow": false,
          "text": "tinygrad",
          "x": -0.4684733856165765,
          "xanchor": "center",
          "y": -0.37807649728080944,
          "yanchor": "top"
         },
         {
          "bgcolor": "white",
          "bordercolor": "black",
          "borderwidth": 1,
          "font": {
           "color": "black",
           "size": 12
          },
          "opacity": 1,
          "showarrow": false,
          "text": "numpy",
          "x": 0.2162801217484362,
          "xanchor": "center",
          "y": -0.17188110884679292,
          "yanchor": "top"
         },
         {
          "bgcolor": "white",
          "bordercolor": "black",
          "borderwidth": 1,
          "font": {
           "color": "black",
           "size": 12
          },
          "opacity": 1,
          "showarrow": false,
          "text": "keras-io",
          "x": -0.1265916095596396,
          "xanchor": "center",
          "y": 0.526820938985941,
          "yanchor": "top"
         },
         {
          "bgcolor": "white",
          "bordercolor": "black",
          "borderwidth": 1,
          "font": {
           "color": "black",
           "size": 12
          },
          "opacity": 1,
          "showarrow": false,
          "text": "networkx",
          "x": 0.4378508130980057,
          "xanchor": "center",
          "y": -0.46190994879569175,
          "yanchor": "top"
         },
         {
          "bgcolor": "white",
          "bordercolor": "black",
          "borderwidth": 1,
          "font": {
           "color": "black",
           "size": 12
          },
          "opacity": 1,
          "showarrow": false,
          "text": "polaris",
          "x": 0.6028894023639383,
          "xanchor": "center",
          "y": 0.34905238039892067,
          "yanchor": "top"
         },
         {
          "bgcolor": "white",
          "bordercolor": "black",
          "borderwidth": 1,
          "font": {
           "color": "black",
           "size": 12
          },
          "opacity": 1,
          "showarrow": false,
          "text": "mlx",
          "x": -1,
          "xanchor": "center",
          "y": 0.0562350809444169,
          "yanchor": "top"
         }
        ],
        "plot_bgcolor": "white",
        "showlegend": false,
        "template": {
         "data": {
          "bar": [
           {
            "error_x": {
             "color": "#2a3f5f"
            },
            "error_y": {
             "color": "#2a3f5f"
            },
            "marker": {
             "line": {
              "color": "#E5ECF6",
              "width": 0.5
             },
             "pattern": {
              "fillmode": "overlay",
              "size": 10,
              "solidity": 0.2
             }
            },
            "type": "bar"
           }
          ],
          "barpolar": [
           {
            "marker": {
             "line": {
              "color": "#E5ECF6",
              "width": 0.5
             },
             "pattern": {
              "fillmode": "overlay",
              "size": 10,
              "solidity": 0.2
             }
            },
            "type": "barpolar"
           }
          ],
          "carpet": [
           {
            "aaxis": {
             "endlinecolor": "#2a3f5f",
             "gridcolor": "white",
             "linecolor": "white",
             "minorgridcolor": "white",
             "startlinecolor": "#2a3f5f"
            },
            "baxis": {
             "endlinecolor": "#2a3f5f",
             "gridcolor": "white",
             "linecolor": "white",
             "minorgridcolor": "white",
             "startlinecolor": "#2a3f5f"
            },
            "type": "carpet"
           }
          ],
          "choropleth": [
           {
            "colorbar": {
             "outlinewidth": 0,
             "ticks": ""
            },
            "type": "choropleth"
           }
          ],
          "contour": [
           {
            "colorbar": {
             "outlinewidth": 0,
             "ticks": ""
            },
            "colorscale": [
             [
              0,
              "#0d0887"
             ],
             [
              0.1111111111111111,
              "#46039f"
             ],
             [
              0.2222222222222222,
              "#7201a8"
             ],
             [
              0.3333333333333333,
              "#9c179e"
             ],
             [
              0.4444444444444444,
              "#bd3786"
             ],
             [
              0.5555555555555556,
              "#d8576b"
             ],
             [
              0.6666666666666666,
              "#ed7953"
             ],
             [
              0.7777777777777778,
              "#fb9f3a"
             ],
             [
              0.8888888888888888,
              "#fdca26"
             ],
             [
              1,
              "#f0f921"
             ]
            ],
            "type": "contour"
           }
          ],
          "contourcarpet": [
           {
            "colorbar": {
             "outlinewidth": 0,
             "ticks": ""
            },
            "type": "contourcarpet"
           }
          ],
          "heatmap": [
           {
            "colorbar": {
             "outlinewidth": 0,
             "ticks": ""
            },
            "colorscale": [
             [
              0,
              "#0d0887"
             ],
             [
              0.1111111111111111,
              "#46039f"
             ],
             [
              0.2222222222222222,
              "#7201a8"
             ],
             [
              0.3333333333333333,
              "#9c179e"
             ],
             [
              0.4444444444444444,
              "#bd3786"
             ],
             [
              0.5555555555555556,
              "#d8576b"
             ],
             [
              0.6666666666666666,
              "#ed7953"
             ],
             [
              0.7777777777777778,
              "#fb9f3a"
             ],
             [
              0.8888888888888888,
              "#fdca26"
             ],
             [
              1,
              "#f0f921"
             ]
            ],
            "type": "heatmap"
           }
          ],
          "heatmapgl": [
           {
            "colorbar": {
             "outlinewidth": 0,
             "ticks": ""
            },
            "colorscale": [
             [
              0,
              "#0d0887"
             ],
             [
              0.1111111111111111,
              "#46039f"
             ],
             [
              0.2222222222222222,
              "#7201a8"
             ],
             [
              0.3333333333333333,
              "#9c179e"
             ],
             [
              0.4444444444444444,
              "#bd3786"
             ],
             [
              0.5555555555555556,
              "#d8576b"
             ],
             [
              0.6666666666666666,
              "#ed7953"
             ],
             [
              0.7777777777777778,
              "#fb9f3a"
             ],
             [
              0.8888888888888888,
              "#fdca26"
             ],
             [
              1,
              "#f0f921"
             ]
            ],
            "type": "heatmapgl"
           }
          ],
          "histogram": [
           {
            "marker": {
             "pattern": {
              "fillmode": "overlay",
              "size": 10,
              "solidity": 0.2
             }
            },
            "type": "histogram"
           }
          ],
          "histogram2d": [
           {
            "colorbar": {
             "outlinewidth": 0,
             "ticks": ""
            },
            "colorscale": [
             [
              0,
              "#0d0887"
             ],
             [
              0.1111111111111111,
              "#46039f"
             ],
             [
              0.2222222222222222,
              "#7201a8"
             ],
             [
              0.3333333333333333,
              "#9c179e"
             ],
             [
              0.4444444444444444,
              "#bd3786"
             ],
             [
              0.5555555555555556,
              "#d8576b"
             ],
             [
              0.6666666666666666,
              "#ed7953"
             ],
             [
              0.7777777777777778,
              "#fb9f3a"
             ],
             [
              0.8888888888888888,
              "#fdca26"
             ],
             [
              1,
              "#f0f921"
             ]
            ],
            "type": "histogram2d"
           }
          ],
          "histogram2dcontour": [
           {
            "colorbar": {
             "outlinewidth": 0,
             "ticks": ""
            },
            "colorscale": [
             [
              0,
              "#0d0887"
             ],
             [
              0.1111111111111111,
              "#46039f"
             ],
             [
              0.2222222222222222,
              "#7201a8"
             ],
             [
              0.3333333333333333,
              "#9c179e"
             ],
             [
              0.4444444444444444,
              "#bd3786"
             ],
             [
              0.5555555555555556,
              "#d8576b"
             ],
             [
              0.6666666666666666,
              "#ed7953"
             ],
             [
              0.7777777777777778,
              "#fb9f3a"
             ],
             [
              0.8888888888888888,
              "#fdca26"
             ],
             [
              1,
              "#f0f921"
             ]
            ],
            "type": "histogram2dcontour"
           }
          ],
          "mesh3d": [
           {
            "colorbar": {
             "outlinewidth": 0,
             "ticks": ""
            },
            "type": "mesh3d"
           }
          ],
          "parcoords": [
           {
            "line": {
             "colorbar": {
              "outlinewidth": 0,
              "ticks": ""
             }
            },
            "type": "parcoords"
           }
          ],
          "pie": [
           {
            "automargin": true,
            "type": "pie"
           }
          ],
          "scatter": [
           {
            "fillpattern": {
             "fillmode": "overlay",
             "size": 10,
             "solidity": 0.2
            },
            "type": "scatter"
           }
          ],
          "scatter3d": [
           {
            "line": {
             "colorbar": {
              "outlinewidth": 0,
              "ticks": ""
             }
            },
            "marker": {
             "colorbar": {
              "outlinewidth": 0,
              "ticks": ""
             }
            },
            "type": "scatter3d"
           }
          ],
          "scattercarpet": [
           {
            "marker": {
             "colorbar": {
              "outlinewidth": 0,
              "ticks": ""
             }
            },
            "type": "scattercarpet"
           }
          ],
          "scattergeo": [
           {
            "marker": {
             "colorbar": {
              "outlinewidth": 0,
              "ticks": ""
             }
            },
            "type": "scattergeo"
           }
          ],
          "scattergl": [
           {
            "marker": {
             "colorbar": {
              "outlinewidth": 0,
              "ticks": ""
             }
            },
            "type": "scattergl"
           }
          ],
          "scattermapbox": [
           {
            "marker": {
             "colorbar": {
              "outlinewidth": 0,
              "ticks": ""
             }
            },
            "type": "scattermapbox"
           }
          ],
          "scatterpolar": [
           {
            "marker": {
             "colorbar": {
              "outlinewidth": 0,
              "ticks": ""
             }
            },
            "type": "scatterpolar"
           }
          ],
          "scatterpolargl": [
           {
            "marker": {
             "colorbar": {
              "outlinewidth": 0,
              "ticks": ""
             }
            },
            "type": "scatterpolargl"
           }
          ],
          "scatterternary": [
           {
            "marker": {
             "colorbar": {
              "outlinewidth": 0,
              "ticks": ""
             }
            },
            "type": "scatterternary"
           }
          ],
          "surface": [
           {
            "colorbar": {
             "outlinewidth": 0,
             "ticks": ""
            },
            "colorscale": [
             [
              0,
              "#0d0887"
             ],
             [
              0.1111111111111111,
              "#46039f"
             ],
             [
              0.2222222222222222,
              "#7201a8"
             ],
             [
              0.3333333333333333,
              "#9c179e"
             ],
             [
              0.4444444444444444,
              "#bd3786"
             ],
             [
              0.5555555555555556,
              "#d8576b"
             ],
             [
              0.6666666666666666,
              "#ed7953"
             ],
             [
              0.7777777777777778,
              "#fb9f3a"
             ],
             [
              0.8888888888888888,
              "#fdca26"
             ],
             [
              1,
              "#f0f921"
             ]
            ],
            "type": "surface"
           }
          ],
          "table": [
           {
            "cells": {
             "fill": {
              "color": "#EBF0F8"
             },
             "line": {
              "color": "white"
             }
            },
            "header": {
             "fill": {
              "color": "#C8D4E3"
             },
             "line": {
              "color": "white"
             }
            },
            "type": "table"
           }
          ]
         },
         "layout": {
          "annotationdefaults": {
           "arrowcolor": "#2a3f5f",
           "arrowhead": 0,
           "arrowwidth": 1
          },
          "autotypenumbers": "strict",
          "coloraxis": {
           "colorbar": {
            "outlinewidth": 0,
            "ticks": ""
           }
          },
          "colorscale": {
           "diverging": [
            [
             0,
             "#8e0152"
            ],
            [
             0.1,
             "#c51b7d"
            ],
            [
             0.2,
             "#de77ae"
            ],
            [
             0.3,
             "#f1b6da"
            ],
            [
             0.4,
             "#fde0ef"
            ],
            [
             0.5,
             "#f7f7f7"
            ],
            [
             0.6,
             "#e6f5d0"
            ],
            [
             0.7,
             "#b8e186"
            ],
            [
             0.8,
             "#7fbc41"
            ],
            [
             0.9,
             "#4d9221"
            ],
            [
             1,
             "#276419"
            ]
           ],
           "sequential": [
            [
             0,
             "#0d0887"
            ],
            [
             0.1111111111111111,
             "#46039f"
            ],
            [
             0.2222222222222222,
             "#7201a8"
            ],
            [
             0.3333333333333333,
             "#9c179e"
            ],
            [
             0.4444444444444444,
             "#bd3786"
            ],
            [
             0.5555555555555556,
             "#d8576b"
            ],
            [
             0.6666666666666666,
             "#ed7953"
            ],
            [
             0.7777777777777778,
             "#fb9f3a"
            ],
            [
             0.8888888888888888,
             "#fdca26"
            ],
            [
             1,
             "#f0f921"
            ]
           ],
           "sequentialminus": [
            [
             0,
             "#0d0887"
            ],
            [
             0.1111111111111111,
             "#46039f"
            ],
            [
             0.2222222222222222,
             "#7201a8"
            ],
            [
             0.3333333333333333,
             "#9c179e"
            ],
            [
             0.4444444444444444,
             "#bd3786"
            ],
            [
             0.5555555555555556,
             "#d8576b"
            ],
            [
             0.6666666666666666,
             "#ed7953"
            ],
            [
             0.7777777777777778,
             "#fb9f3a"
            ],
            [
             0.8888888888888888,
             "#fdca26"
            ],
            [
             1,
             "#f0f921"
            ]
           ]
          },
          "colorway": [
           "#636efa",
           "#EF553B",
           "#00cc96",
           "#ab63fa",
           "#FFA15A",
           "#19d3f3",
           "#FF6692",
           "#B6E880",
           "#FF97FF",
           "#FECB52"
          ],
          "font": {
           "color": "#2a3f5f"
          },
          "geo": {
           "bgcolor": "white",
           "lakecolor": "white",
           "landcolor": "#E5ECF6",
           "showlakes": true,
           "showland": true,
           "subunitcolor": "white"
          },
          "hoverlabel": {
           "align": "left"
          },
          "hovermode": "closest",
          "mapbox": {
           "style": "light"
          },
          "paper_bgcolor": "white",
          "plot_bgcolor": "#E5ECF6",
          "polar": {
           "angularaxis": {
            "gridcolor": "white",
            "linecolor": "white",
            "ticks": ""
           },
           "bgcolor": "#E5ECF6",
           "radialaxis": {
            "gridcolor": "white",
            "linecolor": "white",
            "ticks": ""
           }
          },
          "scene": {
           "xaxis": {
            "backgroundcolor": "#E5ECF6",
            "gridcolor": "white",
            "gridwidth": 2,
            "linecolor": "white",
            "showbackground": true,
            "ticks": "",
            "zerolinecolor": "white"
           },
           "yaxis": {
            "backgroundcolor": "#E5ECF6",
            "gridcolor": "white",
            "gridwidth": 2,
            "linecolor": "white",
            "showbackground": true,
            "ticks": "",
            "zerolinecolor": "white"
           },
           "zaxis": {
            "backgroundcolor": "#E5ECF6",
            "gridcolor": "white",
            "gridwidth": 2,
            "linecolor": "white",
            "showbackground": true,
            "ticks": "",
            "zerolinecolor": "white"
           }
          },
          "shapedefaults": {
           "line": {
            "color": "#2a3f5f"
           }
          },
          "ternary": {
           "aaxis": {
            "gridcolor": "white",
            "linecolor": "white",
            "ticks": ""
           },
           "baxis": {
            "gridcolor": "white",
            "linecolor": "white",
            "ticks": ""
           },
           "bgcolor": "#E5ECF6",
           "caxis": {
            "gridcolor": "white",
            "linecolor": "white",
            "ticks": ""
           }
          },
          "title": {
           "x": 0.05
          },
          "xaxis": {
           "automargin": true,
           "gridcolor": "white",
           "linecolor": "white",
           "ticks": "",
           "title": {
            "standoff": 15
           },
           "zerolinecolor": "white",
           "zerolinewidth": 2
          },
          "yaxis": {
           "automargin": true,
           "gridcolor": "white",
           "linecolor": "white",
           "ticks": "",
           "title": {
            "standoff": 15
           },
           "zerolinecolor": "white",
           "zerolinewidth": 2
          }
         }
        },
        "title": {
         "text": "Repositories Network with Shared Contributors"
        },
        "xaxis": {
         "showgrid": false,
         "showticklabels": false,
         "zeroline": false
        },
        "yaxis": {
         "showgrid": false,
         "showticklabels": false,
         "zeroline": false
        }
       }
      }
     },
     "metadata": {},
     "output_type": "display_data"
    }
   ],
   "source": [
    "import plotly.graph_objects as go\n",
    "\n",
    "# Create a graph and add weighted edges\n",
    "g = nx.Graph()\n",
    "g.add_weighted_edges_from(res)\n",
    "\n",
    "# Get positions for all nodes\n",
    "pos = nx.spring_layout(g)\n",
    "\n",
    "# Draw the nodes with sizes based on their degree\n",
    "node_sizes = [nx.degree(g, n) for n in g.nodes()]\n",
    "\n",
    "# Extract the x and y coordinates of the nodes\n",
    "x_nodes = [pos[node][0] for node in g.nodes()]\n",
    "y_nodes = [pos[node][1] for node in g.nodes()]\n",
    "\n",
    "# Create the Plotly figure\n",
    "fig = go.Figure()\n",
    "\n",
    "# Add each edge as a separate scatter plot with its specific width and hover info\n",
    "for edge in g.edges(data=True):\n",
    "    x_edges = [pos[edge[0]][0], pos[edge[1]][0], None]\n",
    "    y_edges = [pos[edge[0]][1], pos[edge[1]][1], None]\n",
    "    fig.add_trace(go.Scatter(\n",
    "        x=x_edges, y=y_edges,\n",
    "        mode='lines',\n",
    "        line=dict(width=edge[2]['weight'] / 1000, color='grey'),\n",
    "        hoverinfo='text',\n",
    "        text=f'Shared contributors: {edge[2][\"weight\"]}',\n",
    "        showlegend=False\n",
    "    ))\n",
    "\n",
    "# Add the nodes as a scatter plot\n",
    "fig.add_trace(go.Scatter(\n",
    "    x=x_nodes, y=y_nodes,\n",
    "    mode='markers',\n",
    "    text=[str(node) for node in g.nodes()],\n",
    "    marker=dict(size=[size * 5 for size in node_sizes], color='skyblue', line=dict(color='black', width=1)),\n",
    "    textposition='top center',\n",
    "    textfont=dict(size=14),\n",
    "    hoverinfo='text'\n",
    "))\n",
    "\n",
    "# Add annotations for the node labels\n",
    "annotations = []\n",
    "for node, (x, y) in pos.items():\n",
    "    annotations.append(\n",
    "        dict(\n",
    "            x=x, y=y,\n",
    "            text=str(node),\n",
    "            showarrow=False,\n",
    "            xanchor='center',\n",
    "            yanchor='top',\n",
    "            font=dict(color='black', size=12),\n",
    "            bgcolor='white',\n",
    "            bordercolor='black',\n",
    "            borderwidth=1,\n",
    "            opacity=1.0  # Solid white background\n",
    "        )\n",
    "    )\n",
    "\n",
    "# Update the layout to include annotations\n",
    "fig.update_layout(\n",
    "    showlegend=False,  # Disable legend for edges\n",
    "    annotations=annotations,\n",
    "    xaxis=dict(showgrid=False, zeroline=False, showticklabels=False),\n",
    "    yaxis=dict(showgrid=False, zeroline=False, showticklabels=False),\n",
    "    plot_bgcolor='white',\n",
    "    title='Repositories Network with Shared Contributors'\n",
    ")\n",
    "\n",
    "# Show the figure\n",
    "fig.show()\n"
   ]
  },
  {
   "cell_type": "code",
   "execution_count": null,
   "metadata": {},
   "outputs": [],
   "source": []
  }
 ],
 "metadata": {
  "kernelspec": {
   "display_name": "rappel_env",
   "language": "python",
   "name": "python3"
  },
  "language_info": {
   "codemirror_mode": {
    "name": "ipython",
    "version": 3
   },
   "file_extension": ".py",
   "mimetype": "text/x-python",
   "name": "python",
   "nbconvert_exporter": "python",
   "pygments_lexer": "ipython3",
   "version": "3.9.6"
  }
 },
 "nbformat": 4,
 "nbformat_minor": 2
}
