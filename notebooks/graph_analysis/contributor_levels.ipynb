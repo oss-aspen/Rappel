{
  "nbformat": 4,
  "nbformat_minor": 0,
  "metadata": {
    "colab": {
      "provenance": []
    },
    "kernelspec": {
      "name": "python3",
      "display_name": "Python 3"
    },
    "language_info": {
      "name": "python"
    }
  },
  "cells": [
    {
      "cell_type": "markdown",
      "source": [
        "# Using Count-based Categorizing Intuition to Identify Core Developers in a GitHub Repository\n",
        "\n",
        "In this notebook, we perform count-based operations to identify core contributors for a GitHub repository. We apply the standard 80th percentile threshold (core contributors are responsible for 80% of the contributions), because of its wide use and its justification based on the data following a Zipf distribution. \n",
        "\n",
        "Count-based operations outlined in [Joblin et al, Classifying Developers into Core and Peripheral (2017)](https://drive.google.com/file/d/19WdPBmpEdnU76aVnwOEnY8YtK8extM7C/view):\n",
        "1. Commit count\n",
        "2. Lines of code (LOC) count\n",
        "\n",
        "Note, in this notebook we perform analysis on the Ansible-2 repository, however the code is general and can be replicated with any GitHub repository.\n",
        "\n",
        "### Definitions:\n",
        "\n",
        "  <ins>Core developers</ins> - play an essential role in developing the system architecture and forming the general leadership structure, and they have substantial, long-term involvement.\n",
        "\n",
        "<ins>Peripheral developers</ins> - typically involved in bug fixes/small enhancements, and they have irregular or short-term involvement.\n"
      ],
      "metadata": {
        "id": "YaBhbYWKB4Si"
      }
    },
    {
      "cell_type": "markdown",
      "source": [
        "## Setting up imports and file path"
      ],
      "metadata": {
        "id": "0VfkSWqBFacH"
      }
    },
    {
      "cell_type": "code",
      "source": [
        "!pip install --upgrade 'sqlalchemy<2.0'"
      ],
      "metadata": {
        "colab": {
          "base_uri": "https://localhost:8080/"
        },
        "id": "aQKOwyWqFLGU",
        "outputId": "23a3e96a-3c03-4dfb-c741-74056415d8c2"
      },
      "execution_count": 1,
      "outputs": [
        {
          "output_type": "stream",
          "name": "stdout",
          "text": [
            "Looking in indexes: https://pypi.org/simple, https://us-python.pkg.dev/colab-wheels/public/simple/\n",
            "Collecting sqlalchemy<2.0\n",
            "  Downloading SQLAlchemy-1.4.47-cp39-cp39-manylinux_2_5_x86_64.manylinux1_x86_64.manylinux_2_17_x86_64.manylinux2014_x86_64.whl (1.6 MB)\n",
            "\u001b[2K     \u001b[90m━━━━━━━━━━━━━━━━━━━━━━━━━━━━━━━━━━━━━━━━\u001b[0m \u001b[32m1.6/1.6 MB\u001b[0m \u001b[31m26.2 MB/s\u001b[0m eta \u001b[36m0:00:00\u001b[0m\n",
            "\u001b[?25hRequirement already satisfied: greenlet!=0.4.17 in /usr/local/lib/python3.9/dist-packages (from sqlalchemy<2.0) (2.0.2)\n",
            "Installing collected packages: sqlalchemy\n",
            "  Attempting uninstall: sqlalchemy\n",
            "    Found existing installation: SQLAlchemy 2.0.9\n",
            "    Uninstalling SQLAlchemy-2.0.9:\n",
            "      Successfully uninstalled SQLAlchemy-2.0.9\n",
            "Successfully installed sqlalchemy-1.4.47\n"
          ]
        }
      ]
    },
    {
      "cell_type": "code",
      "execution_count": 2,
      "metadata": {
        "id": "5S1Gy5cbBpqw"
      },
      "outputs": [],
      "source": [
        "import sqlalchemy as salc\n",
        "import json\n",
        "from google.colab import drive\n",
        "import pandas as pd\n",
        "import matplotlib.pyplot as plt\n",
        "import numpy as np"
      ]
    },
    {
      "cell_type": "code",
      "source": [
        "#Linking to Gdrive \n",
        "drive.mount('/content/drive', force_remount=True)\n",
        "\n",
        "#change your folder path (where you want your files to be saved to or pulled from) \n",
        "%cd /content/drive/MyDrive/Aspen Research"
      ],
      "metadata": {
        "colab": {
          "base_uri": "https://localhost:8080/"
        },
        "id": "Qp4QD2iECTGP",
        "outputId": "de8abba7-174d-46ea-be1b-fbefed510005"
      },
      "execution_count": 3,
      "outputs": [
        {
          "output_type": "stream",
          "name": "stdout",
          "text": [
            "Mounted at /content/drive\n",
            "/content/drive/MyDrive/Aspen Research\n"
          ]
        }
      ]
    },
    {
      "cell_type": "markdown",
      "source": [
        "## Connect to Augur database"
      ],
      "metadata": {
        "id": "5sRFbfMLCSUb"
      }
    },
    {
      "cell_type": "code",
      "source": [
        "with open(\"copy_cage-padres.json\") as config_file: # MS changed path from ../comm_cage.json\n",
        "    config = json.load(config_file)\n",
        "    \n",
        "database_connection_string = 'postgresql+psycopg2://{}:{}@{}:{}/{}'.format(config['user'], config['password'], config['host'], config['port'], config['database'])\n",
        "dbschema='augur_data'\n",
        "engine = salc.create_engine(\n",
        "    database_connection_string,\n",
        "    connect_args={'options': '-csearch_path={}'.format(dbschema)})"
      ],
      "metadata": {
        "id": "LEAM9QBSCbBC"
      },
      "execution_count": 4,
      "outputs": []
    },
    {
      "cell_type": "markdown",
      "source": [
        "## Core contributors by # of commits\n",
        "\n",
        "**Note:** We count distinct cmt_commit_hash, since the cmt_id table tracks all of the changes for **each file** in a commit. "
      ],
      "metadata": {
        "id": "NkIqQRu9KNI_"
      }
    },
    {
      "cell_type": "code",
      "source": [
        "repo_org = 'ansible'\n",
        "repo_name = 'ansible-2'\n",
        "cmt_query = salc.sql.text(f\"\"\"\n",
        "                 SET SCHEMA 'augur_data';\n",
        "                 SELECT \n",
        "                    ca.cntrb_id,\n",
        "                    COUNT(DISTINCT c.cmt_commit_hash) as num_commits,\n",
        "                    COUNT(DISTINCT c.cmt_commit_hash)*100/(SELECT COUNT(DISTINCT cmt_commit_hash)*1.0 FROM commits WHERE repo_id = (SELECT repo_id FROM repo WHERE repo_name ='{repo_name}')) as pct_commits\n",
        "                FROM\n",
        "                    repo_groups a,\n",
        "                    repo b,\n",
        "                    commits c, \n",
        "                    contributors_aliases ca \n",
        "                WHERE\n",
        "                    a.repo_group_id = b.repo_group_id AND\n",
        "                    a.rg_name = \\'{repo_org}\\' AND\n",
        "                    b.repo_name = \\'{repo_name}\\' AND \n",
        "                    c.cmt_committer_email = ca.alias_email AND \n",
        "                    b.repo_id = c.repo_id\n",
        "                GROUP BY\n",
        "                    ca.cntrb_id\n",
        "                ORDER BY\n",
        "                    num_commits DESC\n",
        "        \"\"\")\n",
        "    \n",
        "cmt_data = pd.read_sql(cmt_query, con=engine)\n",
        "display(cmt_data)"
      ],
      "metadata": {
        "colab": {
          "base_uri": "https://localhost:8080/",
          "height": 424
        },
        "id": "a5o8HGOoDl7r",
        "outputId": "4b84e646-ff23-4e8e-9367-8e493547d70f"
      },
      "execution_count": 5,
      "outputs": [
        {
          "output_type": "display_data",
          "data": {
            "text/plain": [
              "                                  cntrb_id  num_commits  pct_commits\n",
              "0     01012f1b-7f00-0000-0000-000000000000         9831    18.399431\n",
              "1     01000c4d-d800-0000-0000-000000000000         7774    14.549606\n",
              "2     01022886-a200-0000-0000-000000000000         5289     9.898748\n",
              "3     01000cc2-4b00-0000-0000-000000000000         4233     7.922367\n",
              "4     01000067-2300-0000-0000-000000000000         2896     5.420074\n",
              "...                                    ...          ...          ...\n",
              "1278  01000ae9-7b00-0000-0000-000000000000            1     0.001872\n",
              "1279  01000afd-b700-0000-0000-000000000000            1     0.001872\n",
              "1280  01000134-de00-0000-0000-000000000000            1     0.001872\n",
              "1281  010001a6-f100-0000-0000-000000000000            1     0.001872\n",
              "1282  01000234-2900-0000-0000-000000000000            1     0.001872\n",
              "\n",
              "[1283 rows x 3 columns]"
            ],
            "text/html": [
              "\n",
              "  <div id=\"df-c083cb4c-23de-4373-bfd3-59db12d68425\">\n",
              "    <div class=\"colab-df-container\">\n",
              "      <div>\n",
              "<style scoped>\n",
              "    .dataframe tbody tr th:only-of-type {\n",
              "        vertical-align: middle;\n",
              "    }\n",
              "\n",
              "    .dataframe tbody tr th {\n",
              "        vertical-align: top;\n",
              "    }\n",
              "\n",
              "    .dataframe thead th {\n",
              "        text-align: right;\n",
              "    }\n",
              "</style>\n",
              "<table border=\"1\" class=\"dataframe\">\n",
              "  <thead>\n",
              "    <tr style=\"text-align: right;\">\n",
              "      <th></th>\n",
              "      <th>cntrb_id</th>\n",
              "      <th>num_commits</th>\n",
              "      <th>pct_commits</th>\n",
              "    </tr>\n",
              "  </thead>\n",
              "  <tbody>\n",
              "    <tr>\n",
              "      <th>0</th>\n",
              "      <td>01012f1b-7f00-0000-0000-000000000000</td>\n",
              "      <td>9831</td>\n",
              "      <td>18.399431</td>\n",
              "    </tr>\n",
              "    <tr>\n",
              "      <th>1</th>\n",
              "      <td>01000c4d-d800-0000-0000-000000000000</td>\n",
              "      <td>7774</td>\n",
              "      <td>14.549606</td>\n",
              "    </tr>\n",
              "    <tr>\n",
              "      <th>2</th>\n",
              "      <td>01022886-a200-0000-0000-000000000000</td>\n",
              "      <td>5289</td>\n",
              "      <td>9.898748</td>\n",
              "    </tr>\n",
              "    <tr>\n",
              "      <th>3</th>\n",
              "      <td>01000cc2-4b00-0000-0000-000000000000</td>\n",
              "      <td>4233</td>\n",
              "      <td>7.922367</td>\n",
              "    </tr>\n",
              "    <tr>\n",
              "      <th>4</th>\n",
              "      <td>01000067-2300-0000-0000-000000000000</td>\n",
              "      <td>2896</td>\n",
              "      <td>5.420074</td>\n",
              "    </tr>\n",
              "    <tr>\n",
              "      <th>...</th>\n",
              "      <td>...</td>\n",
              "      <td>...</td>\n",
              "      <td>...</td>\n",
              "    </tr>\n",
              "    <tr>\n",
              "      <th>1278</th>\n",
              "      <td>01000ae9-7b00-0000-0000-000000000000</td>\n",
              "      <td>1</td>\n",
              "      <td>0.001872</td>\n",
              "    </tr>\n",
              "    <tr>\n",
              "      <th>1279</th>\n",
              "      <td>01000afd-b700-0000-0000-000000000000</td>\n",
              "      <td>1</td>\n",
              "      <td>0.001872</td>\n",
              "    </tr>\n",
              "    <tr>\n",
              "      <th>1280</th>\n",
              "      <td>01000134-de00-0000-0000-000000000000</td>\n",
              "      <td>1</td>\n",
              "      <td>0.001872</td>\n",
              "    </tr>\n",
              "    <tr>\n",
              "      <th>1281</th>\n",
              "      <td>010001a6-f100-0000-0000-000000000000</td>\n",
              "      <td>1</td>\n",
              "      <td>0.001872</td>\n",
              "    </tr>\n",
              "    <tr>\n",
              "      <th>1282</th>\n",
              "      <td>01000234-2900-0000-0000-000000000000</td>\n",
              "      <td>1</td>\n",
              "      <td>0.001872</td>\n",
              "    </tr>\n",
              "  </tbody>\n",
              "</table>\n",
              "<p>1283 rows × 3 columns</p>\n",
              "</div>\n",
              "      <button class=\"colab-df-convert\" onclick=\"convertToInteractive('df-c083cb4c-23de-4373-bfd3-59db12d68425')\"\n",
              "              title=\"Convert this dataframe to an interactive table.\"\n",
              "              style=\"display:none;\">\n",
              "        \n",
              "  <svg xmlns=\"http://www.w3.org/2000/svg\" height=\"24px\"viewBox=\"0 0 24 24\"\n",
              "       width=\"24px\">\n",
              "    <path d=\"M0 0h24v24H0V0z\" fill=\"none\"/>\n",
              "    <path d=\"M18.56 5.44l.94 2.06.94-2.06 2.06-.94-2.06-.94-.94-2.06-.94 2.06-2.06.94zm-11 1L8.5 8.5l.94-2.06 2.06-.94-2.06-.94L8.5 2.5l-.94 2.06-2.06.94zm10 10l.94 2.06.94-2.06 2.06-.94-2.06-.94-.94-2.06-.94 2.06-2.06.94z\"/><path d=\"M17.41 7.96l-1.37-1.37c-.4-.4-.92-.59-1.43-.59-.52 0-1.04.2-1.43.59L10.3 9.45l-7.72 7.72c-.78.78-.78 2.05 0 2.83L4 21.41c.39.39.9.59 1.41.59.51 0 1.02-.2 1.41-.59l7.78-7.78 2.81-2.81c.8-.78.8-2.07 0-2.86zM5.41 20L4 18.59l7.72-7.72 1.47 1.35L5.41 20z\"/>\n",
              "  </svg>\n",
              "      </button>\n",
              "      \n",
              "  <style>\n",
              "    .colab-df-container {\n",
              "      display:flex;\n",
              "      flex-wrap:wrap;\n",
              "      gap: 12px;\n",
              "    }\n",
              "\n",
              "    .colab-df-convert {\n",
              "      background-color: #E8F0FE;\n",
              "      border: none;\n",
              "      border-radius: 50%;\n",
              "      cursor: pointer;\n",
              "      display: none;\n",
              "      fill: #1967D2;\n",
              "      height: 32px;\n",
              "      padding: 0 0 0 0;\n",
              "      width: 32px;\n",
              "    }\n",
              "\n",
              "    .colab-df-convert:hover {\n",
              "      background-color: #E2EBFA;\n",
              "      box-shadow: 0px 1px 2px rgba(60, 64, 67, 0.3), 0px 1px 3px 1px rgba(60, 64, 67, 0.15);\n",
              "      fill: #174EA6;\n",
              "    }\n",
              "\n",
              "    [theme=dark] .colab-df-convert {\n",
              "      background-color: #3B4455;\n",
              "      fill: #D2E3FC;\n",
              "    }\n",
              "\n",
              "    [theme=dark] .colab-df-convert:hover {\n",
              "      background-color: #434B5C;\n",
              "      box-shadow: 0px 1px 3px 1px rgba(0, 0, 0, 0.15);\n",
              "      filter: drop-shadow(0px 1px 2px rgba(0, 0, 0, 0.3));\n",
              "      fill: #FFFFFF;\n",
              "    }\n",
              "  </style>\n",
              "\n",
              "      <script>\n",
              "        const buttonEl =\n",
              "          document.querySelector('#df-c083cb4c-23de-4373-bfd3-59db12d68425 button.colab-df-convert');\n",
              "        buttonEl.style.display =\n",
              "          google.colab.kernel.accessAllowed ? 'block' : 'none';\n",
              "\n",
              "        async function convertToInteractive(key) {\n",
              "          const element = document.querySelector('#df-c083cb4c-23de-4373-bfd3-59db12d68425');\n",
              "          const dataTable =\n",
              "            await google.colab.kernel.invokeFunction('convertToInteractive',\n",
              "                                                     [key], {});\n",
              "          if (!dataTable) return;\n",
              "\n",
              "          const docLinkHtml = 'Like what you see? Visit the ' +\n",
              "            '<a target=\"_blank\" href=https://colab.research.google.com/notebooks/data_table.ipynb>data table notebook</a>'\n",
              "            + ' to learn more about interactive tables.';\n",
              "          element.innerHTML = '';\n",
              "          dataTable['output_type'] = 'display_data';\n",
              "          await google.colab.output.renderOutput(dataTable, element);\n",
              "          const docLink = document.createElement('div');\n",
              "          docLink.innerHTML = docLinkHtml;\n",
              "          element.appendChild(docLink);\n",
              "        }\n",
              "      </script>\n",
              "    </div>\n",
              "  </div>\n",
              "  "
            ]
          },
          "metadata": {}
        }
      ]
    },
    {
      "cell_type": "markdown",
      "source": [
        "Identify contributors responsible for 80% of commits"
      ],
      "metadata": {
        "id": "lVIcy5k7kAWj"
      }
    },
    {
      "cell_type": "code",
      "source": [
        "total_pct = 0\n",
        "top_cmt_contributors = []\n",
        "for i, row in cmt_data.iterrows():\n",
        "    if total_pct < 80:\n",
        "        total_pct += row['pct_commits']\n",
        "        top_cmt_contributors.append(row['cntrb_id'])\n",
        "\n",
        "print('Core contributors:', top_cmt_contributors)\n",
        "print('Number of core contributors:', len(top_cmt_contributors))\n",
        "print('Total percentage:', total_pct)"
      ],
      "metadata": {
        "colab": {
          "base_uri": "https://localhost:8080/"
        },
        "id": "fr8qJbWBO2L2",
        "outputId": "db783e73-2fbb-4f34-c22c-3141bdc55041"
      },
      "execution_count": 6,
      "outputs": [
        {
          "output_type": "stream",
          "name": "stdout",
          "text": [
            "Core contributors: [UUID('01012f1b-7f00-0000-0000-000000000000'), UUID('01000c4d-d800-0000-0000-000000000000'), UUID('01022886-a200-0000-0000-000000000000'), UUID('01000cc2-4b00-0000-0000-000000000000'), UUID('01000067-2300-0000-0000-000000000000'), UUID('01000331-5a00-0000-0000-000000000000'), UUID('01000e5a-0d00-0000-0000-000000000000'), UUID('01001c87-8900-0000-0000-000000000000'), UUID('01000d6a-1100-0000-0000-000000000000'), UUID('010009b6-c200-0000-0000-000000000000'), UUID('0100005d-0100-0000-0000-000000000000'), UUID('01000099-ac00-0000-0000-000000000000'), UUID('010009ab-a500-0000-0000-000000000000'), UUID('010005ec-6600-0000-0000-000000000000'), UUID('01008121-3500-0000-0000-000000000000'), UUID('01006763-cc00-0000-0000-000000000000'), UUID('01003dc3-f500-0000-0000-000000000000'), UUID('0101cdd9-cf00-0000-0000-000000000000'), UUID('01000ac2-8900-0000-0000-000000000000'), UUID('01012aa8-bd00-0000-0000-000000000000'), UUID('01000653-a200-0000-0000-000000000000'), UUID('010009e9-b000-0000-0000-000000000000'), UUID('010005fa-7f00-0000-0000-000000000000')]\n",
            "Number of core contributors: 23\n",
            "Total percentage: 80.03967734086955\n"
          ]
        }
      ]
    },
    {
      "cell_type": "markdown",
      "source": [
        "## Core contributors by # lines of code"
      ],
      "metadata": {
        "id": "4zHNlA88X7k3"
      }
    },
    {
      "cell_type": "code",
      "source": [
        "repo_org = 'ansible'\n",
        "repo_name = 'ansible-2'\n",
        "loc_query = salc.sql.text(f\"\"\"\n",
        "                 SET SCHEMA 'augur_data';\n",
        "                 SELECT \n",
        "                    ca.cntrb_id,\n",
        "                    SUM(c.cmt_added+c.cmt_removed) as num_lines,\n",
        "                    100.0 * SUM(c.cmt_added+c.cmt_removed) / \n",
        "                        (SELECT SUM(c2.cmt_added+c2.cmt_removed) \n",
        "                         FROM commits c2 JOIN repo r2 ON c2.repo_id = r2.repo_id \n",
        "                         WHERE r2.repo_name = '{repo_name}'\n",
        "                        ) as pct_lines                \n",
        "                 FROM\n",
        "                    repo_groups a,\n",
        "                    repo b,\n",
        "                    commits c, \n",
        "                    contributors_aliases ca \n",
        "                WHERE\n",
        "                    a.repo_group_id = b.repo_group_id AND\n",
        "                    a.rg_name = \\'{repo_org}\\' AND\n",
        "                    b.repo_name = \\'{repo_name}\\' AND \n",
        "                    c.cmt_committer_email = ca.alias_email AND \n",
        "                    b.repo_id = c.repo_id\n",
        "                GROUP BY\n",
        "                    ca.cntrb_id\n",
        "                ORDER BY\n",
        "                    num_lines DESC\n",
        "        \"\"\")\n",
        "    \n",
        "loc_data = pd.read_sql(loc_query, con=engine)\n",
        "display(loc_data)"
      ],
      "metadata": {
        "colab": {
          "base_uri": "https://localhost:8080/",
          "height": 424
        },
        "id": "OAtxcD_jXodz",
        "outputId": "1f9013c9-7236-4cab-8918-6e348845b5b5"
      },
      "execution_count": 7,
      "outputs": [
        {
          "output_type": "display_data",
          "data": {
            "text/plain": [
              "                                  cntrb_id  num_lines  pct_lines\n",
              "0     01000099-ac00-0000-0000-000000000000    2431622  31.261367\n",
              "1     01012f1b-7f00-0000-0000-000000000000    1688957  21.713533\n",
              "2     01000c4d-d800-0000-0000-000000000000     617697   7.941223\n",
              "3     01000e5a-0d00-0000-0000-000000000000     499929   6.427177\n",
              "4     01022886-a200-0000-0000-000000000000     282792   3.635625\n",
              "...                                    ...        ...        ...\n",
              "1278  01000d1a-8900-0000-0000-000000000000          1   0.000013\n",
              "1279  01000e45-5100-0000-0000-000000000000          1   0.000013\n",
              "1280  010001d4-ce00-0000-0000-000000000000          0   0.000000\n",
              "1281  01000380-b400-0000-0000-000000000000          0   0.000000\n",
              "1282  01000df8-5800-0000-0000-000000000000          0   0.000000\n",
              "\n",
              "[1283 rows x 3 columns]"
            ],
            "text/html": [
              "\n",
              "  <div id=\"df-7dd5fff5-8a0b-447e-8036-e85159a06c5a\">\n",
              "    <div class=\"colab-df-container\">\n",
              "      <div>\n",
              "<style scoped>\n",
              "    .dataframe tbody tr th:only-of-type {\n",
              "        vertical-align: middle;\n",
              "    }\n",
              "\n",
              "    .dataframe tbody tr th {\n",
              "        vertical-align: top;\n",
              "    }\n",
              "\n",
              "    .dataframe thead th {\n",
              "        text-align: right;\n",
              "    }\n",
              "</style>\n",
              "<table border=\"1\" class=\"dataframe\">\n",
              "  <thead>\n",
              "    <tr style=\"text-align: right;\">\n",
              "      <th></th>\n",
              "      <th>cntrb_id</th>\n",
              "      <th>num_lines</th>\n",
              "      <th>pct_lines</th>\n",
              "    </tr>\n",
              "  </thead>\n",
              "  <tbody>\n",
              "    <tr>\n",
              "      <th>0</th>\n",
              "      <td>01000099-ac00-0000-0000-000000000000</td>\n",
              "      <td>2431622</td>\n",
              "      <td>31.261367</td>\n",
              "    </tr>\n",
              "    <tr>\n",
              "      <th>1</th>\n",
              "      <td>01012f1b-7f00-0000-0000-000000000000</td>\n",
              "      <td>1688957</td>\n",
              "      <td>21.713533</td>\n",
              "    </tr>\n",
              "    <tr>\n",
              "      <th>2</th>\n",
              "      <td>01000c4d-d800-0000-0000-000000000000</td>\n",
              "      <td>617697</td>\n",
              "      <td>7.941223</td>\n",
              "    </tr>\n",
              "    <tr>\n",
              "      <th>3</th>\n",
              "      <td>01000e5a-0d00-0000-0000-000000000000</td>\n",
              "      <td>499929</td>\n",
              "      <td>6.427177</td>\n",
              "    </tr>\n",
              "    <tr>\n",
              "      <th>4</th>\n",
              "      <td>01022886-a200-0000-0000-000000000000</td>\n",
              "      <td>282792</td>\n",
              "      <td>3.635625</td>\n",
              "    </tr>\n",
              "    <tr>\n",
              "      <th>...</th>\n",
              "      <td>...</td>\n",
              "      <td>...</td>\n",
              "      <td>...</td>\n",
              "    </tr>\n",
              "    <tr>\n",
              "      <th>1278</th>\n",
              "      <td>01000d1a-8900-0000-0000-000000000000</td>\n",
              "      <td>1</td>\n",
              "      <td>0.000013</td>\n",
              "    </tr>\n",
              "    <tr>\n",
              "      <th>1279</th>\n",
              "      <td>01000e45-5100-0000-0000-000000000000</td>\n",
              "      <td>1</td>\n",
              "      <td>0.000013</td>\n",
              "    </tr>\n",
              "    <tr>\n",
              "      <th>1280</th>\n",
              "      <td>010001d4-ce00-0000-0000-000000000000</td>\n",
              "      <td>0</td>\n",
              "      <td>0.000000</td>\n",
              "    </tr>\n",
              "    <tr>\n",
              "      <th>1281</th>\n",
              "      <td>01000380-b400-0000-0000-000000000000</td>\n",
              "      <td>0</td>\n",
              "      <td>0.000000</td>\n",
              "    </tr>\n",
              "    <tr>\n",
              "      <th>1282</th>\n",
              "      <td>01000df8-5800-0000-0000-000000000000</td>\n",
              "      <td>0</td>\n",
              "      <td>0.000000</td>\n",
              "    </tr>\n",
              "  </tbody>\n",
              "</table>\n",
              "<p>1283 rows × 3 columns</p>\n",
              "</div>\n",
              "      <button class=\"colab-df-convert\" onclick=\"convertToInteractive('df-7dd5fff5-8a0b-447e-8036-e85159a06c5a')\"\n",
              "              title=\"Convert this dataframe to an interactive table.\"\n",
              "              style=\"display:none;\">\n",
              "        \n",
              "  <svg xmlns=\"http://www.w3.org/2000/svg\" height=\"24px\"viewBox=\"0 0 24 24\"\n",
              "       width=\"24px\">\n",
              "    <path d=\"M0 0h24v24H0V0z\" fill=\"none\"/>\n",
              "    <path d=\"M18.56 5.44l.94 2.06.94-2.06 2.06-.94-2.06-.94-.94-2.06-.94 2.06-2.06.94zm-11 1L8.5 8.5l.94-2.06 2.06-.94-2.06-.94L8.5 2.5l-.94 2.06-2.06.94zm10 10l.94 2.06.94-2.06 2.06-.94-2.06-.94-.94-2.06-.94 2.06-2.06.94z\"/><path d=\"M17.41 7.96l-1.37-1.37c-.4-.4-.92-.59-1.43-.59-.52 0-1.04.2-1.43.59L10.3 9.45l-7.72 7.72c-.78.78-.78 2.05 0 2.83L4 21.41c.39.39.9.59 1.41.59.51 0 1.02-.2 1.41-.59l7.78-7.78 2.81-2.81c.8-.78.8-2.07 0-2.86zM5.41 20L4 18.59l7.72-7.72 1.47 1.35L5.41 20z\"/>\n",
              "  </svg>\n",
              "      </button>\n",
              "      \n",
              "  <style>\n",
              "    .colab-df-container {\n",
              "      display:flex;\n",
              "      flex-wrap:wrap;\n",
              "      gap: 12px;\n",
              "    }\n",
              "\n",
              "    .colab-df-convert {\n",
              "      background-color: #E8F0FE;\n",
              "      border: none;\n",
              "      border-radius: 50%;\n",
              "      cursor: pointer;\n",
              "      display: none;\n",
              "      fill: #1967D2;\n",
              "      height: 32px;\n",
              "      padding: 0 0 0 0;\n",
              "      width: 32px;\n",
              "    }\n",
              "\n",
              "    .colab-df-convert:hover {\n",
              "      background-color: #E2EBFA;\n",
              "      box-shadow: 0px 1px 2px rgba(60, 64, 67, 0.3), 0px 1px 3px 1px rgba(60, 64, 67, 0.15);\n",
              "      fill: #174EA6;\n",
              "    }\n",
              "\n",
              "    [theme=dark] .colab-df-convert {\n",
              "      background-color: #3B4455;\n",
              "      fill: #D2E3FC;\n",
              "    }\n",
              "\n",
              "    [theme=dark] .colab-df-convert:hover {\n",
              "      background-color: #434B5C;\n",
              "      box-shadow: 0px 1px 3px 1px rgba(0, 0, 0, 0.15);\n",
              "      filter: drop-shadow(0px 1px 2px rgba(0, 0, 0, 0.3));\n",
              "      fill: #FFFFFF;\n",
              "    }\n",
              "  </style>\n",
              "\n",
              "      <script>\n",
              "        const buttonEl =\n",
              "          document.querySelector('#df-7dd5fff5-8a0b-447e-8036-e85159a06c5a button.colab-df-convert');\n",
              "        buttonEl.style.display =\n",
              "          google.colab.kernel.accessAllowed ? 'block' : 'none';\n",
              "\n",
              "        async function convertToInteractive(key) {\n",
              "          const element = document.querySelector('#df-7dd5fff5-8a0b-447e-8036-e85159a06c5a');\n",
              "          const dataTable =\n",
              "            await google.colab.kernel.invokeFunction('convertToInteractive',\n",
              "                                                     [key], {});\n",
              "          if (!dataTable) return;\n",
              "\n",
              "          const docLinkHtml = 'Like what you see? Visit the ' +\n",
              "            '<a target=\"_blank\" href=https://colab.research.google.com/notebooks/data_table.ipynb>data table notebook</a>'\n",
              "            + ' to learn more about interactive tables.';\n",
              "          element.innerHTML = '';\n",
              "          dataTable['output_type'] = 'display_data';\n",
              "          await google.colab.output.renderOutput(dataTable, element);\n",
              "          const docLink = document.createElement('div');\n",
              "          docLink.innerHTML = docLinkHtml;\n",
              "          element.appendChild(docLink);\n",
              "        }\n",
              "      </script>\n",
              "    </div>\n",
              "  </div>\n",
              "  "
            ]
          },
          "metadata": {}
        }
      ]
    },
    {
      "cell_type": "markdown",
      "source": [
        "Identify contributors responsible for 80% of lines of code in commits"
      ],
      "metadata": {
        "id": "b-UscXfMkG-k"
      }
    },
    {
      "cell_type": "code",
      "source": [
        "total_pct = 0\n",
        "top_loc_contributors = []\n",
        "for i, row in loc_data.iterrows():\n",
        "    if total_pct < 80:\n",
        "        total_pct += row['pct_lines']\n",
        "        top_loc_contributors.append(row['cntrb_id'])\n",
        "\n",
        "print('Core contributors:', top_loc_contributors)\n",
        "print('Number of core contributors:', len(top_loc_contributors))\n",
        "print('Total percentage:', total_pct)"
      ],
      "metadata": {
        "colab": {
          "base_uri": "https://localhost:8080/"
        },
        "id": "PfSUreCvg4qA",
        "outputId": "b2a3d9a1-b179-41f6-981a-d7883b46c087"
      },
      "execution_count": 8,
      "outputs": [
        {
          "output_type": "stream",
          "name": "stdout",
          "text": [
            "Core contributors: [UUID('01000099-ac00-0000-0000-000000000000'), UUID('01012f1b-7f00-0000-0000-000000000000'), UUID('01000c4d-d800-0000-0000-000000000000'), UUID('01000e5a-0d00-0000-0000-000000000000'), UUID('01022886-a200-0000-0000-000000000000'), UUID('0100ece0-2b00-0000-0000-000000000000'), UUID('01000331-5a00-0000-0000-000000000000'), UUID('01000cc2-4b00-0000-0000-000000000000'), UUID('010009b6-c200-0000-0000-000000000000')]\n",
            "Number of core contributors: 9\n",
            "Total percentage: 80.01333442867977\n"
          ]
        }
      ]
    },
    {
      "cell_type": "code",
      "source": [
        "top_contributors = set(top_cmt_contributors).intersection(set(top_loc_contributors))\n",
        "print('Core contributors by both commit and LOC counts:')\n",
        "for id in top_contributors:\n",
        "    print(id)\n",
        "print('Number of core contributors:', len(top_contributors))"
      ],
      "metadata": {
        "colab": {
          "base_uri": "https://localhost:8080/"
        },
        "id": "h41hHayrwqre",
        "outputId": "375216c3-193c-4435-abc8-afb3c386aceb"
      },
      "execution_count": 9,
      "outputs": [
        {
          "output_type": "stream",
          "name": "stdout",
          "text": [
            "Core contributors by both commit and LOC counts:\n",
            "01000099-ac00-0000-0000-000000000000\n",
            "01012f1b-7f00-0000-0000-000000000000\n",
            "01000e5a-0d00-0000-0000-000000000000\n",
            "01022886-a200-0000-0000-000000000000\n",
            "01000c4d-d800-0000-0000-000000000000\n",
            "01000331-5a00-0000-0000-000000000000\n",
            "01000cc2-4b00-0000-0000-000000000000\n",
            "010009b6-c200-0000-0000-000000000000\n",
            "Number of core contributors: 8\n"
          ]
        }
      ]
    }
  ]
}