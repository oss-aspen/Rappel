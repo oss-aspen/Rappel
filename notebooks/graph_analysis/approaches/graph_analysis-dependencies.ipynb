{
 "cells": [
  {
   "cell_type": "markdown",
   "metadata": {},
   "source": [
    "# Graphical Analysis of GitHub Repositories and Contributors\n",
    "\n",
    "In this notebook, we programatically view the connections between open source projects, determine project clusters, and map out technology ecosystems. We explore the Augur GitHub data to view relationships between open source projects and communities by studying graphs based on relations such as common contributors and project activities between different GitHub repositories."
   ]
  },
  {
   "cell_type": "markdown",
   "metadata": {},
   "source": [
    "## Connect to Augur database"
   ]
  },
  {
   "cell_type": "markdown",
   "metadata": {},
   "source": [
    "Until the Operate First enviroment can connect to the DB, use config file to access. Do not push config file to Github repo"
   ]
  },
  {
   "cell_type": "code",
   "execution_count": 1,
   "metadata": {},
   "outputs": [],
   "source": [
    "import psycopg2\n",
    "import pandas as pd\n",
    "import collections\n",
    "from functools import reduce\n",
    "\n",
    "import sqlalchemy as salc\n",
    "import json\n",
    "import os\n",
    "import networkx as nx\n",
    "import matplotlib.pyplot as plt\n",
    "\n",
    "with open(\"../../../config.json\") as config_file:\n",
    "    config = json.load(config_file)"
   ]
  },
  {
   "cell_type": "code",
   "execution_count": 2,
   "metadata": {},
   "outputs": [],
   "source": [
    "database_connection_string = 'postgresql+psycopg2://{}:{}@{}:{}/{}'.format(config['user'], config['password'], config['host'], config['port'], config['database'])\n",
    "\n",
    "dbschema='augur_data'\n",
    "engine = salc.create_engine(\n",
    "    database_connection_string,\n",
    "    connect_args={'options': '-csearch_path={}'.format(dbschema)})"
   ]
  },
  {
   "cell_type": "markdown",
   "metadata": {},
   "source": [
    "## Get all the Data, Build all the Graphs"
   ]
  },
  {
   "cell_type": "code",
   "execution_count": 3,
   "metadata": {},
   "outputs": [],
   "source": [
    "# Subset repositories based on a category\n",
    "# Selecting repositories that fall under the Containers org on Github\n",
    "def filtered_deps(group_name: str) -> str: \n",
    "    science_repo_sql = salc.sql.text(f\"\"\"\n",
    "                     SET SCHEMA 'augur_data';\n",
    "                        SET SCHEMA 'augur_data';\n",
    "                        SELECT\n",
    "                        \tA.repo_id,\n",
    "                        \tdep_name,\n",
    "                        \tdep_count \n",
    "                        FROM\n",
    "                        \t(\n",
    "                        \tSELECT\n",
    "                        \t\taugur_data.repo_dependencies.dep_name,\n",
    "                        \t\taugur_data.repo_dependencies.repo_id,\n",
    "                        \t\tdep_count, \n",
    "\t\t\t\t\t\t\t\tmax(data_collection_date) \n",
    "                        \tFROM\n",
    "                        \t\taugur_data.repo_dependencies \n",
    "                        \tGROUP BY\n",
    "                        \t\taugur_data.repo_dependencies.dep_name,\n",
    "                        \t\taugur_data.repo_dependencies.repo_id, \n",
    "\t\t\t\t\t\t\t\taugur_data.repo_dependencies.dep_count \n",
    "                        \tORDER BY\n",
    "                        \t\tdep_count DESC \n",
    "                        \t) A, \n",
    "                             (                    \t\n",
    "                                SELECT C.repo_id\n",
    "                                FROM\n",
    "                                    augur_operations.users A,\n",
    "                                    augur_operations.user_groups b,\n",
    "                                    augur_operations.user_repos C\n",
    "                                WHERE\n",
    "                                    A.user_id = b.user_id \n",
    "                                    AND b.group_id = C.group_id \n",
    "                                    AND b.NAME = \\'{group_name}\\'\n",
    "                                ORDER BY\n",
    "                                    A.login_name,\n",
    "                                    b.group_id \n",
    "                                ) b \n",
    "                            WHERE\n",
    "                                A.repo_id = b.repo_id\n",
    "\t\t\t\t\t\t\t\torder by dep_count desc;                 \n",
    "                \"\"\")\n",
    "    \n",
    "    with engine.connect() as conn:\n",
    "        #df = pd.read_sql(sql, cnxn)\n",
    "        results = conn.execute(science_repo_sql)\n",
    "        df_results = pd.DataFrame(results) \n",
    "    \n",
    "    print(df_results)\n",
    "    return df_results\n",
    "\n",
    "    "
   ]
  },
  {
   "cell_type": "markdown",
   "metadata": {},
   "source": [
    "## Dependencies"
   ]
  },
  {
   "cell_type": "code",
   "execution_count": 4,
   "metadata": {},
   "outputs": [
    {
     "name": "stdout",
     "output_type": "stream",
     "text": [
      "Empty DataFrame\n",
      "Columns: []\n",
      "Index: []\n"
     ]
    },
    {
     "ename": "AttributeError",
     "evalue": "'DataFrame' object has no attribute 'dep_count'",
     "output_type": "error",
     "traceback": [
      "\u001b[0;31m---------------------------------------------------------------------------\u001b[0m",
      "\u001b[0;31mAttributeError\u001b[0m                            Traceback (most recent call last)",
      "\u001b[0;32m/var/folders/0m/97m1z7311018x44_pzqchyxc0000gp/T/ipykernel_34492/879490401.py\u001b[0m in \u001b[0;36m?\u001b[0;34m()\u001b[0m\n\u001b[1;32m      3\u001b[0m \u001b[0mdeps_df\u001b[0m \u001b[0;34m=\u001b[0m \u001b[0mfiltered_deps\u001b[0m\u001b[0;34m(\u001b[0m\u001b[0;34m'Google'\u001b[0m\u001b[0;34m)\u001b[0m\u001b[0;34m\u001b[0m\u001b[0;34m\u001b[0m\u001b[0m\n\u001b[1;32m      4\u001b[0m \u001b[0;34m\u001b[0m\u001b[0m\n\u001b[1;32m      5\u001b[0m \u001b[0;31m#display(deps_df)\u001b[0m\u001b[0;34m\u001b[0m\u001b[0;34m\u001b[0m\u001b[0m\n\u001b[1;32m      6\u001b[0m \u001b[0;34m\u001b[0m\u001b[0m\n\u001b[0;32m----> 7\u001b[0;31m \u001b[0mdeps_df\u001b[0m \u001b[0;34m=\u001b[0m \u001b[0mdeps_df\u001b[0m\u001b[0;34m[\u001b[0m\u001b[0mdeps_df\u001b[0m\u001b[0;34m.\u001b[0m\u001b[0mdep_count\u001b[0m\u001b[0;34m>=\u001b[0m\u001b[0;36m20\u001b[0m\u001b[0;34m]\u001b[0m\u001b[0;34m\u001b[0m\u001b[0;34m\u001b[0m\u001b[0m\n\u001b[0m\u001b[1;32m      8\u001b[0m \u001b[0;31m#display(deps_df)\u001b[0m\u001b[0;34m\u001b[0m\u001b[0;34m\u001b[0m\u001b[0m\n\u001b[1;32m      9\u001b[0m \u001b[0;34m\u001b[0m\u001b[0m\n\u001b[1;32m     10\u001b[0m \u001b[0mdf_deps\u001b[0m \u001b[0;34m=\u001b[0m \u001b[0mdeps_df\u001b[0m\u001b[0;34m.\u001b[0m\u001b[0mgroupby\u001b[0m\u001b[0;34m(\u001b[0m\u001b[0;34m[\u001b[0m\u001b[0;34m'repo_id'\u001b[0m\u001b[0;34m,\u001b[0m \u001b[0;34m'dep_name'\u001b[0m\u001b[0;34m]\u001b[0m\u001b[0;34m)\u001b[0m\u001b[0;34m.\u001b[0m\u001b[0msize\u001b[0m\u001b[0;34m(\u001b[0m\u001b[0;34m)\u001b[0m\u001b[0;34m.\u001b[0m\u001b[0munstack\u001b[0m\u001b[0;34m(\u001b[0m\u001b[0mfill_value\u001b[0m\u001b[0;34m=\u001b[0m\u001b[0;36m0\u001b[0m\u001b[0;34m)\u001b[0m\u001b[0;34m\u001b[0m\u001b[0;34m\u001b[0m\u001b[0m\n",
      "\u001b[0;32m~/github/virtualenvs/rappel/lib/python3.11/site-packages/pandas/core/generic.py\u001b[0m in \u001b[0;36m?\u001b[0;34m(self, name)\u001b[0m\n\u001b[1;32m   5985\u001b[0m             \u001b[0;32mand\u001b[0m \u001b[0mname\u001b[0m \u001b[0;32mnot\u001b[0m \u001b[0;32min\u001b[0m \u001b[0mself\u001b[0m\u001b[0;34m.\u001b[0m\u001b[0m_accessors\u001b[0m\u001b[0;34m\u001b[0m\u001b[0;34m\u001b[0m\u001b[0m\n\u001b[1;32m   5986\u001b[0m             \u001b[0;32mand\u001b[0m \u001b[0mself\u001b[0m\u001b[0;34m.\u001b[0m\u001b[0m_info_axis\u001b[0m\u001b[0;34m.\u001b[0m\u001b[0m_can_hold_identifiers_and_holds_name\u001b[0m\u001b[0;34m(\u001b[0m\u001b[0mname\u001b[0m\u001b[0;34m)\u001b[0m\u001b[0;34m\u001b[0m\u001b[0;34m\u001b[0m\u001b[0m\n\u001b[1;32m   5987\u001b[0m         ):\n\u001b[1;32m   5988\u001b[0m             \u001b[0;32mreturn\u001b[0m \u001b[0mself\u001b[0m\u001b[0;34m[\u001b[0m\u001b[0mname\u001b[0m\u001b[0;34m]\u001b[0m\u001b[0;34m\u001b[0m\u001b[0;34m\u001b[0m\u001b[0m\n\u001b[0;32m-> 5989\u001b[0;31m         \u001b[0;32mreturn\u001b[0m \u001b[0mobject\u001b[0m\u001b[0;34m.\u001b[0m\u001b[0m__getattribute__\u001b[0m\u001b[0;34m(\u001b[0m\u001b[0mself\u001b[0m\u001b[0;34m,\u001b[0m \u001b[0mname\u001b[0m\u001b[0;34m)\u001b[0m\u001b[0;34m\u001b[0m\u001b[0;34m\u001b[0m\u001b[0m\n\u001b[0m",
      "\u001b[0;31mAttributeError\u001b[0m: 'DataFrame' object has no attribute 'dep_count'"
     ]
    }
   ],
   "source": [
    "deps_df = pd.DataFrame()\n",
    "\n",
    "deps_df = filtered_deps('Google')\n",
    "\n",
    "#display(deps_df)\n",
    "\n",
    "deps_df = deps_df[deps_df.dep_count>=20]\n",
    "#display(deps_df)\n",
    "\n",
    "df_deps = deps_df.groupby(['repo_id', 'dep_name']).size().unstack(fill_value=0)\n",
    "\n",
    "\n",
    "#display(deps_df)\n",
    "#display(df_deps)\n",
    "deps_df.dtypes\n",
    "df_deps.dtypes\n",
    "\n",
    "df_deps = df_deps.reset_index()\n",
    "#display(df_deps)\n",
    "#display(df_deps.dtypes) \n",
    "\n",
    "#display(df_deps.dtypes) \n",
    "#display(df_deps)\n",
    "\n",
    "df_melted_deps = df_deps.melt(\n",
    "    ['repo_id'],\n",
    "     var_name='dep_name', value_name='dep_count') \n",
    "\n",
    "#display(df_melted_deps)\n"
   ]
  },
  {
   "cell_type": "code",
   "execution_count": null,
   "metadata": {},
   "outputs": [],
   "source": [
    "df_melted_deps = df_melted_deps[df_melted_deps[df_melted_deps.columns[2]] != 0]\n",
    "df_melted_deps = df_melted_deps[df_melted_deps[df_melted_deps.columns[1]] != '']\n",
    "\n",
    "display(df_melted_deps)\n",
    "repo_id = df_melted_deps['repo_id'].to_list()\n",
    "dep_name = df_melted_deps['dep_name'].to_list()\n",
    "G = nx.from_pandas_edgelist(df_melted_deps, \n",
    "                            source='dep_name',\n",
    "                            target='repo_id',\n",
    "                            create_using=nx.MultiGraph())\n",
    "\n",
    "nodes = G.nodes()\n",
    "#display(nodes)\n",
    "colors = ['blue' if n in repo_id else 'yellow' for n in nodes]\n",
    "\n",
    "\n",
    "repo_id = df_melted_deps['repo_id'].to_list()\n",
    "dep_name = df_melted_deps['dep_name'].to_list()\n",
    "#colors = ['red' if nodes in repo_id else 'yellow']\n",
    "#node_size = [depcount if n in dep_name else 120 if n in nodes]\n",
    "\n",
    "fig, ax = plt.subplots(figsize=(20,20))\n",
    "pos = nx.fruchterman_reingold_layout(G)\n",
    "spos = nx.spring_layout(G, pos=pos, k=.4)\n",
    "\n",
    "labelgraph = nx.draw_networkx(G, node_color=colors, pos=spos, alpha=0.2, font_size=7, ax=ax)\n",
    "plt.savefig(fname=\"labelgraph.png\", format=\"png\")\n",
    "\n",
    "plt.show(nx.draw_networkx(G, node_color=colors, pos=spos, alpha=0.2, font_size=7, ax=ax))\n",
    "nx.draw_networkx(G, node_color=colors, pos=spos, alpha=0.2, font_size=7, ax=ax)\n",
    "\n"
   ]
  },
  {
   "cell_type": "code",
   "execution_count": null,
   "metadata": {},
   "outputs": [],
   "source": [
    "nodes = G.nodes()\n",
    "#display(nodes)\n",
    "colors = ['blue' if n in repo_id else 'yellow' for n in nodes]\n",
    "\n",
    "\n",
    "repo_id = df_melted_deps['repo_id'].to_list()\n",
    "dep_name = df_melted_deps['dep_name'].to_list()\n",
    "#colors = ['red' if nodes in repo_id else 'yellow']\n",
    "#node_size = [depcount if n in dep_name else 120 if n in nodes]\n",
    "\n",
    "fig, ax = plt.subplots(figsize=(20,20))\n",
    "pos = nx.fruchterman_reingold_layout(G)\n",
    "spos = nx.spring_layout(G, pos=pos, k=.4)\n",
    "\n",
    "\n",
    "\n",
    "anonygraph = nx.draw_networkx(G, node_color=colors, with_labels=False, pos=spos, alpha=0.2, font_size=7, ax=ax)\n",
    "plt.savefig(fname=\"anonygraph.png\", format=\"png\")\n",
    "\n",
    "plt.show(nx.draw_networkx(G, node_color=colors, pos=spos, with_labels=False, alpha=0.2, font_size=7, ax=ax))\n",
    "nx.draw_networkx(G, node_color=colors, with_labels=False, pos=spos, alpha=0.2, font_size=7, ax=ax)"
   ]
  },
  {
   "cell_type": "code",
   "execution_count": null,
   "metadata": {},
   "outputs": [],
   "source": []
  },
  {
   "cell_type": "code",
   "execution_count": null,
   "metadata": {},
   "outputs": [],
   "source": []
  }
 ],
 "metadata": {
  "kernelspec": {
   "display_name": "Python 3 (ipykernel)",
   "language": "python",
   "name": "python3"
  },
  "language_info": {
   "codemirror_mode": {
    "name": "ipython",
    "version": 3
   },
   "file_extension": ".py",
   "mimetype": "text/x-python",
   "name": "python",
   "nbconvert_exporter": "python",
   "pygments_lexer": "ipython3",
   "version": "3.11.4"
  }
 },
 "nbformat": 4,
 "nbformat_minor": 4
}
